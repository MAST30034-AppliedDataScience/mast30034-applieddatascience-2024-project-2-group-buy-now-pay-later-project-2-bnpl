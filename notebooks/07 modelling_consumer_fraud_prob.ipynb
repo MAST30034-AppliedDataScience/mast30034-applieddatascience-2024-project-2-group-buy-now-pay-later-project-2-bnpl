{
 "cells": [
  {
   "cell_type": "code",
   "execution_count": null,
   "id": "28fe66e1-7315-4674-9758-d819d00848d4",
   "metadata": {},
   "outputs": [],
   "source": [
    "from pyspark.sql import SparkSession\n",
    "from pyspark.sql import functions as F\n",
    "from pyspark.sql.types import *\n",
    "import pandas as pd\n",
    "import requests\n",
    "import os"
   ]
  },
  {
   "cell_type": "code",
   "execution_count": null,
   "id": "ed479408-7035-4085-9f65-f17244fd6a22",
   "metadata": {},
   "outputs": [],
   "source": [
    "# Create a spark session\n",
    "spark = (\n",
    "    SparkSession.builder.appName(\"Data Modelling 2\")\n",
    "    .config(\"spark.sql.repl.eagerEval.enabled\", True) \n",
    "    .config(\"spark.sql.parquet.cacheMetadata\", \"true\")\n",
    "    .config(\"spark.driver.memory\", \"9g\") \n",
    "    .config(\"spark.sql.session.timeZone\", \"Etc/UTC\")\n",
    "    .config(\"spark.network.timeout\", \"600s\")\n",
    "    .getOrCreate()\n",
    ")"
   ]
  },
  {
   "cell_type": "markdown",
   "id": "e02a3a07-623b-40e1-bac2-226c54c2d064",
   "metadata": {},
   "source": [
    "## Read dataset"
   ]
  },
  {
   "cell_type": "code",
   "execution_count": null,
   "id": "8f2d91d1-9d44-4dfb-939a-d6f53e8a292d",
   "metadata": {},
   "outputs": [],
   "source": [
    "# Information on consumers\n",
    "consumer_is_fraud = spark.read.parquet(\"../data/curated/all_details\")"
   ]
  },
  {
   "cell_type": "code",
   "execution_count": null,
   "id": "eed2c493",
   "metadata": {},
   "outputs": [],
   "source": [
    "consumer_is_fraud.head()\n"
   ]
  },
  {
   "cell_type": "code",
   "execution_count": null,
   "id": "b08b5189",
   "metadata": {},
   "outputs": [],
   "source": [
    "all_features = [\"order_id\", \"user_id\", \"merchant_abn\", \"order_datetime\", \n",
    "                \"dollar_value\", \"postcode\", \"merchant_fraud\", \"consumer_fraud\", \n",
    "                \"weekly_personal_disposable\", \"median_total_household_income\", \n",
    "                \"median_total_family_income\", \"is_po_box\", \n",
    "                \"avg_household_size\", \"sa2_name\", \"median_age\", \"sa2_code\"]"
   ]
  },
  {
   "cell_type": "code",
   "execution_count": null,
   "id": "bbc66497-4617-444b-99fb-a5e5740d9cb8",
   "metadata": {},
   "outputs": [],
   "source": [
    "\n",
    "from pyspark.sql.functions import monotonically_increasing_id"
   ]
  },
  {
   "cell_type": "code",
   "execution_count": null,
   "id": "f6f59e6f",
   "metadata": {},
   "outputs": [],
   "source": [
    "consumer_is_fraud.count()"
   ]
  },
  {
   "cell_type": "code",
   "execution_count": null,
   "id": "445b0d10",
   "metadata": {},
   "outputs": [],
   "source": [
    "consumer_is_fraud.filter(F.col('consumer_fraud') > 0).count()"
   ]
  },
  {
   "cell_type": "code",
   "execution_count": null,
   "id": "9a2d0060",
   "metadata": {},
   "outputs": [],
   "source": [
    "positive_consumer_is_fraud = consumer_is_fraud.filter(F.col('consumer_fraud') > 0)"
   ]
  },
  {
   "cell_type": "markdown",
   "id": "514fd23d-8ea2-4e7c-9804-a111b38402c0",
   "metadata": {},
   "source": [
    "## Feature selection"
   ]
  },
  {
   "cell_type": "code",
   "execution_count": null,
   "id": "49a7aa89",
   "metadata": {},
   "outputs": [],
   "source": [
    "import pandas as pd\n",
    "import seaborn as sns\n",
    "import matplotlib.pyplot as plt"
   ]
  },
  {
   "cell_type": "code",
   "execution_count": null,
   "id": "6c2a72a1",
   "metadata": {},
   "outputs": [],
   "source": [
    "# Correlation analysis\n",
    "\n",
    "# Check numerical cols\n",
    "numerical_columns = ['user_id', 'merchant_abn', 'dollar_value', 'merchant_fraud', 'consumer_fraud', \n",
    "                     'weekly_personal_disposable', 'median_total_household_income', \n",
    "                     'median_total_family_income', 'avg_household_size', 'median_age']\n",
    "\n",
    "# Calculate the correlation matrix for the numerical columns\n",
    "correlations = {}\n",
    "for col1 in numerical_columns:\n",
    "    correlations[col1] = []\n",
    "    for col2 in numerical_columns:\n",
    "        corr_value = consumer_is_fraud.corr(col1, col2)\n",
    "        correlations[col1].append(corr_value)\n",
    "\n",
    "# Convert the correlation dictionary to a Pandas DataFrame for visualization\n",
    "corr_df = pd.DataFrame(correlations, index=numerical_columns)\n",
    "\n",
    "# Plot the heatmap using Seaborn\n",
    "plt.figure(figsize=(10, 8))\n",
    "sns.heatmap(corr_df, annot=True, cmap='coolwarm', linewidths=0.5)\n",
    "plt.title('Initial Consumer Fraud Features Correlation Heatmap')\n",
    "plt.savefig(\"../plots/Initial Consumer Fraud Features Correlation Heatmap.png\")\n",
    "plt.show()"
   ]
  },
  {
   "cell_type": "markdown",
   "id": "e7889c7b",
   "metadata": {},
   "source": [
    "Since the consumer fraud field is 0-inflated, the numerical features have little correlation.\n",
    "\n",
    "Analyze non-zero part's correlation is more meaningful."
   ]
  },
  {
   "cell_type": "code",
   "execution_count": null,
   "id": "8587dc94",
   "metadata": {},
   "outputs": [],
   "source": [
    "# Correlation analysis\n",
    "\n",
    "# Check numrical cols\n",
    "numerical_columns = ['user_id', 'merchant_abn', 'dollar_value', 'merchant_fraud', 'consumer_fraud', \n",
    "                     'weekly_personal_disposable', 'median_total_household_income', \n",
    "                     'median_total_family_income', 'avg_household_size', 'median_age']\n",
    "\n",
    "# Calculate the correlation matrix for the numerical columns\n",
    "correlations = {}\n",
    "for col1 in numerical_columns:\n",
    "    correlations[col1] = []\n",
    "    for col2 in numerical_columns:\n",
    "        corr_value = positive_consumer_is_fraud.corr(col1, col2) # non-zero consumer fraud\n",
    "        correlations[col1].append(corr_value)\n",
    "\n",
    "# Convert the correlation dictionary to a Pandas DataFrame for visualization\n",
    "corr_df = pd.DataFrame(correlations, index=numerical_columns)\n",
    "\n",
    "# Plot the heatmap using Seaborn\n",
    "plt.figure(figsize=(10, 8))\n",
    "sns.heatmap(corr_df, annot=True, cmap='coolwarm', linewidths=0.5)\n",
    "plt.title('Positive Consumer Fraud Features Correlation Heatmap')\n",
    "plt.savefig(\"../plots/Positive Consumer Fraud Features Correlation Heatmap.png\")\n",
    "plt.show()"
   ]
  },
  {
   "cell_type": "markdown",
   "id": "dbfa4b51",
   "metadata": {},
   "source": [
    "'weekly_personal_disposable', 'median_total_household_income', 'median_total_family_income', 'avg_household_size' are highly correlated. Keep 'median_total_household_income' only\n",
    "Although merchant fraud displays relatively higher correlation with consumer fraud, to avoid dependency between features of the final model, removing it from the input features."
   ]
  },
  {
   "cell_type": "code",
   "execution_count": null,
   "id": "58dfbba7",
   "metadata": {},
   "outputs": [],
   "source": [
    "\n",
    "# select the useful features\n",
    "\n",
    "useful_num_features = ['order_id', 'user_id', 'dollar_value', 'median_total_household_income', 'median_age']\n",
    "target_feature = ['consumer_fraud']\n",
    "selected_features = useful_num_features + target_feature"
   ]
  },
  {
   "cell_type": "markdown",
   "id": "91c454e0-d550-49bb-a79a-4bbd5f6d20ba",
   "metadata": {},
   "source": [
    "We want to check the correlation between each attribute using a subsample dataset. The subsample dataset contains 30% of the 2022 data and 70% of the 2021 data as we will train model on the data in 2021 and test it on the data in 2022."
   ]
  },
  {
   "cell_type": "markdown",
   "id": "917d3a33-da16-4a65-9cb3-8201a7337ec9",
   "metadata": {},
   "source": [
    "Because pyspark ml can't handle Null values, we drop external attributes that contain Null values."
   ]
  },
  {
   "cell_type": "code",
   "execution_count": null,
   "id": "202dd434-8b7f-498b-8e02-5960e8e8e151",
   "metadata": {},
   "outputs": [],
   "source": [
    "impute_consumer_fraud_sdf = consumer_is_fraud.select(selected_features)\n",
    "impute_consumer_fraud_sdf.limit(5)"
   ]
  },
  {
   "cell_type": "code",
   "execution_count": null,
   "id": "e9a568e4-ca15-448e-b8aa-4a21ea589e03",
   "metadata": {},
   "outputs": [],
   "source": [
    "impute_consumer_fraud_sdf.count()"
   ]
  },
  {
   "cell_type": "code",
   "execution_count": null,
   "id": "02e21420-78fe-4969-9d16-6204f5621113",
   "metadata": {},
   "outputs": [],
   "source": [
    "impute_consumer_fraud_sdf.filter(F.col(\"median_total_household_income\").isNotNull()).count()"
   ]
  },
  {
   "cell_type": "markdown",
   "id": "3ff6ba5f-724b-4cb4-9df9-6f572e4aac85",
   "metadata": {},
   "source": [
    "As we expected, there are some consumer not existing in transaction dataset, we will remove those instances."
   ]
  },
  {
   "cell_type": "code",
   "execution_count": null,
   "id": "0fdf7ecc-86ae-4d3a-96d8-ac0028e90242",
   "metadata": {},
   "outputs": [],
   "source": [
    "\n",
    "\n",
    "impute_consumer_fraud_sdf = impute_consumer_fraud_sdf.filter(F.col(\"median_total_household_income\").isNotNull())"
   ]
  },
  {
   "cell_type": "markdown",
   "id": "d04682bc-4a30-4a3d-8425-9d83d98513ab",
   "metadata": {},
   "source": [
    "Let's check the number of instances with non-missing fraud probability."
   ]
  },
  {
   "cell_type": "code",
   "execution_count": null,
   "id": "d22f2caf-d64b-4bf2-bd7b-9c2d4d77b04d",
   "metadata": {},
   "outputs": [],
   "source": [
    "impute_consumer_fraud_sdf.filter(F.col('consumer_fraud') > 0).count()"
   ]
  },
  {
   "cell_type": "markdown",
   "id": "8dcba3a1-bcb6-4fde-af3c-5f75a5dca405",
   "metadata": {},
   "source": [
    "We would like to use these instances to build a imputation model for the remaining null values."
   ]
  },
  {
   "cell_type": "code",
   "execution_count": null,
   "id": "8ac87b88-d55b-4a08-a875-c0ab7c3e5f02",
   "metadata": {},
   "outputs": [],
   "source": [
    "model_df = impute_consumer_fraud_sdf.filter(F.col('consumer_fraud') > 0)"
   ]
  },
  {
   "cell_type": "code",
   "execution_count": null,
   "id": "a0cfa91c-8628-41e3-a329-d9e56a2ad1e2",
   "metadata": {},
   "outputs": [],
   "source": [
    "final_df = model_df.dropna('any')\n",
    "final_df.count()"
   ]
  },
  {
   "cell_type": "code",
   "execution_count": null,
   "id": "15c94c26-e4e0-4f28-a512-e9241e1ccce3",
   "metadata": {},
   "outputs": [],
   "source": [
    "final_df.limit(5)"
   ]
  },
  {
   "cell_type": "code",
   "execution_count": null,
   "id": "f9265549-2afa-4441-bbba-97be75c922b6",
   "metadata": {},
   "outputs": [],
   "source": [
    "# Save data to file\n",
    "final_df.write.mode('overwrite').parquet('../data/curated/modelling_consumer_fraud/')"
   ]
  },
  {
   "cell_type": "code",
   "execution_count": null,
   "id": "b52143df-e4d1-4ae9-b7c4-4a0806dcde9e",
   "metadata": {},
   "outputs": [],
   "source": [
    "model_sdf = spark.read.parquet('../data/curated/modelling_consumer_fraud')"
   ]
  },
  {
   "cell_type": "markdown",
   "id": "540334e8-3417-41a8-940b-657113609665",
   "metadata": {},
   "source": [
    "## Train Random Forest regression"
   ]
  },
  {
   "cell_type": "code",
   "execution_count": null,
   "id": "a123c468-a60a-4667-8083-b0f6e651a039",
   "metadata": {},
   "outputs": [],
   "source": [
    "from pyspark.ml.feature import VectorAssembler\n",
    "from pyspark.ml.regression import RandomForestRegressor\n",
    "from pyspark.ml.evaluation import RegressionEvaluator"
   ]
  },
  {
   "cell_type": "code",
   "execution_count": null,
   "id": "655f236c-0ffb-42d3-b99a-0c027fe042a6",
   "metadata": {},
   "outputs": [],
   "source": [
    "# Split the data into training and test sets (30% held out for testing)\n",
    "(trainingData, testData) = model_sdf.randomSplit([0.8, 0.2], seed=42)"
   ]
  },
  {
   "cell_type": "code",
   "execution_count": null,
   "id": "7c9e8c1c-ac74-44ec-9975-9b067b246c7e",
   "metadata": {},
   "outputs": [],
   "source": [
    "print(trainingData.count())\n",
    "print(testData.count())"
   ]
  },
  {
   "cell_type": "markdown",
   "id": "2387b246-deec-4584-a5c1-3a54438c82f0",
   "metadata": {},
   "source": [
    "### Baseline Model\n",
    "\n",
    "The model only predicts the mean value for all test instances."
   ]
  },
  {
   "cell_type": "code",
   "execution_count": null,
   "id": "2ee70c18-b84b-41b0-859b-29e2d57c86f8",
   "metadata": {},
   "outputs": [],
   "source": [
    "mean_value = testData.agg(F.mean(\"consumer_fraud\")).collect()[0][0]\n",
    "mean_predictions_df = testData.select(\"consumer_fraud\").withColumn(\"prediction\", F.lit(mean_value))\n",
    "\n",
    "mse_evaluator = RegressionEvaluator(labelCol=\"consumer_fraud\", predictionCol=\"prediction\", metricName=\"mse\")\n",
    "mae_evaluator = RegressionEvaluator(labelCol=\"consumer_fraud\", predictionCol=\"prediction\", metricName=\"mae\")\n",
    "\n",
    "# Get the score\n",
    "mse = mse_evaluator.evaluate(mean_predictions_df)\n",
    "mae = mae_evaluator.evaluate(mean_predictions_df)\n",
    "\n",
    "print(f\"Mean Square Error: {mse}\")\n",
    "print(f\"Mean Absolute Error: {mae}\")"
   ]
  },
  {
   "cell_type": "markdown",
   "id": "53420465-c6c8-47d7-9023-95df04d43e39",
   "metadata": {},
   "source": [
    "### Random Forest\n",
    "\n",
    "We aim to create a simple model, therefore, the model hyperparameters were chosen arbitrarily."
   ]
  },
  {
   "cell_type": "code",
   "execution_count": null,
   "id": "caedfa19",
   "metadata": {},
   "outputs": [],
   "source": [
    "from pyspark.ml import Pipeline"
   ]
  },
  {
   "cell_type": "code",
   "execution_count": null,
   "id": "fa4caf3c-eca9-4b37-bf85-febf7b6c628a",
   "metadata": {},
   "outputs": [],
   "source": [
    "features = 'features'\n",
    "input_cols = trainingData.drop('consumer_fraud').drop('order_id').drop('user_id').columns\n",
    "\n",
    "assembler = VectorAssembler(\n",
    "    # which column to combine\n",
    "    inputCols=input_cols, \n",
    "    # How should the combined columns be named\n",
    "    outputCol=features\n",
    ")"
   ]
  },
  {
   "cell_type": "code",
   "execution_count": null,
   "id": "a6b42f8c",
   "metadata": {},
   "outputs": [],
   "source": [
    "rft = RandomForestRegressor(\n",
    "    featuresCol='features', \n",
    "    labelCol='consumer_fraud',\n",
    "    numTrees=5, \n",
    "    maxDepth=5,\n",
    "    seed=42\n",
    ")"
   ]
  },
  {
   "cell_type": "code",
   "execution_count": null,
   "id": "fe8db6a8",
   "metadata": {},
   "outputs": [],
   "source": [
    "pipeline = Pipeline(stages=[assembler, rft])\n",
    "model = pipeline.fit(trainingData)"
   ]
  },
  {
   "cell_type": "markdown",
   "id": "46171939-ce99-4fbe-9906-6f5f7a1ecfd1",
   "metadata": {},
   "source": [
    "- Make predictions."
   ]
  },
  {
   "cell_type": "code",
   "execution_count": null,
   "id": "d0b57892-ee41-4140-84f2-82147383c4b2",
   "metadata": {},
   "outputs": [],
   "source": [
    "predictions = model.transform(testData)"
   ]
  },
  {
   "cell_type": "code",
   "execution_count": null,
   "id": "d4b78631",
   "metadata": {},
   "outputs": [],
   "source": [
    "predictions.head(5)"
   ]
  },
  {
   "cell_type": "markdown",
   "id": "2411fa77-cc91-4059-ad72-63b3ecdf24d7",
   "metadata": {},
   "source": [
    "- Evaluate the predictions."
   ]
  },
  {
   "cell_type": "code",
   "execution_count": null,
   "id": "46da52c3-6474-4177-b78a-ff1c953d3139",
   "metadata": {},
   "outputs": [],
   "source": [
    "mse_evaluator = RegressionEvaluator(labelCol=\"consumer_fraud\", predictionCol=\"prediction\", metricName=\"mse\")\n",
    "mae_evaluator = RegressionEvaluator(labelCol=\"consumer_fraud\", predictionCol=\"prediction\", metricName=\"mae\")\n",
    "\n",
    "# Get the score\n",
    "mse = mse_evaluator.evaluate(predictions)\n",
    "mae = mae_evaluator.evaluate(predictions)\n",
    "\n",
    "print(f\"Mean Square Error: {mse}\")\n",
    "print(f\"Mean Absolute Error: {mae}\")\n"
   ]
  },
  {
   "cell_type": "code",
   "execution_count": null,
   "id": "365b012b-7526-4766-9cd2-ff53d5435572",
   "metadata": {},
   "outputs": [],
   "source": [
    "result_pd = predictions.select(\"prediction\", \"consumer_fraud\").toPandas()\n",
    "plt.scatter(result_pd.consumer_fraud, result_pd.prediction)"
   ]
  },
  {
   "cell_type": "code",
   "execution_count": null,
   "id": "3513f37f",
   "metadata": {},
   "outputs": [],
   "source": []
  },
  {
   "cell_type": "markdown",
   "id": "8be67bf2-6013-4b56-ab84-e6b9a3348dfd",
   "metadata": {},
   "source": [
    "### Imputation for consumer fraud probability"
   ]
  },
  {
   "cell_type": "code",
   "execution_count": null,
   "id": "6ee5475e-7360-4a6e-9f53-4a0915493252",
   "metadata": {},
   "outputs": [],
   "source": [
    "imputation_data = impute_consumer_fraud_sdf.filter(F.col('consumer_fraud') == 0).drop('consumer_fraud')"
   ]
  },
  {
   "cell_type": "code",
   "execution_count": null,
   "id": "f3dff9ae-a707-4f4f-858b-586adcfdf3a3",
   "metadata": {},
   "outputs": [],
   "source": [
    "imputed_sdf = model.transform(imputation_data)"
   ]
  },
  {
   "cell_type": "code",
   "execution_count": null,
   "id": "a2a26fd5-147a-42ac-a9fc-1563eb554081",
   "metadata": {},
   "outputs": [],
   "source": [
    "imputed_sdf.select(\"prediction\").describe()"
   ]
  },
  {
   "cell_type": "markdown",
   "id": "20f6b5dd-fabe-404e-95d3-8ae2f1577a03",
   "metadata": {},
   "source": [
    "We merge imputed consumer fraud probability to the main dataset."
   ]
  },
  {
   "cell_type": "code",
   "execution_count": null,
   "id": "370db298-cb23-4d19-8822-74bd4b1b4b24",
   "metadata": {},
   "outputs": [],
   "source": [
    "# data with given consumer fraud probability\n",
    "non_missing_consumer_fraud = model_sdf.select([\"order_id\", \"consumer_fraud\"])\n",
    "imputed_sdf_select = imputed_sdf.select([\"order_id\", \"prediction\"]).withColumnRenamed(\"prediction\", \"consumer_fraud\")\n",
    "\n",
    "# Combine two dataset\n",
    "full_consumer_fraud = imputed_sdf_select.union(non_missing_consumer_fraud)"
   ]
  },
  {
   "cell_type": "code",
   "execution_count": null,
   "id": "24a2c8e7-b296-4f1b-a045-2294bb4882e5",
   "metadata": {},
   "outputs": [],
   "source": [
    "# Save data to file\n",
    "full_consumer_fraud.write.mode('overwrite').parquet('../data/curated/predicted_consumer_fraud/')"
   ]
  },
  {
   "cell_type": "code",
   "execution_count": null,
   "id": "bd54ac6a-aae4-40f0-9026-1863a497d8ba",
   "metadata": {},
   "outputs": [],
   "source": [
    "full_consumer_fraud.count()"
   ]
  },
  {
   "cell_type": "code",
   "execution_count": null,
   "id": "95dff2c4",
   "metadata": {},
   "outputs": [],
   "source": [
    "test = spark.read.parquet('../data/curated/predicted_consumer_fraud/')\n",
    "test.count()"
   ]
  },
  {
   "cell_type": "code",
   "execution_count": null,
   "id": "b3817385",
   "metadata": {},
   "outputs": [],
   "source": []
  }
 ],
 "metadata": {
  "kernelspec": {
   "display_name": "Python 3 (ipykernel)",
   "language": "python",
   "name": "python3"
  },
  "language_info": {
   "codemirror_mode": {
    "name": "ipython",
    "version": 3
   },
   "file_extension": ".py",
   "mimetype": "text/x-python",
   "name": "python",
   "nbconvert_exporter": "python",
   "pygments_lexer": "ipython3",
   "version": "3.12.1"
  }
 },
 "nbformat": 4,
 "nbformat_minor": 5
}
