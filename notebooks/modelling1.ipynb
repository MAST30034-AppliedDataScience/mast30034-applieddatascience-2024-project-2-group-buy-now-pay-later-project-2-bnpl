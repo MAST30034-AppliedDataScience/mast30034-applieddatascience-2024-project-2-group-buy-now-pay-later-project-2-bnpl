{
 "cells": [
  {
   "cell_type": "code",
   "execution_count": 2,
   "id": "28fe66e1-7315-4674-9758-d819d00848d4",
   "metadata": {},
   "outputs": [],
   "source": [
    "from pyspark.sql import SparkSession\n",
    "from pyspark.sql import functions as F\n",
    "from pyspark.sql.types import *\n",
    "import pandas as pd\n",
    "import requests\n",
    "import os"
   ]
  },
  {
   "cell_type": "code",
   "execution_count": 3,
   "id": "ed479408-7035-4085-9f65-f17244fd6a22",
   "metadata": {},
   "outputs": [
    {
     "name": "stderr",
     "output_type": "stream",
     "text": [
      "24/09/29 10:53:15 WARN Utils: Your hostname, LAPTOP-406UJ3L3 resolves to a loopback address: 127.0.1.1; using 172.21.136.1 instead (on interface eth0)\n",
      "24/09/29 10:53:15 WARN Utils: Set SPARK_LOCAL_IP if you need to bind to another address\n",
      "Setting default log level to \"WARN\".\n",
      "To adjust logging level use sc.setLogLevel(newLevel). For SparkR, use setLogLevel(newLevel).\n",
      "24/09/29 10:53:16 WARN NativeCodeLoader: Unable to load native-hadoop library for your platform... using builtin-java classes where applicable\n",
      "24/09/29 10:53:17 WARN Utils: Service 'SparkUI' could not bind on port 4040. Attempting port 4041.\n"
     ]
    }
   ],
   "source": [
    "# Create a spark session\n",
    "spark = (\n",
    "    SparkSession.builder.appName(\"Data Modelling 1\")\n",
    "    .config(\"spark.sql.repl.eagerEval.enabled\", True) \n",
    "    .config(\"spark.sql.parquet.cacheMetadata\", \"true\")\n",
    "    .config(\"spark.driver.memory\", \"9g\") \n",
    "    .config(\"spark.sql.session.timeZone\", \"Etc/UTC\")\n",
    "    .config(\"spark.network.timeout\", \"600s\")\n",
    "    .getOrCreate()\n",
    ")"
   ]
  },
  {
   "cell_type": "markdown",
   "id": "e02a3a07-623b-40e1-bac2-226c54c2d064",
   "metadata": {},
   "source": [
    "## Read dataset"
   ]
  },
  {
   "cell_type": "code",
   "execution_count": 3,
   "id": "8f2d91d1-9d44-4dfb-939a-d6f53e8a292d",
   "metadata": {},
   "outputs": [
    {
     "name": "stderr",
     "output_type": "stream",
     "text": [
      "                                                                                \r"
     ]
    }
   ],
   "source": [
    "# Information on merchants\n",
    "merchant = spark.read.parquet(\"../data/curated/part_1/clean_merchant.parquet\")\n",
    "\n",
    "# Information on merchant's fraud probability\n",
    "merchant_fraud_prob = pd.read_csv(\"../data/tables/part_1/merchant_fraud_probability.csv\")"
   ]
  },
  {
   "cell_type": "markdown",
   "id": "6e565d73-dbd5-43f5-be32-cc084de87bac",
   "metadata": {},
   "source": [
    "### Preprocessing `goods` feature"
   ]
  },
  {
   "cell_type": "code",
   "execution_count": 4,
   "id": "bbc66497-4617-444b-99fb-a5e5740d9cb8",
   "metadata": {},
   "outputs": [],
   "source": [
    "from pyspark.ml.feature import CountVectorizer, PCA, StopWordsRemover\n",
    "from pyspark.sql.functions import lower, regexp_replace\n",
    "from pyspark.ml.feature import Tokenizer\n",
    "from pyspark.sql.functions import monotonically_increasing_id"
   ]
  },
  {
   "cell_type": "code",
   "execution_count": 5,
   "id": "5c340ba2-e65c-4d05-844a-6e40bee5feed",
   "metadata": {},
   "outputs": [],
   "source": [
    "goods = merchant.select(\"goods\")"
   ]
  },
  {
   "cell_type": "code",
   "execution_count": 6,
   "id": "e5edf4c0-0301-4081-b496-11289e96490c",
   "metadata": {},
   "outputs": [],
   "source": [
    "clean_goods = goods.withColumn(\"str_goods\", lower(regexp_replace(\"goods\", \"[^\\w\\s]\", \"\")))\n",
    "\n",
    "tokenizer = Tokenizer(inputCol=\"str_goods\", outputCol=\"tokens\")\n",
    "clean_goods = tokenizer.transform(clean_goods)\n",
    "\n",
    "remover = StopWordsRemover(inputCol=\"tokens\", outputCol=\"clean_goods\")\n",
    "clean_goods = remover.transform(clean_goods)\n",
    "clean_goods = clean_goods.select('clean_goods')"
   ]
  },
  {
   "cell_type": "code",
   "execution_count": 7,
   "id": "1001d388-baf6-4608-95a8-0b68b6d479a5",
   "metadata": {},
   "outputs": [
    {
     "name": "stderr",
     "output_type": "stream",
     "text": [
      "                                                                                \r"
     ]
    }
   ],
   "source": [
    "count_vectorizer = CountVectorizer(inputCol=\"clean_goods\", outputCol=\"features\")\n",
    "\n",
    "model = count_vectorizer.fit(clean_goods)\n",
    "result = model.transform(clean_goods)"
   ]
  },
  {
   "cell_type": "code",
   "execution_count": 8,
   "id": "070ce9f6-30ea-46a2-ac3a-46594494bb7a",
   "metadata": {},
   "outputs": [
    {
     "data": {
      "text/html": [
       "<table border='1'>\n",
       "<tr><th>clean_goods</th><th>features</th></tr>\n",
       "<tr><td>[watch, clock, je...</td><td>(94,[0,12,13,14,5...</td></tr>\n",
       "<tr><td>[motor, vehicle, ...</td><td>(94,[5,71,72,76,7...</td></tr>\n",
       "<tr><td>[cable, satellite...</td><td>(94,[4,44,45,46,4...</td></tr>\n",
       "<tr><td>[opticians, optic...</td><td>(94,[9,73,74,75],...</td></tr>\n",
       "</table>\n"
      ],
      "text/plain": [
       "+--------------------+--------------------+\n",
       "|         clean_goods|            features|\n",
       "+--------------------+--------------------+\n",
       "|[watch, clock, je...|(94,[0,12,13,14,5...|\n",
       "|[motor, vehicle, ...|(94,[5,71,72,76,7...|\n",
       "|[cable, satellite...|(94,[4,44,45,46,4...|\n",
       "|[opticians, optic...|(94,[9,73,74,75],...|\n",
       "+--------------------+--------------------+"
      ]
     },
     "execution_count": 8,
     "metadata": {},
     "output_type": "execute_result"
    }
   ],
   "source": [
    "result.limit(4)"
   ]
  },
  {
   "cell_type": "code",
   "execution_count": 9,
   "id": "da19ae3a-234a-4c44-92f2-49a7c6d53721",
   "metadata": {},
   "outputs": [
    {
     "name": "stderr",
     "output_type": "stream",
     "text": [
      "24/09/29 08:09:20 WARN InstanceBuilder: Failed to load implementation from:dev.ludovic.netlib.lapack.JNILAPACK\n"
     ]
    }
   ],
   "source": [
    "pca = PCA(k=12, inputCol=\"features\")\n",
    "pca.setOutputCol(\"pca_features\")\n",
    "\n",
    "model = pca.fit(result)\n",
    "pca_result = model.transform(result)"
   ]
  },
  {
   "cell_type": "code",
   "execution_count": 10,
   "id": "5c9e7414-ec3e-437c-a9f6-d378b1a1e616",
   "metadata": {},
   "outputs": [
    {
     "data": {
      "text/plain": [
       "DenseVector([0.7685, -0.6656, 0.3307, -0.7595, -0.0918, -0.2737, 0.9877, 1.0146, 0.314, 0.568, -0.028, -0.0165])"
      ]
     },
     "execution_count": 10,
     "metadata": {},
     "output_type": "execute_result"
    }
   ],
   "source": [
    "model.transform(result).collect()[0].pca_features"
   ]
  },
  {
   "cell_type": "code",
   "execution_count": 11,
   "id": "402a1b48-ed0a-4c73-b30f-772789968d9c",
   "metadata": {},
   "outputs": [
    {
     "data": {
      "text/plain": [
       "np.float64(0.7348035599530366)"
      ]
     },
     "execution_count": 11,
     "metadata": {},
     "output_type": "execute_result"
    }
   ],
   "source": [
    "model.explainedVariance.sum()"
   ]
  },
  {
   "cell_type": "code",
   "execution_count": 12,
   "id": "74701863-c15d-43a5-8741-6cc7bd4c5ed9",
   "metadata": {},
   "outputs": [],
   "source": [
    "pca_result = pca_result.withColumn(\"id\", monotonically_increasing_id())\n",
    "merchant = merchant.withColumn(\"id\", monotonically_increasing_id())"
   ]
  },
  {
   "cell_type": "code",
   "execution_count": 13,
   "id": "e6a57587-b19d-48a1-8077-94e9003ecb45",
   "metadata": {},
   "outputs": [],
   "source": [
    "merchant = merchant.join(pca_result.select('pca_features', 'id'), on='id', how='inner')\n",
    "merchant = merchant.drop(\"id\")"
   ]
  },
  {
   "cell_type": "code",
   "execution_count": 14,
   "id": "f45264c9-d235-49db-9cec-b222bab757ff",
   "metadata": {},
   "outputs": [],
   "source": [
    "from pyspark.sql.functions import when"
   ]
  },
  {
   "cell_type": "code",
   "execution_count": 15,
   "id": "a23e3e95-285c-40bf-b873-d1e7202e33f0",
   "metadata": {},
   "outputs": [],
   "source": [
    "# Define the ordered categories\n",
    "ordered_categories = ['a', 'b', 'c', 'd', 'e']\n",
    "\n",
    "# Map the categories to their corresponding ordinal codes\n",
    "merchant = merchant.withColumn(\n",
    "    \"ordinal_revenue_level\",\n",
    "    when(F.col(\"revenue_level\") == \"a\", 0)\n",
    "    .when(F.col(\"revenue_level\") == \"b\", 1)\n",
    "    .when(F.col(\"revenue_level\") == \"c\", 2)\n",
    "    .when(F.col(\"revenue_level\") == \"d\", 3)\n",
    "    .when(F.col(\"revenue_level\") == \"e\", 4)\n",
    ")\n",
    "\n",
    "merchant = merchant.drop(\"revenue_level\")"
   ]
  },
  {
   "cell_type": "markdown",
   "id": "91bbfd89-84f1-4c68-ada2-cba94de99db8",
   "metadata": {},
   "source": [
    "### Join transaction dataset"
   ]
  },
  {
   "cell_type": "code",
   "execution_count": 16,
   "id": "61fc1d79-c52f-4a74-8d5b-3876c68b9830",
   "metadata": {
    "scrolled": true
   },
   "outputs": [
    {
     "data": {
      "text/html": [
       "<table border='1'>\n",
       "<tr><th>order_id</th><th>user_id</th><th>merchant_abn</th><th>order_datetime</th><th>dollar_value</th><th>postcode</th><th>merchant_fraud</th><th>consumer_fraud</th><th>weekly_personal_disposable</th><th>median_total_household_income</th><th>median_total_family_income</th><th>avg_household_size</th><th>median_age</th><th>is_po_box</th><th>sa2_code</th><th>sa2_name</th></tr>\n",
       "<tr><td>6a84c3cf-612a-457...</td><td>2</td><td>15549624934</td><td>2021-08-20</td><td>130.3505283105634</td><td>2782</td><td>0.0</td><td>0.0</td><td>503.7805889311172</td><td>1528.0</td><td>1978.0</td><td>2.3</td><td>50.0</td><td>false</td><td>124011455</td><td>Wentworth Falls</td></tr>\n",
       "<tr><td>a1ff2d13-c888-469...</td><td>2</td><td>79417999332</td><td>2021-08-21</td><td>132.70580024651548</td><td>2782</td><td>0.0</td><td>0.0</td><td>503.7805889311172</td><td>1528.0</td><td>1978.0</td><td>2.3</td><td>50.0</td><td>false</td><td>124011455</td><td>Wentworth Falls</td></tr>\n",
       "<tr><td>ccdb41fa-a5ab-472...</td><td>2</td><td>64203420245</td><td>2021-08-21</td><td>3.0641677344299336</td><td>2782</td><td>0.0</td><td>0.0</td><td>503.7805889311172</td><td>1528.0</td><td>1978.0</td><td>2.3</td><td>50.0</td><td>false</td><td>124011455</td><td>Wentworth Falls</td></tr>\n",
       "<tr><td>4fbc20d0-1e21-4b5...</td><td>2</td><td>66842618444</td><td>2021-08-19</td><td>189.45042103113855</td><td>2782</td><td>0.0</td><td>0.0</td><td>503.7805889311172</td><td>1528.0</td><td>1978.0</td><td>2.3</td><td>50.0</td><td>false</td><td>124011455</td><td>Wentworth Falls</td></tr>\n",
       "<tr><td>c7acb95f-2cf8-4ae...</td><td>2</td><td>30122382323</td><td>2021-08-22</td><td>37.72939540011015</td><td>2782</td><td>0.0</td><td>0.0</td><td>503.7805889311172</td><td>1528.0</td><td>1978.0</td><td>2.3</td><td>50.0</td><td>false</td><td>124011455</td><td>Wentworth Falls</td></tr>\n",
       "</table>\n"
      ],
      "text/plain": [
       "+--------------------+-------+------------+--------------+------------------+--------+--------------+--------------+--------------------------+-----------------------------+--------------------------+------------------+----------+---------+---------+---------------+\n",
       "|            order_id|user_id|merchant_abn|order_datetime|      dollar_value|postcode|merchant_fraud|consumer_fraud|weekly_personal_disposable|median_total_household_income|median_total_family_income|avg_household_size|median_age|is_po_box| sa2_code|       sa2_name|\n",
       "+--------------------+-------+------------+--------------+------------------+--------+--------------+--------------+--------------------------+-----------------------------+--------------------------+------------------+----------+---------+---------+---------------+\n",
       "|6a84c3cf-612a-457...|      2| 15549624934|    2021-08-20| 130.3505283105634|    2782|           0.0|           0.0|         503.7805889311172|                       1528.0|                    1978.0|               2.3|      50.0|    false|124011455|Wentworth Falls|\n",
       "|a1ff2d13-c888-469...|      2| 79417999332|    2021-08-21|132.70580024651548|    2782|           0.0|           0.0|         503.7805889311172|                       1528.0|                    1978.0|               2.3|      50.0|    false|124011455|Wentworth Falls|\n",
       "|ccdb41fa-a5ab-472...|      2| 64203420245|    2021-08-21|3.0641677344299336|    2782|           0.0|           0.0|         503.7805889311172|                       1528.0|                    1978.0|               2.3|      50.0|    false|124011455|Wentworth Falls|\n",
       "|4fbc20d0-1e21-4b5...|      2| 66842618444|    2021-08-19|189.45042103113855|    2782|           0.0|           0.0|         503.7805889311172|                       1528.0|                    1978.0|               2.3|      50.0|    false|124011455|Wentworth Falls|\n",
       "|c7acb95f-2cf8-4ae...|      2| 30122382323|    2021-08-22| 37.72939540011015|    2782|           0.0|           0.0|         503.7805889311172|                       1528.0|                    1978.0|               2.3|      50.0|    false|124011455|Wentworth Falls|\n",
       "+--------------------+-------+------------+--------------+------------------+--------+--------------+--------------+--------------------------+-----------------------------+--------------------------+------------------+----------+---------+---------+---------------+"
      ]
     },
     "execution_count": 16,
     "metadata": {},
     "output_type": "execute_result"
    }
   ],
   "source": [
    "temp = spark.read.parquet('../data/curated/all_details/')\n",
    "temp.limit(5)"
   ]
  },
  {
   "cell_type": "code",
   "execution_count": 17,
   "id": "5ff339b2-f27a-4bd4-948d-8861743c3e28",
   "metadata": {},
   "outputs": [
    {
     "name": "stderr",
     "output_type": "stream",
     "text": [
      "                                                                                \r"
     ]
    },
    {
     "data": {
      "text/plain": [
       "14195505"
      ]
     },
     "execution_count": 17,
     "metadata": {},
     "output_type": "execute_result"
    }
   ],
   "source": [
    "full_dataset = temp.join(merchant, on='merchant_abn', how='left')\n",
    "full_dataset.count()"
   ]
  },
  {
   "cell_type": "code",
   "execution_count": 18,
   "id": "ea4caecb-9e3e-437e-85d7-a883d8ad5893",
   "metadata": {},
   "outputs": [],
   "source": [
    "# Select useful columns\n",
    "merchant_is_fraud_model = full_dataset.select([\"order_id\", \"merchant_abn\", \"user_id\", \"order_datetime\", \"dollar_value\", \"postcode\", \"merchant_fraud\", \"weekly_personal_disposable\",\n",
    "                     \"median_total_household_income\", \"median_total_family_income\", \"avg_household_size\", \"median_age\", \"is_po_box\", \"ordinal_revenue_level\" ,\"take_rate\", \"pca_features\"])"
   ]
  },
  {
   "cell_type": "markdown",
   "id": "bfe578a4-b6c5-4f97-a637-900ed2865436",
   "metadata": {},
   "source": [
    "We check the number of Null values in merchant fraud probability."
   ]
  },
  {
   "cell_type": "code",
   "execution_count": 19,
   "id": "d0c5b458-3163-425c-8bf1-cd86ef1270d7",
   "metadata": {},
   "outputs": [
    {
     "name": "stderr",
     "output_type": "stream",
     "text": [
      "                                                                                \r"
     ]
    },
    {
     "data": {
      "text/plain": [
       "4059"
      ]
     },
     "execution_count": 19,
     "metadata": {},
     "output_type": "execute_result"
    }
   ],
   "source": [
    "merchant_is_fraud_model.filter(F.col('merchant_fraud') > 0).count()"
   ]
  },
  {
   "cell_type": "code",
   "execution_count": 20,
   "id": "54e4aa24-63e4-4d82-9501-cb08ace68c18",
   "metadata": {
    "scrolled": true
   },
   "outputs": [
    {
     "name": "stderr",
     "output_type": "stream",
     "text": [
      "                                                                                \r"
     ]
    },
    {
     "data": {
      "text/html": [
       "<table border='1'>\n",
       "<tr><th>order_id</th><th>merchant_abn</th><th>user_id</th><th>order_datetime</th><th>dollar_value</th><th>postcode</th><th>merchant_fraud</th><th>weekly_personal_disposable</th><th>median_total_household_income</th><th>median_total_family_income</th><th>avg_household_size</th><th>median_age</th><th>is_po_box</th><th>ordinal_revenue_level</th><th>take_rate</th><th>pca_features</th></tr>\n",
       "<tr><td>4fbc20d0-1e21-4b5...</td><td>66842618444</td><td>2</td><td>2021-08-19</td><td>189.45042103113855</td><td>2782</td><td>0.0</td><td>503.7805889311172</td><td>1528.0</td><td>1978.0</td><td>2.3</td><td>50.0</td><td>false</td><td>0</td><td>6.93</td><td>[0.57387151449309...</td></tr>\n",
       "<tr><td>6a84c3cf-612a-457...</td><td>15549624934</td><td>2</td><td>2021-08-20</td><td>130.3505283105634</td><td>2782</td><td>0.0</td><td>503.7805889311172</td><td>1528.0</td><td>1978.0</td><td>2.3</td><td>50.0</td><td>false</td><td>2</td><td>2.76</td><td>[-0.1654801171818...</td></tr>\n",
       "<tr><td>a1ff2d13-c888-469...</td><td>79417999332</td><td>2</td><td>2021-08-21</td><td>132.70580024651548</td><td>2782</td><td>0.0</td><td>503.7805889311172</td><td>1528.0</td><td>1978.0</td><td>2.3</td><td>50.0</td><td>false</td><td>1</td><td>4.95</td><td>[0.68120365907528...</td></tr>\n",
       "<tr><td>ccdb41fa-a5ab-472...</td><td>64203420245</td><td>2</td><td>2021-08-21</td><td>3.0641677344299336</td><td>2782</td><td>0.0</td><td>503.7805889311172</td><td>1528.0</td><td>1978.0</td><td>2.3</td><td>50.0</td><td>false</td><td>2</td><td>2.86</td><td>[0.60148507156068...</td></tr>\n",
       "<tr><td>c7acb95f-2cf8-4ae...</td><td>30122382323</td><td>2</td><td>2021-08-22</td><td>37.72939540011015</td><td>2782</td><td>0.0</td><td>503.7805889311172</td><td>1528.0</td><td>1978.0</td><td>2.3</td><td>50.0</td><td>false</td><td>1</td><td>3.36</td><td>[0.76854023445623...</td></tr>\n",
       "</table>\n"
      ],
      "text/plain": [
       "+--------------------+------------+-------+--------------+------------------+--------+--------------+--------------------------+-----------------------------+--------------------------+------------------+----------+---------+---------------------+---------+--------------------+\n",
       "|            order_id|merchant_abn|user_id|order_datetime|      dollar_value|postcode|merchant_fraud|weekly_personal_disposable|median_total_household_income|median_total_family_income|avg_household_size|median_age|is_po_box|ordinal_revenue_level|take_rate|        pca_features|\n",
       "+--------------------+------------+-------+--------------+------------------+--------+--------------+--------------------------+-----------------------------+--------------------------+------------------+----------+---------+---------------------+---------+--------------------+\n",
       "|4fbc20d0-1e21-4b5...| 66842618444|      2|    2021-08-19|189.45042103113855|    2782|           0.0|         503.7805889311172|                       1528.0|                    1978.0|               2.3|      50.0|    false|                    0|     6.93|[0.57387151449309...|\n",
       "|6a84c3cf-612a-457...| 15549624934|      2|    2021-08-20| 130.3505283105634|    2782|           0.0|         503.7805889311172|                       1528.0|                    1978.0|               2.3|      50.0|    false|                    2|     2.76|[-0.1654801171818...|\n",
       "|a1ff2d13-c888-469...| 79417999332|      2|    2021-08-21|132.70580024651548|    2782|           0.0|         503.7805889311172|                       1528.0|                    1978.0|               2.3|      50.0|    false|                    1|     4.95|[0.68120365907528...|\n",
       "|ccdb41fa-a5ab-472...| 64203420245|      2|    2021-08-21|3.0641677344299336|    2782|           0.0|         503.7805889311172|                       1528.0|                    1978.0|               2.3|      50.0|    false|                    2|     2.86|[0.60148507156068...|\n",
       "|c7acb95f-2cf8-4ae...| 30122382323|      2|    2021-08-22| 37.72939540011015|    2782|           0.0|         503.7805889311172|                       1528.0|                    1978.0|               2.3|      50.0|    false|                    1|     3.36|[0.76854023445623...|\n",
       "+--------------------+------------+-------+--------------+------------------+--------+--------------+--------------------------+-----------------------------+--------------------------+------------------+----------+---------+---------------------+---------+--------------------+"
      ]
     },
     "execution_count": 20,
     "metadata": {},
     "output_type": "execute_result"
    }
   ],
   "source": [
    "merchant_is_fraud_model.limit(5)"
   ]
  },
  {
   "cell_type": "markdown",
   "id": "514fd23d-8ea2-4e7c-9804-a111b38402c0",
   "metadata": {},
   "source": [
    "## Feature selection"
   ]
  },
  {
   "cell_type": "markdown",
   "id": "91c454e0-d550-49bb-a79a-4bbd5f6d20ba",
   "metadata": {},
   "source": [
    "We want to check the correlation between each attribute using a subsample dataset. The subsample dataset contains 30% of the 2022 data and 70% of the 2021 data as we will train model on the data in 2021 and test it on the data in 2022."
   ]
  },
  {
   "cell_type": "code",
   "execution_count": 21,
   "id": "b438de46-fb90-413e-93b0-dbdac2906ee8",
   "metadata": {},
   "outputs": [],
   "source": [
    "from pyspark.sql.functions import year\n",
    "import seaborn as sns\n",
    "import matplotlib.pyplot as plt"
   ]
  },
  {
   "cell_type": "code",
   "execution_count": 22,
   "id": "247278cb-9b88-477d-a810-e6e4f23a834e",
   "metadata": {},
   "outputs": [
    {
     "name": "stderr",
     "output_type": "stream",
     "text": [
      "                                                                                \r"
     ]
    }
   ],
   "source": [
    "sample_merchant_fraud_df = merchant_is_fraud_model.sample(0.01, seed=42).toPandas()"
   ]
  },
  {
   "cell_type": "code",
   "execution_count": 23,
   "id": "b2f7e648-19b8-4302-80f4-abe7a5c290e6",
   "metadata": {},
   "outputs": [
    {
     "data": {
      "text/plain": [
       "<Axes: >"
      ]
     },
     "execution_count": 23,
     "metadata": {},
     "output_type": "execute_result"
    },
    {
     "data": {
      "image/png": "[encoded data removed]",
      "text/plain": [
       "<Figure size 1000x1000 with 2 Axes>"
      ]
     },
     "metadata": {},
     "output_type": "display_data"
    }
   ],
   "source": [
    "num_cols = [col for col in sample_merchant_fraud_df.columns if sample_merchant_fraud_df[col].dtype != 'object']\n",
    "\n",
    "plt.figure(figsize=(10, 10))\n",
    "sns.heatmap(sample_merchant_fraud_df.loc[sample_merchant_fraud_df['merchant_fraud'] > 0][num_cols].corr(), annot=True, fmt='.2f')"
   ]
  },
  {
   "cell_type": "markdown",
   "id": "917d3a33-da16-4a65-9cb3-8201a7337ec9",
   "metadata": {},
   "source": [
    "Because pyspark ml can't handle Null values, we drop external attributes that contain Null values."
   ]
  },
  {
   "cell_type": "code",
   "execution_count": 24,
   "id": "202dd434-8b7f-498b-8e02-5960e8e8e151",
   "metadata": {},
   "outputs": [
    {
     "name": "stderr",
     "output_type": "stream",
     "text": [
      "                                                                                \r"
     ]
    },
    {
     "data": {
      "text/html": [
       "<table border='1'>\n",
       "<tr><th>order_id</th><th>merchant_abn</th><th>dollar_value</th><th>merchant_fraud</th><th>ordinal_revenue_level</th><th>take_rate</th><th>order_datetime</th><th>pca_features</th></tr>\n",
       "<tr><td>4fbc20d0-1e21-4b5...</td><td>66842618444</td><td>189.45042103113855</td><td>0.0</td><td>0</td><td>6.93</td><td>2021-08-19</td><td>[0.57387151449309...</td></tr>\n",
       "<tr><td>6a84c3cf-612a-457...</td><td>15549624934</td><td>130.3505283105634</td><td>0.0</td><td>2</td><td>2.76</td><td>2021-08-20</td><td>[-0.1654801171818...</td></tr>\n",
       "<tr><td>a1ff2d13-c888-469...</td><td>79417999332</td><td>132.70580024651548</td><td>0.0</td><td>1</td><td>4.95</td><td>2021-08-21</td><td>[0.68120365907528...</td></tr>\n",
       "<tr><td>ccdb41fa-a5ab-472...</td><td>64203420245</td><td>3.0641677344299336</td><td>0.0</td><td>2</td><td>2.86</td><td>2021-08-21</td><td>[0.60148507156068...</td></tr>\n",
       "<tr><td>c7acb95f-2cf8-4ae...</td><td>30122382323</td><td>37.72939540011015</td><td>0.0</td><td>1</td><td>3.36</td><td>2021-08-22</td><td>[0.76854023445623...</td></tr>\n",
       "</table>\n"
      ],
      "text/plain": [
       "+--------------------+------------+------------------+--------------+---------------------+---------+--------------+--------------------+\n",
       "|            order_id|merchant_abn|      dollar_value|merchant_fraud|ordinal_revenue_level|take_rate|order_datetime|        pca_features|\n",
       "+--------------------+------------+------------------+--------------+---------------------+---------+--------------+--------------------+\n",
       "|4fbc20d0-1e21-4b5...| 66842618444|189.45042103113855|           0.0|                    0|     6.93|    2021-08-19|[0.57387151449309...|\n",
       "|6a84c3cf-612a-457...| 15549624934| 130.3505283105634|           0.0|                    2|     2.76|    2021-08-20|[-0.1654801171818...|\n",
       "|a1ff2d13-c888-469...| 79417999332|132.70580024651548|           0.0|                    1|     4.95|    2021-08-21|[0.68120365907528...|\n",
       "|ccdb41fa-a5ab-472...| 64203420245|3.0641677344299336|           0.0|                    2|     2.86|    2021-08-21|[0.60148507156068...|\n",
       "|c7acb95f-2cf8-4ae...| 30122382323| 37.72939540011015|           0.0|                    1|     3.36|    2021-08-22|[0.76854023445623...|\n",
       "+--------------------+------------+------------------+--------------+---------------------+---------+--------------+--------------------+"
      ]
     },
     "execution_count": 24,
     "metadata": {},
     "output_type": "execute_result"
    }
   ],
   "source": [
    "selected_features = [\"order_id\", \"merchant_abn\", \"dollar_value\", \"merchant_fraud\", \"ordinal_revenue_level\" ,\"take_rate\", \"order_datetime\", \"pca_features\"]\n",
    "impute_merchant_fraud_sdf = merchant_is_fraud_model.select(selected_features)\n",
    "impute_merchant_fraud_sdf.limit(5)"
   ]
  },
  {
   "cell_type": "code",
   "execution_count": 25,
   "id": "e9a568e4-ca15-448e-b8aa-4a21ea589e03",
   "metadata": {},
   "outputs": [
    {
     "name": "stderr",
     "output_type": "stream",
     "text": [
      "                                                                                \r"
     ]
    },
    {
     "data": {
      "text/plain": [
       "14195505"
      ]
     },
     "execution_count": 25,
     "metadata": {},
     "output_type": "execute_result"
    }
   ],
   "source": [
    "impute_merchant_fraud_sdf.count()"
   ]
  },
  {
   "cell_type": "code",
   "execution_count": 26,
   "id": "02e21420-78fe-4969-9d16-6204f5621113",
   "metadata": {},
   "outputs": [
    {
     "data": {
      "text/plain": [
       "13614675"
      ]
     },
     "execution_count": 26,
     "metadata": {},
     "output_type": "execute_result"
    }
   ],
   "source": [
    "impute_merchant_fraud_sdf.filter(F.col(\"take_rate\").isNotNull()).count()"
   ]
  },
  {
   "cell_type": "markdown",
   "id": "3ff6ba5f-724b-4cb4-9df9-6f572e4aac85",
   "metadata": {},
   "source": [
    "As we expected, there are some merchants not existing in transaction dataset, we will remove those instances."
   ]
  },
  {
   "cell_type": "code",
   "execution_count": 27,
   "id": "0fdf7ecc-86ae-4d3a-96d8-ac0028e90242",
   "metadata": {},
   "outputs": [],
   "source": [
    "impute_merchant_fraud_sdf = impute_merchant_fraud_sdf.filter(F.col(\"take_rate\").isNotNull())"
   ]
  },
  {
   "cell_type": "markdown",
   "id": "d04682bc-4a30-4a3d-8425-9d83d98513ab",
   "metadata": {},
   "source": [
    "Let's check the number of instances with non-missing fraud probability."
   ]
  },
  {
   "cell_type": "code",
   "execution_count": 28,
   "id": "d22f2caf-d64b-4bf2-bd7b-9c2d4d77b04d",
   "metadata": {},
   "outputs": [
    {
     "data": {
      "text/plain": [
       "4003"
      ]
     },
     "execution_count": 28,
     "metadata": {},
     "output_type": "execute_result"
    }
   ],
   "source": [
    "impute_merchant_fraud_sdf.filter(F.col('merchant_fraud') > 0).count()"
   ]
  },
  {
   "cell_type": "markdown",
   "id": "8dcba3a1-bcb6-4fde-af3c-5f75a5dca405",
   "metadata": {},
   "source": [
    "We would like to use these instances to build a imputation model for the remaining null values."
   ]
  },
  {
   "cell_type": "code",
   "execution_count": 29,
   "id": "8ac87b88-d55b-4a08-a875-c0ab7c3e5f02",
   "metadata": {},
   "outputs": [],
   "source": [
    "model_df = impute_merchant_fraud_sdf.filter(F.col('merchant_fraud') > 0)"
   ]
  },
  {
   "cell_type": "code",
   "execution_count": 30,
   "id": "a0cfa91c-8628-41e3-a329-d9e56a2ad1e2",
   "metadata": {},
   "outputs": [
    {
     "name": "stderr",
     "output_type": "stream",
     "text": [
      "                                                                                \r"
     ]
    },
    {
     "data": {
      "text/plain": [
       "4003"
      ]
     },
     "execution_count": 30,
     "metadata": {},
     "output_type": "execute_result"
    }
   ],
   "source": [
    "final_df = model_df.dropna('any')\n",
    "final_df.count()"
   ]
  },
  {
   "cell_type": "code",
   "execution_count": 31,
   "id": "15c94c26-e4e0-4f28-a512-e9241e1ccce3",
   "metadata": {},
   "outputs": [
    {
     "name": "stderr",
     "output_type": "stream",
     "text": [
      "                                                                                \r"
     ]
    },
    {
     "data": {
      "text/html": [
       "<table border='1'>\n",
       "<tr><th>order_id</th><th>merchant_abn</th><th>dollar_value</th><th>merchant_fraud</th><th>ordinal_revenue_level</th><th>take_rate</th><th>order_datetime</th><th>pca_features</th></tr>\n",
       "<tr><td>22dc7041-b0ad-481...</td><td>90568944804</td><td>337.1027629208633</td><td>33.172494688960434</td><td>1</td><td>4.1</td><td>2021-11-29</td><td>[0.60148507156068...</td></tr>\n",
       "<tr><td>9c80632c-a583-443...</td><td>90568944804</td><td>1426.6980041595448</td><td>28.583030842180733</td><td>1</td><td>4.1</td><td>2021-11-26</td><td>[0.60148507156068...</td></tr>\n",
       "<tr><td>8b77c209-aa0b-432...</td><td>90568944804</td><td>947.4542779688253</td><td>28.583030842180733</td><td>1</td><td>4.1</td><td>2021-11-26</td><td>[0.60148507156068...</td></tr>\n",
       "<tr><td>ce843f16-f672-482...</td><td>90568944804</td><td>2754.306049659226</td><td>33.172494688960434</td><td>1</td><td>4.1</td><td>2021-11-29</td><td>[0.60148507156068...</td></tr>\n",
       "<tr><td>1351655e-d6e3-48f...</td><td>90568944804</td><td>785.5357027024718</td><td>30.41342923227757</td><td>1</td><td>4.1</td><td>2021-11-28</td><td>[0.60148507156068...</td></tr>\n",
       "</table>\n"
      ],
      "text/plain": [
       "+--------------------+------------+------------------+------------------+---------------------+---------+--------------+--------------------+\n",
       "|            order_id|merchant_abn|      dollar_value|    merchant_fraud|ordinal_revenue_level|take_rate|order_datetime|        pca_features|\n",
       "+--------------------+------------+------------------+------------------+---------------------+---------+--------------+--------------------+\n",
       "|22dc7041-b0ad-481...| 90568944804| 337.1027629208633|33.172494688960434|                    1|      4.1|    2021-11-29|[0.60148507156068...|\n",
       "|9c80632c-a583-443...| 90568944804|1426.6980041595448|28.583030842180733|                    1|      4.1|    2021-11-26|[0.60148507156068...|\n",
       "|8b77c209-aa0b-432...| 90568944804| 947.4542779688253|28.583030842180733|                    1|      4.1|    2021-11-26|[0.60148507156068...|\n",
       "|ce843f16-f672-482...| 90568944804| 2754.306049659226|33.172494688960434|                    1|      4.1|    2021-11-29|[0.60148507156068...|\n",
       "|1351655e-d6e3-48f...| 90568944804| 785.5357027024718| 30.41342923227757|                    1|      4.1|    2021-11-28|[0.60148507156068...|\n",
       "+--------------------+------------+------------------+------------------+---------------------+---------+--------------+--------------------+"
      ]
     },
     "execution_count": 31,
     "metadata": {},
     "output_type": "execute_result"
    }
   ],
   "source": [
    "final_df.limit(5)"
   ]
  },
  {
   "cell_type": "code",
   "execution_count": 32,
   "id": "f9265549-2afa-4441-bbba-97be75c922b6",
   "metadata": {},
   "outputs": [
    {
     "name": "stderr",
     "output_type": "stream",
     "text": [
      "                                                                                \r"
     ]
    }
   ],
   "source": [
    "# Save data to file\n",
    "final_df.write.mode('overwrite').parquet('../data/curated/modelling/')"
   ]
  },
  {
   "cell_type": "code",
   "execution_count": 33,
   "id": "b52143df-e4d1-4ae9-b7c4-4a0806dcde9e",
   "metadata": {},
   "outputs": [],
   "source": [
    "model_sdf = spark.read.parquet('../data/curated/modelling')"
   ]
  },
  {
   "cell_type": "markdown",
   "id": "540334e8-3417-41a8-940b-657113609665",
   "metadata": {},
   "source": [
    "## Train Random Forest regression"
   ]
  },
  {
   "cell_type": "code",
   "execution_count": 34,
   "id": "a123c468-a60a-4667-8083-b0f6e651a039",
   "metadata": {},
   "outputs": [],
   "source": [
    "from pyspark.ml.feature import VectorAssembler\n",
    "from pyspark.ml.regression import RandomForestRegressor\n",
    "from pyspark.ml.evaluation import RegressionEvaluator"
   ]
  },
  {
   "cell_type": "code",
   "execution_count": 35,
   "id": "655f236c-0ffb-42d3-b99a-0c027fe042a6",
   "metadata": {},
   "outputs": [],
   "source": [
    "# Split the data into training and test sets (30% held out for testing)\n",
    "(trainingData, testData) = model_sdf.randomSplit([0.8, 0.2], seed=42)"
   ]
  },
  {
   "cell_type": "code",
   "execution_count": 36,
   "id": "7c9e8c1c-ac74-44ec-9975-9b067b246c7e",
   "metadata": {},
   "outputs": [
    {
     "name": "stdout",
     "output_type": "stream",
     "text": [
      "3260\n",
      "743\n"
     ]
    }
   ],
   "source": [
    "print(trainingData.count())\n",
    "print(testData.count())"
   ]
  },
  {
   "cell_type": "markdown",
   "id": "2387b246-deec-4584-a5c1-3a54438c82f0",
   "metadata": {},
   "source": [
    "### Baseline Model\n",
    "\n",
    "The model only predicts the mean value for all test instances."
   ]
  },
  {
   "cell_type": "code",
   "execution_count": 37,
   "id": "2ee70c18-b84b-41b0-859b-29e2d57c86f8",
   "metadata": {},
   "outputs": [
    {
     "name": "stdout",
     "output_type": "stream",
     "text": [
      "Mean Square Error: 28.812977419553015\n",
      "Mean Absolute Error: 2.0507967686080995\n"
     ]
    }
   ],
   "source": [
    "mean_value = testData.agg(F.mean(\"merchant_fraud\")).collect()[0][0]\n",
    "mean_predictions_df = testData.select(\"merchant_fraud\").withColumn(\"prediction\", F.lit(mean_value))\n",
    "\n",
    "mse_evaluator = RegressionEvaluator(labelCol=\"merchant_fraud\", predictionCol=\"prediction\", metricName=\"mse\")\n",
    "mae_evaluator = RegressionEvaluator(labelCol=\"merchant_fraud\", predictionCol=\"prediction\", metricName=\"mae\")\n",
    "\n",
    "# Get the score\n",
    "mse = mse_evaluator.evaluate(mean_predictions_df)\n",
    "mae = mae_evaluator.evaluate(mean_predictions_df)\n",
    "\n",
    "print(f\"Mean Square Error: {mse}\")\n",
    "print(f\"Mean Absolute Error: {mae}\")"
   ]
  },
  {
   "cell_type": "markdown",
   "id": "53420465-c6c8-47d7-9023-95df04d43e39",
   "metadata": {},
   "source": [
    "### Random Forest\n",
    "\n",
    "We aim to create a simple model, therefore, the model hyperparameters were chosen arbitrarily."
   ]
  },
  {
   "cell_type": "code",
   "execution_count": 38,
   "id": "fa4caf3c-eca9-4b37-bf85-febf7b6c628a",
   "metadata": {},
   "outputs": [
    {
     "data": {
      "text/plain": [
       "([Row(features=DenseVector([38.746, 0.0, 6.64, -0.1655, 0.0143, -0.322, 0.2051, -0.3855, -0.0532, 0.3222, -0.5522, 0.2012, 0.2745, 0.0307, 0.0785])),\n",
       "  Row(features=DenseVector([487.0467, 1.0, 3.49, -0.2525, 0.2775, 0.6791, 0.7797, -0.0343, -0.4915, 0.256, 0.4401, -1.0545, -0.4485, 0.1911, 1.167])),\n",
       "  Row(features=DenseVector([260.1799, 0.0, 6.64, -0.1655, 0.0143, -0.322, 0.2051, -0.3855, -0.0532, 0.3222, -0.5522, 0.2012, 0.2745, 0.0307, 0.0785])),\n",
       "  Row(features=DenseVector([128.5033, 2.0, 2.73, -0.6054, 0.0271, -0.412, -0.1978, 1.4762, 0.1491, -0.0966, 0.1782, 0.4036, 0.0766, 1.5563, 0.002])),\n",
       "  Row(features=DenseVector([168.223, 1.0, 4.8, 0.6125, 2.529, 0.9421, -0.0103, 0.1644, -0.5881, 0.2788, 0.062, 0.6116, -0.1987, -0.0344, -0.3314]))],\n",
       " [Row(merchant_fraud=28.36052168812278),\n",
       "  Row(merchant_fraud=30.024291830924508),\n",
       "  Row(merchant_fraud=28.36052168812278),\n",
       "  Row(merchant_fraud=29.520113582407653),\n",
       "  Row(merchant_fraud=29.13305311007307)])"
      ]
     },
     "execution_count": 38,
     "metadata": {},
     "output_type": "execute_result"
    }
   ],
   "source": [
    "features = 'features'\n",
    "input_cols = trainingData.drop('merchant_fraud').drop('order_id').drop('order_datetime').drop('merchant_abn').columns\n",
    "\n",
    "assembler = VectorAssembler(\n",
    "    # which column to combine\n",
    "    inputCols=input_cols, \n",
    "    # How should the combined columns be named\n",
    "    outputCol=features\n",
    ")\n",
    "\n",
    "final_model_sdf = assembler.transform(trainingData)\n",
    "\n",
    "# Display the features and targets for our model\n",
    "final_model_sdf.select('features').head(5), final_model_sdf.select('merchant_fraud').head(5)"
   ]
  },
  {
   "cell_type": "code",
   "execution_count": 39,
   "id": "92058f50-ea91-4ced-87b8-24e14a35fdf5",
   "metadata": {},
   "outputs": [],
   "source": [
    "model = RandomForestRegressor(\n",
    "    featuresCol='features', \n",
    "    labelCol='merchant_fraud',\n",
    "    numTrees=5, \n",
    "    maxDepth=5,\n",
    "    seed=42\n",
    ").fit(final_model_sdf)"
   ]
  },
  {
   "cell_type": "markdown",
   "id": "46171939-ce99-4fbe-9906-6f5f7a1ecfd1",
   "metadata": {},
   "source": [
    "- Make predictions."
   ]
  },
  {
   "cell_type": "code",
   "execution_count": 40,
   "id": "f6da768b-3ebc-4aec-b339-f10640406185",
   "metadata": {},
   "outputs": [],
   "source": [
    "# preprocess for predictions\n",
    "predict_test = testData.select(*input_cols)\n",
    "\n",
    "assembler = VectorAssembler(\n",
    "    inputCols=input_cols, \n",
    "    outputCol=features\n",
    ")\n",
    "\n",
    "predict_sdf = assembler.transform(predict_test.dropna('any')).select(features)"
   ]
  },
  {
   "cell_type": "code",
   "execution_count": 41,
   "id": "d0b57892-ee41-4140-84f2-82147383c4b2",
   "metadata": {},
   "outputs": [],
   "source": [
    "predictions = model.transform(predict_sdf)"
   ]
  },
  {
   "cell_type": "markdown",
   "id": "2411fa77-cc91-4059-ad72-63b3ecdf24d7",
   "metadata": {},
   "source": [
    "- Evaluate the predictions."
   ]
  },
  {
   "cell_type": "code",
   "execution_count": 42,
   "id": "3be3f443-d6da-4b66-a9dc-b57b658856ec",
   "metadata": {},
   "outputs": [],
   "source": [
    "predictions_id = predictions.withColumn(\"id\", monotonically_increasing_id())\n",
    "testData_id = testData.withColumn(\"id\", monotonically_increasing_id())\n",
    "result_sdf = predictions_id.join(testData_id.select('merchant_fraud', 'id'), on='id', how='inner')\n",
    "result_sdf = result_sdf.drop(\"id\")"
   ]
  },
  {
   "cell_type": "code",
   "execution_count": 43,
   "id": "46da52c3-6474-4177-b78a-ff1c953d3139",
   "metadata": {},
   "outputs": [
    {
     "name": "stdout",
     "output_type": "stream",
     "text": [
      "Mean Square Error: 13.748140859208299\n",
      "Mean Absolute Error: 1.1435894460496325\n"
     ]
    }
   ],
   "source": [
    "mse_evaluator = RegressionEvaluator(labelCol=\"merchant_fraud\", predictionCol=\"prediction\", metricName=\"mse\")\n",
    "mae_evaluator = RegressionEvaluator(labelCol=\"merchant_fraud\", predictionCol=\"prediction\", metricName=\"mae\")\n",
    "\n",
    "# Get the score\n",
    "mse = mse_evaluator.evaluate(result_sdf)\n",
    "mae = mae_evaluator.evaluate(result_sdf)\n",
    "\n",
    "print(f\"Mean Square Error: {mse}\")\n",
    "print(f\"Mean Absolute Error: {mae}\")\n"
   ]
  },
  {
   "cell_type": "code",
   "execution_count": 44,
   "id": "294bc7b0-daa1-4fa8-a376-99cb8db5bbf2",
   "metadata": {},
   "outputs": [
    {
     "data": {
      "text/html": [
       "<table border='1'>\n",
       "<tr><th>features</th><th>prediction</th><th>merchant_fraud</th></tr>\n",
       "<tr><td>[265.368055765011...</td><td>29.601188994533352</td><td>29.555244690425017</td></tr>\n",
       "<tr><td>[4774.14498387908...</td><td>31.629440282202676</td><td>31.537398474248477</td></tr>\n",
       "<tr><td>[224.705278499361...</td><td>28.95650134866877</td><td>28.1008562280967</td></tr>\n",
       "<tr><td>[58.9826434040859...</td><td>28.79422838800745</td><td>28.504479048104585</td></tr>\n",
       "<tr><td>[23497.2634972758...</td><td>34.80496563044315</td><td>30.761664332047506</td></tr>\n",
       "<tr><td>[253.680913792603...</td><td>29.593382029675617</td><td>29.539733207182703</td></tr>\n",
       "<tr><td>[118.317853127597...</td><td>28.81793745102787</td><td>28.36052168812278</td></tr>\n",
       "<tr><td>[3073.72862745050...</td><td>34.80496563044315</td><td>30.761664332047506</td></tr>\n",
       "<tr><td>[89.1832750752898...</td><td>28.81793745102787</td><td>28.33737019623005</td></tr>\n",
       "<tr><td>[455.548431600914...</td><td>29.601188994533352</td><td>27.58235777292768</td></tr>\n",
       "</table>\n"
      ],
      "text/plain": [
       "+--------------------+------------------+------------------+\n",
       "|            features|        prediction|    merchant_fraud|\n",
       "+--------------------+------------------+------------------+\n",
       "|[265.368055765011...|29.601188994533352|29.555244690425017|\n",
       "|[4774.14498387908...|31.629440282202676|31.537398474248477|\n",
       "|[224.705278499361...| 28.95650134866877|  28.1008562280967|\n",
       "|[58.9826434040859...| 28.79422838800745|28.504479048104585|\n",
       "|[23497.2634972758...| 34.80496563044315|30.761664332047506|\n",
       "|[253.680913792603...|29.593382029675617|29.539733207182703|\n",
       "|[118.317853127597...| 28.81793745102787| 28.36052168812278|\n",
       "|[3073.72862745050...| 34.80496563044315|30.761664332047506|\n",
       "|[89.1832750752898...| 28.81793745102787| 28.33737019623005|\n",
       "|[455.548431600914...|29.601188994533352| 27.58235777292768|\n",
       "+--------------------+------------------+------------------+"
      ]
     },
     "execution_count": 44,
     "metadata": {},
     "output_type": "execute_result"
    }
   ],
   "source": [
    "result_sdf.limit(10)"
   ]
  },
  {
   "cell_type": "code",
   "execution_count": 45,
   "id": "365b012b-7526-4766-9cd2-ff53d5435572",
   "metadata": {},
   "outputs": [
    {
     "data": {
      "text/plain": [
       "<matplotlib.collections.PathCollection at 0x7f6856c85a80>"
      ]
     },
     "execution_count": 45,
     "metadata": {},
     "output_type": "execute_result"
    },
    {
     "data": {
      "image/png": "[encoded data removed]",
      "text/plain": [
       "<Figure size 640x480 with 1 Axes>"
      ]
     },
     "metadata": {},
     "output_type": "display_data"
    }
   ],
   "source": [
    "result_pd = result_sdf.select(\"prediction\", \"merchant_fraud\").toPandas()\n",
    "plt.scatter(result_pd.merchant_fraud, result_pd.prediction)"
   ]
  },
  {
   "cell_type": "markdown",
   "id": "8be67bf2-6013-4b56-ab84-e6b9a3348dfd",
   "metadata": {},
   "source": [
    "### Imputation for merchant fraud probability"
   ]
  },
  {
   "cell_type": "code",
   "execution_count": 50,
   "id": "6ee5475e-7360-4a6e-9f53-4a0915493252",
   "metadata": {},
   "outputs": [],
   "source": [
    "imputation_data = impute_merchant_fraud_sdf.filter(F.col('merchant_fraud') == 0).drop('merchant_fraud')"
   ]
  },
  {
   "cell_type": "code",
   "execution_count": 51,
   "id": "3c290705-0c25-4702-8661-9fff24068a8a",
   "metadata": {},
   "outputs": [],
   "source": [
    "# preprocess for predictions\n",
    "predict_imputation = imputation_data.select(*input_cols)\n",
    "\n",
    "assembler = VectorAssembler(\n",
    "    inputCols=input_cols, \n",
    "    outputCol=features\n",
    ")\n",
    "\n",
    "imputation_sdf = assembler.transform(predict_imputation).select(features)"
   ]
  },
  {
   "cell_type": "code",
   "execution_count": 52,
   "id": "f3dff9ae-a707-4f4f-858b-586adcfdf3a3",
   "metadata": {},
   "outputs": [],
   "source": [
    "imputed_sdf = model.transform(imputation_sdf)"
   ]
  },
  {
   "cell_type": "code",
   "execution_count": 53,
   "id": "a2a26fd5-147a-42ac-a9fc-1563eb554081",
   "metadata": {},
   "outputs": [
    {
     "name": "stderr",
     "output_type": "stream",
     "text": [
      "                                                                                \r"
     ]
    },
    {
     "data": {
      "text/html": [
       "<table border='1'>\n",
       "<tr><th>summary</th><th>prediction</th></tr>\n",
       "<tr><td>count</td><td>13610672</td></tr>\n",
       "<tr><td>mean</td><td>35.326390525722054</td></tr>\n",
       "<tr><td>stddev</td><td>10.384028596608687</td></tr>\n",
       "<tr><td>min</td><td>28.79422838800745</td></tr>\n",
       "<tr><td>max</td><td>69.09531723361195</td></tr>\n",
       "</table>\n"
      ],
      "text/plain": [
       "+-------+------------------+\n",
       "|summary|        prediction|\n",
       "+-------+------------------+\n",
       "|  count|          13610672|\n",
       "|   mean|35.326390525722054|\n",
       "| stddev|10.384028596608687|\n",
       "|    min| 28.79422838800745|\n",
       "|    max| 69.09531723361195|\n",
       "+-------+------------------+"
      ]
     },
     "execution_count": 53,
     "metadata": {},
     "output_type": "execute_result"
    }
   ],
   "source": [
    "imputed_sdf.describe()"
   ]
  },
  {
   "cell_type": "markdown",
   "id": "20f6b5dd-fabe-404e-95d3-8ae2f1577a03",
   "metadata": {},
   "source": [
    "We merge imputed merchant fraud probability to the main dataset."
   ]
  },
  {
   "cell_type": "code",
   "execution_count": 54,
   "id": "370db298-cb23-4d19-8822-74bd4b1b4b24",
   "metadata": {},
   "outputs": [],
   "source": [
    "imputed_sdf_id = imputed_sdf.select(\"prediction\").withColumnRenamed(\"prediction\", \"merchant_fraud\")\n",
    "imputation_data = imputation_data.select(\"order_id\")"
   ]
  },
  {
   "cell_type": "markdown",
   "id": "210c5673-a3b3-4f04-b1de-f4cf17108e6b",
   "metadata": {},
   "source": [
    "Now, we save imputed merchant fraud probability with the order_id."
   ]
  },
  {
   "cell_type": "code",
   "execution_count": 57,
   "id": "dc502d4a-caa3-4355-b265-bf0d2ad0c590",
   "metadata": {},
   "outputs": [],
   "source": [
    "from pyspark.sql.window import Window"
   ]
  },
  {
   "cell_type": "code",
   "execution_count": 58,
   "id": "f72559b9-bfcd-4115-82d7-97bf0d687b11",
   "metadata": {},
   "outputs": [],
   "source": [
    "imputed_sdf_id = imputed_sdf_id.withColumn(\"idx\", F.monotonically_increasing_id())\n",
    "windowSpec = Window.orderBy(\"idx\")\n",
    "imputed_sdf_id = imputed_sdf_id.withColumn(\"idx\", F.row_number().over(windowSpec))\n",
    "\n",
    "imputation_data = imputation_data.withColumn(\"idx\", F.monotonically_increasing_id())\n",
    "windowSpec = Window.orderBy(\"idx\")\n",
    "imputation_data = imputation_data.withColumn(\"idx\", F.row_number().over(windowSpec))"
   ]
  },
  {
   "cell_type": "code",
   "execution_count": 59,
   "id": "47048d21-e1b9-47f2-9a51-b93b786ae689",
   "metadata": {},
   "outputs": [
    {
     "name": "stderr",
     "output_type": "stream",
     "text": [
      "                                                                                \r"
     ]
    },
    {
     "data": {
      "text/plain": [
       "13610672"
      ]
     },
     "execution_count": 59,
     "metadata": {},
     "output_type": "execute_result"
    }
   ],
   "source": [
    "imputation_data.count()"
   ]
  },
  {
   "cell_type": "code",
   "execution_count": 60,
   "id": "bc9b4c30-8232-475a-bebe-6dea2b2e822a",
   "metadata": {},
   "outputs": [],
   "source": [
    "imputed_sdf_detail = imputation_data.join(imputed_sdf_id, on='idx', how='inner')\n",
    "imputed_sdf_detail = imputed_sdf_detail.drop(\"idx\")"
   ]
  },
  {
   "cell_type": "code",
   "execution_count": 61,
   "id": "fe522fc4-078e-429e-8efe-75ce7253611b",
   "metadata": {},
   "outputs": [],
   "source": [
    "# data with given merchant fraud probability\n",
    "non_missing_merchant_fraud = model_sdf.select([\"order_id\", \"merchant_fraud\"])\n",
    "\n",
    "# Combine two dataset\n",
    "full_merchant_fraud = imputed_sdf_detail.union(non_missing_merchant_fraud)"
   ]
  },
  {
   "cell_type": "code",
   "execution_count": null,
   "id": "24a2c8e7-b296-4f1b-a045-2294bb4882e5",
   "metadata": {},
   "outputs": [],
   "source": [
    "# Save data to file\n",
    "full_merchant_fraud.write.mode('overwrite').parquet('../data/curated/predicted_merchant_fraud/')"
   ]
  },
  {
   "cell_type": "code",
   "execution_count": 4,
   "id": "bd54ac6a-aae4-40f0-9026-1863a497d8ba",
   "metadata": {},
   "outputs": [
    {
     "name": "stderr",
     "output_type": "stream",
     "text": [
      "24/09/29 10:53:20 ERROR Executor: Exception in task 0.0 in stage 0.0 (TID 0)\n",
      "org.apache.spark.SparkException: Exception thrown in awaitResult: \n",
      "\tat org.apache.spark.util.SparkThreadUtils$.awaitResult(SparkThreadUtils.scala:56)\n",
      "\tat org.apache.spark.util.ThreadUtils$.awaitResult(ThreadUtils.scala:310)\n",
      "\tat org.apache.spark.util.ThreadUtils$.parmap(ThreadUtils.scala:387)\n",
      "\tat org.apache.spark.sql.execution.datasources.parquet.ParquetFileFormat$.readParquetFootersInParallel(ParquetFileFormat.scala:443)\n",
      "\tat org.apache.spark.sql.execution.datasources.parquet.ParquetFileFormat$.$anonfun$mergeSchemasInParallel$1(ParquetFileFormat.scala:493)\n",
      "\tat org.apache.spark.sql.execution.datasources.parquet.ParquetFileFormat$.$anonfun$mergeSchemasInParallel$1$adapted(ParquetFileFormat.scala:485)\n",
      "\tat org.apache.spark.sql.execution.datasources.SchemaMergeUtils$.$anonfun$mergeSchemasInParallel$2(SchemaMergeUtils.scala:80)\n",
      "\tat org.apache.spark.rdd.RDD.$anonfun$mapPartitions$2(RDD.scala:858)\n",
      "\tat org.apache.spark.rdd.RDD.$anonfun$mapPartitions$2$adapted(RDD.scala:858)\n",
      "\tat org.apache.spark.rdd.MapPartitionsRDD.compute(MapPartitionsRDD.scala:52)\n",
      "\tat org.apache.spark.rdd.RDD.computeOrReadCheckpoint(RDD.scala:367)\n",
      "\tat org.apache.spark.rdd.RDD.iterator(RDD.scala:331)\n",
      "\tat org.apache.spark.scheduler.ResultTask.runTask(ResultTask.scala:93)\n",
      "\tat org.apache.spark.TaskContext.runTaskWithListeners(TaskContext.scala:166)\n",
      "\tat org.apache.spark.scheduler.Task.run(Task.scala:141)\n",
      "\tat org.apache.spark.executor.Executor$TaskRunner.$anonfun$run$4(Executor.scala:620)\n",
      "\tat org.apache.spark.util.SparkErrorUtils.tryWithSafeFinally(SparkErrorUtils.scala:64)\n",
      "\tat org.apache.spark.util.SparkErrorUtils.tryWithSafeFinally$(SparkErrorUtils.scala:61)\n",
      "\tat org.apache.spark.util.Utils$.tryWithSafeFinally(Utils.scala:94)\n",
      "\tat org.apache.spark.executor.Executor$TaskRunner.run(Executor.scala:623)\n",
      "\tat java.util.concurrent.ThreadPoolExecutor.runWorker(ThreadPoolExecutor.java:1149)\n",
      "\tat java.util.concurrent.ThreadPoolExecutor$Worker.run(ThreadPoolExecutor.java:624)\n",
      "\tat java.lang.Thread.run(Thread.java:750)\n",
      "Caused by: org.apache.spark.SparkException: [CANNOT_READ_FILE_FOOTER] Could not read footer for file: file:/mnt/d/Lam/Unimelb/Third_year/AppliedDS/project-2-group-buy-now-pay-later-industry-project-33/data/curated/predicted_merchant_fraud/part-00000-91a36d86-1b99-4801-ae88-c000804e4e9b-c000.snappy.parquet.crc. Please ensure that the file is in either ORC or Parquet format. If not, please convert it to a valid format. If the file is in the valid format, please check if it is corrupt. If it is, you can choose to either ignore it or fix the corruption.\n",
      "\tat org.apache.spark.sql.errors.QueryExecutionErrors$.cannotReadFooterForFileError(QueryExecutionErrors.scala:1056)\n",
      "\tat org.apache.spark.sql.execution.datasources.parquet.ParquetFileFormat$.$anonfun$readParquetFootersInParallel$1(ParquetFileFormat.scala:456)\n",
      "\tat org.apache.spark.util.ThreadUtils$.$anonfun$parmap$2(ThreadUtils.scala:384)\n",
      "\tat scala.concurrent.Future$.$anonfun$apply$1(Future.scala:659)\n",
      "\tat scala.util.Success.$anonfun$map$1(Try.scala:255)\n",
      "\tat scala.util.Success.map(Try.scala:213)\n",
      "\tat scala.concurrent.Future.$anonfun$map$1(Future.scala:292)\n",
      "\tat scala.concurrent.impl.Promise.liftedTree1$1(Promise.scala:33)\n",
      "\tat scala.concurrent.impl.Promise.$anonfun$transform$1(Promise.scala:33)\n",
      "\tat scala.concurrent.impl.CallbackRunnable.run(Promise.scala:64)\n",
      "\tat java.util.concurrent.ForkJoinTask$RunnableExecuteAction.exec(ForkJoinTask.java:1402)\n",
      "\tat java.util.concurrent.ForkJoinTask.doExec(ForkJoinTask.java:289)\n",
      "\tat java.util.concurrent.ForkJoinPool$WorkQueue.runTask(ForkJoinPool.java:1056)\n",
      "\tat java.util.concurrent.ForkJoinPool.runWorker(ForkJoinPool.java:1692)\n",
      "\tat java.util.concurrent.ForkJoinWorkerThread.run(ForkJoinWorkerThread.java:175)\n",
      "Caused by: java.lang.RuntimeException: file:/mnt/d/Lam/Unimelb/Third_year/AppliedDS/project-2-group-buy-now-pay-later-industry-project-33/data/curated/predicted_merchant_fraud/part-00000-91a36d86-1b99-4801-ae88-c000804e4e9b-c000.snappy.parquet.crc is not a Parquet file. Expected magic number at tail, but found [-125, -33, -127, -56]\n",
      "\tat org.apache.parquet.hadoop.ParquetFileReader.readFooter(ParquetFileReader.java:565)\n",
      "\tat org.apache.parquet.hadoop.ParquetFileReader.<init>(ParquetFileReader.java:799)\n",
      "\tat org.apache.parquet.hadoop.ParquetFileReader.open(ParquetFileReader.java:666)\n",
      "\tat org.apache.spark.sql.execution.datasources.parquet.ParquetFooterReader.readFooter(ParquetFooterReader.java:85)\n",
      "\tat org.apache.spark.sql.execution.datasources.parquet.ParquetFooterReader.readFooter(ParquetFooterReader.java:76)\n",
      "\tat org.apache.spark.sql.execution.datasources.parquet.ParquetFileFormat$.$anonfun$readParquetFootersInParallel$1(ParquetFileFormat.scala:450)\n",
      "\t... 13 more\n",
      "24/09/29 10:53:20 WARN TaskSetManager: Lost task 0.0 in stage 0.0 (TID 0) (172.21.136.1 executor driver): org.apache.spark.SparkException: Exception thrown in awaitResult: \n",
      "\tat org.apache.spark.util.SparkThreadUtils$.awaitResult(SparkThreadUtils.scala:56)\n",
      "\tat org.apache.spark.util.ThreadUtils$.awaitResult(ThreadUtils.scala:310)\n",
      "\tat org.apache.spark.util.ThreadUtils$.parmap(ThreadUtils.scala:387)\n",
      "\tat org.apache.spark.sql.execution.datasources.parquet.ParquetFileFormat$.readParquetFootersInParallel(ParquetFileFormat.scala:443)\n",
      "\tat org.apache.spark.sql.execution.datasources.parquet.ParquetFileFormat$.$anonfun$mergeSchemasInParallel$1(ParquetFileFormat.scala:493)\n",
      "\tat org.apache.spark.sql.execution.datasources.parquet.ParquetFileFormat$.$anonfun$mergeSchemasInParallel$1$adapted(ParquetFileFormat.scala:485)\n",
      "\tat org.apache.spark.sql.execution.datasources.SchemaMergeUtils$.$anonfun$mergeSchemasInParallel$2(SchemaMergeUtils.scala:80)\n",
      "\tat org.apache.spark.rdd.RDD.$anonfun$mapPartitions$2(RDD.scala:858)\n",
      "\tat org.apache.spark.rdd.RDD.$anonfun$mapPartitions$2$adapted(RDD.scala:858)\n",
      "\tat org.apache.spark.rdd.MapPartitionsRDD.compute(MapPartitionsRDD.scala:52)\n",
      "\tat org.apache.spark.rdd.RDD.computeOrReadCheckpoint(RDD.scala:367)\n",
      "\tat org.apache.spark.rdd.RDD.iterator(RDD.scala:331)\n",
      "\tat org.apache.spark.scheduler.ResultTask.runTask(ResultTask.scala:93)\n",
      "\tat org.apache.spark.TaskContext.runTaskWithListeners(TaskContext.scala:166)\n",
      "\tat org.apache.spark.scheduler.Task.run(Task.scala:141)\n",
      "\tat org.apache.spark.executor.Executor$TaskRunner.$anonfun$run$4(Executor.scala:620)\n",
      "\tat org.apache.spark.util.SparkErrorUtils.tryWithSafeFinally(SparkErrorUtils.scala:64)\n",
      "\tat org.apache.spark.util.SparkErrorUtils.tryWithSafeFinally$(SparkErrorUtils.scala:61)\n",
      "\tat org.apache.spark.util.Utils$.tryWithSafeFinally(Utils.scala:94)\n",
      "\tat org.apache.spark.executor.Executor$TaskRunner.run(Executor.scala:623)\n",
      "\tat java.util.concurrent.ThreadPoolExecutor.runWorker(ThreadPoolExecutor.java:1149)\n",
      "\tat java.util.concurrent.ThreadPoolExecutor$Worker.run(ThreadPoolExecutor.java:624)\n",
      "\tat java.lang.Thread.run(Thread.java:750)\n",
      "Caused by: org.apache.spark.SparkException: [CANNOT_READ_FILE_FOOTER] Could not read footer for file: file:/mnt/d/Lam/Unimelb/Third_year/AppliedDS/project-2-group-buy-now-pay-later-industry-project-33/data/curated/predicted_merchant_fraud/part-00000-91a36d86-1b99-4801-ae88-c000804e4e9b-c000.snappy.parquet.crc. Please ensure that the file is in either ORC or Parquet format. If not, please convert it to a valid format. If the file is in the valid format, please check if it is corrupt. If it is, you can choose to either ignore it or fix the corruption.\n",
      "\tat org.apache.spark.sql.errors.QueryExecutionErrors$.cannotReadFooterForFileError(QueryExecutionErrors.scala:1056)\n",
      "\tat org.apache.spark.sql.execution.datasources.parquet.ParquetFileFormat$.$anonfun$readParquetFootersInParallel$1(ParquetFileFormat.scala:456)\n",
      "\tat org.apache.spark.util.ThreadUtils$.$anonfun$parmap$2(ThreadUtils.scala:384)\n",
      "\tat scala.concurrent.Future$.$anonfun$apply$1(Future.scala:659)\n",
      "\tat scala.util.Success.$anonfun$map$1(Try.scala:255)\n",
      "\tat scala.util.Success.map(Try.scala:213)\n",
      "\tat scala.concurrent.Future.$anonfun$map$1(Future.scala:292)\n",
      "\tat scala.concurrent.impl.Promise.liftedTree1$1(Promise.scala:33)\n",
      "\tat scala.concurrent.impl.Promise.$anonfun$transform$1(Promise.scala:33)\n",
      "\tat scala.concurrent.impl.CallbackRunnable.run(Promise.scala:64)\n",
      "\tat java.util.concurrent.ForkJoinTask$RunnableExecuteAction.exec(ForkJoinTask.java:1402)\n",
      "\tat java.util.concurrent.ForkJoinTask.doExec(ForkJoinTask.java:289)\n",
      "\tat java.util.concurrent.ForkJoinPool$WorkQueue.runTask(ForkJoinPool.java:1056)\n",
      "\tat java.util.concurrent.ForkJoinPool.runWorker(ForkJoinPool.java:1692)\n",
      "\tat java.util.concurrent.ForkJoinWorkerThread.run(ForkJoinWorkerThread.java:175)\n",
      "Caused by: java.lang.RuntimeException: file:/mnt/d/Lam/Unimelb/Third_year/AppliedDS/project-2-group-buy-now-pay-later-industry-project-33/data/curated/predicted_merchant_fraud/part-00000-91a36d86-1b99-4801-ae88-c000804e4e9b-c000.snappy.parquet.crc is not a Parquet file. Expected magic number at tail, but found [-125, -33, -127, -56]\n",
      "\tat org.apache.parquet.hadoop.ParquetFileReader.readFooter(ParquetFileReader.java:565)\n",
      "\tat org.apache.parquet.hadoop.ParquetFileReader.<init>(ParquetFileReader.java:799)\n",
      "\tat org.apache.parquet.hadoop.ParquetFileReader.open(ParquetFileReader.java:666)\n",
      "\tat org.apache.spark.sql.execution.datasources.parquet.ParquetFooterReader.readFooter(ParquetFooterReader.java:85)\n",
      "\tat org.apache.spark.sql.execution.datasources.parquet.ParquetFooterReader.readFooter(ParquetFooterReader.java:76)\n",
      "\tat org.apache.spark.sql.execution.datasources.parquet.ParquetFileFormat$.$anonfun$readParquetFootersInParallel$1(ParquetFileFormat.scala:450)\n",
      "\t... 13 more\n",
      "\n",
      "24/09/29 10:53:20 ERROR TaskSetManager: Task 0 in stage 0.0 failed 1 times; aborting job\n"
     ]
    },
    {
     "ename": "Py4JJavaError",
     "evalue": "An error occurred while calling o35.parquet.\n: org.apache.spark.SparkException: Job aborted due to stage failure: Task 0 in stage 0.0 failed 1 times, most recent failure: Lost task 0.0 in stage 0.0 (TID 0) (172.21.136.1 executor driver): org.apache.spark.SparkException: Exception thrown in awaitResult: \n\tat org.apache.spark.util.SparkThreadUtils$.awaitResult(SparkThreadUtils.scala:56)\n\tat org.apache.spark.util.ThreadUtils$.awaitResult(ThreadUtils.scala:310)\n\tat org.apache.spark.util.ThreadUtils$.parmap(ThreadUtils.scala:387)\n\tat org.apache.spark.sql.execution.datasources.parquet.ParquetFileFormat$.readParquetFootersInParallel(ParquetFileFormat.scala:443)\n\tat org.apache.spark.sql.execution.datasources.parquet.ParquetFileFormat$.$anonfun$mergeSchemasInParallel$1(ParquetFileFormat.scala:493)\n\tat org.apache.spark.sql.execution.datasources.parquet.ParquetFileFormat$.$anonfun$mergeSchemasInParallel$1$adapted(ParquetFileFormat.scala:485)\n\tat org.apache.spark.sql.execution.datasources.SchemaMergeUtils$.$anonfun$mergeSchemasInParallel$2(SchemaMergeUtils.scala:80)\n\tat org.apache.spark.rdd.RDD.$anonfun$mapPartitions$2(RDD.scala:858)\n\tat org.apache.spark.rdd.RDD.$anonfun$mapPartitions$2$adapted(RDD.scala:858)\n\tat org.apache.spark.rdd.MapPartitionsRDD.compute(MapPartitionsRDD.scala:52)\n\tat org.apache.spark.rdd.RDD.computeOrReadCheckpoint(RDD.scala:367)\n\tat org.apache.spark.rdd.RDD.iterator(RDD.scala:331)\n\tat org.apache.spark.scheduler.ResultTask.runTask(ResultTask.scala:93)\n\tat org.apache.spark.TaskContext.runTaskWithListeners(TaskContext.scala:166)\n\tat org.apache.spark.scheduler.Task.run(Task.scala:141)\n\tat org.apache.spark.executor.Executor$TaskRunner.$anonfun$run$4(Executor.scala:620)\n\tat org.apache.spark.util.SparkErrorUtils.tryWithSafeFinally(SparkErrorUtils.scala:64)\n\tat org.apache.spark.util.SparkErrorUtils.tryWithSafeFinally$(SparkErrorUtils.scala:61)\n\tat org.apache.spark.util.Utils$.tryWithSafeFinally(Utils.scala:94)\n\tat org.apache.spark.executor.Executor$TaskRunner.run(Executor.scala:623)\n\tat java.util.concurrent.ThreadPoolExecutor.runWorker(ThreadPoolExecutor.java:1149)\n\tat java.util.concurrent.ThreadPoolExecutor$Worker.run(ThreadPoolExecutor.java:624)\n\tat java.lang.Thread.run(Thread.java:750)\nCaused by: org.apache.spark.SparkException: [CANNOT_READ_FILE_FOOTER] Could not read footer for file: file:/mnt/d/Lam/Unimelb/Third_year/AppliedDS/project-2-group-buy-now-pay-later-industry-project-33/data/curated/predicted_merchant_fraud/part-00000-91a36d86-1b99-4801-ae88-c000804e4e9b-c000.snappy.parquet.crc. Please ensure that the file is in either ORC or Parquet format. If not, please convert it to a valid format. If the file is in the valid format, please check if it is corrupt. If it is, you can choose to either ignore it or fix the corruption.\n\tat org.apache.spark.sql.errors.QueryExecutionErrors$.cannotReadFooterForFileError(QueryExecutionErrors.scala:1056)\n\tat org.apache.spark.sql.execution.datasources.parquet.ParquetFileFormat$.$anonfun$readParquetFootersInParallel$1(ParquetFileFormat.scala:456)\n\tat org.apache.spark.util.ThreadUtils$.$anonfun$parmap$2(ThreadUtils.scala:384)\n\tat scala.concurrent.Future$.$anonfun$apply$1(Future.scala:659)\n\tat scala.util.Success.$anonfun$map$1(Try.scala:255)\n\tat scala.util.Success.map(Try.scala:213)\n\tat scala.concurrent.Future.$anonfun$map$1(Future.scala:292)\n\tat scala.concurrent.impl.Promise.liftedTree1$1(Promise.scala:33)\n\tat scala.concurrent.impl.Promise.$anonfun$transform$1(Promise.scala:33)\n\tat scala.concurrent.impl.CallbackRunnable.run(Promise.scala:64)\n\tat java.util.concurrent.ForkJoinTask$RunnableExecuteAction.exec(ForkJoinTask.java:1402)\n\tat java.util.concurrent.ForkJoinTask.doExec(ForkJoinTask.java:289)\n\tat java.util.concurrent.ForkJoinPool$WorkQueue.runTask(ForkJoinPool.java:1056)\n\tat java.util.concurrent.ForkJoinPool.runWorker(ForkJoinPool.java:1692)\n\tat java.util.concurrent.ForkJoinWorkerThread.run(ForkJoinWorkerThread.java:175)\nCaused by: java.lang.RuntimeException: file:/mnt/d/Lam/Unimelb/Third_year/AppliedDS/project-2-group-buy-now-pay-later-industry-project-33/data/curated/predicted_merchant_fraud/part-00000-91a36d86-1b99-4801-ae88-c000804e4e9b-c000.snappy.parquet.crc is not a Parquet file. Expected magic number at tail, but found [-125, -33, -127, -56]\n\tat org.apache.parquet.hadoop.ParquetFileReader.readFooter(ParquetFileReader.java:565)\n\tat org.apache.parquet.hadoop.ParquetFileReader.<init>(ParquetFileReader.java:799)\n\tat org.apache.parquet.hadoop.ParquetFileReader.open(ParquetFileReader.java:666)\n\tat org.apache.spark.sql.execution.datasources.parquet.ParquetFooterReader.readFooter(ParquetFooterReader.java:85)\n\tat org.apache.spark.sql.execution.datasources.parquet.ParquetFooterReader.readFooter(ParquetFooterReader.java:76)\n\tat org.apache.spark.sql.execution.datasources.parquet.ParquetFileFormat$.$anonfun$readParquetFootersInParallel$1(ParquetFileFormat.scala:450)\n\t... 13 more\n\nDriver stacktrace:\n\tat org.apache.spark.scheduler.DAGScheduler.failJobAndIndependentStages(DAGScheduler.scala:2856)\n\tat org.apache.spark.scheduler.DAGScheduler.$anonfun$abortStage$2(DAGScheduler.scala:2792)\n\tat org.apache.spark.scheduler.DAGScheduler.$anonfun$abortStage$2$adapted(DAGScheduler.scala:2791)\n\tat scala.collection.mutable.ResizableArray.foreach(ResizableArray.scala:62)\n\tat scala.collection.mutable.ResizableArray.foreach$(ResizableArray.scala:55)\n\tat scala.collection.mutable.ArrayBuffer.foreach(ArrayBuffer.scala:49)\n\tat org.apache.spark.scheduler.DAGScheduler.abortStage(DAGScheduler.scala:2791)\n\tat org.apache.spark.scheduler.DAGScheduler.$anonfun$handleTaskSetFailed$1(DAGScheduler.scala:1247)\n\tat org.apache.spark.scheduler.DAGScheduler.$anonfun$handleTaskSetFailed$1$adapted(DAGScheduler.scala:1247)\n\tat scala.Option.foreach(Option.scala:407)\n\tat org.apache.spark.scheduler.DAGScheduler.handleTaskSetFailed(DAGScheduler.scala:1247)\n\tat org.apache.spark.scheduler.DAGSchedulerEventProcessLoop.doOnReceive(DAGScheduler.scala:3060)\n\tat org.apache.spark.scheduler.DAGSchedulerEventProcessLoop.onReceive(DAGScheduler.scala:2994)\n\tat org.apache.spark.scheduler.DAGSchedulerEventProcessLoop.onReceive(DAGScheduler.scala:2983)\n\tat org.apache.spark.util.EventLoop$$anon$1.run(EventLoop.scala:49)\n\tat org.apache.spark.scheduler.DAGScheduler.runJob(DAGScheduler.scala:989)\n\tat org.apache.spark.SparkContext.runJob(SparkContext.scala:2398)\n\tat org.apache.spark.SparkContext.runJob(SparkContext.scala:2419)\n\tat org.apache.spark.SparkContext.runJob(SparkContext.scala:2438)\n\tat org.apache.spark.SparkContext.runJob(SparkContext.scala:2463)\n\tat org.apache.spark.rdd.RDD.$anonfun$collect$1(RDD.scala:1049)\n\tat org.apache.spark.rdd.RDDOperationScope$.withScope(RDDOperationScope.scala:151)\n\tat org.apache.spark.rdd.RDDOperationScope$.withScope(RDDOperationScope.scala:112)\n\tat org.apache.spark.rdd.RDD.withScope(RDD.scala:410)\n\tat org.apache.spark.rdd.RDD.collect(RDD.scala:1048)\n\tat org.apache.spark.sql.execution.datasources.SchemaMergeUtils$.mergeSchemasInParallel(SchemaMergeUtils.scala:74)\n\tat org.apache.spark.sql.execution.datasources.parquet.ParquetFileFormat$.mergeSchemasInParallel(ParquetFileFormat.scala:497)\n\tat org.apache.spark.sql.execution.datasources.parquet.ParquetUtils$.inferSchema(ParquetUtils.scala:132)\n\tat org.apache.spark.sql.execution.datasources.parquet.ParquetFileFormat.inferSchema(ParquetFileFormat.scala:79)\n\tat org.apache.spark.sql.execution.datasources.DataSource.$anonfun$getOrInferFileFormatSchema$11(DataSource.scala:208)\n\tat scala.Option.orElse(Option.scala:447)\n\tat org.apache.spark.sql.execution.datasources.DataSource.getOrInferFileFormatSchema(DataSource.scala:205)\n\tat org.apache.spark.sql.execution.datasources.DataSource.resolveRelation(DataSource.scala:407)\n\tat org.apache.spark.sql.DataFrameReader.loadV1Source(DataFrameReader.scala:229)\n\tat org.apache.spark.sql.DataFrameReader.$anonfun$load$2(DataFrameReader.scala:211)\n\tat scala.Option.getOrElse(Option.scala:189)\n\tat org.apache.spark.sql.DataFrameReader.load(DataFrameReader.scala:211)\n\tat org.apache.spark.sql.DataFrameReader.parquet(DataFrameReader.scala:563)\n\tat sun.reflect.NativeMethodAccessorImpl.invoke0(Native Method)\n\tat sun.reflect.NativeMethodAccessorImpl.invoke(NativeMethodAccessorImpl.java:62)\n\tat sun.reflect.DelegatingMethodAccessorImpl.invoke(DelegatingMethodAccessorImpl.java:43)\n\tat java.lang.reflect.Method.invoke(Method.java:498)\n\tat py4j.reflection.MethodInvoker.invoke(MethodInvoker.java:244)\n\tat py4j.reflection.ReflectionEngine.invoke(ReflectionEngine.java:374)\n\tat py4j.Gateway.invoke(Gateway.java:282)\n\tat py4j.commands.AbstractCommand.invokeMethod(AbstractCommand.java:132)\n\tat py4j.commands.CallCommand.execute(CallCommand.java:79)\n\tat py4j.ClientServerConnection.waitForCommands(ClientServerConnection.java:182)\n\tat py4j.ClientServerConnection.run(ClientServerConnection.java:106)\n\tat java.lang.Thread.run(Thread.java:750)\nCaused by: org.apache.spark.SparkException: Exception thrown in awaitResult: \n\tat org.apache.spark.util.SparkThreadUtils$.awaitResult(SparkThreadUtils.scala:56)\n\tat org.apache.spark.util.ThreadUtils$.awaitResult(ThreadUtils.scala:310)\n\tat org.apache.spark.util.ThreadUtils$.parmap(ThreadUtils.scala:387)\n\tat org.apache.spark.sql.execution.datasources.parquet.ParquetFileFormat$.readParquetFootersInParallel(ParquetFileFormat.scala:443)\n\tat org.apache.spark.sql.execution.datasources.parquet.ParquetFileFormat$.$anonfun$mergeSchemasInParallel$1(ParquetFileFormat.scala:493)\n\tat org.apache.spark.sql.execution.datasources.parquet.ParquetFileFormat$.$anonfun$mergeSchemasInParallel$1$adapted(ParquetFileFormat.scala:485)\n\tat org.apache.spark.sql.execution.datasources.SchemaMergeUtils$.$anonfun$mergeSchemasInParallel$2(SchemaMergeUtils.scala:80)\n\tat org.apache.spark.rdd.RDD.$anonfun$mapPartitions$2(RDD.scala:858)\n\tat org.apache.spark.rdd.RDD.$anonfun$mapPartitions$2$adapted(RDD.scala:858)\n\tat org.apache.spark.rdd.MapPartitionsRDD.compute(MapPartitionsRDD.scala:52)\n\tat org.apache.spark.rdd.RDD.computeOrReadCheckpoint(RDD.scala:367)\n\tat org.apache.spark.rdd.RDD.iterator(RDD.scala:331)\n\tat org.apache.spark.scheduler.ResultTask.runTask(ResultTask.scala:93)\n\tat org.apache.spark.TaskContext.runTaskWithListeners(TaskContext.scala:166)\n\tat org.apache.spark.scheduler.Task.run(Task.scala:141)\n\tat org.apache.spark.executor.Executor$TaskRunner.$anonfun$run$4(Executor.scala:620)\n\tat org.apache.spark.util.SparkErrorUtils.tryWithSafeFinally(SparkErrorUtils.scala:64)\n\tat org.apache.spark.util.SparkErrorUtils.tryWithSafeFinally$(SparkErrorUtils.scala:61)\n\tat org.apache.spark.util.Utils$.tryWithSafeFinally(Utils.scala:94)\n\tat org.apache.spark.executor.Executor$TaskRunner.run(Executor.scala:623)\n\tat java.util.concurrent.ThreadPoolExecutor.runWorker(ThreadPoolExecutor.java:1149)\n\tat java.util.concurrent.ThreadPoolExecutor$Worker.run(ThreadPoolExecutor.java:624)\n\t... 1 more\nCaused by: org.apache.spark.SparkException: [CANNOT_READ_FILE_FOOTER] Could not read footer for file: file:/mnt/d/Lam/Unimelb/Third_year/AppliedDS/project-2-group-buy-now-pay-later-industry-project-33/data/curated/predicted_merchant_fraud/part-00000-91a36d86-1b99-4801-ae88-c000804e4e9b-c000.snappy.parquet.crc. Please ensure that the file is in either ORC or Parquet format. If not, please convert it to a valid format. If the file is in the valid format, please check if it is corrupt. If it is, you can choose to either ignore it or fix the corruption.\n\tat org.apache.spark.sql.errors.QueryExecutionErrors$.cannotReadFooterForFileError(QueryExecutionErrors.scala:1056)\n\tat org.apache.spark.sql.execution.datasources.parquet.ParquetFileFormat$.$anonfun$readParquetFootersInParallel$1(ParquetFileFormat.scala:456)\n\tat org.apache.spark.util.ThreadUtils$.$anonfun$parmap$2(ThreadUtils.scala:384)\n\tat scala.concurrent.Future$.$anonfun$apply$1(Future.scala:659)\n\tat scala.util.Success.$anonfun$map$1(Try.scala:255)\n\tat scala.util.Success.map(Try.scala:213)\n\tat scala.concurrent.Future.$anonfun$map$1(Future.scala:292)\n\tat scala.concurrent.impl.Promise.liftedTree1$1(Promise.scala:33)\n\tat scala.concurrent.impl.Promise.$anonfun$transform$1(Promise.scala:33)\n\tat scala.concurrent.impl.CallbackRunnable.run(Promise.scala:64)\n\tat java.util.concurrent.ForkJoinTask$RunnableExecuteAction.exec(ForkJoinTask.java:1402)\n\tat java.util.concurrent.ForkJoinTask.doExec(ForkJoinTask.java:289)\n\tat java.util.concurrent.ForkJoinPool$WorkQueue.runTask(ForkJoinPool.java:1056)\n\tat java.util.concurrent.ForkJoinPool.runWorker(ForkJoinPool.java:1692)\n\tat java.util.concurrent.ForkJoinWorkerThread.run(ForkJoinWorkerThread.java:175)\nCaused by: java.lang.RuntimeException: file:/mnt/d/Lam/Unimelb/Third_year/AppliedDS/project-2-group-buy-now-pay-later-industry-project-33/data/curated/predicted_merchant_fraud/part-00000-91a36d86-1b99-4801-ae88-c000804e4e9b-c000.snappy.parquet.crc is not a Parquet file. Expected magic number at tail, but found [-125, -33, -127, -56]\n\tat org.apache.parquet.hadoop.ParquetFileReader.readFooter(ParquetFileReader.java:565)\n\tat org.apache.parquet.hadoop.ParquetFileReader.<init>(ParquetFileReader.java:799)\n\tat org.apache.parquet.hadoop.ParquetFileReader.open(ParquetFileReader.java:666)\n\tat org.apache.spark.sql.execution.datasources.parquet.ParquetFooterReader.readFooter(ParquetFooterReader.java:85)\n\tat org.apache.spark.sql.execution.datasources.parquet.ParquetFooterReader.readFooter(ParquetFooterReader.java:76)\n\tat org.apache.spark.sql.execution.datasources.parquet.ParquetFileFormat$.$anonfun$readParquetFootersInParallel$1(ParquetFileFormat.scala:450)\n\t... 13 more\n",
     "output_type": "error",
     "traceback": [
      "\u001b[0;31m---------------------------------------------------------------------------\u001b[0m",
      "\u001b[0;31mPy4JJavaError\u001b[0m                             Traceback (most recent call last)",
      "Cell \u001b[0;32mIn[4], line 1\u001b[0m\n\u001b[0;32m----> 1\u001b[0m test \u001b[38;5;241m=\u001b[39m \u001b[43mspark\u001b[49m\u001b[38;5;241;43m.\u001b[39;49m\u001b[43mread\u001b[49m\u001b[38;5;241;43m.\u001b[39;49m\u001b[43mparquet\u001b[49m\u001b[43m(\u001b[49m\u001b[38;5;124;43m'\u001b[39;49m\u001b[38;5;124;43m../data/curated/predicted_merchant_fraud/\u001b[39;49m\u001b[38;5;124;43m'\u001b[39;49m\u001b[43m)\u001b[49m\n",
      "File \u001b[0;32m~/.local/lib/python3.10/site-packages/pyspark/sql/readwriter.py:544\u001b[0m, in \u001b[0;36mDataFrameReader.parquet\u001b[0;34m(self, *paths, **options)\u001b[0m\n\u001b[1;32m    533\u001b[0m int96RebaseMode \u001b[38;5;241m=\u001b[39m options\u001b[38;5;241m.\u001b[39mget(\u001b[38;5;124m\"\u001b[39m\u001b[38;5;124mint96RebaseMode\u001b[39m\u001b[38;5;124m\"\u001b[39m, \u001b[38;5;28;01mNone\u001b[39;00m)\n\u001b[1;32m    534\u001b[0m \u001b[38;5;28mself\u001b[39m\u001b[38;5;241m.\u001b[39m_set_opts(\n\u001b[1;32m    535\u001b[0m     mergeSchema\u001b[38;5;241m=\u001b[39mmergeSchema,\n\u001b[1;32m    536\u001b[0m     pathGlobFilter\u001b[38;5;241m=\u001b[39mpathGlobFilter,\n\u001b[0;32m   (...)\u001b[0m\n\u001b[1;32m    541\u001b[0m     int96RebaseMode\u001b[38;5;241m=\u001b[39mint96RebaseMode,\n\u001b[1;32m    542\u001b[0m )\n\u001b[0;32m--> 544\u001b[0m \u001b[38;5;28;01mreturn\u001b[39;00m \u001b[38;5;28mself\u001b[39m\u001b[38;5;241m.\u001b[39m_df(\u001b[38;5;28;43mself\u001b[39;49m\u001b[38;5;241;43m.\u001b[39;49m\u001b[43m_jreader\u001b[49m\u001b[38;5;241;43m.\u001b[39;49m\u001b[43mparquet\u001b[49m\u001b[43m(\u001b[49m\u001b[43m_to_seq\u001b[49m\u001b[43m(\u001b[49m\u001b[38;5;28;43mself\u001b[39;49m\u001b[38;5;241;43m.\u001b[39;49m\u001b[43m_spark\u001b[49m\u001b[38;5;241;43m.\u001b[39;49m\u001b[43m_sc\u001b[49m\u001b[43m,\u001b[49m\u001b[43m \u001b[49m\u001b[43mpaths\u001b[49m\u001b[43m)\u001b[49m\u001b[43m)\u001b[49m)\n",
      "File \u001b[0;32m~/.local/lib/python3.10/site-packages/py4j/java_gateway.py:1322\u001b[0m, in \u001b[0;36mJavaMember.__call__\u001b[0;34m(self, *args)\u001b[0m\n\u001b[1;32m   1316\u001b[0m command \u001b[38;5;241m=\u001b[39m proto\u001b[38;5;241m.\u001b[39mCALL_COMMAND_NAME \u001b[38;5;241m+\u001b[39m\\\n\u001b[1;32m   1317\u001b[0m     \u001b[38;5;28mself\u001b[39m\u001b[38;5;241m.\u001b[39mcommand_header \u001b[38;5;241m+\u001b[39m\\\n\u001b[1;32m   1318\u001b[0m     args_command \u001b[38;5;241m+\u001b[39m\\\n\u001b[1;32m   1319\u001b[0m     proto\u001b[38;5;241m.\u001b[39mEND_COMMAND_PART\n\u001b[1;32m   1321\u001b[0m answer \u001b[38;5;241m=\u001b[39m \u001b[38;5;28mself\u001b[39m\u001b[38;5;241m.\u001b[39mgateway_client\u001b[38;5;241m.\u001b[39msend_command(command)\n\u001b[0;32m-> 1322\u001b[0m return_value \u001b[38;5;241m=\u001b[39m \u001b[43mget_return_value\u001b[49m\u001b[43m(\u001b[49m\n\u001b[1;32m   1323\u001b[0m \u001b[43m    \u001b[49m\u001b[43manswer\u001b[49m\u001b[43m,\u001b[49m\u001b[43m \u001b[49m\u001b[38;5;28;43mself\u001b[39;49m\u001b[38;5;241;43m.\u001b[39;49m\u001b[43mgateway_client\u001b[49m\u001b[43m,\u001b[49m\u001b[43m \u001b[49m\u001b[38;5;28;43mself\u001b[39;49m\u001b[38;5;241;43m.\u001b[39;49m\u001b[43mtarget_id\u001b[49m\u001b[43m,\u001b[49m\u001b[43m \u001b[49m\u001b[38;5;28;43mself\u001b[39;49m\u001b[38;5;241;43m.\u001b[39;49m\u001b[43mname\u001b[49m\u001b[43m)\u001b[49m\n\u001b[1;32m   1325\u001b[0m \u001b[38;5;28;01mfor\u001b[39;00m temp_arg \u001b[38;5;129;01min\u001b[39;00m temp_args:\n\u001b[1;32m   1326\u001b[0m     \u001b[38;5;28;01mif\u001b[39;00m \u001b[38;5;28mhasattr\u001b[39m(temp_arg, \u001b[38;5;124m\"\u001b[39m\u001b[38;5;124m_detach\u001b[39m\u001b[38;5;124m\"\u001b[39m):\n",
      "File \u001b[0;32m~/.local/lib/python3.10/site-packages/pyspark/errors/exceptions/captured.py:179\u001b[0m, in \u001b[0;36mcapture_sql_exception.<locals>.deco\u001b[0;34m(*a, **kw)\u001b[0m\n\u001b[1;32m    177\u001b[0m \u001b[38;5;28;01mdef\u001b[39;00m \u001b[38;5;21mdeco\u001b[39m(\u001b[38;5;241m*\u001b[39ma: Any, \u001b[38;5;241m*\u001b[39m\u001b[38;5;241m*\u001b[39mkw: Any) \u001b[38;5;241m-\u001b[39m\u001b[38;5;241m>\u001b[39m Any:\n\u001b[1;32m    178\u001b[0m     \u001b[38;5;28;01mtry\u001b[39;00m:\n\u001b[0;32m--> 179\u001b[0m         \u001b[38;5;28;01mreturn\u001b[39;00m \u001b[43mf\u001b[49m\u001b[43m(\u001b[49m\u001b[38;5;241;43m*\u001b[39;49m\u001b[43ma\u001b[49m\u001b[43m,\u001b[49m\u001b[43m \u001b[49m\u001b[38;5;241;43m*\u001b[39;49m\u001b[38;5;241;43m*\u001b[39;49m\u001b[43mkw\u001b[49m\u001b[43m)\u001b[49m\n\u001b[1;32m    180\u001b[0m     \u001b[38;5;28;01mexcept\u001b[39;00m Py4JJavaError \u001b[38;5;28;01mas\u001b[39;00m e:\n\u001b[1;32m    181\u001b[0m         converted \u001b[38;5;241m=\u001b[39m convert_exception(e\u001b[38;5;241m.\u001b[39mjava_exception)\n",
      "File \u001b[0;32m~/.local/lib/python3.10/site-packages/py4j/protocol.py:326\u001b[0m, in \u001b[0;36mget_return_value\u001b[0;34m(answer, gateway_client, target_id, name)\u001b[0m\n\u001b[1;32m    324\u001b[0m value \u001b[38;5;241m=\u001b[39m OUTPUT_CONVERTER[\u001b[38;5;28mtype\u001b[39m](answer[\u001b[38;5;241m2\u001b[39m:], gateway_client)\n\u001b[1;32m    325\u001b[0m \u001b[38;5;28;01mif\u001b[39;00m answer[\u001b[38;5;241m1\u001b[39m] \u001b[38;5;241m==\u001b[39m REFERENCE_TYPE:\n\u001b[0;32m--> 326\u001b[0m     \u001b[38;5;28;01mraise\u001b[39;00m Py4JJavaError(\n\u001b[1;32m    327\u001b[0m         \u001b[38;5;124m\"\u001b[39m\u001b[38;5;124mAn error occurred while calling \u001b[39m\u001b[38;5;132;01m{0}\u001b[39;00m\u001b[38;5;132;01m{1}\u001b[39;00m\u001b[38;5;132;01m{2}\u001b[39;00m\u001b[38;5;124m.\u001b[39m\u001b[38;5;130;01m\\n\u001b[39;00m\u001b[38;5;124m\"\u001b[39m\u001b[38;5;241m.\u001b[39m\n\u001b[1;32m    328\u001b[0m         \u001b[38;5;28mformat\u001b[39m(target_id, \u001b[38;5;124m\"\u001b[39m\u001b[38;5;124m.\u001b[39m\u001b[38;5;124m\"\u001b[39m, name), value)\n\u001b[1;32m    329\u001b[0m \u001b[38;5;28;01melse\u001b[39;00m:\n\u001b[1;32m    330\u001b[0m     \u001b[38;5;28;01mraise\u001b[39;00m Py4JError(\n\u001b[1;32m    331\u001b[0m         \u001b[38;5;124m\"\u001b[39m\u001b[38;5;124mAn error occurred while calling \u001b[39m\u001b[38;5;132;01m{0}\u001b[39;00m\u001b[38;5;132;01m{1}\u001b[39;00m\u001b[38;5;132;01m{2}\u001b[39;00m\u001b[38;5;124m. Trace:\u001b[39m\u001b[38;5;130;01m\\n\u001b[39;00m\u001b[38;5;132;01m{3}\u001b[39;00m\u001b[38;5;130;01m\\n\u001b[39;00m\u001b[38;5;124m\"\u001b[39m\u001b[38;5;241m.\u001b[39m\n\u001b[1;32m    332\u001b[0m         \u001b[38;5;28mformat\u001b[39m(target_id, \u001b[38;5;124m\"\u001b[39m\u001b[38;5;124m.\u001b[39m\u001b[38;5;124m\"\u001b[39m, name, value))\n",
      "\u001b[0;31mPy4JJavaError\u001b[0m: An error occurred while calling o35.parquet.\n: org.apache.spark.SparkException: Job aborted due to stage failure: Task 0 in stage 0.0 failed 1 times, most recent failure: Lost task 0.0 in stage 0.0 (TID 0) (172.21.136.1 executor driver): org.apache.spark.SparkException: Exception thrown in awaitResult: \n\tat org.apache.spark.util.SparkThreadUtils$.awaitResult(SparkThreadUtils.scala:56)\n\tat org.apache.spark.util.ThreadUtils$.awaitResult(ThreadUtils.scala:310)\n\tat org.apache.spark.util.ThreadUtils$.parmap(ThreadUtils.scala:387)\n\tat org.apache.spark.sql.execution.datasources.parquet.ParquetFileFormat$.readParquetFootersInParallel(ParquetFileFormat.scala:443)\n\tat org.apache.spark.sql.execution.datasources.parquet.ParquetFileFormat$.$anonfun$mergeSchemasInParallel$1(ParquetFileFormat.scala:493)\n\tat org.apache.spark.sql.execution.datasources.parquet.ParquetFileFormat$.$anonfun$mergeSchemasInParallel$1$adapted(ParquetFileFormat.scala:485)\n\tat org.apache.spark.sql.execution.datasources.SchemaMergeUtils$.$anonfun$mergeSchemasInParallel$2(SchemaMergeUtils.scala:80)\n\tat org.apache.spark.rdd.RDD.$anonfun$mapPartitions$2(RDD.scala:858)\n\tat org.apache.spark.rdd.RDD.$anonfun$mapPartitions$2$adapted(RDD.scala:858)\n\tat org.apache.spark.rdd.MapPartitionsRDD.compute(MapPartitionsRDD.scala:52)\n\tat org.apache.spark.rdd.RDD.computeOrReadCheckpoint(RDD.scala:367)\n\tat org.apache.spark.rdd.RDD.iterator(RDD.scala:331)\n\tat org.apache.spark.scheduler.ResultTask.runTask(ResultTask.scala:93)\n\tat org.apache.spark.TaskContext.runTaskWithListeners(TaskContext.scala:166)\n\tat org.apache.spark.scheduler.Task.run(Task.scala:141)\n\tat org.apache.spark.executor.Executor$TaskRunner.$anonfun$run$4(Executor.scala:620)\n\tat org.apache.spark.util.SparkErrorUtils.tryWithSafeFinally(SparkErrorUtils.scala:64)\n\tat org.apache.spark.util.SparkErrorUtils.tryWithSafeFinally$(SparkErrorUtils.scala:61)\n\tat org.apache.spark.util.Utils$.tryWithSafeFinally(Utils.scala:94)\n\tat org.apache.spark.executor.Executor$TaskRunner.run(Executor.scala:623)\n\tat java.util.concurrent.ThreadPoolExecutor.runWorker(ThreadPoolExecutor.java:1149)\n\tat java.util.concurrent.ThreadPoolExecutor$Worker.run(ThreadPoolExecutor.java:624)\n\tat java.lang.Thread.run(Thread.java:750)\nCaused by: org.apache.spark.SparkException: [CANNOT_READ_FILE_FOOTER] Could not read footer for file: file:/mnt/d/Lam/Unimelb/Third_year/AppliedDS/project-2-group-buy-now-pay-later-industry-project-33/data/curated/predicted_merchant_fraud/part-00000-91a36d86-1b99-4801-ae88-c000804e4e9b-c000.snappy.parquet.crc. Please ensure that the file is in either ORC or Parquet format. If not, please convert it to a valid format. If the file is in the valid format, please check if it is corrupt. If it is, you can choose to either ignore it or fix the corruption.\n\tat org.apache.spark.sql.errors.QueryExecutionErrors$.cannotReadFooterForFileError(QueryExecutionErrors.scala:1056)\n\tat org.apache.spark.sql.execution.datasources.parquet.ParquetFileFormat$.$anonfun$readParquetFootersInParallel$1(ParquetFileFormat.scala:456)\n\tat org.apache.spark.util.ThreadUtils$.$anonfun$parmap$2(ThreadUtils.scala:384)\n\tat scala.concurrent.Future$.$anonfun$apply$1(Future.scala:659)\n\tat scala.util.Success.$anonfun$map$1(Try.scala:255)\n\tat scala.util.Success.map(Try.scala:213)\n\tat scala.concurrent.Future.$anonfun$map$1(Future.scala:292)\n\tat scala.concurrent.impl.Promise.liftedTree1$1(Promise.scala:33)\n\tat scala.concurrent.impl.Promise.$anonfun$transform$1(Promise.scala:33)\n\tat scala.concurrent.impl.CallbackRunnable.run(Promise.scala:64)\n\tat java.util.concurrent.ForkJoinTask$RunnableExecuteAction.exec(ForkJoinTask.java:1402)\n\tat java.util.concurrent.ForkJoinTask.doExec(ForkJoinTask.java:289)\n\tat java.util.concurrent.ForkJoinPool$WorkQueue.runTask(ForkJoinPool.java:1056)\n\tat java.util.concurrent.ForkJoinPool.runWorker(ForkJoinPool.java:1692)\n\tat java.util.concurrent.ForkJoinWorkerThread.run(ForkJoinWorkerThread.java:175)\nCaused by: java.lang.RuntimeException: file:/mnt/d/Lam/Unimelb/Third_year/AppliedDS/project-2-group-buy-now-pay-later-industry-project-33/data/curated/predicted_merchant_fraud/part-00000-91a36d86-1b99-4801-ae88-c000804e4e9b-c000.snappy.parquet.crc is not a Parquet file. Expected magic number at tail, but found [-125, -33, -127, -56]\n\tat org.apache.parquet.hadoop.ParquetFileReader.readFooter(ParquetFileReader.java:565)\n\tat org.apache.parquet.hadoop.ParquetFileReader.<init>(ParquetFileReader.java:799)\n\tat org.apache.parquet.hadoop.ParquetFileReader.open(ParquetFileReader.java:666)\n\tat org.apache.spark.sql.execution.datasources.parquet.ParquetFooterReader.readFooter(ParquetFooterReader.java:85)\n\tat org.apache.spark.sql.execution.datasources.parquet.ParquetFooterReader.readFooter(ParquetFooterReader.java:76)\n\tat org.apache.spark.sql.execution.datasources.parquet.ParquetFileFormat$.$anonfun$readParquetFootersInParallel$1(ParquetFileFormat.scala:450)\n\t... 13 more\n\nDriver stacktrace:\n\tat org.apache.spark.scheduler.DAGScheduler.failJobAndIndependentStages(DAGScheduler.scala:2856)\n\tat org.apache.spark.scheduler.DAGScheduler.$anonfun$abortStage$2(DAGScheduler.scala:2792)\n\tat org.apache.spark.scheduler.DAGScheduler.$anonfun$abortStage$2$adapted(DAGScheduler.scala:2791)\n\tat scala.collection.mutable.ResizableArray.foreach(ResizableArray.scala:62)\n\tat scala.collection.mutable.ResizableArray.foreach$(ResizableArray.scala:55)\n\tat scala.collection.mutable.ArrayBuffer.foreach(ArrayBuffer.scala:49)\n\tat org.apache.spark.scheduler.DAGScheduler.abortStage(DAGScheduler.scala:2791)\n\tat org.apache.spark.scheduler.DAGScheduler.$anonfun$handleTaskSetFailed$1(DAGScheduler.scala:1247)\n\tat org.apache.spark.scheduler.DAGScheduler.$anonfun$handleTaskSetFailed$1$adapted(DAGScheduler.scala:1247)\n\tat scala.Option.foreach(Option.scala:407)\n\tat org.apache.spark.scheduler.DAGScheduler.handleTaskSetFailed(DAGScheduler.scala:1247)\n\tat org.apache.spark.scheduler.DAGSchedulerEventProcessLoop.doOnReceive(DAGScheduler.scala:3060)\n\tat org.apache.spark.scheduler.DAGSchedulerEventProcessLoop.onReceive(DAGScheduler.scala:2994)\n\tat org.apache.spark.scheduler.DAGSchedulerEventProcessLoop.onReceive(DAGScheduler.scala:2983)\n\tat org.apache.spark.util.EventLoop$$anon$1.run(EventLoop.scala:49)\n\tat org.apache.spark.scheduler.DAGScheduler.runJob(DAGScheduler.scala:989)\n\tat org.apache.spark.SparkContext.runJob(SparkContext.scala:2398)\n\tat org.apache.spark.SparkContext.runJob(SparkContext.scala:2419)\n\tat org.apache.spark.SparkContext.runJob(SparkContext.scala:2438)\n\tat org.apache.spark.SparkContext.runJob(SparkContext.scala:2463)\n\tat org.apache.spark.rdd.RDD.$anonfun$collect$1(RDD.scala:1049)\n\tat org.apache.spark.rdd.RDDOperationScope$.withScope(RDDOperationScope.scala:151)\n\tat org.apache.spark.rdd.RDDOperationScope$.withScope(RDDOperationScope.scala:112)\n\tat org.apache.spark.rdd.RDD.withScope(RDD.scala:410)\n\tat org.apache.spark.rdd.RDD.collect(RDD.scala:1048)\n\tat org.apache.spark.sql.execution.datasources.SchemaMergeUtils$.mergeSchemasInParallel(SchemaMergeUtils.scala:74)\n\tat org.apache.spark.sql.execution.datasources.parquet.ParquetFileFormat$.mergeSchemasInParallel(ParquetFileFormat.scala:497)\n\tat org.apache.spark.sql.execution.datasources.parquet.ParquetUtils$.inferSchema(ParquetUtils.scala:132)\n\tat org.apache.spark.sql.execution.datasources.parquet.ParquetFileFormat.inferSchema(ParquetFileFormat.scala:79)\n\tat org.apache.spark.sql.execution.datasources.DataSource.$anonfun$getOrInferFileFormatSchema$11(DataSource.scala:208)\n\tat scala.Option.orElse(Option.scala:447)\n\tat org.apache.spark.sql.execution.datasources.DataSource.getOrInferFileFormatSchema(DataSource.scala:205)\n\tat org.apache.spark.sql.execution.datasources.DataSource.resolveRelation(DataSource.scala:407)\n\tat org.apache.spark.sql.DataFrameReader.loadV1Source(DataFrameReader.scala:229)\n\tat org.apache.spark.sql.DataFrameReader.$anonfun$load$2(DataFrameReader.scala:211)\n\tat scala.Option.getOrElse(Option.scala:189)\n\tat org.apache.spark.sql.DataFrameReader.load(DataFrameReader.scala:211)\n\tat org.apache.spark.sql.DataFrameReader.parquet(DataFrameReader.scala:563)\n\tat sun.reflect.NativeMethodAccessorImpl.invoke0(Native Method)\n\tat sun.reflect.NativeMethodAccessorImpl.invoke(NativeMethodAccessorImpl.java:62)\n\tat sun.reflect.DelegatingMethodAccessorImpl.invoke(DelegatingMethodAccessorImpl.java:43)\n\tat java.lang.reflect.Method.invoke(Method.java:498)\n\tat py4j.reflection.MethodInvoker.invoke(MethodInvoker.java:244)\n\tat py4j.reflection.ReflectionEngine.invoke(ReflectionEngine.java:374)\n\tat py4j.Gateway.invoke(Gateway.java:282)\n\tat py4j.commands.AbstractCommand.invokeMethod(AbstractCommand.java:132)\n\tat py4j.commands.CallCommand.execute(CallCommand.java:79)\n\tat py4j.ClientServerConnection.waitForCommands(ClientServerConnection.java:182)\n\tat py4j.ClientServerConnection.run(ClientServerConnection.java:106)\n\tat java.lang.Thread.run(Thread.java:750)\nCaused by: org.apache.spark.SparkException: Exception thrown in awaitResult: \n\tat org.apache.spark.util.SparkThreadUtils$.awaitResult(SparkThreadUtils.scala:56)\n\tat org.apache.spark.util.ThreadUtils$.awaitResult(ThreadUtils.scala:310)\n\tat org.apache.spark.util.ThreadUtils$.parmap(ThreadUtils.scala:387)\n\tat org.apache.spark.sql.execution.datasources.parquet.ParquetFileFormat$.readParquetFootersInParallel(ParquetFileFormat.scala:443)\n\tat org.apache.spark.sql.execution.datasources.parquet.ParquetFileFormat$.$anonfun$mergeSchemasInParallel$1(ParquetFileFormat.scala:493)\n\tat org.apache.spark.sql.execution.datasources.parquet.ParquetFileFormat$.$anonfun$mergeSchemasInParallel$1$adapted(ParquetFileFormat.scala:485)\n\tat org.apache.spark.sql.execution.datasources.SchemaMergeUtils$.$anonfun$mergeSchemasInParallel$2(SchemaMergeUtils.scala:80)\n\tat org.apache.spark.rdd.RDD.$anonfun$mapPartitions$2(RDD.scala:858)\n\tat org.apache.spark.rdd.RDD.$anonfun$mapPartitions$2$adapted(RDD.scala:858)\n\tat org.apache.spark.rdd.MapPartitionsRDD.compute(MapPartitionsRDD.scala:52)\n\tat org.apache.spark.rdd.RDD.computeOrReadCheckpoint(RDD.scala:367)\n\tat org.apache.spark.rdd.RDD.iterator(RDD.scala:331)\n\tat org.apache.spark.scheduler.ResultTask.runTask(ResultTask.scala:93)\n\tat org.apache.spark.TaskContext.runTaskWithListeners(TaskContext.scala:166)\n\tat org.apache.spark.scheduler.Task.run(Task.scala:141)\n\tat org.apache.spark.executor.Executor$TaskRunner.$anonfun$run$4(Executor.scala:620)\n\tat org.apache.spark.util.SparkErrorUtils.tryWithSafeFinally(SparkErrorUtils.scala:64)\n\tat org.apache.spark.util.SparkErrorUtils.tryWithSafeFinally$(SparkErrorUtils.scala:61)\n\tat org.apache.spark.util.Utils$.tryWithSafeFinally(Utils.scala:94)\n\tat org.apache.spark.executor.Executor$TaskRunner.run(Executor.scala:623)\n\tat java.util.concurrent.ThreadPoolExecutor.runWorker(ThreadPoolExecutor.java:1149)\n\tat java.util.concurrent.ThreadPoolExecutor$Worker.run(ThreadPoolExecutor.java:624)\n\t... 1 more\nCaused by: org.apache.spark.SparkException: [CANNOT_READ_FILE_FOOTER] Could not read footer for file: file:/mnt/d/Lam/Unimelb/Third_year/AppliedDS/project-2-group-buy-now-pay-later-industry-project-33/data/curated/predicted_merchant_fraud/part-00000-91a36d86-1b99-4801-ae88-c000804e4e9b-c000.snappy.parquet.crc. Please ensure that the file is in either ORC or Parquet format. If not, please convert it to a valid format. If the file is in the valid format, please check if it is corrupt. If it is, you can choose to either ignore it or fix the corruption.\n\tat org.apache.spark.sql.errors.QueryExecutionErrors$.cannotReadFooterForFileError(QueryExecutionErrors.scala:1056)\n\tat org.apache.spark.sql.execution.datasources.parquet.ParquetFileFormat$.$anonfun$readParquetFootersInParallel$1(ParquetFileFormat.scala:456)\n\tat org.apache.spark.util.ThreadUtils$.$anonfun$parmap$2(ThreadUtils.scala:384)\n\tat scala.concurrent.Future$.$anonfun$apply$1(Future.scala:659)\n\tat scala.util.Success.$anonfun$map$1(Try.scala:255)\n\tat scala.util.Success.map(Try.scala:213)\n\tat scala.concurrent.Future.$anonfun$map$1(Future.scala:292)\n\tat scala.concurrent.impl.Promise.liftedTree1$1(Promise.scala:33)\n\tat scala.concurrent.impl.Promise.$anonfun$transform$1(Promise.scala:33)\n\tat scala.concurrent.impl.CallbackRunnable.run(Promise.scala:64)\n\tat java.util.concurrent.ForkJoinTask$RunnableExecuteAction.exec(ForkJoinTask.java:1402)\n\tat java.util.concurrent.ForkJoinTask.doExec(ForkJoinTask.java:289)\n\tat java.util.concurrent.ForkJoinPool$WorkQueue.runTask(ForkJoinPool.java:1056)\n\tat java.util.concurrent.ForkJoinPool.runWorker(ForkJoinPool.java:1692)\n\tat java.util.concurrent.ForkJoinWorkerThread.run(ForkJoinWorkerThread.java:175)\nCaused by: java.lang.RuntimeException: file:/mnt/d/Lam/Unimelb/Third_year/AppliedDS/project-2-group-buy-now-pay-later-industry-project-33/data/curated/predicted_merchant_fraud/part-00000-91a36d86-1b99-4801-ae88-c000804e4e9b-c000.snappy.parquet.crc is not a Parquet file. Expected magic number at tail, but found [-125, -33, -127, -56]\n\tat org.apache.parquet.hadoop.ParquetFileReader.readFooter(ParquetFileReader.java:565)\n\tat org.apache.parquet.hadoop.ParquetFileReader.<init>(ParquetFileReader.java:799)\n\tat org.apache.parquet.hadoop.ParquetFileReader.open(ParquetFileReader.java:666)\n\tat org.apache.spark.sql.execution.datasources.parquet.ParquetFooterReader.readFooter(ParquetFooterReader.java:85)\n\tat org.apache.spark.sql.execution.datasources.parquet.ParquetFooterReader.readFooter(ParquetFooterReader.java:76)\n\tat org.apache.spark.sql.execution.datasources.parquet.ParquetFileFormat$.$anonfun$readParquetFootersInParallel$1(ParquetFileFormat.scala:450)\n\t... 13 more\n"
     ]
    }
   ],
   "source": [
    "test = spark.read.parquet('../data/curated/predicted_merchant_fraud/')"
   ]
  },
  {
   "cell_type": "code",
   "execution_count": 49,
   "id": "03d7fd4e-b807-46ff-a059-64fc85bdf726",
   "metadata": {},
   "outputs": [
    {
     "data": {
      "text/plain": [
       "9494690"
      ]
     },
     "execution_count": 49,
     "metadata": {},
     "output_type": "execute_result"
    }
   ],
   "source": [
    "test.count()"
   ]
  },
  {
   "cell_type": "code",
   "execution_count": null,
   "id": "2697cb36-7130-4347-9bda-23d832508180",
   "metadata": {},
   "outputs": [],
   "source": []
  }
 ],
 "metadata": {
  "kernelspec": {
   "display_name": "Python 3 (ipykernel)",
   "language": "python",
   "name": "python3"
  },
  "language_info": {
   "codemirror_mode": {
    "name": "ipython",
    "version": 3
   },
   "file_extension": ".py",
   "mimetype": "text/x-python",
   "name": "python",
   "nbconvert_exporter": "python",
   "pygments_lexer": "ipython3",
   "version": "3.10.12"
  }
 },
 "nbformat": 4,
 "nbformat_minor": 5
}
