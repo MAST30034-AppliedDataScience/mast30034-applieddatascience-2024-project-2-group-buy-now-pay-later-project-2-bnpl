{
 "cells": [
  {
   "cell_type": "code",
   "execution_count": 20,
   "metadata": {},
   "outputs": [],
   "source": [
    "import geopandas as gpd\n",
    "import os\n",
    "os.sys.path.append(\"../\")\n",
    "from scripts.geospatial_analysis import *\n",
    "\n",
    "\n",
    "from pyspark.sql import functions as F, SparkSession"
   ]
  },
  {
   "cell_type": "code",
   "execution_count": 21,
   "metadata": {},
   "outputs": [],
   "source": [
    "# Create a Spark Session\n",
    "spark = (\n",
    "    SparkSession.builder.appName(\"geospatial analysis\")\n",
    "    .config(\"spark.sql.repl.eagerEval.enabled\", True)\n",
    "    .config(\"spark.sql.parquet.cacheMetadata\", \"true\")\n",
    "    .config(\"spark.sql.session.timeZone\", \"Etc/UTC\")\n",
    "    .config(\"spark.driver.memory\", \"4g\")\n",
    "    .config(\"spark.execturo.memory\", \"2g\")\n",
    "    .getOrCreate()\n",
    ")"
   ]
  },
  {
   "cell_type": "code",
   "execution_count": 22,
   "metadata": {},
   "outputs": [],
   "source": [
    "consumer_info = spark.read.parquet('../data/curated/consumer_info.parquet')\n",
    "fraudulent_consumer_rate = spark.read.parquet('../data/curated/consumer_fraud_rate.parquet')"
   ]
  },
  {
   "cell_type": "code",
   "execution_count": 23,
   "metadata": {},
   "outputs": [],
   "source": [
    "# Find info for fraudulent consumer\n",
    "fraudulent_consumer_with_info = consumer_info.join(fraudulent_consumer_rate, on=\"consumer_id\", how=\"inner\")"
   ]
  },
  {
   "cell_type": "code",
   "execution_count": 24,
   "metadata": {},
   "outputs": [
    {
     "name": "stderr",
     "output_type": "stream",
     "text": [
      "                                                                                \r"
     ]
    },
    {
     "data": {
      "text/html": [
       "<table border='1'>\n",
       "<tr><th>state</th><th>count(consumer_id)</th></tr>\n",
       "<tr><td>NT</td><td>7764</td></tr>\n",
       "<tr><td>ACT</td><td>4664</td></tr>\n",
       "<tr><td>SA</td><td>54973</td></tr>\n",
       "<tr><td>TAS</td><td>18878</td></tr>\n",
       "<tr><td>WA</td><td>79146</td></tr>\n",
       "<tr><td>QLD</td><td>72861</td></tr>\n",
       "<tr><td>VIC</td><td>117525</td></tr>\n",
       "<tr><td>NSW</td><td>144188</td></tr>\n",
       "</table>\n"
      ],
      "text/plain": [
       "+-----+------------------+\n",
       "|state|count(consumer_id)|\n",
       "+-----+------------------+\n",
       "|   NT|              7764|\n",
       "|  ACT|              4664|\n",
       "|   SA|             54973|\n",
       "|  TAS|             18878|\n",
       "|   WA|             79146|\n",
       "|  QLD|             72861|\n",
       "|  VIC|            117525|\n",
       "|  NSW|            144188|\n",
       "+-----+------------------+"
      ]
     },
     "execution_count": 24,
     "metadata": {},
     "output_type": "execute_result"
    }
   ],
   "source": [
    "# Number of consumer in each state\n",
    "consumer_info.groupby(\"state\").agg(F.count(\"consumer_id\"))"
   ]
  },
  {
   "cell_type": "code",
   "execution_count": 25,
   "metadata": {},
   "outputs": [
    {
     "data": {
      "text/html": [
       "<table border='1'>\n",
       "<tr><th>state</th><th>count(consumer_id)</th></tr>\n",
       "<tr><td>NT</td><td>480</td></tr>\n",
       "<tr><td>ACT</td><td>313</td></tr>\n",
       "<tr><td>SA</td><td>3926</td></tr>\n",
       "<tr><td>TAS</td><td>1332</td></tr>\n",
       "<tr><td>WA</td><td>5538</td></tr>\n",
       "<tr><td>QLD</td><td>5109</td></tr>\n",
       "<tr><td>VIC</td><td>8129</td></tr>\n",
       "<tr><td>NSW</td><td>10037</td></tr>\n",
       "</table>\n"
      ],
      "text/plain": [
       "+-----+------------------+\n",
       "|state|count(consumer_id)|\n",
       "+-----+------------------+\n",
       "|   NT|               480|\n",
       "|  ACT|               313|\n",
       "|   SA|              3926|\n",
       "|  TAS|              1332|\n",
       "|   WA|              5538|\n",
       "|  QLD|              5109|\n",
       "|  VIC|              8129|\n",
       "|  NSW|             10037|\n",
       "+-----+------------------+"
      ]
     },
     "execution_count": 25,
     "metadata": {},
     "output_type": "execute_result"
    }
   ],
   "source": [
    "# Number of fraudulent consumer in each state\n",
    "fraudulent_consumer_with_info.groupby(\"state\").agg(F.count(\"consumer_id\"))"
   ]
  },
  {
   "cell_type": "code",
   "execution_count": 26,
   "metadata": {},
   "outputs": [
    {
     "data": {
      "text/plain": [
       "34864"
      ]
     },
     "execution_count": 26,
     "metadata": {},
     "output_type": "execute_result"
    }
   ],
   "source": [
    "fraudulent_consumer_with_info.count()\n",
    "#consumer_info.count()\n",
    "#fraudulent_consumer_with_info.select(\"consumer_id\").distinct().count() # Number of unique fraudulent consumer"
   ]
  },
  {
   "cell_type": "code",
   "execution_count": 27,
   "metadata": {},
   "outputs": [
    {
     "data": {
      "text/html": [
       "<table border='1'>\n",
       "<tr><th>consumer_id</th><th>name</th><th>gender</th><th>state</th><th>postcode</th><th>order_datetime</th><th>fraud_probability</th></tr>\n",
       "<tr><td>0</td><td>0</td><td>0</td><td>0</td><td>0</td><td>0</td><td>0</td></tr>\n",
       "</table>\n"
      ],
      "text/plain": [
       "+-----------+----+------+-----+--------+--------------+-----------------+\n",
       "|consumer_id|name|gender|state|postcode|order_datetime|fraud_probability|\n",
       "+-----------+----+------+-----+--------+--------------+-----------------+\n",
       "|          0|   0|     0|    0|       0|             0|                0|\n",
       "+-----------+----+------+-----+--------+--------------+-----------------+"
      ]
     },
     "execution_count": 27,
     "metadata": {},
     "output_type": "execute_result"
    }
   ],
   "source": [
    "# Check the number of NULL values\n",
    "null_counts = fraudulent_consumer_with_info.select([F.count(F.when(F.col(c).isNull(), c)).alias(c) for c in consumer_fraud_with_info.columns])\n",
    "null_counts.limit(1)\n",
    "# null_counts = consumer_info.select([F.count(F.when(F.col(c).isNull(), c)).alias(c) for c in consumer_info.columns])\n",
    "# null_counts.limit(1)\n"
   ]
  },
  {
   "cell_type": "code",
   "execution_count": 28,
   "metadata": {},
   "outputs": [
    {
     "name": "stderr",
     "output_type": "stream",
     "text": [
      "                                                                                \r"
     ]
    },
    {
     "data": {
      "text/html": [
       "<table border='1'>\n",
       "<tr><th>postcode</th><th>total_consumer</th></tr>\n",
       "<tr><td>5156</td><td>173</td></tr>\n",
       "<tr><td>1238</td><td>162</td></tr>\n",
       "<tr><td>3175</td><td>163</td></tr>\n",
       "<tr><td>6357</td><td>161</td></tr>\n",
       "<tr><td>2122</td><td>170</td></tr>\n",
       "<tr><td>6336</td><td>157</td></tr>\n",
       "<tr><td>6620</td><td>177</td></tr>\n",
       "<tr><td>7253</td><td>171</td></tr>\n",
       "<tr><td>6397</td><td>142</td></tr>\n",
       "<tr><td>2142</td><td>150</td></tr>\n",
       "<tr><td>3918</td><td>154</td></tr>\n",
       "<tr><td>4101</td><td>166</td></tr>\n",
       "<tr><td>3749</td><td>148</td></tr>\n",
       "<tr><td>4818</td><td>169</td></tr>\n",
       "<tr><td>4519</td><td>154</td></tr>\n",
       "<tr><td>2866</td><td>137</td></tr>\n",
       "<tr><td>2659</td><td>153</td></tr>\n",
       "<tr><td>6466</td><td>176</td></tr>\n",
       "<tr><td>4158</td><td>172</td></tr>\n",
       "<tr><td>6623</td><td>162</td></tr>\n",
       "</table>\n",
       "only showing top 20 rows\n"
      ],
      "text/plain": [
       "+--------+--------------+\n",
       "|postcode|total_consumer|\n",
       "+--------+--------------+\n",
       "|    5156|           173|\n",
       "|    1238|           162|\n",
       "|    3175|           163|\n",
       "|    6357|           161|\n",
       "|    2122|           170|\n",
       "|    6336|           157|\n",
       "|    6620|           177|\n",
       "|    7253|           171|\n",
       "|    6397|           142|\n",
       "|    2142|           150|\n",
       "|    3918|           154|\n",
       "|    4101|           166|\n",
       "|    3749|           148|\n",
       "|    4818|           169|\n",
       "|    4519|           154|\n",
       "|    2866|           137|\n",
       "|    2659|           153|\n",
       "|    6466|           176|\n",
       "|    4158|           172|\n",
       "|    6623|           162|\n",
       "+--------+--------------+\n",
       "only showing top 20 rows"
      ]
     },
     "execution_count": 28,
     "metadata": {},
     "output_type": "execute_result"
    }
   ],
   "source": [
    "# Number of consumer in each postcode\n",
    "consumer_info.groupBy([\"postcode\"]).agg(F.count(\"consumer_id\").alias(\"total_consumer\"))"
   ]
  },
  {
   "cell_type": "markdown",
   "metadata": {},
   "source": [
    "ABS Digital Boundary files\n",
    "\n",
    "`Postal Areas - 2021 - Shapefile`\n",
    "\n",
    "https://www.abs.gov.au/statistics/standards/australian-statistical-geography-standard-asgs-edition-3/jul2021-jun2026/access-and-downloads/digital-boundary-files"
   ]
  },
  {
   "cell_type": "code",
   "execution_count": 29,
   "metadata": {},
   "outputs": [],
   "source": [
    "# Load the shapefile into a GeoDataFrame\n",
    "shapefile_path = '../data/raw/POA_2021_AUST_GDA2020_SHP/POA_2021_AUST_GDA2020.shp'\n",
    "gdf = gpd.read_file(shapefile_path)"
   ]
  },
  {
   "cell_type": "code",
   "execution_count": 30,
   "metadata": {},
   "outputs": [],
   "source": [
    "# Number of (fraudulent) consumer in each postcode\n",
    "consumer_group_by_postcode = consumer_info.groupBy([\"postcode\"]).agg(F.count(\"consumer_id\").alias(\"total_consumer\"))\n",
    "fraudulent_consumer_group_by_postcode = fraudulent_consumer_with_info.groupBy([\"postcode\"]).agg(F.count(\"consumer_id\").alias(\"total_consumer\"))"
   ]
  },
  {
   "cell_type": "code",
   "execution_count": 31,
   "metadata": {},
   "outputs": [],
   "source": [
    "consumer_group_by_postcode = consumer_group_by_postcode.toPandas()\n",
    "fraudulent_consumer_group_by_postcode = fraudulent_consumer_group_by_postcode.toPandas()\n",
    "\n",
    "consumer_group_by_postcode['postcode'] = consumer_group_by_postcode['postcode'].astype(str)\n",
    "fraudulent_consumer_group_by_postcode['postcode'] = fraudulent_consumer_group_by_postcode['postcode'].astype(str)\n",
    "\n",
    "gdf['POA_CODE21'] = gdf['POA_CODE21'].astype(str)"
   ]
  },
  {
   "cell_type": "code",
   "execution_count": 32,
   "metadata": {},
   "outputs": [],
   "source": [
    "# Merge consumer information with geographic data from the shapefile\n",
    "total_consumer_merged_gdf = gdf.merge(consumer_group_by_postcode, left_on='POA_CODE21', right_on='postcode')\n",
    "total_consumer_geojson = total_consumer_merged_gdf.to_json()\n",
    "\n",
    "fraudulent_consumer_merged_gdf = gdf.merge(fraudulent_consumer_group_by_postcode, left_on='POA_CODE21', right_on='postcode')\n",
    "fraudulent_consumer_geojson = fraudulent_consumer_merged_gdf.to_json()"
   ]
  },
  {
   "cell_type": "code",
   "execution_count": null,
   "metadata": {},
   "outputs": [],
   "source": [
    "# Distribution of customer group by postcode\n",
    "# Computer might be lagging, better to clear output of this cell\n",
    "create_consumer_postcode_map(total_consumer_geojson,consumer_group_by_postcode)"
   ]
  },
  {
   "cell_type": "code",
   "execution_count": null,
   "metadata": {},
   "outputs": [],
   "source": [
    "# Computer might be lagging, better to clear output of this cell\n",
    "create_consumer_postcode_map(fraudulent_consumer_geojson,fraudulent_consumer_group_by_postcode)"
   ]
  },
  {
   "cell_type": "markdown",
   "metadata": {},
   "source": [
    "Other external postcode dataset \n",
    "\n",
    "`ASGS Edition 3 Structures URL`\n",
    "\n",
    "`Postal Areas - 2021`\n",
    "\n",
    "`Mesh Blocks - 2021`\n",
    "\n",
    "https://www.abs.gov.au/statistics/standards/australian-statistical-geography-standard-asgs-edition-3/jul2021-jun2026/access-and-downloads/allocation-files\n",
    "\n",
    "`URL for Australian postcodes`\n",
    "\n",
    "https://www.matthewproctor.com/australian_postcodes\n",
    "\n"
   ]
  },
  {
   "cell_type": "code",
   "execution_count": null,
   "metadata": {},
   "outputs": [],
   "source": [
    "# Takes 4 mins to read\n",
    "# postcode_df = pd.read_excel(\"../data/raw/postcode.xlsx\")\n",
    "# mesh_blocks = pd.read_excel(\"../data/raw/MB_2021_AUST.xlsx\")\n",
    "\n",
    "\n",
    "# df = spark.read.csv(\n",
    "#     \"../data/raw/australian_postcodes.csv\",\n",
    "#     header=True, \n",
    "#     inferSchema=True, \n",
    "#     sep=\",\", \n",
    "#     quote='\"', \n",
    "#     escape='\"',\n",
    "#     nullValue=\"NULL\" \n",
    "# )"
   ]
  },
  {
   "cell_type": "code",
   "execution_count": null,
   "metadata": {},
   "outputs": [],
   "source": [
    "# Many suburbs will share one postcode, I just choose the first suburb corresponding to the postcode\n",
    "# postcode_df = postcode_df.groupby('POA_CODE_2021', as_index=False).agg({\n",
    "#     'MB_CODE_2021': 'first' \n",
    "# })"
   ]
  },
  {
   "cell_type": "code",
   "execution_count": null,
   "metadata": {},
   "outputs": [],
   "source": [
    "# mesh_blocks = mesh_blocks[[\"MB_CODE_2021\", \"SA2_NAME_2021\", \"SA3_NAME_2021\", \"SA4_NAME_2021\", \"GCCSA_NAME_2021\", \"STATE_NAME_2021\"]]\n"
   ]
  }
 ],
 "metadata": {
  "interpreter": {
   "hash": "b1156bbb4e7f675c816aabc5846b5e8094f9fc19d141d52741577149318906f5"
  },
  "kernelspec": {
   "display_name": "Python 3.11.6 64-bit",
   "language": "python",
   "name": "python3"
  },
  "language_info": {
   "codemirror_mode": {
    "name": "ipython",
    "version": 3
   },
   "file_extension": ".py",
   "mimetype": "text/x-python",
   "name": "python",
   "nbconvert_exporter": "python",
   "pygments_lexer": "ipython3",
   "version": "3.11.6"
  },
  "orig_nbformat": 4
 },
 "nbformat": 4,
 "nbformat_minor": 2
}
