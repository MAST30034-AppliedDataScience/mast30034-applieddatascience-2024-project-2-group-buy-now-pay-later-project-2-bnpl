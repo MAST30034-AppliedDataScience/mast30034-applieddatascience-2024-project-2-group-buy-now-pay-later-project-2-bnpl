{
 "cells": [
  {
   "cell_type": "code",
   "execution_count": 1,
   "metadata": {},
   "outputs": [],
   "source": [
    "import geopandas as gpd\n",
    "import os\n",
    "os.sys.path.append(\"../\")\n",
    "from scripts.geospatial_analysis import *\n",
    "from pyspark.sql import functions as F, SparkSession"
   ]
  },
  {
   "cell_type": "code",
   "execution_count": 2,
   "metadata": {},
   "outputs": [
    {
     "name": "stderr",
     "output_type": "stream",
     "text": [
      "24/09/07 16:52:41 WARN Utils: Your hostname, qinsitaodeMacBook-Air.local resolves to a loopback address: 127.0.0.1; using 192.168.4.51 instead (on interface en0)\n",
      "24/09/07 16:52:41 WARN Utils: Set SPARK_LOCAL_IP if you need to bind to another address\n",
      "Setting default log level to \"WARN\".\n",
      "To adjust logging level use sc.setLogLevel(newLevel). For SparkR, use setLogLevel(newLevel).\n",
      "24/09/07 16:52:43 WARN NativeCodeLoader: Unable to load native-hadoop library for your platform... using builtin-java classes where applicable\n"
     ]
    }
   ],
   "source": [
    "# Create a Spark Session\n",
    "spark = (\n",
    "    SparkSession.builder.appName(\"geospatial analysis\")\n",
    "    .config(\"spark.sql.repl.eagerEval.enabled\", True)\n",
    "    .config(\"spark.sql.parquet.cacheMetadata\", \"true\")\n",
    "    .config(\"spark.sql.session.timeZone\", \"Etc/UTC\")\n",
    "    .config(\"spark.driver.memory\", \"4g\")\n",
    "    .config(\"spark.execturo.memory\", \"2g\")\n",
    "    .getOrCreate()\n",
    ")"
   ]
  },
  {
   "cell_type": "code",
   "execution_count": 5,
   "metadata": {},
   "outputs": [],
   "source": [
    "consumer_info = spark.read.parquet('../data/curated/consumer_info.parquet')\n",
    "fraudulent_consumer_rate = spark.read.parquet('../data/curated/consumer_fraud_rate.parquet')"
   ]
  },
  {
   "cell_type": "code",
   "execution_count": 12,
   "metadata": {},
   "outputs": [],
   "source": [
    "\n",
    "fraudulent_consumer_with_info = consumer_info.join(fraudulent_consumer_rate, on=\"consumer_id\", how=\"inner\")"
   ]
  },
  {
   "cell_type": "code",
   "execution_count": 10,
   "metadata": {},
   "outputs": [
    {
     "name": "stderr",
     "output_type": "stream",
     "text": [
      "                                                                                \r"
     ]
    },
    {
     "data": {
      "text/html": [
       "<table border='1'>\n",
       "<tr><th>consumer_id</th><th>merchant_abn</th><th>dollar_value</th><th>order_id</th><th>order_datetime</th><th>name</th><th>gender</th><th>state</th><th>postcode</th></tr>\n",
       "<tr><td>1059280</td><td>79417999332</td><td>136.06570809815838</td><td>23acbb7b-cf98-458...</td><td>2021-11-26</td><td>Cameron Adams</td><td>Male</td><td>QLD</td><td>4563</td></tr>\n",
       "<tr><td>1195503</td><td>46451548968</td><td>72.61581642788431</td><td>76bab304-fa2d-400...</td><td>2021-11-26</td><td>Yolanda Williams</td><td>Female</td><td>WA</td><td>6935</td></tr>\n",
       "<tr><td>986886</td><td>89518629617</td><td>3.0783487174439297</td><td>a2ae446a-2959-41c...</td><td>2021-11-26</td><td>Maria Riley</td><td>Female</td><td>SA</td><td>5157</td></tr>\n",
       "<tr><td>1195503</td><td>49167531725</td><td>51.58228625503599</td><td>7080c274-17f7-4cc...</td><td>2021-11-26</td><td>Yolanda Williams</td><td>Female</td><td>WA</td><td>6935</td></tr>\n",
       "<tr><td>986886</td><td>31101120643</td><td>25.228114942417797</td><td>8e301c0f-06ab-45c...</td><td>2021-11-26</td><td>Maria Riley</td><td>Female</td><td>SA</td><td>5157</td></tr>\n",
       "<tr><td>179208</td><td>67978471888</td><td>691.5028234458998</td><td>0380e9ad-b0e8-420...</td><td>2021-11-26</td><td>Mary Smith</td><td>Female</td><td>NSW</td><td>2782</td></tr>\n",
       "<tr><td>986886</td><td>60956456424</td><td>102.13952056640888</td><td>5ac3da9c-5147-452...</td><td>2021-11-26</td><td>Maria Riley</td><td>Female</td><td>SA</td><td>5157</td></tr>\n",
       "<tr><td>179208</td><td>47644196714</td><td>644.5220654863093</td><td>4e368e44-86f8-4de...</td><td>2021-11-26</td><td>Mary Smith</td><td>Female</td><td>NSW</td><td>2782</td></tr>\n",
       "<tr><td>267457</td><td>39649557865</td><td>209.12780951421405</td><td>4d78cd01-4bab-494...</td><td>2021-11-26</td><td>Jasmine Ford</td><td>Undisclosed</td><td>NSW</td><td>2625</td></tr>\n",
       "<tr><td>1194530</td><td>88402174457</td><td>141.0387993699113</td><td>c50c957d-ecfc-430...</td><td>2021-11-26</td><td>Jill Jones MD</td><td>Female</td><td>NT</td><td>862</td></tr>\n",
       "<tr><td>267457</td><td>32234779638</td><td>102.04090324888061</td><td>e94ff357-b036-493...</td><td>2021-11-26</td><td>Jasmine Ford</td><td>Undisclosed</td><td>NSW</td><td>2625</td></tr>\n",
       "<tr><td>154128</td><td>24015173965</td><td>157.0</td><td>5b867ac9-d1e0-430...</td><td>2021-11-26</td><td>Lindsay Jimenez</td><td>Female</td><td>NSW</td><td>2780</td></tr>\n",
       "<tr><td>764252</td><td>79830510987</td><td>246.13590152514766</td><td>666909ed-79c2-45b...</td><td>2021-11-26</td><td>Cassandra Myers</td><td>Female</td><td>VIC</td><td>3885</td></tr>\n",
       "<tr><td>712975</td><td>76646764782</td><td>35.463129852951695</td><td>0c855413-67fa-467...</td><td>2021-11-26</td><td>Rebecca Blanchard</td><td>Female</td><td>WA</td><td>6355</td></tr>\n",
       "<tr><td>764252</td><td>17324645993</td><td>24.108258533478818</td><td>40fd2f7f-a274-420...</td><td>2021-11-26</td><td>Cassandra Myers</td><td>Female</td><td>VIC</td><td>3885</td></tr>\n",
       "<tr><td>712975</td><td>71041015148</td><td>89.76800577775657</td><td>93255de9-c8fe-426...</td><td>2021-11-26</td><td>Rebecca Blanchard</td><td>Female</td><td>WA</td><td>6355</td></tr>\n",
       "<tr><td>764252</td><td>75089928159</td><td>14.806519329659501</td><td>2c5ba1f3-1c5a-4e5...</td><td>2021-11-26</td><td>Cassandra Myers</td><td>Female</td><td>VIC</td><td>3885</td></tr>\n",
       "<tr><td>712975</td><td>80324045558</td><td>62.79195913018835</td><td>564f81c8-c3c1-4f4...</td><td>2021-11-26</td><td>Rebecca Blanchard</td><td>Female</td><td>WA</td><td>6355</td></tr>\n",
       "<tr><td>764252</td><td>50315283629</td><td>575.3321071340728</td><td>026c6d3d-4f7c-4f4...</td><td>2021-11-26</td><td>Cassandra Myers</td><td>Female</td><td>VIC</td><td>3885</td></tr>\n",
       "<tr><td>407340</td><td>11566786699</td><td>15.856637357709419</td><td>0230e104-aef0-48f...</td><td>2021-11-26</td><td>Karen Chapman</td><td>Female</td><td>NSW</td><td>2033</td></tr>\n",
       "</table>\n",
       "only showing top 20 rows\n"
      ],
      "text/plain": [
       "+-----------+------------+------------------+--------------------+--------------+-----------------+-----------+-----+--------+\n",
       "|consumer_id|merchant_abn|      dollar_value|            order_id|order_datetime|             name|     gender|state|postcode|\n",
       "+-----------+------------+------------------+--------------------+--------------+-----------------+-----------+-----+--------+\n",
       "|    1059280| 79417999332|136.06570809815838|23acbb7b-cf98-458...|    2021-11-26|    Cameron Adams|       Male|  QLD|    4563|\n",
       "|    1195503| 46451548968| 72.61581642788431|76bab304-fa2d-400...|    2021-11-26| Yolanda Williams|     Female|   WA|    6935|\n",
       "|     986886| 89518629617|3.0783487174439297|a2ae446a-2959-41c...|    2021-11-26|      Maria Riley|     Female|   SA|    5157|\n",
       "|    1195503| 49167531725| 51.58228625503599|7080c274-17f7-4cc...|    2021-11-26| Yolanda Williams|     Female|   WA|    6935|\n",
       "|     986886| 31101120643|25.228114942417797|8e301c0f-06ab-45c...|    2021-11-26|      Maria Riley|     Female|   SA|    5157|\n",
       "|     179208| 67978471888| 691.5028234458998|0380e9ad-b0e8-420...|    2021-11-26|       Mary Smith|     Female|  NSW|    2782|\n",
       "|     986886| 60956456424|102.13952056640888|5ac3da9c-5147-452...|    2021-11-26|      Maria Riley|     Female|   SA|    5157|\n",
       "|     179208| 47644196714| 644.5220654863093|4e368e44-86f8-4de...|    2021-11-26|       Mary Smith|     Female|  NSW|    2782|\n",
       "|     267457| 39649557865|209.12780951421405|4d78cd01-4bab-494...|    2021-11-26|     Jasmine Ford|Undisclosed|  NSW|    2625|\n",
       "|    1194530| 88402174457| 141.0387993699113|c50c957d-ecfc-430...|    2021-11-26|    Jill Jones MD|     Female|   NT|     862|\n",
       "|     267457| 32234779638|102.04090324888061|e94ff357-b036-493...|    2021-11-26|     Jasmine Ford|Undisclosed|  NSW|    2625|\n",
       "|     154128| 24015173965|             157.0|5b867ac9-d1e0-430...|    2021-11-26|  Lindsay Jimenez|     Female|  NSW|    2780|\n",
       "|     764252| 79830510987|246.13590152514766|666909ed-79c2-45b...|    2021-11-26|  Cassandra Myers|     Female|  VIC|    3885|\n",
       "|     712975| 76646764782|35.463129852951695|0c855413-67fa-467...|    2021-11-26|Rebecca Blanchard|     Female|   WA|    6355|\n",
       "|     764252| 17324645993|24.108258533478818|40fd2f7f-a274-420...|    2021-11-26|  Cassandra Myers|     Female|  VIC|    3885|\n",
       "|     712975| 71041015148| 89.76800577775657|93255de9-c8fe-426...|    2021-11-26|Rebecca Blanchard|     Female|   WA|    6355|\n",
       "|     764252| 75089928159|14.806519329659501|2c5ba1f3-1c5a-4e5...|    2021-11-26|  Cassandra Myers|     Female|  VIC|    3885|\n",
       "|     712975| 80324045558| 62.79195913018835|564f81c8-c3c1-4f4...|    2021-11-26|Rebecca Blanchard|     Female|   WA|    6355|\n",
       "|     764252| 50315283629| 575.3321071340728|026c6d3d-4f7c-4f4...|    2021-11-26|  Cassandra Myers|     Female|  VIC|    3885|\n",
       "|     407340| 11566786699|15.856637357709419|0230e104-aef0-48f...|    2021-11-26|    Karen Chapman|     Female|  NSW|    2033|\n",
       "+-----------+------------+------------------+--------------------+--------------+-----------------+-----------+-----+--------+\n",
       "only showing top 20 rows"
      ]
     },
     "execution_count": 10,
     "metadata": {},
     "output_type": "execute_result"
    }
   ],
   "source": [
    "consumer_transaction_records = transaction_records.join(consumer_info, on=\"consumer_id\", how=\"inner\")"
   ]
  },
  {
   "cell_type": "code",
   "execution_count": null,
   "metadata": {},
   "outputs": [],
   "source": [
    "# Find info for fraudulent consumer\n",
    "fraudulent_consumer_with_info = consumer_info.join(fraudulent_consumer_rate, on=\"consumer_id\", how=\"inner\")"
   ]
  },
  {
   "cell_type": "code",
   "execution_count": null,
   "metadata": {},
   "outputs": [],
   "source": [
    "# Number of consumer in each state\n",
    "consumer_info.groupby(\"state\").agg(F.count(\"consumer_id\"))"
   ]
  },
  {
   "cell_type": "code",
   "execution_count": null,
   "metadata": {},
   "outputs": [],
   "source": [
    "# Number of fraudulent consumer in each state\n",
    "fraudulent_consumer_with_info.groupby(\"state\").agg(F.count(\"consumer_id\"))"
   ]
  },
  {
   "cell_type": "code",
   "execution_count": null,
   "metadata": {},
   "outputs": [],
   "source": [
    "fraudulent_consumer_with_info.count()\n",
    "#consumer_info.count()\n",
    "#fraudulent_consumer_with_info.select(\"consumer_id\").distinct().count() # Number of unique fraudulent consumer"
   ]
  },
  {
   "cell_type": "code",
   "execution_count": null,
   "metadata": {},
   "outputs": [],
   "source": [
    "# Check the number of NULL values\n",
    "null_counts = fraudulent_consumer_with_info.select([F.count(F.when(F.col(c).isNull(), c)).alias(c) for c in consumer_fraud_with_info.columns])\n",
    "null_counts.limit(1)\n",
    "# null_counts = consumer_info.select([F.count(F.when(F.col(c).isNull(), c)).alias(c) for c in consumer_info.columns])\n",
    "# null_counts.limit(1)\n"
   ]
  },
  {
   "cell_type": "code",
   "execution_count": null,
   "metadata": {},
   "outputs": [],
   "source": [
    "# Number of consumer in each postcode\n",
    "consumer_info.groupBy([\"postcode\"]).agg(F.count(\"consumer_id\").alias(\"total_consumer\"))"
   ]
  },
  {
   "cell_type": "markdown",
   "metadata": {},
   "source": [
    "# External dataset\n",
    "\n",
    "ABS Digital Boundary files\n",
    "\n",
    "`States and Territories - 2021 - Shapefile`\n",
    "\n",
    "https://www.abs.gov.au/statistics/standards/australian-statistical-geography-standard-asgs-edition-3/jul2021-jun2026/access-and-downloads/digital-boundary-files#downloads-for-gda2020-digital-boundary-files\n",
    "\n",
    "`Australian postcodes - Shapefile`\n",
    "\n",
    "https://www.matthewproctor.com/australian_postcodes\n"
   ]
  },
  {
   "cell_type": "code",
   "execution_count": null,
   "metadata": {},
   "outputs": [],
   "source": [
    "# Transform the full state name to the abbriviation name\n",
    "state_abbr = {\n",
    "    \"New South Wales\": \"NSW\",\n",
    "    \"Victoria\": \"VIC\",\n",
    "    \"Queensland\": \"QLD\",\n",
    "    \"South Australia\": \"SA\",\n",
    "    \"Western Australia\": \"WA\",\n",
    "    \"Tasmania\": \"TAS\",\n",
    "    \"Northern Territory\": \"NT\",\n",
    "    \"Australian Capital Territory\": \"ACT\"\n",
    "}"
   ]
  },
  {
   "cell_type": "code",
   "execution_count": null,
   "metadata": {},
   "outputs": [],
   "source": [
    "# Load the shapefile into a GeoDataFrame\n",
    "postcode_shapefile_path = '../data/raw/POA_2021_AUST_GDA2020_SHP/POA_2021_AUST_GDA2020.shp'\n",
    "gdf_postcode = gpd.read_file(postcode_shapefile_path)\n",
    "\n",
    "state_shapefile_path = '../data/raw/STE_2021_AUST_SHP_GDA2020/STE_2021_AUST_GDA2020.shp'\n",
    "gdf_state = gpd.read_file(state_shapefile_path)\n",
    "gdf_state['STE_NAME21'] = gdf_state['STE_NAME21'].replace(state_abbr)"
   ]
  },
  {
   "cell_type": "code",
   "execution_count": null,
   "metadata": {},
   "outputs": [],
   "source": [
    "fraudulent_consumer_with_info"
   ]
  },
  {
   "cell_type": "code",
   "execution_count": null,
   "metadata": {},
   "outputs": [],
   "source": [
    "# Number of (fraudulent) consumer in each postcode or state\n",
    "consumer_group_by_postcode = consumer_info.groupBy([\"postcode\"]).agg(F.count(\"consumer_id\").alias(\"total_consumer\"))\n",
    "consumer_group_by_state = consumer_info.groupBy([\"state\"]).agg(F.count(\"consumer_id\").alias(\"total_consumer\"))\n",
    "\n",
    "fraudulent_consumer_group_by_postcode = fraudulent_consumer_with_info.groupBy([\"postcode\"]).agg(F.count(\"consumer_id\").alias(\"total_consumer\"),\n",
    "                                                                                                 F.avg(\"fraud_probability\").alias(\"average_fraud_prob\"),\n",
    "                                                                                                 F.max(\"fraud_probability\").alias(\"max_fraud_probability\"))\n",
    "fraudulent_consumer_group_by_state = fraudulent_consumer_with_info.groupBy([\"state\"]).agg(F.count(\"consumer_id\").alias(\"total_consumer\"),\n",
    "                                                                                                 F.avg(\"fraud_probability\").alias(\"average_fraud_prob\"),\n",
    "                                                                                                 F.max(\"fraud_probability\").alias(\"max_fraud_probability\"))"
   ]
  },
  {
   "cell_type": "code",
   "execution_count": null,
   "metadata": {},
   "outputs": [],
   "source": [
    "# Group the consumer and fraudulent consumer by different features\n",
    "consumer_group_by_postcode = consumer_group_by_postcode.toPandas()\n",
    "consumer_group_by_state = consumer_group_by_state.toPandas()\n",
    "\n",
    "fraudulent_consumer_group_by_postcode = fraudulent_consumer_group_by_postcode.toPandas()\n",
    "fraudulent_consumer_group_by_state = fraudulent_consumer_group_by_state.toPandas()\n",
    "\n",
    "consumer_group_by_postcode['postcode'] = consumer_group_by_postcode['postcode'].astype(str)\n",
    "consumer_group_by_state['state'] = consumer_group_by_state['state'].astype(str)\n",
    "\n",
    "fraudulent_consumer_group_by_postcode['postcode'] = fraudulent_consumer_group_by_postcode['postcode'].astype(str)\n",
    "fraudulent_consumer_group_by_state['state'] = fraudulent_consumer_group_by_state['state'].astype(str)\n",
    "\n",
    "gdf_postcode['POA_CODE21'] = gdf_postcode['POA_CODE21'].astype(str)"
   ]
  },
  {
   "cell_type": "code",
   "execution_count": null,
   "metadata": {},
   "outputs": [],
   "source": [
    "# Merge consumer information with geographic data from the shapefile\n",
    "total_consumer_group_by_postcode_merged_gdf = gdf_postcode.merge(consumer_group_by_postcode, left_on='POA_CODE21', right_on='postcode')\n",
    "total_consumer_group_by_postcode__geojson = total_consumer_group_by_postcode_merged_gdf.to_json()\n",
    "\n",
    "fraudulent_consumer_group_by_postcode_merged_gdf = gdf_postcode.merge(fraudulent_consumer_group_by_postcode, left_on='POA_CODE21', right_on='postcode')\n",
    "fraudulent_consumer_group_by_postcode_geojson = fraudulent_consumer_group_by_postcode_merged_gdf.to_json()\n",
    "\n"
   ]
  },
  {
   "cell_type": "code",
   "execution_count": null,
   "metadata": {},
   "outputs": [],
   "source": [
    "# Merge consumer information with geographic data from the shapefile\n",
    "total_consumer_group_by_state_merged_gdf = gdf_state.merge(consumer_group_by_state, left_on='STE_NAME21', right_on='state')\n",
    "total_consumer_group_by_state__geojson = total_consumer_group_by_state_merged_gdf.to_json()\n",
    "\n",
    "fraudulent_consumer_group_by_state_merged_gdf = gdf_state.merge(fraudulent_consumer_group_by_state, left_on='STE_NAME21', right_on='state')\n",
    "fraudulent_consumer_group_by_state_geojson = fraudulent_consumer_group_by_state_merged_gdf.to_json()\n",
    "\n"
   ]
  },
  {
   "cell_type": "code",
   "execution_count": null,
   "metadata": {},
   "outputs": [],
   "source": [
    "# Distribution of number of customer group by postcode\n",
    "# Computer might be lagging, better to clear output of this cell\n",
    "create_consumer_map(total_consumer_group_by_postcode__geojson,consumer_group_by_postcode, \"postcode\", \"total_consumer\", \"POA_CODE21\")"
   ]
  },
  {
   "cell_type": "code",
   "execution_count": null,
   "metadata": {},
   "outputs": [],
   "source": [
    "# Distribution of average fraud probability group by postcode\n",
    "create_consumer_map(fraudulent_consumer_group_by_postcode_geojson,fraudulent_consumer_group_by_postcode, \"postcode\", \"average_fraud_prob\", \"POA_CODE21\")"
   ]
  },
  {
   "cell_type": "code",
   "execution_count": null,
   "metadata": {},
   "outputs": [],
   "source": [
    "# Distribution of maximum fraud probability group by postcode\n",
    "create_consumer_map(fraudulent_consumer_group_by_postcode_geojson,fraudulent_consumer_group_by_postcode, \"postcode\", \"max_fraud_probability\", \"POA_CODE21\")"
   ]
  },
  {
   "cell_type": "code",
   "execution_count": null,
   "metadata": {},
   "outputs": [],
   "source": [
    "# Group by state instead\n",
    "create_consumer_map(total_consumer_group_by_state__geojson,consumer_group_by_state, \"state\", \"total_consumer\",\"STE_NAME21\")"
   ]
  },
  {
   "cell_type": "code",
   "execution_count": null,
   "metadata": {},
   "outputs": [],
   "source": [
    "create_consumer_map(fraudulent_consumer_group_by_state_geojson,fraudulent_consumer_group_by_state, \"state\", \"average_fraud_prob\",\"STE_NAME21\")"
   ]
  },
  {
   "cell_type": "code",
   "execution_count": null,
   "metadata": {},
   "outputs": [],
   "source": [
    "create_consumer_map(fraudulent_consumer_group_by_state_geojson,fraudulent_consumer_group_by_state, \"state\", \"max_fraud_probability\",\"STE_NAME21\")"
   ]
  }
 ],
 "metadata": {
  "interpreter": {
   "hash": "b1156bbb4e7f675c816aabc5846b5e8094f9fc19d141d52741577149318906f5"
  },
  "kernelspec": {
   "display_name": "Python 3.11.6 64-bit",
   "language": "python",
   "name": "python3"
  },
  "language_info": {
   "codemirror_mode": {
    "name": "ipython",
    "version": 3
   },
   "file_extension": ".py",
   "mimetype": "text/x-python",
   "name": "python",
   "nbconvert_exporter": "python",
   "pygments_lexer": "ipython3",
   "version": "3.11.6"
  },
  "orig_nbformat": 4
 },
 "nbformat": 4,
 "nbformat_minor": 2
}
