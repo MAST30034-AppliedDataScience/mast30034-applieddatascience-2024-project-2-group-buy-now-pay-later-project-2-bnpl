{
 "cells": [
  {
   "cell_type": "markdown",
   "metadata": {},
   "source": [
    "# Project 2 - Group 13"
   ]
  },
  {
   "cell_type": "markdown",
   "metadata": {},
   "source": [
    "## 0 - Begin Spark"
   ]
  },
  {
   "cell_type": "code",
   "execution_count": 1,
   "metadata": {},
   "outputs": [
    {
     "name": "stderr",
     "output_type": "stream",
     "text": [
      "24/08/28 09:53:38 WARN Utils: Your hostname, MacBook.local resolves to a loopback address: 127.0.0.1; using 10.13.73.121 instead (on interface en0)\n",
      "24/08/28 09:53:38 WARN Utils: Set SPARK_LOCAL_IP if you need to bind to another address\n",
      "Setting default log level to \"WARN\".\n",
      "To adjust logging level use sc.setLogLevel(newLevel). For SparkR, use setLogLevel(newLevel).\n",
      "24/08/28 09:53:40 WARN NativeCodeLoader: Unable to load native-hadoop library for your platform... using builtin-java classes where applicable\n"
     ]
    }
   ],
   "source": [
    "from pyspark.sql import SparkSession\n",
    "\n",
    "# Create a spark session (which will run spark jobs)\n",
    "spark = (\n",
    "    SparkSession.builder.appName(\"MAST30034 Project 2\")\n",
    "    .config(\"spark.sql.repl.eagerEval.enabled\", True) \n",
    "    .config(\"spark.sql.parquet.cacheMetadata\", \"true\")\n",
    "    .config(\"spark.sql.session.timeZone\", \"Etc/UTC\")\n",
    "    .getOrCreate()\n",
    ")"
   ]
  },
  {
   "cell_type": "markdown",
   "metadata": {},
   "source": [
    "## 1 - Data cleaning"
   ]
  },
  {
   "cell_type": "markdown",
   "metadata": {},
   "source": [
    "### 1.1 - Consumer fraud probability"
   ]
  },
  {
   "cell_type": "code",
   "execution_count": 4,
   "metadata": {},
   "outputs": [
    {
     "name": "stdout",
     "output_type": "stream",
     "text": [
      "Number of entires = 34864\n"
     ]
    },
    {
     "data": {
      "text/html": [
       "<table border='1'>\n",
       "<tr><th>user_id</th><th>order_datetime</th><th>fraud_probability</th></tr>\n",
       "<tr><td>6228</td><td>2021-12-19</td><td>97.6298077657765</td></tr>\n",
       "<tr><td>21419</td><td>2021-12-10</td><td>99.24738020302328</td></tr>\n",
       "<tr><td>5606</td><td>2021-10-17</td><td>84.05825045251777</td></tr>\n",
       "<tr><td>3101</td><td>2021-04-17</td><td>91.42192091901347</td></tr>\n",
       "<tr><td>22239</td><td>2021-10-19</td><td>94.70342477508035</td></tr>\n",
       "</table>\n"
      ],
      "text/plain": [
       "+-------+--------------+-----------------+\n",
       "|user_id|order_datetime|fraud_probability|\n",
       "+-------+--------------+-----------------+\n",
       "|   6228|    2021-12-19| 97.6298077657765|\n",
       "|  21419|    2021-12-10|99.24738020302328|\n",
       "|   5606|    2021-10-17|84.05825045251777|\n",
       "|   3101|    2021-04-17|91.42192091901347|\n",
       "|  22239|    2021-10-19|94.70342477508035|\n",
       "+-------+--------------+-----------------+"
      ]
     },
     "execution_count": 4,
     "metadata": {},
     "output_type": "execute_result"
    }
   ],
   "source": [
    "consumer_fraud_probability_df = spark.read.csv('../data/tables/tables/consumer_fraud_probability.csv', header = True)\n",
    "print(f'Number of entires = {consumer_fraud_probability_df.count()}')\n",
    "consumer_fraud_probability_df.limit(5)"
   ]
  },
  {
   "cell_type": "markdown",
   "metadata": {},
   "source": [
    "### 1.2 - Consumer user details"
   ]
  },
  {
   "cell_type": "code",
   "execution_count": 5,
   "metadata": {},
   "outputs": [
    {
     "name": "stderr",
     "output_type": "stream",
     "text": [
      "                                                                                \r"
     ]
    },
    {
     "name": "stdout",
     "output_type": "stream",
     "text": [
      "Number of entires = 499999\n"
     ]
    },
    {
     "name": "stderr",
     "output_type": "stream",
     "text": [
      "                                                                                \r"
     ]
    },
    {
     "data": {
      "text/html": [
       "<table border='1'>\n",
       "<tr><th>user_id</th><th>consumer_id</th></tr>\n",
       "<tr><td>1</td><td>1195503</td></tr>\n",
       "<tr><td>2</td><td>179208</td></tr>\n",
       "<tr><td>3</td><td>1194530</td></tr>\n",
       "<tr><td>4</td><td>154128</td></tr>\n",
       "<tr><td>5</td><td>712975</td></tr>\n",
       "</table>\n"
      ],
      "text/plain": [
       "+-------+-----------+\n",
       "|user_id|consumer_id|\n",
       "+-------+-----------+\n",
       "|      1|    1195503|\n",
       "|      2|     179208|\n",
       "|      3|    1194530|\n",
       "|      4|     154128|\n",
       "|      5|     712975|\n",
       "+-------+-----------+"
      ]
     },
     "execution_count": 5,
     "metadata": {},
     "output_type": "execute_result"
    }
   ],
   "source": [
    "consumer_user_details_df = spark.read.parquet('../data/tables/tables/consumer_user_details.parquet')\n",
    "print(f'Number of entires = {consumer_user_details_df.count()}')\n",
    "consumer_user_details_df.limit(5)"
   ]
  },
  {
   "cell_type": "markdown",
   "metadata": {},
   "source": [
    "### 1.3 - Merchant fraud probability"
   ]
  },
  {
   "cell_type": "code",
   "execution_count": 6,
   "metadata": {},
   "outputs": [
    {
     "name": "stdout",
     "output_type": "stream",
     "text": [
      "Number of entires = 114\n"
     ]
    },
    {
     "data": {
      "text/html": [
       "<table border='1'>\n",
       "<tr><th>merchant_abn</th><th>order_datetime</th><th>fraud_probability</th></tr>\n",
       "<tr><td>19492220327</td><td>2021-11-28</td><td>44.403658647495355</td></tr>\n",
       "<tr><td>31334588839</td><td>2021-10-02</td><td>42.75530083865367</td></tr>\n",
       "<tr><td>19492220327</td><td>2021-12-22</td><td>38.867790051131095</td></tr>\n",
       "<tr><td>82999039227</td><td>2021-12-19</td><td>94.1347004808891</td></tr>\n",
       "<tr><td>90918180829</td><td>2021-09-02</td><td>43.32551731714902</td></tr>\n",
       "</table>\n"
      ],
      "text/plain": [
       "+------------+--------------+------------------+\n",
       "|merchant_abn|order_datetime| fraud_probability|\n",
       "+------------+--------------+------------------+\n",
       "| 19492220327|    2021-11-28|44.403658647495355|\n",
       "| 31334588839|    2021-10-02| 42.75530083865367|\n",
       "| 19492220327|    2021-12-22|38.867790051131095|\n",
       "| 82999039227|    2021-12-19|  94.1347004808891|\n",
       "| 90918180829|    2021-09-02| 43.32551731714902|\n",
       "+------------+--------------+------------------+"
      ]
     },
     "execution_count": 6,
     "metadata": {},
     "output_type": "execute_result"
    }
   ],
   "source": [
    "merchant_fraud_probability_df = spark.read.csv('../data/tables/tables/merchant_fraud_probability.csv', header = True)\n",
    "print(f'Number of entires = {merchant_fraud_probability_df.count()}')\n",
    "merchant_fraud_probability_df.limit(5)"
   ]
  },
  {
   "cell_type": "markdown",
   "metadata": {},
   "source": [
    "### 1.4 - TBL Consumer"
   ]
  },
  {
   "cell_type": "code",
   "execution_count": 8,
   "metadata": {},
   "outputs": [
    {
     "name": "stderr",
     "output_type": "stream",
     "text": [
      "                                                                                \r"
     ]
    },
    {
     "name": "stdout",
     "output_type": "stream",
     "text": [
      "Number of entires = 499999\n"
     ]
    },
    {
     "data": {
      "text/html": [
       "<table border='1'>\n",
       "<tr><th>name|address|state|postcode|gender|consumer_id</th></tr>\n",
       "<tr><td>Yolanda Williams|...</td></tr>\n",
       "<tr><td>Mary Smith|3764 A...</td></tr>\n",
       "<tr><td>Jill Jones MD|406...</td></tr>\n",
       "<tr><td>Lindsay Jimenez|0...</td></tr>\n",
       "<tr><td>Rebecca Blanchard...</td></tr>\n",
       "</table>\n"
      ],
      "text/plain": [
       "+----------------------------------------------+\n",
       "|name|address|state|postcode|gender|consumer_id|\n",
       "+----------------------------------------------+\n",
       "|                          Yolanda Williams|...|\n",
       "|                          Mary Smith|3764 A...|\n",
       "|                          Jill Jones MD|406...|\n",
       "|                          Lindsay Jimenez|0...|\n",
       "|                          Rebecca Blanchard...|\n",
       "+----------------------------------------------+"
      ]
     },
     "execution_count": 8,
     "metadata": {},
     "output_type": "execute_result"
    }
   ],
   "source": [
    "tbl_consumer_df = spark.read.csv('../data/tables/tables/tbl_consumer.csv', header = True)\n",
    "print(f'Number of entires = {tbl_consumer_df.count()}')\n",
    "tbl_consumer_df.limit(5)"
   ]
  },
  {
   "cell_type": "markdown",
   "metadata": {},
   "source": [
    "### 1.5 - TBL merchants"
   ]
  },
  {
   "cell_type": "code",
   "execution_count": 9,
   "metadata": {},
   "outputs": [
    {
     "name": "stdout",
     "output_type": "stream",
     "text": [
      "Number of entires = 4026\n"
     ]
    },
    {
     "data": {
      "text/html": [
       "<table border='1'>\n",
       "<tr><th>name</th><th>tags</th><th>merchant_abn</th></tr>\n",
       "<tr><td>Felis Limited</td><td>((furniture, home...</td><td>10023283211</td></tr>\n",
       "<tr><td>Arcu Ac Orci Corp...</td><td>([cable, satellit...</td><td>10142254217</td></tr>\n",
       "<tr><td>Nunc Sed Company</td><td>([jewelry, watch,...</td><td>10165489824</td></tr>\n",
       "<tr><td>Ultricies Digniss...</td><td>([wAtch, clock, a...</td><td>10187291046</td></tr>\n",
       "<tr><td>Enim Condimentum PC</td><td>([music shops - m...</td><td>10192359162</td></tr>\n",
       "</table>\n"
      ],
      "text/plain": [
       "+--------------------+--------------------+------------+\n",
       "|                name|                tags|merchant_abn|\n",
       "+--------------------+--------------------+------------+\n",
       "|       Felis Limited|((furniture, home...| 10023283211|\n",
       "|Arcu Ac Orci Corp...|([cable, satellit...| 10142254217|\n",
       "|    Nunc Sed Company|([jewelry, watch,...| 10165489824|\n",
       "|Ultricies Digniss...|([wAtch, clock, a...| 10187291046|\n",
       "| Enim Condimentum PC|([music shops - m...| 10192359162|\n",
       "+--------------------+--------------------+------------+"
      ]
     },
     "execution_count": 9,
     "metadata": {},
     "output_type": "execute_result"
    }
   ],
   "source": [
    "tbl_merchants_df = spark.read.parquet('../data/tables/tables/tbl_merchants.parquet')\n",
    "print(f'Number of entires = {tbl_merchants_df.count()}')\n",
    "tbl_merchants_df.limit(5)"
   ]
  }
 ],
 "metadata": {
  "kernelspec": {
   "display_name": ".venv",
   "language": "python",
   "name": "python3"
  },
  "language_info": {
   "codemirror_mode": {
    "name": "ipython",
    "version": 3
   },
   "file_extension": ".py",
   "mimetype": "text/x-python",
   "name": "python",
   "nbconvert_exporter": "python",
   "pygments_lexer": "ipython3",
   "version": "3.8.0"
  }
 },
 "nbformat": 4,
 "nbformat_minor": 2
}
