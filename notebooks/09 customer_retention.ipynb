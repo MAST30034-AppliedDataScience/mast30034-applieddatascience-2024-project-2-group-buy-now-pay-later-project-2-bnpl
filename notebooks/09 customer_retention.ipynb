{
   "cells": [
    {
     "cell_type": "markdown",
     "metadata": {},
     "source": [
      "# Customer retention\n",
      "\n",
      "In this notebook, we will generate features that indicate customer retention for merchants."
     ]
    },
    {
     "cell_type": "code",
     "execution_count": 17,
     "metadata": {},
     "outputs": [],
     "source": [
      "from pyspark.sql import SparkSession\n",
      "from pyspark.sql import functions as F\n",
      "from pyspark.sql.types import *\n",
      "import matplotlib.pyplot as plt\n",
      "import pandas as pd"
     ]
    },
    {
     "cell_type": "code",
     "execution_count": 18,
     "metadata": {},
     "outputs": [],
     "source": [
      "# Create a spark session (which will run spark jobs)\n",
      "spark = (\n",
      "    SparkSession.builder.appName(\"Customer Retention\")\n",
      "    .config(\"spark.sql.repl.eagerEval.enabled\", True) \n",
      "    .config(\"spark.sql.parquet.cacheMetadata\", \"true\")\n",
      "    .config(\"spark.driver.memory\", \"8g\") \n",
      "    .config(\"spark.sql.session.timeZone\", \"Etc/UTC\")\n",
      "    .getOrCreate()\n",
      ")\n",
      "spark.sparkContext.setLogLevel(\"OFF\")"
     ]
    },
    {
     "cell_type": "markdown",
     "metadata": {},
     "source": [
      "Read all data."
     ]
    },
    {
     "cell_type": "code",
     "execution_count": 19,
     "metadata": {},
     "outputs": [
      {
       "name": "stdout",
       "output_type": "stream",
       "text": [
        "root\n",
        " |-- merchant_abn: long (nullable = true)\n",
        " |-- order_datetime: date (nullable = true)\n",
        " |-- user_id: long (nullable = true)\n",
        " |-- dollar_value: double (nullable = true)\n",
        " |-- order_id: string (nullable = true)\n",
        " |-- postcode: string (nullable = true)\n",
        " |-- consumer_fraud: double (nullable = true)\n",
        " |-- merchant_fraud: double (nullable = true)\n",
        "\n",
        "14195505\n"
       ]
      },
      {
       "data": {
        "text/html": [
         "<table border='1'>\n",
         "<tr><th>merchant_abn</th><th>order_datetime</th><th>user_id</th><th>dollar_value</th><th>order_id</th><th>postcode</th><th>consumer_fraud</th><th>merchant_fraud</th></tr>\n",
         "<tr><td>80788167198</td><td>2021-08-20</td><td>44</td><td>158.88701712957197</td><td>360a891b-8271-461...</td><td>5074</td><td>0.0</td><td>0.0</td></tr>\n",
         "<tr><td>37687523474</td><td>2021-08-20</td><td>44</td><td>14.31708123947184</td><td>5c77cc43-b0fd-432...</td><td>5074</td><td>0.0</td><td>0.0</td></tr>\n",
         "<tr><td>43186523025</td><td>2021-08-19</td><td>44</td><td>56.782923459184794</td><td>e75d90e3-2656-4dc...</td><td>5074</td><td>0.0</td><td>0.0</td></tr>\n",
         "<tr><td>33233265647</td><td>2021-08-15</td><td>44</td><td>26.557524640642136</td><td>a9f754e4-af51-463...</td><td>5074</td><td>0.0</td><td>0.0</td></tr>\n",
         "<tr><td>70172340121</td><td>2021-07-15</td><td>44</td><td>139.3475757940659</td><td>71753d60-5634-422...</td><td>5074</td><td>0.0</td><td>0.0</td></tr>\n",
         "</table>\n"
        ],
        "text/plain": [
         "+------------+--------------+-------+------------------+--------------------+--------+--------------+--------------+\n",
         "|merchant_abn|order_datetime|user_id|      dollar_value|            order_id|postcode|consumer_fraud|merchant_fraud|\n",
         "+------------+--------------+-------+------------------+--------------------+--------+--------------+--------------+\n",
         "| 80788167198|    2021-08-20|     44|158.88701712957197|360a891b-8271-461...|    5074|           0.0|           0.0|\n",
         "| 37687523474|    2021-08-20|     44| 14.31708123947184|5c77cc43-b0fd-432...|    5074|           0.0|           0.0|\n",
         "| 43186523025|    2021-08-19|     44|56.782923459184794|e75d90e3-2656-4dc...|    5074|           0.0|           0.0|\n",
         "| 33233265647|    2021-08-15|     44|26.557524640642136|a9f754e4-af51-463...|    5074|           0.0|           0.0|\n",
         "| 70172340121|    2021-07-15|     44| 139.3475757940659|71753d60-5634-422...|    5074|           0.0|           0.0|\n",
         "+------------+--------------+-------+------------------+--------------------+--------+--------------+--------------+"
        ]
       },
       "execution_count": 19,
       "metadata": {},
       "output_type": "execute_result"
      }
     ],
     "source": [
      "all_data_sdf = spark.read.parquet(\"../data/curated/fraud_watch/\")\n",
      "all_data_sdf.printSchema()\n",
      "print(all_data_sdf.count())\n",
      "all_data_sdf.limit(5)"
     ]
    },
    {
     "cell_type": "markdown",
     "metadata": {},
     "source": [
      "## 1. Derive necessary information from merchant-customer relationship.\n",
      "1. Calculate median transaction frequency between each customer and merchant."
     ]
    },
    {
     "cell_type": "code",
     "execution_count": 20,
     "metadata": {},
     "outputs": [
      {
       "name": "stderr",
       "output_type": "stream",
       "text": [
        "[Stage 184:>                                                        (0 + 1) / 1]\r"
       ]
      },
      {
       "name": "stdout",
       "output_type": "stream",
       "text": [
        "+------------+-------+----------------------------+\n",
        "|merchant_abn|user_id|median_transaction_frequency|\n",
        "+------------+-------+----------------------------+\n",
        "| 10023283211|      8|                           1|\n",
        "| 10023283211|     92|                           1|\n",
        "| 10023283211|    101|                           1|\n",
        "| 10023283211|    146|                           1|\n",
        "| 10023283211|    161|                           1|\n",
        "| 10023283211|    173|                           1|\n",
        "| 10023283211|    202|                           1|\n",
        "| 10023283211|    203|                           1|\n",
        "| 10023283211|    272|                           1|\n",
        "| 10023283211|    286|                           1|\n",
        "| 10023283211|    305|                           1|\n",
        "| 10023283211|    343|                           1|\n",
        "| 10023283211|    420|                           1|\n",
        "| 10023283211|    498|                           1|\n",
        "| 10023283211|    550|                           1|\n",
        "| 10023283211|    607|                           1|\n",
        "| 10023283211|    631|                           1|\n",
        "| 10023283211|    663|                           1|\n",
        "| 10023283211|    664|                           1|\n",
        "| 10023283211|    681|                           1|\n",
        "+------------+-------+----------------------------+\n",
        "only showing top 20 rows\n",
        "\n"
       ]
      },
      {
       "name": "stderr",
       "output_type": "stream",
       "text": [
        "                                                                                \r"
       ]
      }
     ],
     "source": [
      "from pyspark.sql import functions as F\n",
      "\n",
      "# Step 1: Extract year and month from the 'order_datetime' field\n",
      "all_data_sdf = all_data_sdf.withColumn(\"year_month\", F.date_format(\"order_datetime\", \"yyyy-MM\"))\n",
      "\n",
      "# Step 2: Group by 'merchant_abn', 'user_id', and 'year_month' to get monthly transaction counts\n",
      "monthly_trans_count = all_data_sdf.groupBy(\"merchant_abn\", \"user_id\", \"year_month\") \\\n",
      "    .agg(F.count(\"order_id\").alias(\"monthly_count\"))\n",
      "\n",
      "# Step 3: Calculate the median transaction frequency for each 'merchant_abn' and 'user_id'\n",
      "# We use approx_percentile to get the median (50th percentile)\n",
      "median_trans_freq_sdf = monthly_trans_count.groupBy(\"merchant_abn\", \"user_id\") \\\n",
      "    .agg(F.expr('percentile_approx(monthly_count, 0.5)').alias('median_transaction_frequency'))\n",
      "\n",
      "# Step 4: Show the new dataframe with unique merchant_abn, user_id, and median_transaction_frequency\n",
      "median_trans_freq_sdf.show()\n"
     ]
    },
    {
     "cell_type": "code",
     "execution_count": 21,
     "metadata": {},
     "outputs": [
      {
       "name": "stderr",
       "output_type": "stream",
       "text": [
        "                                                                                \r"
       ]
      },
      {
       "data": {
        "text/plain": [
         "8516030"
        ]
       },
       "execution_count": 21,
       "metadata": {},
       "output_type": "execute_result"
      }
     ],
     "source": [
      "median_trans_freq_sdf.count()"
     ]
    },
    {
     "cell_type": "markdown",
     "metadata": {},
     "source": [
      "2. Generate a boolean field that indicates whether a customer is a returning customer for a certain merchant.\n",
      "Returning customer is defined by having more than one transaction with the same merchant."
     ]
    },
    {
     "cell_type": "code",
     "execution_count": 22,
     "metadata": {},
     "outputs": [
      {
       "name": "stderr",
       "output_type": "stream",
       "text": [
        "                                                                                \r"
       ]
      },
      {
       "name": "stdout",
       "output_type": "stream",
       "text": [
        "+------------+-------+---------------------+\n",
        "|merchant_abn|user_id|is_returning_customer|\n",
        "+------------+-------+---------------------+\n",
        "| 20985347699|     44|                 true|\n",
        "| 21772962346|     61|                false|\n",
        "| 54272781746|     61|                false|\n",
        "| 72539760068|     61|                false|\n",
        "| 32530636640|    105|                 true|\n",
        "| 59162205130|    123|                false|\n",
        "| 67920961191|    127|                false|\n",
        "| 72231375027|    131|                false|\n",
        "| 94455880010|    132|                false|\n",
        "| 78963299452|    132|                false|\n",
        "| 76819856970|    156|                false|\n",
        "| 38603393734|    156|                false|\n",
        "| 60956456424|    160|                 true|\n",
        "| 96152467973|    160|                 true|\n",
        "| 90087872851|    210|                false|\n",
        "| 87630626808|    218|                false|\n",
        "| 32361057556|    218|                 true|\n",
        "| 76646764782|    218|                false|\n",
        "| 74648589246|    218|                false|\n",
        "| 62773208456|    218|                false|\n",
        "+------------+-------+---------------------+\n",
        "only showing top 20 rows\n",
        "\n"
       ]
      },
      {
       "name": "stderr",
       "output_type": "stream",
       "text": [
        "[Stage 194:================================================>        (6 + 1) / 7]\r"
       ]
      },
      {
       "name": "stdout",
       "output_type": "stream",
       "text": [
        "+------------+-------+-----------------+---------------------+\n",
        "|merchant_abn|user_id|transaction_count|is_returning_customer|\n",
        "+------------+-------+-----------------+---------------------+\n",
        "| 20985347699|     44|                5|                 true|\n",
        "| 21772962346|     61|                1|                false|\n",
        "| 54272781746|     61|                1|                false|\n",
        "| 72539760068|     61|                1|                false|\n",
        "| 32530636640|    105|                2|                 true|\n",
        "| 59162205130|    123|                1|                false|\n",
        "| 67920961191|    127|                1|                false|\n",
        "| 72231375027|    131|                1|                false|\n",
        "| 94455880010|    132|                1|                false|\n",
        "| 78963299452|    132|                1|                false|\n",
        "| 76819856970|    156|                1|                false|\n",
        "| 38603393734|    156|                1|                false|\n",
        "| 60956456424|    160|                2|                 true|\n",
        "| 96152467973|    160|                6|                 true|\n",
        "| 90087872851|    210|                1|                false|\n",
        "| 87630626808|    218|                1|                false|\n",
        "| 32361057556|    218|                3|                 true|\n",
        "| 76646764782|    218|                1|                false|\n",
        "| 74648589246|    218|                1|                false|\n",
        "| 62773208456|    218|                1|                false|\n",
        "+------------+-------+-----------------+---------------------+\n",
        "only showing top 20 rows\n",
        "\n"
       ]
      },
      {
       "name": "stderr",
       "output_type": "stream",
       "text": [
        "                                                                                \r"
       ]
      }
     ],
     "source": [
      "from pyspark.sql import functions as F\n",
      "\n",
      "# Step 1: Group by 'merchant_abn' and 'user_id' to count transactions\n",
      "customer_transaction_count = all_data_sdf.groupBy(\"merchant_abn\", \"user_id\") \\\n",
      "    .agg(F.count(\"order_id\").alias(\"transaction_count\"))\n",
      "\n",
      "# Step 2: Create a boolean column indicating if the customer is returning (more than 1 transaction)\n",
      "returning_customer_sdf = customer_transaction_count.withColumn(\n",
      "    \"is_returning_customer\", F.when(F.col(\"transaction_count\") > 1, True).otherwise(False)\n",
      ")\n",
      "\n",
      "# Step 3: Show the resulting DataFrame\n",
      "returning_customer_sdf.select(\"merchant_abn\", \"user_id\", \"is_returning_customer\").show()\n",
      "\n",
      "returning_customer_sdf.show()"
     ]
    },
    {
     "cell_type": "code",
     "execution_count": 23,
     "metadata": {},
     "outputs": [
      {
       "name": "stderr",
       "output_type": "stream",
       "text": [
        "                                                                                \r"
       ]
      },
      {
       "data": {
        "text/plain": [
         "8516030"
        ]
       },
       "execution_count": 23,
       "metadata": {},
       "output_type": "execute_result"
      }
     ],
     "source": [
      "returning_customer_sdf.count()"
     ]
    },
    {
     "cell_type": "markdown",
     "metadata": {},
     "source": [
      "3. Find median transaction value between each merchant and customer."
     ]
    },
    {
     "cell_type": "code",
     "execution_count": 24,
     "metadata": {},
     "outputs": [
      {
       "name": "stderr",
       "output_type": "stream",
       "text": [
        "[Stage 205:>                                                        (0 + 1) / 1]\r"
       ]
      },
      {
       "name": "stdout",
       "output_type": "stream",
       "text": [
        "+------------+-------+------------------------+\n",
        "|merchant_abn|user_id|median_transaction_value|\n",
        "+------------+-------+------------------------+\n",
        "| 10023283211|      8|       136.7615502894258|\n",
        "| 10023283211|     92|       177.5094366501849|\n",
        "| 10023283211|    101|      483.59840138297426|\n",
        "| 10023283211|    146|       431.8016693626082|\n",
        "| 10023283211|    161|       521.6673071603941|\n",
        "| 10023283211|    202|      284.28664583466747|\n",
        "| 10023283211|    203|      166.81817823131036|\n",
        "| 10023283211|    272|      133.66493133608301|\n",
        "| 10023283211|    286|      132.59732196566966|\n",
        "| 10023283211|    305|      371.08447815885035|\n",
        "| 10023283211|    343|       105.5363273968829|\n",
        "| 10023283211|    420|       160.8661966406608|\n",
        "| 10023283211|    498|       553.1415762513716|\n",
        "| 10023283211|    550|       199.6245878601543|\n",
        "| 10023283211|    607|       152.5873079647273|\n",
        "| 10023283211|    631|       277.9883720791882|\n",
        "| 10023283211|    663|      278.50462723411687|\n",
        "| 10023283211|    664|      163.55448992736993|\n",
        "| 10023283211|    681|       423.2649125380065|\n",
        "| 10023283211|    722|      294.83093237438436|\n",
        "+------------+-------+------------------------+\n",
        "only showing top 20 rows\n",
        "\n"
       ]
      },
      {
       "name": "stderr",
       "output_type": "stream",
       "text": [
        "                                                                                \r"
       ]
      }
     ],
     "source": [
      "from pyspark.sql import functions as F\n",
      "\n",
      "# Step 1: Group by 'merchant_abn' and 'user_id', then calculate the median transaction value\n",
      "median_transaction_value_sdf = all_data_sdf.groupBy(\"merchant_abn\", \"user_id\") \\\n",
      "    .agg(F.expr('percentile_approx(dollar_value, 0.5)').alias('median_transaction_value'))\n",
      "\n",
      "# Step 2: Show the resulting DataFrame with merchant_abn, user_id, and median transaction value\n",
      "median_transaction_value_sdf.show()\n"
     ]
    },
    {
     "cell_type": "markdown",
     "metadata": {},
     "source": [
      "Now join these new columns together, on key (merchant_abn, user_id)."
     ]
    },
    {
     "cell_type": "code",
     "execution_count": 25,
     "metadata": {},
     "outputs": [
      {
       "name": "stderr",
       "output_type": "stream",
       "text": [
        "[Stage 215:>                                                        (0 + 1) / 1]\r"
       ]
      },
      {
       "name": "stdout",
       "output_type": "stream",
       "text": [
        "+------------+-------+----------------------------+------------------------+-----------------+---------------------+\n",
        "|merchant_abn|user_id|median_transaction_frequency|median_transaction_value|transaction_count|is_returning_customer|\n",
        "+------------+-------+----------------------------+------------------------+-----------------+---------------------+\n",
        "| 10023283211|     92|                           1|       177.5094366501849|                1|                false|\n",
        "| 10023283211|    101|                           1|      483.59840138297426|                1|                false|\n",
        "| 10023283211|    161|                           1|       521.6673071603941|                1|                false|\n",
        "| 10023283211|    272|                           1|      133.66493133608301|                1|                false|\n",
        "| 10023283211|    286|                           1|      132.59732196566966|                1|                false|\n",
        "| 10023283211|    343|                           1|       105.5363273968829|                1|                false|\n",
        "| 10023283211|    550|                           1|       199.6245878601543|                1|                false|\n",
        "| 10023283211|    607|                           1|       152.5873079647273|                1|                false|\n",
        "| 10023283211|    631|                           1|       277.9883720791882|                1|                false|\n",
        "| 10023283211|    663|                           1|      278.50462723411687|                1|                false|\n",
        "| 10023283211|    736|                           1|      158.33066793763493|                1|                false|\n",
        "| 10023283211|    783|                           1|      179.82660376858067|                1|                false|\n",
        "| 10023283211|    900|                           1|      152.23320398469195|                1|                false|\n",
        "| 10023283211|    904|                           1|      133.46472255818236|                2|                 true|\n",
        "| 10023283211|    913|                           1|      367.01918606316354|                1|                false|\n",
        "| 10023283211|    926|                           1|      344.59357831913866|                1|                false|\n",
        "| 10023283211|   1003|                           1|      22.108292788840235|                1|                false|\n",
        "| 10023283211|   1126|                           1|      218.24789332638656|                1|                false|\n",
        "| 10023283211|   1398|                           1|      166.55436593880225|                1|                false|\n",
        "| 10023283211|   1468|                           1|      189.10030026639157|                1|                false|\n",
        "+------------+-------+----------------------------+------------------------+-----------------+---------------------+\n",
        "only showing top 20 rows\n",
        "\n"
       ]
      },
      {
       "name": "stderr",
       "output_type": "stream",
       "text": [
        "                                                                                \r"
       ]
      }
     ],
     "source": [
      "from pyspark.sql import functions as F\n",
      "\n",
      "# Using the following dataframes:\n",
      "# 1. median_trans_freq_sdf: Contains 'merchant_abn', 'user_id', and 'median_transaction_frequency'\n",
      "# 2. median_transaction_value_sdf: Contains 'merchant_abn', 'user_id', and 'median_transaction_value'\n",
      "# 3. returning_customer_sdf: Contains 'merchant_abn', 'user_id', and 'is_returning_customer'\n",
      "\n",
      "# Step 1: Join median transaction frequency with median transaction value\n",
      "merchant_customer_sdf = median_trans_freq_sdf.join(\n",
      "    median_transaction_value_sdf,\n",
      "    on=[\"merchant_abn\", \"user_id\"],\n",
      "    how=\"left\"\n",
      ")\n",
      "\n",
      "# Step 2: Join the result with the returning customer DataFrame\n",
      "merchant_customer_sdf = merchant_customer_sdf.join(\n",
      "    returning_customer_sdf,\n",
      "    on=[\"merchant_abn\", \"user_id\"],\n",
      "    how=\"left\"\n",
      ")\n",
      "\n",
      "# Step 3: Show the final result\n",
      "merchant_customer_sdf.show()\n"
     ]
    },
    {
     "cell_type": "markdown",
     "metadata": {},
     "source": [
      "Now we have information for merchant-customer relationship on:\n",
      "1. median_transaction_frequency\n",
      "2. is_returning_customer\n",
      "3. median_transaction_value"
     ]
    },
    {
     "cell_type": "markdown",
     "metadata": {},
     "source": [
      "Do some visualisation to check for reasonableness."
     ]
    },
    {
     "cell_type": "code",
     "execution_count": 26,
     "metadata": {},
     "outputs": [
      {
       "name": "stderr",
       "output_type": "stream",
       "text": [
        "                                                                                \r"
       ]
      },
      {
       "data": {
        "image/png": "[encoded data removed]",
        "text/plain": [
         "<Figure size 1000x500 with 1 Axes>"
        ]
       },
       "metadata": {},
       "output_type": "display_data"
      },
      {
       "data": {
        "image/png": "[encoded data removed]",
        "text/plain": [
         "<Figure size 1000x500 with 1 Axes>"
        ]
       },
       "metadata": {},
       "output_type": "display_data"
      },
      {
       "data": {
        "image/png": "[encoded data removed]",
        "text/plain": [
         "<Figure size 1000x500 with 1 Axes>"
        ]
       },
       "metadata": {},
       "output_type": "display_data"
      }
     ],
     "source": [
      "# This cell takes a while to run. \n",
      "\n",
      "# Step 1: Take a 1% sample of the Spark DataFrame (without replacement)\n",
      "merchant_customer_sample_sdf = merchant_customer_sdf.sample(fraction=0.0001, seed=42)\n",
      "\n",
      "# Step 2: Convert the sampled Spark DataFrame to Pandas DataFrame\n",
      "merchant_customer_pdf = merchant_customer_sample_sdf.toPandas()\n",
      "\n",
      "# Step 3: Visualize distributions using the Pandas DataFrame\n",
      "\n",
      "# Median Transaction Frequency Distribution\n",
      "plt.figure(figsize=(10, 5))\n",
      "plt.hist(merchant_customer_pdf['median_transaction_frequency'], bins=10, color='blue', edgecolor='black')\n",
      "plt.title('Distribution of Median Transaction Frequency')\n",
      "plt.xlabel('Median Transaction Frequency')\n",
      "plt.ylabel('Frequency')\n",
      "plt.grid(True)\n",
      "plt.show()\n",
      "\n",
      "# Median Transaction Value Distribution\n",
      "plt.figure(figsize=(10, 5))\n",
      "plt.hist(merchant_customer_pdf['median_transaction_value'], bins=10, color='green', edgecolor='black')\n",
      "plt.title('Distribution of Median Transaction Value')\n",
      "plt.xlabel('Median Transaction Value')\n",
      "plt.ylabel('Frequency')\n",
      "plt.grid(True)\n",
      "plt.show()\n",
      "\n",
      "# Is Returning Customer Distribution (Boolean Distribution)\n",
      "plt.figure(figsize=(10, 5))\n",
      "merchant_customer_pdf['is_returning_customer'].value_counts().plot(kind='bar', color='orange', edgecolor='black')\n",
      "plt.title('Distribution of Returning Customers')\n",
      "plt.xlabel('Is Returning Customer')\n",
      "plt.ylabel('Count')\n",
      "plt.xticks([0, 1], ['True', 'False'], rotation=0)\n",
      "plt.grid(True)\n",
      "plt.show()\n"
     ]
    },
    {
     "cell_type": "markdown",
     "metadata": {},
     "source": [
      "## 2. Aggregate information by merchant\n",
      "\n",
      "1. Count number of customers per merchant.\n",
      "2. Find proprotion of returning customers per merchant.\n",
      "3. Find median of median monthly customer transaction frequencies.\n",
      "4. Find median of median customer transaction value."
     ]
    },
    {
     "cell_type": "code",
     "execution_count": 27,
     "metadata": {},
     "outputs": [
      {
       "name": "stderr",
       "output_type": "stream",
       "text": [
        "                                                                                \r"
       ]
      },
      {
       "name": "stdout",
       "output_type": "stream",
       "text": [
        "+------------+-------------------+-----------------------------+\n",
        "|merchant_abn|number_of_customers|returning_customer_proportion|\n",
        "+------------+-------------------+-----------------------------+\n",
        "| 12516851436|                210|                          0.0|\n",
        "| 15613631617|               1714|         0.039089848308051345|\n",
        "| 19839532017|                714|          0.01680672268907563|\n",
        "| 24406529929|               3826|          0.08651332984840565|\n",
        "| 28767881738|                  4|                          0.0|\n",
        "| 34440496342|                215|                          0.0|\n",
        "| 35344855546|               1477|          0.03046716316858497|\n",
        "| 37935728745|                 14|                          0.0|\n",
        "| 38700038932|               6170|            0.139870340356564|\n",
        "| 38986645707|                 42|                          0.0|\n",
        "| 41956465747|                278|         0.003597122302158...|\n",
        "| 48214071373|                535|         0.009345794392523364|\n",
        "| 52763133264|                125|                          0.0|\n",
        "| 56395390867|                 47|                          0.0|\n",
        "| 57798993346|                 18|                          0.0|\n",
        "| 60654402457|                198|         0.005050505050505051|\n",
        "| 73256306726|               4717|          0.11002755988976044|\n",
        "| 73841664453|                938|         0.022388059701492536|\n",
        "| 78916025936|                 66|         0.015151515151515152|\n",
        "| 83412691377|              10770|          0.26945218198700094|\n",
        "+------------+-------------------+-----------------------------+\n",
        "only showing top 20 rows\n",
        "\n"
       ]
      },
      {
       "data": {
        "text/plain": [
         "4422"
        ]
       },
       "execution_count": 27,
       "metadata": {},
       "output_type": "execute_result"
      }
     ],
     "source": [
      "from pyspark.sql import functions as F\n",
      "\n",
      "# Calculate number of customers, returning customer proportion, and medians\n",
      "merchant_aggregated_sdf = merchant_customer_sdf.groupBy(\"merchant_abn\").agg(\n",
      "    # Number of unique customers\n",
      "    F.countDistinct(\"user_id\").alias(\"number_of_customers\"),\n",
      "    \n",
      "    # Returning customer proportion\n",
      "    (F.sum(F.when(F.col(\"is_returning_customer\") == True, 1).otherwise(0)) / \n",
      "     F.countDistinct(\"user_id\")).alias(\"returning_customer_proportion\"),\n",
      ")\n",
      "\n",
      "# Show the result\n",
      "merchant_aggregated_sdf.show()\n",
      "merchant_aggregated_sdf.count()\n"
     ]
    },
    {
     "cell_type": "code",
     "execution_count": 29,
     "metadata": {},
     "outputs": [
      {
       "name": "stderr",
       "output_type": "stream",
       "text": [
        "                                                                                \r"
       ]
      }
     ],
     "source": [
      "merchant_aggregated_sdf.write.parquet(\"../data/curated/customer_retention/\")"
     ]
    },
    {
     "cell_type": "code",
     "execution_count": 13,
     "metadata": {},
     "outputs": [
      {
       "name": "stderr",
       "output_type": "stream",
       "text": [
        "[Stage 91:=========================================>                (5 + 2) / 7]\r"
       ]
      },
      {
       "name": "stdout",
       "output_type": "stream",
       "text": [
        "+------------+----------------------------+------------------------+\n",
        "|merchant_abn|median_transaction_frequency|median_transaction_value|\n",
        "+------------+----------------------------+------------------------+\n",
        "| 10023283211|                           1|      178.11716932508506|\n",
        "| 10323485998|                           1|       92.82797065210569|\n",
        "| 10342410215|                           1|        317.875081131046|\n",
        "| 10346855916|                           1|      1823.1077727510717|\n",
        "| 10385163239|                           1|      305.48250363857954|\n",
        "| 10648956813|                           1|       59.45392193903542|\n",
        "| 10672322914|                           1|      3836.7974948713386|\n",
        "| 10714068705|                           1|       96.71305150845842|\n",
        "| 10930486968|                           1|        98.3588156585886|\n",
        "| 11024352823|                           1|       191.3462831350267|\n",
        "| 11076688542|                           1|       717.8094945703767|\n",
        "| 11121775571|                           1|       35.37021028040188|\n",
        "| 11173270682|                           1|       162.4637673891538|\n",
        "| 11243046390|                           1|      193.36040166544768|\n",
        "| 11304124014|                           1|       189.2106459645047|\n",
        "| 11439466003|                           1|       89.84072408913009|\n",
        "| 11588046517|                           1|      500.33574602044877|\n",
        "| 11633090957|                           1|      110.54430899982181|\n",
        "| 11700214701|                           1|       524.7486014499399|\n",
        "| 11788487195|                           1|       937.7323130831911|\n",
        "+------------+----------------------------+------------------------+\n",
        "only showing top 20 rows\n",
        "\n"
       ]
      },
      {
       "name": "stderr",
       "output_type": "stream",
       "text": [
        "                                                                                \r"
       ]
      }
     ],
     "source": [
      "merchant_two_aggregated_sdf = merchant_customer_sdf.groupBy(\"merchant_abn\").agg(\n",
      "    # Median transaction frequency\n",
      "    F.expr('percentile_approx(median_transaction_frequency, 0.5)').alias('median_transaction_frequency'),\n",
      "    \n",
      "    # Median transaction value\n",
      "    F.expr('percentile_approx(median_transaction_value, 0.5)').alias('median_transaction_value'),\n",
      ")\n",
      "merchant_two_aggregated_sdf.show()"
     ]
    },
    {
     "cell_type": "code",
     "execution_count": 16,
     "metadata": {},
     "outputs": [
      {
       "name": "stderr",
       "output_type": "stream",
       "text": [
        "ERROR:root:KeyboardInterrupt while sending command.                             \n",
        "Traceback (most recent call last):\n",
        "  File \"/usr/local/python/3.12.1/lib/python3.12/site-packages/py4j/java_gateway.py\", line 1038, in send_command\n",
        "    response = connection.send_command(command)\n",
        "               ^^^^^^^^^^^^^^^^^^^^^^^^^^^^^^^^\n",
        "  File \"/usr/local/python/3.12.1/lib/python3.12/site-packages/py4j/clientserver.py\", line 511, in send_command\n",
        "    answer = smart_decode(self.stream.readline()[:-1])\n",
        "                          ^^^^^^^^^^^^^^^^^^^^^^\n",
        "  File \"/usr/local/python/3.12.1/lib/python3.12/socket.py\", line 707, in readinto\n",
        "    return self._sock.recv_into(b)\n",
        "           ^^^^^^^^^^^^^^^^^^^^^^^\n",
        "KeyboardInterrupt\n"
       ]
      },
      {
       "ename": "KeyboardInterrupt",
       "evalue": "",
       "output_type": "error",
       "traceback": [
        "\u001b[0;31m---------------------------------------------------------------------------\u001b[0m",
        "\u001b[0;31mKeyboardInterrupt\u001b[0m                         Traceback (most recent call last)",
        "Cell \u001b[0;32mIn[16], line 1\u001b[0m\n\u001b[0;32m----> 1\u001b[0m \u001b[43mmerchant_aggregated_sdf\u001b[49m\u001b[38;5;241;43m.\u001b[39;49m\u001b[43mshow\u001b[49m\u001b[43m(\u001b[49m\u001b[43m)\u001b[49m\n",
        "File \u001b[0;32m/usr/local/python/3.12.1/lib/python3.12/site-packages/pyspark/sql/dataframe.py:947\u001b[0m, in \u001b[0;36mDataFrame.show\u001b[0;34m(self, n, truncate, vertical)\u001b[0m\n\u001b[1;32m    887\u001b[0m \u001b[38;5;28;01mdef\u001b[39;00m \u001b[38;5;21mshow\u001b[39m(\u001b[38;5;28mself\u001b[39m, n: \u001b[38;5;28mint\u001b[39m \u001b[38;5;241m=\u001b[39m \u001b[38;5;241m20\u001b[39m, truncate: Union[\u001b[38;5;28mbool\u001b[39m, \u001b[38;5;28mint\u001b[39m] \u001b[38;5;241m=\u001b[39m \u001b[38;5;28;01mTrue\u001b[39;00m, vertical: \u001b[38;5;28mbool\u001b[39m \u001b[38;5;241m=\u001b[39m \u001b[38;5;28;01mFalse\u001b[39;00m) \u001b[38;5;241m-\u001b[39m\u001b[38;5;241m>\u001b[39m \u001b[38;5;28;01mNone\u001b[39;00m:\n\u001b[1;32m    888\u001b[0m \u001b[38;5;250m    \u001b[39m\u001b[38;5;124;03m\"\"\"Prints the first ``n`` rows to the console.\u001b[39;00m\n\u001b[1;32m    889\u001b[0m \n\u001b[1;32m    890\u001b[0m \u001b[38;5;124;03m    .. versionadded:: 1.3.0\u001b[39;00m\n\u001b[0;32m   (...)\u001b[0m\n\u001b[1;32m    945\u001b[0m \u001b[38;5;124;03m    name | Bob\u001b[39;00m\n\u001b[1;32m    946\u001b[0m \u001b[38;5;124;03m    \"\"\"\u001b[39;00m\n\u001b[0;32m--> 947\u001b[0m     \u001b[38;5;28mprint\u001b[39m(\u001b[38;5;28;43mself\u001b[39;49m\u001b[38;5;241;43m.\u001b[39;49m\u001b[43m_show_string\u001b[49m\u001b[43m(\u001b[49m\u001b[43mn\u001b[49m\u001b[43m,\u001b[49m\u001b[43m \u001b[49m\u001b[43mtruncate\u001b[49m\u001b[43m,\u001b[49m\u001b[43m \u001b[49m\u001b[43mvertical\u001b[49m\u001b[43m)\u001b[49m)\n",
        "File \u001b[0;32m/usr/local/python/3.12.1/lib/python3.12/site-packages/pyspark/sql/dataframe.py:965\u001b[0m, in \u001b[0;36mDataFrame._show_string\u001b[0;34m(self, n, truncate, vertical)\u001b[0m\n\u001b[1;32m    959\u001b[0m     \u001b[38;5;28;01mraise\u001b[39;00m PySparkTypeError(\n\u001b[1;32m    960\u001b[0m         error_class\u001b[38;5;241m=\u001b[39m\u001b[38;5;124m\"\u001b[39m\u001b[38;5;124mNOT_BOOL\u001b[39m\u001b[38;5;124m\"\u001b[39m,\n\u001b[1;32m    961\u001b[0m         message_parameters\u001b[38;5;241m=\u001b[39m{\u001b[38;5;124m\"\u001b[39m\u001b[38;5;124marg_name\u001b[39m\u001b[38;5;124m\"\u001b[39m: \u001b[38;5;124m\"\u001b[39m\u001b[38;5;124mvertical\u001b[39m\u001b[38;5;124m\"\u001b[39m, \u001b[38;5;124m\"\u001b[39m\u001b[38;5;124marg_type\u001b[39m\u001b[38;5;124m\"\u001b[39m: \u001b[38;5;28mtype\u001b[39m(vertical)\u001b[38;5;241m.\u001b[39m\u001b[38;5;18m__name__\u001b[39m},\n\u001b[1;32m    962\u001b[0m     )\n\u001b[1;32m    964\u001b[0m \u001b[38;5;28;01mif\u001b[39;00m \u001b[38;5;28misinstance\u001b[39m(truncate, \u001b[38;5;28mbool\u001b[39m) \u001b[38;5;129;01mand\u001b[39;00m truncate:\n\u001b[0;32m--> 965\u001b[0m     \u001b[38;5;28;01mreturn\u001b[39;00m \u001b[38;5;28;43mself\u001b[39;49m\u001b[38;5;241;43m.\u001b[39;49m\u001b[43m_jdf\u001b[49m\u001b[38;5;241;43m.\u001b[39;49m\u001b[43mshowString\u001b[49m\u001b[43m(\u001b[49m\u001b[43mn\u001b[49m\u001b[43m,\u001b[49m\u001b[43m \u001b[49m\u001b[38;5;241;43m20\u001b[39;49m\u001b[43m,\u001b[49m\u001b[43m \u001b[49m\u001b[43mvertical\u001b[49m\u001b[43m)\u001b[49m\n\u001b[1;32m    966\u001b[0m \u001b[38;5;28;01melse\u001b[39;00m:\n\u001b[1;32m    967\u001b[0m     \u001b[38;5;28;01mtry\u001b[39;00m:\n",
        "File \u001b[0;32m/usr/local/python/3.12.1/lib/python3.12/site-packages/py4j/java_gateway.py:1321\u001b[0m, in \u001b[0;36mJavaMember.__call__\u001b[0;34m(self, *args)\u001b[0m\n\u001b[1;32m   1314\u001b[0m args_command, temp_args \u001b[38;5;241m=\u001b[39m \u001b[38;5;28mself\u001b[39m\u001b[38;5;241m.\u001b[39m_build_args(\u001b[38;5;241m*\u001b[39margs)\n\u001b[1;32m   1316\u001b[0m command \u001b[38;5;241m=\u001b[39m proto\u001b[38;5;241m.\u001b[39mCALL_COMMAND_NAME \u001b[38;5;241m+\u001b[39m\\\n\u001b[1;32m   1317\u001b[0m     \u001b[38;5;28mself\u001b[39m\u001b[38;5;241m.\u001b[39mcommand_header \u001b[38;5;241m+\u001b[39m\\\n\u001b[1;32m   1318\u001b[0m     args_command \u001b[38;5;241m+\u001b[39m\\\n\u001b[1;32m   1319\u001b[0m     proto\u001b[38;5;241m.\u001b[39mEND_COMMAND_PART\n\u001b[0;32m-> 1321\u001b[0m answer \u001b[38;5;241m=\u001b[39m \u001b[38;5;28;43mself\u001b[39;49m\u001b[38;5;241;43m.\u001b[39;49m\u001b[43mgateway_client\u001b[49m\u001b[38;5;241;43m.\u001b[39;49m\u001b[43msend_command\u001b[49m\u001b[43m(\u001b[49m\u001b[43mcommand\u001b[49m\u001b[43m)\u001b[49m\n\u001b[1;32m   1322\u001b[0m return_value \u001b[38;5;241m=\u001b[39m get_return_value(\n\u001b[1;32m   1323\u001b[0m     answer, \u001b[38;5;28mself\u001b[39m\u001b[38;5;241m.\u001b[39mgateway_client, \u001b[38;5;28mself\u001b[39m\u001b[38;5;241m.\u001b[39mtarget_id, \u001b[38;5;28mself\u001b[39m\u001b[38;5;241m.\u001b[39mname)\n\u001b[1;32m   1325\u001b[0m \u001b[38;5;28;01mfor\u001b[39;00m temp_arg \u001b[38;5;129;01min\u001b[39;00m temp_args:\n",
        "File \u001b[0;32m/usr/local/python/3.12.1/lib/python3.12/site-packages/py4j/java_gateway.py:1038\u001b[0m, in \u001b[0;36mGatewayClient.send_command\u001b[0;34m(self, command, retry, binary)\u001b[0m\n\u001b[1;32m   1036\u001b[0m connection \u001b[38;5;241m=\u001b[39m \u001b[38;5;28mself\u001b[39m\u001b[38;5;241m.\u001b[39m_get_connection()\n\u001b[1;32m   1037\u001b[0m \u001b[38;5;28;01mtry\u001b[39;00m:\n\u001b[0;32m-> 1038\u001b[0m     response \u001b[38;5;241m=\u001b[39m \u001b[43mconnection\u001b[49m\u001b[38;5;241;43m.\u001b[39;49m\u001b[43msend_command\u001b[49m\u001b[43m(\u001b[49m\u001b[43mcommand\u001b[49m\u001b[43m)\u001b[49m\n\u001b[1;32m   1039\u001b[0m     \u001b[38;5;28;01mif\u001b[39;00m binary:\n\u001b[1;32m   1040\u001b[0m         \u001b[38;5;28;01mreturn\u001b[39;00m response, \u001b[38;5;28mself\u001b[39m\u001b[38;5;241m.\u001b[39m_create_connection_guard(connection)\n",
        "File \u001b[0;32m/usr/local/python/3.12.1/lib/python3.12/site-packages/py4j/clientserver.py:511\u001b[0m, in \u001b[0;36mClientServerConnection.send_command\u001b[0;34m(self, command)\u001b[0m\n\u001b[1;32m    509\u001b[0m \u001b[38;5;28;01mtry\u001b[39;00m:\n\u001b[1;32m    510\u001b[0m     \u001b[38;5;28;01mwhile\u001b[39;00m \u001b[38;5;28;01mTrue\u001b[39;00m:\n\u001b[0;32m--> 511\u001b[0m         answer \u001b[38;5;241m=\u001b[39m smart_decode(\u001b[38;5;28;43mself\u001b[39;49m\u001b[38;5;241;43m.\u001b[39;49m\u001b[43mstream\u001b[49m\u001b[38;5;241;43m.\u001b[39;49m\u001b[43mreadline\u001b[49m\u001b[43m(\u001b[49m\u001b[43m)\u001b[49m[:\u001b[38;5;241m-\u001b[39m\u001b[38;5;241m1\u001b[39m])\n\u001b[1;32m    512\u001b[0m         logger\u001b[38;5;241m.\u001b[39mdebug(\u001b[38;5;124m\"\u001b[39m\u001b[38;5;124mAnswer received: \u001b[39m\u001b[38;5;132;01m{0}\u001b[39;00m\u001b[38;5;124m\"\u001b[39m\u001b[38;5;241m.\u001b[39mformat(answer))\n\u001b[1;32m    513\u001b[0m         \u001b[38;5;66;03m# Happens when a the other end is dead. There might be an empty\u001b[39;00m\n\u001b[1;32m    514\u001b[0m         \u001b[38;5;66;03m# answer before the socket raises an error.\u001b[39;00m\n",
        "File \u001b[0;32m/usr/local/python/3.12.1/lib/python3.12/socket.py:707\u001b[0m, in \u001b[0;36mSocketIO.readinto\u001b[0;34m(self, b)\u001b[0m\n\u001b[1;32m    705\u001b[0m \u001b[38;5;28;01mwhile\u001b[39;00m \u001b[38;5;28;01mTrue\u001b[39;00m:\n\u001b[1;32m    706\u001b[0m     \u001b[38;5;28;01mtry\u001b[39;00m:\n\u001b[0;32m--> 707\u001b[0m         \u001b[38;5;28;01mreturn\u001b[39;00m \u001b[38;5;28;43mself\u001b[39;49m\u001b[38;5;241;43m.\u001b[39;49m\u001b[43m_sock\u001b[49m\u001b[38;5;241;43m.\u001b[39;49m\u001b[43mrecv_into\u001b[49m\u001b[43m(\u001b[49m\u001b[43mb\u001b[49m\u001b[43m)\u001b[49m\n\u001b[1;32m    708\u001b[0m     \u001b[38;5;28;01mexcept\u001b[39;00m timeout:\n\u001b[1;32m    709\u001b[0m         \u001b[38;5;28mself\u001b[39m\u001b[38;5;241m.\u001b[39m_timeout_occurred \u001b[38;5;241m=\u001b[39m \u001b[38;5;28;01mTrue\u001b[39;00m\n",
        "\u001b[0;31mKeyboardInterrupt\u001b[0m: "
       ]
      }
     ],
     "source": [
      "merchant_aggregated_sdf.show()"
     ]
    }
   ],
   "metadata": {
    "kernelspec": {
     "display_name": "venv",
     "language": "python",
     "name": "python3"
    },
    "language_info": {
     "codemirror_mode": {
      "name": "ipython",
      "version": 3
     },
     "file_extension": ".py",
     "mimetype": "text/x-python",
     "name": "python",
     "nbconvert_exporter": "python",
     "pygments_lexer": "ipython3",
     "version": "3.12.1"
    }
   },
   "nbformat": 4,
   "nbformat_minor": 2
  }