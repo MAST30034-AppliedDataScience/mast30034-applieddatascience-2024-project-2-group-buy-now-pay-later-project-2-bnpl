{
 "cells": [
  {
   "cell_type": "markdown",
   "id": "dfa2f251-b7f9-4473-869b-6a1874419323",
   "metadata": {},
   "source": [
    "# Data Cleaning\n",
    "In this session, we will do same basic cleaning steps on the main datasets"
   ]
  },
  {
   "cell_type": "code",
   "execution_count": 2,
   "id": "d4df2ebf-e754-4efd-b9d6-15e7748fa5a9",
   "metadata": {},
   "outputs": [],
   "source": [
    "from pyspark.sql import SparkSession\n",
    "from pyspark.sql import functions as F\n",
    "import shapefile as shp\n",
    "import pandas as pd\n",
    "import numpy as np\n",
    "import os"
   ]
  },
  {
   "cell_type": "code",
   "execution_count": 3,
   "id": "e6152431-6b96-4c2d-b79e-22b3bc657fbd",
   "metadata": {},
   "outputs": [
    {
     "name": "stderr",
     "output_type": "stream",
     "text": [
      "24/09/11 09:55:19 WARN Utils: Your hostname, LAPTOP-406UJ3L3 resolves to a loopback address: 127.0.1.1; using 172.22.101.212 instead (on interface eth0)\n",
      "24/09/11 09:55:19 WARN Utils: Set SPARK_LOCAL_IP if you need to bind to another address\n",
      "Setting default log level to \"WARN\".\n",
      "To adjust logging level use sc.setLogLevel(newLevel). For SparkR, use setLogLevel(newLevel).\n",
      "24/09/11 09:55:21 WARN NativeCodeLoader: Unable to load native-hadoop library for your platform... using builtin-java classes where applicable\n",
      "24/09/11 09:55:21 WARN Utils: Service 'SparkUI' could not bind on port 4040. Attempting port 4041.\n"
     ]
    }
   ],
   "source": [
    "# Create a spark session (which will run spark jobs)\n",
    "spark = (\n",
    "    SparkSession.builder.appName(\"Data Cleaning\")\n",
    "    .config(\"spark.sql.repl.eagerEval.enabled\", True) \n",
    "    .config(\"spark.sql.parquet.cacheMetadata\", \"true\")\n",
    "    .config(\"spark.driver.memory\", \"9g\") \n",
    "    .config(\"spark.sql.session.timeZone\", \"Etc/UTC\")\n",
    "    .getOrCreate()\n",
    ")\n",
    "spark.sparkContext.setLogLevel(\"OFF\")"
   ]
  },
  {
   "cell_type": "markdown",
   "id": "b29780e6-5c75-447b-a13a-6e77f1806d73",
   "metadata": {},
   "source": [
    "# Load dataset"
   ]
  },
  {
   "cell_type": "markdown",
   "id": "bc5a387a-0e5d-4873-9673-7415e1079766",
   "metadata": {},
   "source": [
    "We have 3 kinds of dataset: transactions, consumer, merchant. We aim to find top 100 merchants we should accept, so, let's look at merchant dataset."
   ]
  },
  {
   "cell_type": "markdown",
   "id": "06b3cae1-7821-42cd-a2e2-44033145ff07",
   "metadata": {},
   "source": [
    "## 1. Merchants"
   ]
  },
  {
   "cell_type": "code",
   "execution_count": null,
   "id": "5ad33cc5-9a6d-45ee-b362-ee16dc5e01e0",
   "metadata": {},
   "outputs": [],
   "source": [
    "# Information on merchants\n",
    "merchant = spark.read.parquet(\"../data/tables/part_1/tbl_merchants.parquet\")\n",
    "\n",
    "# Information on merchant's fraud probability\n",
    "merchant_fraud_prob = pd.read_csv(\"../data/tables/part_1/merchant_fraud_probability.csv\")"
   ]
  },
  {
   "cell_type": "code",
   "execution_count": null,
   "id": "e168e491-d52c-46b7-8710-bba84dc88a26",
   "metadata": {},
   "outputs": [],
   "source": [
    "print(f\"Number of rows: {merchant.count()}\")\n",
    "merchant.limit(5)"
   ]
  },
  {
   "cell_type": "code",
   "execution_count": null,
   "id": "0c35421c-5aff-4b96-91e8-0e6d6b7c53ee",
   "metadata": {},
   "outputs": [],
   "source": [
    "merchant_fraud_prob.count()"
   ]
  },
  {
   "cell_type": "markdown",
   "id": "0d86201f-ba7a-40fd-860e-11953eec3062",
   "metadata": {},
   "source": [
    "We should look at the data type of each column."
   ]
  },
  {
   "cell_type": "code",
   "execution_count": null,
   "id": "f14e1520-7aa5-454c-9dae-9a082918d15e",
   "metadata": {},
   "outputs": [],
   "source": [
    "merchant.printSchema()"
   ]
  },
  {
   "cell_type": "code",
   "execution_count": null,
   "id": "6dd746f8-5f6f-43d3-8247-a7d8f4f628dd",
   "metadata": {},
   "outputs": [],
   "source": [
    "merchant_fraud_prob.dtypes"
   ]
  },
  {
   "cell_type": "markdown",
   "id": "d2c09d57-127d-411a-b9b0-4044f72fde4e",
   "metadata": {},
   "source": [
    "### Comment\n",
    "- The merchant dataset contains their names, tags (seems like stuff they sell), and the abn.\n",
    "- For the probability dataset, they record the datetime of an order and the probability it is broken?.\n",
    "- Two tables share the `merchant_abn` column."
   ]
  },
  {
   "cell_type": "code",
   "execution_count": null,
   "id": "ca95e06a-1935-4687-a29b-5a2399019e06",
   "metadata": {},
   "outputs": [],
   "source": [
    "# Look at the tags column\n",
    "merchant.select(\"tags\").limit(5).collect()"
   ]
  },
  {
   "cell_type": "code",
   "execution_count": null,
   "id": "ce280d1c-73a9-4954-910c-f52f68e85f75",
   "metadata": {},
   "outputs": [],
   "source": [
    "# Check duplicate\n",
    "print(f\"Number of duplicates: {merchant.select('merchant_abn').count() - merchant.select('merchant_abn').distinct().count()}\")"
   ]
  },
  {
   "cell_type": "code",
   "execution_count": null,
   "id": "fdc188f1-fc15-4ecc-9e06-73722bd8613a",
   "metadata": {},
   "outputs": [],
   "source": [
    "# Check null value\n",
    "print(f\"NaN in merchant detail: {merchant.filter(F.col('merchant_abn').isNull() | F.col('tags').isNull() | F.col('name').isNull()).count()}\")\n",
    "print(f\"Nan in merchant fraud rate:\\n{merchant_fraud_prob.isna().sum()}\")"
   ]
  },
  {
   "cell_type": "code",
   "execution_count": null,
   "id": "80a5a72b-1e58-4c05-ab3a-d97c0ed1c1a5",
   "metadata": {},
   "outputs": [],
   "source": [
    "# Number of merchant with a fraud rate\n",
    "print(f\"Number of merchant with a fraud rate: {len(merchant_fraud_prob.merchant_abn.unique())}\")"
   ]
  },
  {
   "cell_type": "code",
   "execution_count": null,
   "id": "a3a3276a-06f8-44b8-8e9b-ac1122223ca1",
   "metadata": {},
   "outputs": [],
   "source": [
    "# The abn with fraud but not in  merchant info\n",
    "abn_not_in_merchant = spark.createDataFrame(pd.DataFrame(merchant_fraud_prob.merchant_abn)).subtract(merchant.select('merchant_abn'))\n",
    "abn_not_in_merchant.show()"
   ]
  },
  {
   "cell_type": "code",
   "execution_count": null,
   "id": "5c881e9e-b913-467d-ab7a-0aa55adf63ad",
   "metadata": {},
   "outputs": [],
   "source": [
    "print(f\"Number of abn not in merchant dataset: {abn_not_in_merchant.count()}\")\n",
    "merchant.filter(F.col(\"merchant_abn\") == 82999039227).show()\n",
    "merchant_fraud_prob[merchant_fraud_prob.merchant_abn == 82999039227]"
   ]
  },
  {
   "cell_type": "code",
   "execution_count": null,
   "id": "11f8f4a3-6cb5-40d7-88c7-1b505c809894",
   "metadata": {},
   "outputs": [],
   "source": [
    "# Time range for fraud probability\n",
    "merchant_fraud_prob.loc[:,\"order_datetime\"] = pd.to_datetime(merchant_fraud_prob.order_datetime)\n",
    "merchant_fraud_prob.order_datetime.sort_values()"
   ]
  },
  {
   "cell_type": "markdown",
   "id": "7f41815e-9b69-4b18-8275-4842169b6715",
   "metadata": {},
   "source": [
    "The time range recoded in the merchant fraud dataset is from 25/03/2021 to 27/02/2022."
   ]
  },
  {
   "cell_type": "code",
   "execution_count": null,
   "id": "7a0ab721-1c60-41b9-9247-f18979b7e33f",
   "metadata": {},
   "outputs": [],
   "source": [
    "# Check if fraud prob is in a valid range\n",
    "merchant_fraud_prob.fraud_probability.describe()"
   ]
  },
  {
   "cell_type": "markdown",
   "id": "4964a6a2-32d1-4926-a6e5-206b9c991659",
   "metadata": {},
   "source": [
    "The fraud probability is in good range (from 0 to 1), with the highest probability at 94%, which was found to belong to an abn not existing in the merchant dataset. "
   ]
  },
  {
   "cell_type": "markdown",
   "id": "32342d6e-9a87-4a8d-aab3-a3775cc79d78",
   "metadata": {},
   "source": [
    "### Consideration\n",
    "- We need to separate each tupe into 3 values: stuff_type, ?, take_rate\n",
    "- How to deal with the text containing goods: remove stop words, dec2vec, count2vec, etc.\n",
    "- Convert `order_datetime` to datetime data type."
   ]
  },
  {
   "cell_type": "markdown",
   "id": "6b728485-8e27-4415-a18a-d181716edf00",
   "metadata": {},
   "source": [
    "## 2. Consumer"
   ]
  },
  {
   "cell_type": "code",
   "execution_count": null,
   "id": "fdb6a72e-72b6-4cb5-ae43-3fe07f09ab44",
   "metadata": {},
   "outputs": [],
   "source": [
    "# Information on consumer\n",
    "consumer_user_detail = spark.read.parquet(\"../data/tables/part_1/consumer_user_details.parquet\")\n",
    "consumer = pd.read_csv(\"../data/tables/part_1/tbl_consumer.csv\", delimiter=\"|\")\n",
    "\n",
    "# Information on consumer's fraud probability\n",
    "consumer_fraud_prob = pd.read_csv(\"../data/tables/part_1/consumer_fraud_probability.csv\")"
   ]
  },
  {
   "cell_type": "code",
   "execution_count": null,
   "id": "95319511-dec7-4570-97e2-10eeb1a58d7c",
   "metadata": {},
   "outputs": [],
   "source": [
    "print(f\"Shapes: {consumer.shape}\")\n",
    "consumer.head(5)"
   ]
  },
  {
   "cell_type": "code",
   "execution_count": null,
   "id": "0a1b2ac4-4de2-4c3a-accb-cd3d3a11ee67",
   "metadata": {},
   "outputs": [],
   "source": [
    "print(f\"Shape: {consumer_fraud_prob.shape}\")\n",
    "consumer_fraud_prob.head(5)"
   ]
  },
  {
   "cell_type": "code",
   "execution_count": null,
   "id": "d4baf4fc-30e4-423f-93cc-824ae68891c9",
   "metadata": {},
   "outputs": [],
   "source": [
    "print(f\"Number of rows: {consumer_user_detail.count()}\")\n",
    "consumer_user_detail.limit(5)"
   ]
  },
  {
   "cell_type": "markdown",
   "id": "d7767dae-6a0b-4fff-af4e-9b31331527ff",
   "metadata": {},
   "source": [
    "### Comment\n",
    "- The consumer dataset contains their name, address, state, postcode, gender and consumer_id. While the consumer user details dataset contain corresponding consumer_id for each user_id.\n",
    "- Consumer fraud probability and consumer dataset can be merged through consumer user detail dataset."
   ]
  },
  {
   "cell_type": "code",
   "execution_count": null,
   "id": "db740d14-0262-40b2-853c-caffd59fbb48",
   "metadata": {},
   "outputs": [],
   "source": [
    "# Check duplicate in user_id and consumer_id\n",
    "print(f\"Number of duplicates in user_id: {consumer_user_detail.select('user_id').count() - consumer_user_detail.select('user_id').distinct().count()}\")\n",
    "\n",
    "print(f\"Number of duplicates in consumer_id: {consumer_user_detail.select('consumer_id').count() - consumer_user_detail.select('consumer_id').distinct().count()}\")"
   ]
  },
  {
   "cell_type": "markdown",
   "id": "289f683b-f37b-4a0d-bb0f-47b604135b31",
   "metadata": {},
   "source": [
    "**Question**: Why do we need both consumer_id and user_id (related to database)?\n",
    "\n",
    "An user id has to be in a range of 1 and 499,999, while consumer_id can be random?"
   ]
  },
  {
   "cell_type": "code",
   "execution_count": null,
   "id": "f627bdf1-86ed-4694-b0ae-4c66c11efc9a",
   "metadata": {},
   "outputs": [],
   "source": [
    "# Check null values\n",
    "print(f\"Nan in merchant fraud rate:\\n{consumer_fraud_prob.isna().sum()}\")\n",
    "print(f\"Nan in merchant fraud rate:\\n{consumer.isna().sum()}\")"
   ]
  },
  {
   "cell_type": "code",
   "execution_count": null,
   "id": "b24afb9d-5a37-4493-ad29-82dc435168e5",
   "metadata": {},
   "outputs": [],
   "source": [
    "# Check if user id range in other dataframes is valid.\n",
    "print(f\"Max user id in the fraud record: {max(consumer_fraud_prob.user_id)}\")\n",
    "print(f\"Min user id in the fraud record: {min(consumer_fraud_prob.user_id)}\")"
   ]
  },
  {
   "cell_type": "code",
   "execution_count": null,
   "id": "8733d69e-e942-4321-8a4f-784ccb26308e",
   "metadata": {},
   "outputs": [],
   "source": [
    "# Check for the consumer id without a valid corresponding user id\n",
    "invalid_consumer_id = spark.createDataFrame(pd.DataFrame(consumer.consumer_id)).subtract(consumer_user_detail.select('consumer_id'))\n",
    "invalid_consumer_id.limit(1)"
   ]
  },
  {
   "cell_type": "markdown",
   "id": "4ba109c6-eea9-4797-888e-42b814d40b08",
   "metadata": {},
   "source": [
    "There are no problems in consumer_id and user_id."
   ]
  },
  {
   "cell_type": "code",
   "execution_count": null,
   "id": "1ce83d6a-239b-4c4b-8d76-c9a4c5dedaaf",
   "metadata": {},
   "outputs": [],
   "source": [
    "# Time range for fraud probability\n",
    "consumer_fraud_prob.loc[:,\"order_datetime\"] = pd.to_datetime(consumer_fraud_prob.order_datetime)\n",
    "consumer_fraud_prob.order_datetime.sort_values()"
   ]
  },
  {
   "cell_type": "code",
   "execution_count": null,
   "id": "baf4dde1-90d4-45c9-94f6-5de89b6453ff",
   "metadata": {},
   "outputs": [],
   "source": [
    "# Check if fraud prob is in a valid range\n",
    "consumer_fraud_prob.fraud_probability.describe()"
   ]
  },
  {
   "cell_type": "markdown",
   "id": "7774752e-bf78-426e-817d-a2052370b9c9",
   "metadata": {},
   "source": [
    "It has a suitable time range and probability. Overall, we just need to convert order_datetime to datetime data type."
   ]
  },
  {
   "cell_type": "markdown",
   "id": "6a35f45f-e2c1-4a14-b8c5-bf82548b3226",
   "metadata": {},
   "source": [
    "## 3. Transaction"
   ]
  },
  {
   "cell_type": "markdown",
   "id": "0188d57e-dc32-4419-9684-48cc6fa83cbe",
   "metadata": {},
   "source": [
    "This dataset contains details for each transaction between a merchant and a user."
   ]
  },
  {
   "cell_type": "code",
   "execution_count": 11,
   "id": "90613fab-112c-4bb7-9194-981e6d6d8977",
   "metadata": {},
   "outputs": [
    {
     "name": "stderr",
     "output_type": "stream",
     "text": [
      "                                                                                \r"
     ]
    }
   ],
   "source": [
    "# Read transaction dataset\n",
    "transaction1 = spark.read.parquet(\"../data/tables/part_2/*\")\n",
    "transaction2 = spark.read.parquet(\"../data/tables/part_3/*\")\n",
    "transaction3 = spark.read.parquet(\"../data/tables/part_4/*\")"
   ]
  },
  {
   "cell_type": "code",
   "execution_count": 12,
   "id": "cb3695d7-1010-48c5-bd6b-9f6098c7579e",
   "metadata": {},
   "outputs": [
    {
     "name": "stderr",
     "output_type": "stream",
     "text": [
      "                                                                                \r"
     ]
    },
    {
     "data": {
      "text/plain": [
       "14195505"
      ]
     },
     "execution_count": 12,
     "metadata": {},
     "output_type": "execute_result"
    }
   ],
   "source": [
    "# Combine datasets into a single DataFrame\n",
    "transaction = transaction1.union(transaction2).union(transaction3)\n",
    "transaction.count() # Number of rows"
   ]
  },
  {
   "cell_type": "code",
   "execution_count": null,
   "id": "9f5607c0-14ad-4ecb-9c52-904f4e61899d",
   "metadata": {},
   "outputs": [],
   "source": [
    "transaction.printSchema()"
   ]
  },
  {
   "cell_type": "code",
   "execution_count": null,
   "id": "aec3c031-f0a0-4102-ac54-a7a1744e1386",
   "metadata": {},
   "outputs": [],
   "source": [
    "transaction.limit(5)"
   ]
  },
  {
   "cell_type": "markdown",
   "id": "bbe5e734-fd6e-44b3-be63-750f4be9ac90",
   "metadata": {},
   "source": [
    "#### 1. Check for missing values"
   ]
  },
  {
   "cell_type": "code",
   "execution_count": null,
   "id": "5bda306c-bd92-4001-9ea8-42346a4b5319",
   "metadata": {},
   "outputs": [],
   "source": [
    "# List of columns to check\n",
    "cols = transaction.columns\n",
    "\n",
    "for col_name in cols:\n",
    "    # Filter rows where values are null and count them\n",
    "    null_count = transaction.filter(F.col(col_name).isNull()).count()\n",
    "\n",
    "    if null_count > 0:\n",
    "        print(f\"Number of rows with null {col_name}: {null_count}\")"
   ]
  },
  {
   "cell_type": "markdown",
   "id": "1aad93b4-cdac-4835-afc5-084b5f65de8f",
   "metadata": {},
   "source": [
    "So there are no missing values in any columns."
   ]
  },
  {
   "cell_type": "code",
   "execution_count": null,
   "id": "86bc4d5a-2ac3-4744-b47c-d0029326c0d9",
   "metadata": {},
   "outputs": [],
   "source": [
    "for col in ['user_id', 'dollar_value', 'order_datetime']:\n",
    "    print(f\"Max of {col}: {transaction.agg({col: 'max'})}\")\n",
    "    print(f\"Min of {col}: {transaction.agg({col: 'min'})}\")"
   ]
  },
  {
   "cell_type": "markdown",
   "id": "99fdc78a-8de3-4725-a5bf-dbdecc6a245d",
   "metadata": {},
   "source": [
    "### Comment\n",
    "- Although we have 499,999 user ids, but only at most 24081 of them made a transaction within the provided time range.\n",
    "- the `dollar_value` range seems strange as the minimum value is almost 0. We may need to do some outlier analysis for it.\n",
    "- The time range of the transaction dataset is wider than the time range of other datasets, which can lead to missing data when we joined every table together."
   ]
  },
  {
   "cell_type": "markdown",
   "id": "0f56c9f0-ad27-4cf6-b7b0-0f01793007a9",
   "metadata": {},
   "source": [
    "# Create Cleaning Function\n",
    "\n",
    "At this step, only the column `tags` of merchant dataset needs to be preprocessed. We decide to convert the tbl_merchants.parquet to csv because of its small size."
   ]
  },
  {
   "cell_type": "code",
   "execution_count": 4,
   "id": "4db9c223-e0a3-47ec-b600-fb82c0d02a6c",
   "metadata": {},
   "outputs": [],
   "source": [
    "import sys\n",
    "sys.path.append('../scripts')\n",
    "from etl import clean_merchant_df"
   ]
  },
  {
   "cell_type": "code",
   "execution_count": 5,
   "id": "f38f6e92-c278-420a-90ce-e4774a2c513d",
   "metadata": {},
   "outputs": [
    {
     "name": "stderr",
     "output_type": "stream",
     "text": [
      "                                                                                \r"
     ]
    },
    {
     "name": "stdout",
     "output_type": "stream",
     "text": [
      "+--------------------+--------------------+------------+\n",
      "|                name|                tags|merchant_abn|\n",
      "+--------------------+--------------------+------------+\n",
      "|       Felis Limited|((furniture, home...| 10023283211|\n",
      "|Arcu Ac Orci Corp...|([cable, satellit...| 10142254217|\n",
      "|    Nunc Sed Company|([jewelry, watch,...| 10165489824|\n",
      "|Ultricies Digniss...|([wAtch, clock, a...| 10187291046|\n",
      "| Enim Condimentum PC|([music shops - m...| 10192359162|\n",
      "|       Fusce Company|[(gift, card, nov...| 10206519221|\n",
      "|Aliquam Enim Inco...|[(computers, comP...| 10255988167|\n",
      "|    Ipsum Primis Ltd|[[watch, clock, a...| 10264435225|\n",
      "|Pede Ultrices Ind...|([computer progra...| 10279061213|\n",
      "|           Nunc Inc.|[(furniture, home...| 10323485998|\n",
      "|Facilisis Facilis...|([computers, comp...| 10342410215|\n",
      "|      Odio Institute|((equipment, tool...| 10346855916|\n",
      "|    Rutrum Justo Ltd|([music shops - m...| 10364012396|\n",
      "|   Tellus Foundation|[[artist supply a...| 10385011947|\n",
      "|      Sed Et Company|([florists suppli...| 10385163239|\n",
      "|              Id Ltd|([computers, comp...| 10385250025|\n",
      "|Consequat Foundation|[[antique shops -...| 10404542215|\n",
      "|Sit Amet Nulla Corp.|[[motor vehicle s...| 10430380319|\n",
      "|Massa Vestibulum ...|[(moTor vehicle s...| 10441711491|\n",
      "|       Ut Consulting|([gift, card, nov...| 10462560289|\n",
      "+--------------------+--------------------+------------+\n",
      "only showing top 20 rows\n",
      "\n"
     ]
    }
   ],
   "source": [
    "# Apply clean function\n",
    "merchant = spark.read.parquet(\"../data/tables/part_1/tbl_merchants.parquet\")\n",
    "merchant.show()"
   ]
  },
  {
   "cell_type": "code",
   "execution_count": 6,
   "id": "47be1ae6",
   "metadata": {},
   "outputs": [],
   "source": [
    "clean_merchant_df(merchant)"
   ]
  },
  {
   "cell_type": "code",
   "execution_count": 8,
   "id": "fb312607-a3ca-4f88-8a92-e7221ab0a3de",
   "metadata": {},
   "outputs": [],
   "source": [
    "cleaned_merchant_df = spark.read.parquet(\"../data/curated/part_1/tbl_merchants.parquet\")"
   ]
  },
  {
   "cell_type": "code",
   "execution_count": 9,
   "id": "845118d8",
   "metadata": {},
   "outputs": [
    {
     "name": "stdout",
     "output_type": "stream",
     "text": [
      "+--------------------+------------+--------------------+-------------+---------+\n",
      "|                name|merchant_abn|               goods|revenue_level|take_rate|\n",
      "+--------------------+------------+--------------------+-------------+---------+\n",
      "|       Felis Limited| 10023283211|furniture, home f...|            e|     0.18|\n",
      "|Arcu Ac Orci Corp...| 10142254217|cable, satellite,...|            b|     4.22|\n",
      "|    Nunc Sed Company| 10165489824|jewelry, watch, c...|            b|      4.4|\n",
      "|Ultricies Digniss...| 10187291046|watch, clock, and...|            b|     3.29|\n",
      "| Enim Condimentum PC| 10192359162|music shops - mus...|            a|     6.33|\n",
      "|       Fusce Company| 10206519221|gift, card, novel...|            a|     6.34|\n",
      "|Aliquam Enim Inco...| 10255988167|computers, comput...|            b|     4.32|\n",
      "|    Ipsum Primis Ltd| 10264435225|watch, clock, and...|            c|     2.39|\n",
      "|Pede Ultrices Ind...| 10279061213|computer programm...|            a|     5.71|\n",
      "|           Nunc Inc.| 10323485998|furniture, home f...|            a|     6.61|\n",
      "|Facilisis Facilis...| 10342410215|computers, comput...|            a|     6.34|\n",
      "|      Odio Institute| 10346855916|equipment, tool, ...|            b|     3.57|\n",
      "|    Rutrum Justo Ltd| 10364012396|music shops - mus...|            b|     3.63|\n",
      "|   Tellus Foundation| 10385011947|artist supply and...|            b|     3.17|\n",
      "|      Sed Et Company| 10385163239|florists supplies...|            a|     6.61|\n",
      "|              Id Ltd| 10385250025|computers, comput...|            a|     5.54|\n",
      "|Consequat Foundation| 10404542215|antique shops - s...|            a|     6.93|\n",
      "|Sit Amet Nulla Corp.| 10430380319|motor vehicle sup...|            b|     4.97|\n",
      "|Massa Vestibulum ...| 10441711491|motor vehicle sup...|            a|     5.77|\n",
      "|       Ut Consulting| 10462560289|gift, card, novel...|            c|     2.95|\n",
      "+--------------------+------------+--------------------+-------------+---------+\n",
      "only showing top 20 rows\n",
      "\n"
     ]
    }
   ],
   "source": [
    "cleaned_merchant_df.show()"
   ]
  },
  {
   "cell_type": "markdown",
   "id": "18c986b8-4f4c-4340-af79-8e1443479c16",
   "metadata": {},
   "source": [
    "## Feature Engineering"
   ]
  },
  {
   "cell_type": "code",
   "execution_count": 13,
   "id": "7f0db046-90de-48ff-81db-d05c1500d312",
   "metadata": {},
   "outputs": [],
   "source": [
    "aggregrated_trans_df = transaction.groupBy(\"merchant_abn\").agg(F.sum(\"dollar_value\"), F.count(\"dollar_value\"))"
   ]
  },
  {
   "cell_type": "code",
   "execution_count": 14,
   "id": "dbecfc84",
   "metadata": {},
   "outputs": [
    {
     "name": "stderr",
     "output_type": "stream",
     "text": [
      "                                                                                \r"
     ]
    },
    {
     "name": "stdout",
     "output_type": "stream",
     "text": [
      "+------------+------------------+-------------------+\n",
      "|merchant_abn| sum(dollar_value)|count(dollar_value)|\n",
      "+------------+------------------+-------------------+\n",
      "| 38700038932| 9546185.360697314|               7132|\n",
      "| 83412691377| 498536.5816973136|              14288|\n",
      "| 15613631617| 543030.5313328261|               1785|\n",
      "| 19839532017|          113982.0|                726|\n",
      "| 73256306726| 1496967.159114219|               5263|\n",
      "| 35344855546|134737.25046268434|               1522|\n",
      "| 24406529929|  280125.230897664|               4184|\n",
      "| 73841664453| 83314.29045077678|                959|\n",
      "| 78916025936|21015.671086215083|                 67|\n",
      "| 60654402457| 17030.97660860815|                199|\n",
      "| 92202115241|39887.588144581016|                120|\n",
      "| 52763133264|14217.064637334852|                125|\n",
      "| 48214071373|162100.66187954217|                540|\n",
      "| 41956465747|63674.266719753636|                279|\n",
      "| 56395390867| 46747.77965910106|                 47|\n",
      "| 34440496342|19425.358828709985|                215|\n",
      "| 12516851436|32325.484349738046|                210|\n",
      "| 96946925998|128921.13217290542|                131|\n",
      "| 29216160692| 475888.1678143432|               4452|\n",
      "| 87211363921| 37828.13764409339|                673|\n",
      "+------------+------------------+-------------------+\n",
      "only showing top 20 rows\n",
      "\n"
     ]
    }
   ],
   "source": [
    "aggregrated_trans_df.show()"
   ]
  },
  {
   "cell_type": "markdown",
   "id": "2b7ea6b6",
   "metadata": {},
   "source": [
    "Creating a scaled revenue as as feature, we take log of the ratio."
   ]
  },
  {
   "cell_type": "code",
   "execution_count": 15,
   "id": "c51776f4",
   "metadata": {},
   "outputs": [],
   "source": [
    "aggregrated_trans_df = aggregrated_trans_df.withColumn(\"log_ratio\", F.log(F.col(\"sum(dollar_value)\") / F.col(\"count(dollar_value)\")))"
   ]
  },
  {
   "cell_type": "code",
   "execution_count": 16,
   "id": "73b59d8d",
   "metadata": {},
   "outputs": [
    {
     "name": "stderr",
     "output_type": "stream",
     "text": [
      "[Stage 17:======================================================> (47 + 1) / 48]\r"
     ]
    },
    {
     "name": "stdout",
     "output_type": "stream",
     "text": [
      "+------------+------------------+-------------------+------------------+\n",
      "|merchant_abn| sum(dollar_value)|count(dollar_value)|         log_ratio|\n",
      "+------------+------------------+-------------------+------------------+\n",
      "| 38700038932| 9546185.360697314|               7132| 7.199305215006568|\n",
      "| 83412691377| 498536.5816973136|              14288| 3.552256946120572|\n",
      "| 15613631617| 543030.5313328261|               1785| 5.717747130253923|\n",
      "| 19839532017|          113982.0|                726| 5.056245805348308|\n",
      "| 73256306726| 1496967.159114219|               5263|5.6504952400078965|\n",
      "| 35344855546|134737.25046268434|               1522| 4.483301329640816|\n",
      "| 24406529929|  280125.230897664|               4184| 4.203969029624668|\n",
      "| 73841664453| 83314.29045077678|                959|  4.46448429258872|\n",
      "| 78916025936|21015.671086215083|                 67| 5.748331061215046|\n",
      "| 60654402457| 17030.97660860815|                199| 4.449484293653718|\n",
      "| 92202115241|39887.588144581016|                120| 5.806328737631683|\n",
      "| 52763133264|14217.064637334852|                125|  4.73388451980508|\n",
      "| 48214071373|162100.66187954217|                540| 5.704403651312831|\n",
      "| 41956465747|63674.266719753636|                279|  5.43032400197653|\n",
      "| 56395390867| 46747.77965910106|                 47|  6.90237443795593|\n",
      "| 34440496342|19425.358828709985|                215| 4.503696619458033|\n",
      "| 12516851436|32325.484349738046|                210| 5.036503656560932|\n",
      "| 96946925998|128921.13217290542|                131| 6.891758794670001|\n",
      "| 29216160692| 475888.1678143432|               4452| 4.671829451648522|\n",
      "| 87211363921| 37828.13764409339|                673| 4.029063157166866|\n",
      "+------------+------------------+-------------------+------------------+\n",
      "only showing top 20 rows\n",
      "\n"
     ]
    },
    {
     "name": "stderr",
     "output_type": "stream",
     "text": [
      "                                                                                \r"
     ]
    }
   ],
   "source": [
    "aggregrated_trans_df.show()"
   ]
  },
  {
   "cell_type": "code",
   "execution_count": 17,
   "id": "1aa65651",
   "metadata": {},
   "outputs": [],
   "source": [
    "cleaned_merchant_df = cleaned_merchant_df.join(aggregrated_trans_df, on=\"merchant_abn\", how=\"left\")"
   ]
  },
  {
   "cell_type": "code",
   "execution_count": 18,
   "id": "94b83b82",
   "metadata": {},
   "outputs": [],
   "source": [
    "cleaned_merchant_df = cleaned_merchant_df.withColumn(\"unscaled_earning\", (F.col(\"take_rate\")/100 * F.col(\"sum(dollar_value)\")))"
   ]
  },
  {
   "cell_type": "code",
   "execution_count": 19,
   "id": "0c1f157d-0c2e-4819-bf0b-00ceed029765",
   "metadata": {},
   "outputs": [
    {
     "name": "stderr",
     "output_type": "stream",
     "text": [
      "                                                                                \r"
     ]
    },
    {
     "data": {
      "text/html": [
       "<table border='1'>\n",
       "<tr><th>merchant_abn</th><th>name</th><th>goods</th><th>revenue_level</th><th>take_rate</th><th>sum(dollar_value)</th><th>count(dollar_value)</th><th>log_ratio</th><th>unscaled_earning</th></tr>\n",
       "<tr><td>10023283211</td><td>Felis Limited</td><td>furniture, home f...</td><td>e</td><td>0.18</td><td>703277.7114509277</td><td>3261</td><td>5.373717954622449</td><td>1265.8998806116697</td></tr>\n",
       "<tr><td>10142254217</td><td>Arcu Ac Orci Corp...</td><td>cable, satellite,...</td><td>b</td><td>4.22</td><td>118356.1460726035</td><td>3036</td><td>3.663157406405673</td><td>4994.6293642638675</td></tr>\n",
       "<tr><td>10165489824</td><td>Nunc Sed Company</td><td>jewelry, watch, c...</td><td>b</td><td>4.4</td><td>56180.473857030534</td><td>5</td><td>9.326886622809969</td><td>2471.9408497093436</td></tr>\n",
       "<tr><td>10192359162</td><td>Enim Condimentum PC</td><td>music shops - mus...</td><td>a</td><td>6.33</td><td>177980.5054563818</td><td>385</td><td>6.136185969080728</td><td>11266.165995388967</td></tr>\n",
       "<tr><td>10187291046</td><td>Ultricies Digniss...</td><td>watch, clock, and...</td><td>b</td><td>3.29</td><td>39693.73038743403</td><td>336</td><td>4.7718373694908784</td><td>1305.9237297465795</td></tr>\n",
       "</table>\n"
      ],
      "text/plain": [
       "+------------+--------------------+--------------------+-------------+---------+------------------+-------------------+------------------+------------------+\n",
       "|merchant_abn|                name|               goods|revenue_level|take_rate| sum(dollar_value)|count(dollar_value)|         log_ratio|  unscaled_earning|\n",
       "+------------+--------------------+--------------------+-------------+---------+------------------+-------------------+------------------+------------------+\n",
       "| 10023283211|       Felis Limited|furniture, home f...|            e|     0.18| 703277.7114509277|               3261| 5.373717954622449|1265.8998806116697|\n",
       "| 10142254217|Arcu Ac Orci Corp...|cable, satellite,...|            b|     4.22| 118356.1460726035|               3036| 3.663157406405673|4994.6293642638675|\n",
       "| 10165489824|    Nunc Sed Company|jewelry, watch, c...|            b|      4.4|56180.473857030534|                  5| 9.326886622809969|2471.9408497093436|\n",
       "| 10192359162| Enim Condimentum PC|music shops - mus...|            a|     6.33| 177980.5054563818|                385| 6.136185969080728|11266.165995388967|\n",
       "| 10187291046|Ultricies Digniss...|watch, clock, and...|            b|     3.29| 39693.73038743403|                336|4.7718373694908784|1305.9237297465795|\n",
       "+------------+--------------------+--------------------+-------------+---------+------------------+-------------------+------------------+------------------+"
      ]
     },
     "execution_count": 19,
     "metadata": {},
     "output_type": "execute_result"
    }
   ],
   "source": [
    "cleaned_merchant_df.limit(5)"
   ]
  },
  {
   "cell_type": "code",
   "execution_count": 20,
   "id": "b4e8c002",
   "metadata": {},
   "outputs": [
    {
     "name": "stderr",
     "output_type": "stream",
     "text": [
      "                                                                                \r"
     ]
    }
   ],
   "source": [
    "cleaned_merchant_df.write.mode('overwrite').parquet('../data/curated/part_1/clean_merchant.parquet')"
   ]
  },
  {
   "cell_type": "code",
   "execution_count": 21,
   "id": "589ddedb-3248-4c5c-bfee-1c544a6c7e9e",
   "metadata": {},
   "outputs": [
    {
     "data": {
      "text/plain": [
       "4026"
      ]
     },
     "execution_count": 21,
     "metadata": {},
     "output_type": "execute_result"
    }
   ],
   "source": [
    "cleaned_merchant_df.count()"
   ]
  },
  {
   "cell_type": "code",
   "execution_count": null,
   "id": "58e656fe-c8a4-4f4b-b12c-63106a3af8c4",
   "metadata": {},
   "outputs": [],
   "source": []
  }
 ],
 "metadata": {
  "kernelspec": {
   "display_name": "Python 3 (ipykernel)",
   "language": "python",
   "name": "python3"
  },
  "language_info": {
   "codemirror_mode": {
    "name": "ipython",
    "version": 3
   },
   "file_extension": ".py",
   "mimetype": "text/x-python",
   "name": "python",
   "nbconvert_exporter": "python",
   "pygments_lexer": "ipython3",
   "version": "3.10.12"
  }
 },
 "nbformat": 4,
 "nbformat_minor": 5
}
