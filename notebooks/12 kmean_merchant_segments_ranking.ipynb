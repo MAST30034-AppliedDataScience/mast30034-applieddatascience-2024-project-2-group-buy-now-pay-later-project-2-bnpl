{
 "cells": [
  {
   "cell_type": "markdown",
   "metadata": {},
   "source": [
    "# Kmean segment ranking"
   ]
  },
  {
   "cell_type": "code",
   "execution_count": 1,
   "metadata": {},
   "outputs": [],
   "source": [
    "from pyspark.sql import SparkSession\n",
    "from pyspark.sql import functions as F\n",
    "from pyspark.sql.types import *\n",
    "import pandas as pd"
   ]
  },
  {
   "cell_type": "code",
   "execution_count": 2,
   "metadata": {},
   "outputs": [
    {
     "name": "stderr",
     "output_type": "stream",
     "text": [
      "24/10/04 13:00:33 WARN Utils: Your hostname, codespaces-c6855a resolves to a loopback address: 127.0.0.1; using 10.0.0.100 instead (on interface eth0)\n",
      "24/10/04 13:00:33 WARN Utils: Set SPARK_LOCAL_IP if you need to bind to another address\n",
      "Setting default log level to \"WARN\".\n",
      "To adjust logging level use sc.setLogLevel(newLevel). For SparkR, use setLogLevel(newLevel).\n",
      "24/10/04 13:00:34 WARN NativeCodeLoader: Unable to load native-hadoop library for your platform... using builtin-java classes where applicable\n",
      "24/10/04 13:00:35 WARN Utils: Service 'SparkUI' could not bind on port 4040. Attempting port 4041.\n",
      "24/10/04 13:00:35 WARN Utils: Service 'SparkUI' could not bind on port 4041. Attempting port 4042.\n"
     ]
    }
   ],
   "source": [
    "# Create a spark session\n",
    "spark = (\n",
    "    SparkSession.builder.appName(\"Categories\")\n",
    "    .config(\"spark.sql.repl.eagerEval.enabled\", True) \n",
    "    .config(\"spark.sql.parquet.cacheMetadata\", \"true\")\n",
    "    .config(\"spark.driver.memory\", \"10g\") \n",
    "    .config(\"spark.sql.session.timeZone\", \"Etc/UTC\")\n",
    "    .config(\"spark.network.timeout\", \"600s\")\n",
    "    .getOrCreate()\n",
    ")"
   ]
  },
  {
   "cell_type": "code",
   "execution_count": 3,
   "metadata": {},
   "outputs": [],
   "source": [
    "from pyspark.ml.feature import CountVectorizer, PCA, StopWordsRemover\n",
    "from pyspark.sql.functions import lower, regexp_replace\n",
    "from pyspark.ml.feature import Tokenizer"
   ]
  },
  {
   "cell_type": "code",
   "execution_count": 4,
   "metadata": {},
   "outputs": [],
   "source": [
    "merchant = spark.read.parquet(\"../data/curated/part_1/clean_merchant.parquet\")\n",
    "goods = merchant.select(\"goods\")"
   ]
  },
  {
   "cell_type": "code",
   "execution_count": 5,
   "metadata": {},
   "outputs": [
    {
     "data": {
      "text/plain": [
       "4026"
      ]
     },
     "execution_count": 5,
     "metadata": {},
     "output_type": "execute_result"
    },
    {
     "name": "stderr",
     "output_type": "stream",
     "text": [
      "24/10/04 13:00:50 WARN GarbageCollectionMetrics: To enable non-built-in garbage collector(s) List(G1 Concurrent GC), users should configure it(them) to spark.eventLog.gcMetrics.youngGenerationGarbageCollectors or spark.eventLog.gcMetrics.oldGenerationGarbageCollectors\n"
     ]
    }
   ],
   "source": [
    "merchant.count()"
   ]
  },
  {
   "cell_type": "code",
   "execution_count": 6,
   "metadata": {},
   "outputs": [
    {
     "name": "stderr",
     "output_type": "stream",
     "text": [
      "<>:2: SyntaxWarning: invalid escape sequence '\\w'\n",
      "<>:2: SyntaxWarning: invalid escape sequence '\\w'\n",
      "/tmp/ipykernel_79656/921807604.py:2: SyntaxWarning: invalid escape sequence '\\w'\n",
      "  clean_goods = goods.withColumn(\"str_goods\", lower(regexp_replace(\"goods\", \"[^\\w\\s]\", \"\")))\n"
     ]
    },
    {
     "name": "stdout",
     "output_type": "stream",
     "text": [
      "+-----------------------------------------------------------------+\n",
      "|clean_goods                                                      |\n",
      "+-----------------------------------------------------------------+\n",
      "|[watch, clock, jewelry, repair]                                  |\n",
      "|[motor, vehicle]                                                 |\n",
      "|[cable, satellite, pay, television, radio]                       |\n",
      "|[opticians, optical, goods, eyeglasses]                          |\n",
      "|[watch, clock, jewelry, repair]                                  |\n",
      "|[antique, repairs]                                               |\n",
      "|[tent, awning]                                                   |\n",
      "|[bicycle, service]                                               |\n",
      "|[motor, vehicle]                                                 |\n",
      "|[motor, vehicle]                                                 |\n",
      "|[watch, clock, jewelry, repair]                                  |\n",
      "|[tent, awning]                                                   |\n",
      "|[digital, goods, books, movies, music]                           |\n",
      "|[health, beauty, spas]                                           |\n",
      "|[digital, goods, books, movies, music]                           |\n",
      "|[florists, nursery, stock, flowers]                              |\n",
      "|[watch, clock, jewelry, repair]                                  |\n",
      "|[books, periodicals, newspapers]                                 |\n",
      "|[music, musical, instruments, pianos, sheet, music]              |\n",
      "|[furniture, home, furnishings, manufacturers, except, appliances]|\n",
      "+-----------------------------------------------------------------+\n",
      "only showing top 20 rows\n",
      "\n"
     ]
    }
   ],
   "source": [
    "# Step 1: Clean the 'goods' column by removing punctuation and converting to lowercase\n",
    "clean_goods = goods.withColumn(\"str_goods\", lower(regexp_replace(\"goods\", \"[^\\w\\s]\", \"\")))\n",
    "\n",
    "# Step 2: Tokenize the cleaned 'str_goods' column\n",
    "tokenizer = Tokenizer(inputCol=\"str_goods\", outputCol=\"tokens\")\n",
    "clean_goods = tokenizer.transform(clean_goods)\n",
    "\n",
    "# Step 3: Get default stop words from StopWordsRemover\n",
    "default_stopwords = StopWordsRemover.loadDefaultStopWords(\"english\")\n",
    "\n",
    "# Step 4: Add custom stop words to the list\n",
    "additional_stopwords = ['new', 'shops', 'supplies', 'parts', 'services', '', \n",
    "                        'supply', 'integrated', 'equipment', 'sales', \n",
    "                        'dealers', 'restoration']\n",
    "all_stopwords = default_stopwords + additional_stopwords\n",
    "\n",
    "# Step 5: Remove stop words, including the additional custom words\n",
    "remover = StopWordsRemover(inputCol=\"tokens\", outputCol=\"clean_goods\", stopWords=all_stopwords)\n",
    "clean_goods = remover.transform(clean_goods)\n",
    "\n",
    "# Step 6: Select only the 'clean_goods' column\n",
    "clean_goods = clean_goods.select('clean_goods')\n",
    "\n",
    "# Show the results\n",
    "clean_goods.show(truncate=False)\n"
   ]
  },
  {
   "cell_type": "code",
   "execution_count": 7,
   "metadata": {},
   "outputs": [
    {
     "name": "stdout",
     "output_type": "stream",
     "text": [
      "+------------------------------------------+\n",
      "|clean_goods                               |\n",
      "+------------------------------------------+\n",
      "|[watch, clock, jewelry, repair]           |\n",
      "|[motor, vehicle]                          |\n",
      "|[cable, satellite, pay, television, radio]|\n",
      "|[opticians, optical, goods, eyeglasses]   |\n",
      "|[watch, clock, jewelry, repair]           |\n",
      "+------------------------------------------+\n",
      "only showing top 5 rows\n",
      "\n"
     ]
    }
   ],
   "source": [
    "clean_goods.show(5, truncate=False)"
   ]
  },
  {
   "cell_type": "code",
   "execution_count": 8,
   "metadata": {},
   "outputs": [
    {
     "name": "stdout",
     "output_type": "stream",
     "text": [
      "+------------+--------------------------------------+-------------------------------------------------------------------------------------+-------------+---------+------------------+-------------------+------------------+------------------+-----------------------------------------------------------------+\n",
      "|merchant_abn|name                                  |goods                                                                                |revenue_level|take_rate|sum(dollar_value) |count(dollar_value)|log_ratio         |unscaled_earning  |clean_goods                                                      |\n",
      "+------------+--------------------------------------+-------------------------------------------------------------------------------------+-------------+---------+------------------+-------------------+------------------+------------------+-----------------------------------------------------------------+\n",
      "|12516851436 |Mollis Corp.                          |watch, clock, and jewelry repair shops                                               |a            |6.71     |32325.484349738053|210                |5.036503656560932 |2169.0399998674234|[watch, clock, jewelry, repair]                                  |\n",
      "|15613631617 |Ante Industries                       |motor vehicle supplies and new parts                                                 |e            |0.35     |543030.531332826  |1785               |5.717747130253923 |1900.6068596648909|[motor, vehicle]                                                 |\n",
      "|19839532017 |Pellentesque Habitant LLC             |cable, satellite, and other pay television and radio services                        |b            |4.94     |113982.0          |726                |5.056245805348308 |5630.710800000001 |[cable, satellite, pay, television, radio]                       |\n",
      "|34440496342 |Mauris Nulla Integer Industries       |opticians, optical goods, and eyeglasses                                             |c            |2.85     |19425.35882870998 |215                |4.503696619458033 |553.6227266182344 |[opticians, optical, goods, eyeglasses]                          |\n",
      "|35344855546 |Quis Tristique Ac Inc.                |watch, clock, and jewelry repair shops                                               |c            |2.92     |134737.25046268434|1522               |4.483301329640816 |3934.327713510383 |[watch, clock, jewelry, repair]                                  |\n",
      "|37935728745 |Laoreet Lectus Quis LLP               |antique shops - sales, repairs, and restoration services                             |b            |4.12     |153026.9171984172 |14                 |9.29931178468697  |6304.708988574789 |[antique, repairs]                                               |\n",
      "|38700038932 |Etiam Bibendum Industries             |tent and awning shops                                                                |a            |6.31     |9546185.36069731  |7132               |7.199305215006568 |602364.2962600002 |[tent, awning]                                                   |\n",
      "|38986645707 |Lectus Justo LLC                      |bicycle shops - sales and service                                                    |c            |1.72     |40345.997791955844|42                 |6.867577863183217 |693.9511620216405 |[bicycle, service]                                               |\n",
      "|41956465747 |Pede Cras LLP                         |motor vehicle supplies and new parts                                                 |b            |3.79     |63674.266719753636|279                |5.43032400197653  |2413.254708678663 |[motor, vehicle]                                                 |\n",
      "|48214071373 |Ridiculus LLC                         |motor vehicle supplies and new parts                                                 |b            |4.02     |162100.6618795422 |540                |5.704403651312831 |6516.446607557595 |[motor, vehicle]                                                 |\n",
      "|52763133264 |Dui Lectus LLP                        |watch, clock, and jewelry repair shops                                               |a            |5.63     |14217.064637334852|125                |4.73388451980508  |800.4207390819521 |[watch, clock, jewelry, repair]                                  |\n",
      "|57798993346 |Malesuada LLC                         |tent and awning shops                                                                |b            |4.34     |18307.430355882367|18                 |6.924690528901406 |794.5424774452947 |[tent, awning]                                                   |\n",
      "|60654402457 |Lacus Quisque Imperdiet Institute     |digital goods: books, movies, music                                                  |b            |3.52     |17030.976608608154|199                |4.449484293653718 |599.490376623007  |[digital, goods, books, movies, music]                           |\n",
      "|73256306726 |Id LLP                                |health and beauty spas                                                               |b            |4.81     |1496967.159114219 |5263               |5.6504952400078965|72004.12035339393 |[health, beauty, spas]                                           |\n",
      "|73841664453 |Lacinia At LLP                        |digital  goods: books, movies, music                                                 |a            |5.55     |83314.29045077678 |959                |4.46448429258872  |4623.943120018112 |[digital, goods, books, movies, music]                           |\n",
      "|78916025936 |Urna Nec Corporation                  |florists supplies, nursery stock, and flowers                                        |e            |0.37     |21015.671086215087|67                 |5.748331061215046 |77.75798301899583 |[florists, nursery, stock, flowers]                              |\n",
      "|83412691377 |Suspendisse Sagittis Nullam Associates|watch, clock, and jewelry repair shops                                               |c            |2.94     |498536.5816973136 |14288              |3.552256946120572 |14656.975501901019|[watch, clock, jewelry, repair]                                  |\n",
      "|92202115241 |Fames Ac Turpis Limited               |books, periodicals, and newspapers                                                   |a            |5.66     |39887.58814458104 |120                |5.8063287376316834|2257.637488983287 |[books, periodicals, newspapers]                                 |\n",
      "|96946925998 |Nisi Cum Corporation                  |music shops - musical instruments, pianos, and sheet music                           |a            |5.99     |128921.13217290539|131                |6.891758794670001 |7722.375817157033 |[music, musical, instruments, pianos, sheet, music]              |\n",
      "|15700338102 |Aliquam Ornare Inc.                   |furniture, home furnishings and equipment shops, and manufacturers, except appliances|a            |5.73     |34966.308150401805|212                |5.105553977905005 |2003.5694570180235|[furniture, home, furnishings, manufacturers, except, appliances]|\n",
      "+------------+--------------------------------------+-------------------------------------------------------------------------------------+-------------+---------+------------------+-------------------+------------------+------------------+-----------------------------------------------------------------+\n",
      "only showing top 20 rows\n",
      "\n"
     ]
    }
   ],
   "source": [
    "# Add an index to both DataFrames to ensure they align\n",
    "from pyspark.sql.functions import monotonically_increasing_id\n",
    "\n",
    "# Add an index column to df1\n",
    "df1_with_index = merchant.withColumn(\"index\", monotonically_increasing_id())\n",
    "\n",
    "# Add an index column to df2\n",
    "df2_with_index = clean_goods.withColumn(\"index\", monotonically_increasing_id())\n",
    "\n",
    "# Join the DataFrames on the index column\n",
    "df_combined = df1_with_index.join(df2_with_index, on=\"index\", how=\"inner\").drop(\"index\")\n",
    "\n",
    "# Show the combined DataFrame\n",
    "df_combined.show(truncate=False)"
   ]
  },
  {
   "cell_type": "code",
   "execution_count": 9,
   "metadata": {},
   "outputs": [
    {
     "name": "stderr",
     "output_type": "stream",
     "text": [
      "24/10/04 13:01:07 WARN InstanceBuilder: Failed to load implementation from:dev.ludovic.netlib.blas.JNIBLAS\n",
      "24/10/04 13:01:07 WARN InstanceBuilder: Failed to load implementation from:dev.ludovic.netlib.blas.VectorBLAS\n"
     ]
    },
    {
     "name": "stdout",
     "output_type": "stream",
     "text": [
      "+-----------------------------------------------------------------+------------------------------------------------------------------------------------------------------------------------------------------------------------------------------------------------------------+\n",
      "|clean_goods                                                      |clean_goods_word2vec                                                                                                                                                                                        |\n",
      "+-----------------------------------------------------------------+------------------------------------------------------------------------------------------------------------------------------------------------------------------------------------------------------------+\n",
      "|[watch, clock, jewelry, repair]                                  |[-0.39023250341415405,0.4630686528980732,-0.5151775851845741,0.37046969681978226,-0.7117640376091003,-0.22882065176963806,0.6604826338589191,0.554118238389492,0.8869908899068832,-2.028731495141983]       |\n",
      "|[motor, vehicle]                                                 |[0.8532672822475433,-0.4458218067884445,-0.8721750974655151,0.16917283833026886,0.7814875841140747,0.5251866281032562,-0.434440016746521,0.33024051785469055,0.2081524059176445,0.3065705895423889]         |\n",
      "|[cable, satellite, pay, television, radio]                       |[-0.7819731116294861,-1.8162620782852175,-0.8584009766578675,-0.4527336120605469,1.0811039924621582,-0.34308603405952454,0.06319424882531166,-0.03953482508659363,-0.4026679486036301,-0.3977866619825363]  |\n",
      "|[opticians, optical, goods, eyeglasses]                          |[-0.013741289963945746,0.42792058549821377,-1.6783453226089478,0.25280351378023624,1.7190895974636078,-0.3947703782469034,-0.005878964206203818,-0.7187673225998878,-0.03327163681387901,-0.497115358710289]|\n",
      "|[watch, clock, jewelry, repair]                                  |[-0.39023250341415405,0.4630686528980732,-0.5151775851845741,0.37046969681978226,-0.7117640376091003,-0.22882065176963806,0.6604826338589191,0.554118238389492,0.8869908899068832,-2.028731495141983]       |\n",
      "|[antique, repairs]                                               |[-0.06190038379281759,0.6834580302238464,-0.5763974189758301,0.056036513298749924,-0.7685433626174927,0.8078632950782776,-0.15749312192201614,0.7896997928619385,0.1848984882235527,-0.4836720675230026]    |\n",
      "|[tent, awning]                                                   |[-0.927523672580719,0.3432861268520355,0.09674681350588799,0.2546718716621399,0.6569304168224335,-0.6447822153568268,-0.0623912513256073,-0.3333961218595505,-1.0613409280776978,-0.6307124495506287]       |\n",
      "|[bicycle, service]                                               |[0.12988357990980148,-1.099280059337616,-0.4294019639492035,-0.17111337929964066,0.28696322441101074,-0.580392874777317,0.288817822933197,0.37747879326343536,0.5701646208763123,-0.8856096565723419]       |\n",
      "|[motor, vehicle]                                                 |[0.8532672822475433,-0.4458218067884445,-0.8721750974655151,0.16917283833026886,0.7814875841140747,0.5251866281032562,-0.434440016746521,0.33024051785469055,0.2081524059176445,0.3065705895423889]         |\n",
      "|[motor, vehicle]                                                 |[0.8532672822475433,-0.4458218067884445,-0.8721750974655151,0.16917283833026886,0.7814875841140747,0.5251866281032562,-0.434440016746521,0.33024051785469055,0.2081524059176445,0.3065705895423889]         |\n",
      "|[watch, clock, jewelry, repair]                                  |[-0.39023250341415405,0.4630686528980732,-0.5151775851845741,0.37046969681978226,-0.7117640376091003,-0.22882065176963806,0.6604826338589191,0.554118238389492,0.8869908899068832,-2.028731495141983]       |\n",
      "|[tent, awning]                                                   |[-0.927523672580719,0.3432861268520355,0.09674681350588799,0.2546718716621399,0.6569304168224335,-0.6447822153568268,-0.0623912513256073,-0.3333961218595505,-1.0613409280776978,-0.6307124495506287]       |\n",
      "|[digital, goods, books, movies, music]                           |[-1.108906627446413,0.8375799894332886,-0.6128614723682404,0.39706367850303653,1.7753662824630738,-0.5052574589848519,0.10524049196392299,-0.3824608355760575,0.040279218554496767,-0.35607476234436036]    |\n",
      "|[health, beauty, spas]                                           |[-0.5366502503554026,-0.4304041862487793,0.08369118471940358,-0.4885567526022593,0.205311128248771,-0.7103588978449503,0.053359054028987885,0.8027635018030802,1.791097362836202,1.0479649504025776]        |\n",
      "|[digital, goods, books, movies, music]                           |[-1.108906627446413,0.8375799894332886,-0.6128614723682404,0.39706367850303653,1.7753662824630738,-0.5052574589848519,0.10524049196392299,-0.3824608355760575,0.040279218554496767,-0.35607476234436036]    |\n",
      "|[florists, nursery, stock, flowers]                              |[0.19464358128607273,-0.6394906342029572,-0.5000897943973541,-7.932283915579319E-4,0.5083363503217697,0.5835501328110695,-0.749328151345253,-0.8289249241352081,-1.7280019521713257,0.22475619614124298]    |\n",
      "|[watch, clock, jewelry, repair]                                  |[-0.39023250341415405,0.4630686528980732,-0.5151775851845741,0.37046969681978226,-0.7117640376091003,-0.22882065176963806,0.6604826338589191,0.554118238389492,0.8869908899068832,-2.028731495141983]       |\n",
      "|[books, periodicals, newspapers]                                 |[-1.2036827007929483,0.7124440769354502,-0.5536536475022633,0.7364332924286524,1.5855364799499512,-0.992594023545583,-0.4642007102568944,-0.048878436287244156,0.24249073366324106,0.6343171298503876]      |\n",
      "|[music, musical, instruments, pianos, sheet, music]              |[-1.3276312748591104,0.2646823277076085,0.5080233961343765,0.20576548079649606,1.1580843726793923,-0.5706338038047154,0.6339206645886103,-0.09863441189130147,1.637328028678894,-0.7894686261812845]        |\n",
      "|[furniture, home, furnishings, manufacturers, except, appliances]|[1.4791040221850076,0.567209467291832,0.8502651005983353,0.17823428908983865,-1.1805800894896188,-0.813688263297081,-0.294596587618192,-0.3443022072315216,-0.18596689278880754,0.07320568710565567]        |\n",
      "+-----------------------------------------------------------------+------------------------------------------------------------------------------------------------------------------------------------------------------------------------------------------------------------+\n",
      "only showing top 20 rows\n",
      "\n"
     ]
    }
   ],
   "source": [
    "from pyspark.ml.feature import Word2Vec\n",
    "\n",
    "# Step 1: Initialize the Word2Vec model\n",
    "word2vec = Word2Vec(vectorSize=10, inputCol=\"clean_goods\", outputCol=\"clean_goods_word2vec\")\n",
    "\n",
    "# Step 2: Train the Word2Vec model\n",
    "model = word2vec.fit(df_combined)\n",
    "\n",
    "# Step 3: Transform the 'clean_goods' column into word vectors\n",
    "df_word2vec = model.transform(df_combined)\n",
    "\n",
    "# Show the resulting DataFrame with word vectors\n",
    "df_word2vec.select(\"clean_goods\", \"clean_goods_word2vec\").show(truncate=False)"
   ]
  },
  {
   "cell_type": "markdown",
   "metadata": {},
   "source": [
    "# K-Means Clustering"
   ]
  },
  {
   "cell_type": "code",
   "execution_count": 10,
   "metadata": {},
   "outputs": [
    {
     "data": {
      "image/png": "[encoded data removed]",
      "text/plain": [
       "<Figure size 1000x600 with 1 Axes>"
      ]
     },
     "metadata": {},
     "output_type": "display_data"
    }
   ],
   "source": [
    "import matplotlib.pyplot as plt\n",
    "from pyspark.ml.clustering import KMeans\n",
    "\n",
    "# Step 1: Create a list to store the SSE values for each k\n",
    "sse = []\n",
    "\n",
    "# Step 2: Test K-Means with different values of k (e.g., from 2 to 10 clusters)\n",
    "for k in range(2, 16):\n",
    "    kmeans = KMeans(featuresCol=\"clean_goods_word2vec\", predictionCol=\"cluster\", k=k)\n",
    "    kmeans_model = kmeans.fit(df_word2vec)\n",
    "    \n",
    "    # Compute the Sum of Squared Errors (SSE) and append to the list\n",
    "    sse.append(kmeans_model.summary.trainingCost)\n",
    "\n",
    "# Step 3: Plot the SSE against k to find the \"elbow\" point\n",
    "plt.figure(figsize=(10,6))\n",
    "plt.plot(range(2, 16), sse, marker='o')\n",
    "plt.xlabel('Number of Clusters (k)')\n",
    "plt.ylabel('Sum of Squared Errors (SSE)')\n",
    "plt.title('Elbow Method For Optimal k')\n",
    "plt.show()\n"
   ]
  },
  {
   "cell_type": "code",
   "execution_count": 11,
   "metadata": {},
   "outputs": [
    {
     "name": "stdout",
     "output_type": "stream",
     "text": [
      "+-----------------------------------------------------------------+------------------------------------------------------------------------------------------------------------------------------------------------------------------------------------------------------------+-------+\n",
      "|clean_goods                                                      |clean_goods_word2vec                                                                                                                                                                                        |cluster|\n",
      "+-----------------------------------------------------------------+------------------------------------------------------------------------------------------------------------------------------------------------------------------------------------------------------------+-------+\n",
      "|[watch, clock, jewelry, repair]                                  |[-0.39023250341415405,0.4630686528980732,-0.5151775851845741,0.37046969681978226,-0.7117640376091003,-0.22882065176963806,0.6604826338589191,0.554118238389492,0.8869908899068832,-2.028731495141983]       |1      |\n",
      "|[motor, vehicle]                                                 |[0.8532672822475433,-0.4458218067884445,-0.8721750974655151,0.16917283833026886,0.7814875841140747,0.5251866281032562,-0.434440016746521,0.33024051785469055,0.2081524059176445,0.3065705895423889]         |6      |\n",
      "|[cable, satellite, pay, television, radio]                       |[-0.7819731116294861,-1.8162620782852175,-0.8584009766578675,-0.4527336120605469,1.0811039924621582,-0.34308603405952454,0.06319424882531166,-0.03953482508659363,-0.4026679486036301,-0.3977866619825363]  |5      |\n",
      "|[opticians, optical, goods, eyeglasses]                          |[-0.013741289963945746,0.42792058549821377,-1.6783453226089478,0.25280351378023624,1.7190895974636078,-0.3947703782469034,-0.005878964206203818,-0.7187673225998878,-0.03327163681387901,-0.497115358710289]|0      |\n",
      "|[watch, clock, jewelry, repair]                                  |[-0.39023250341415405,0.4630686528980732,-0.5151775851845741,0.37046969681978226,-0.7117640376091003,-0.22882065176963806,0.6604826338589191,0.554118238389492,0.8869908899068832,-2.028731495141983]       |1      |\n",
      "|[antique, repairs]                                               |[-0.06190038379281759,0.6834580302238464,-0.5763974189758301,0.056036513298749924,-0.7685433626174927,0.8078632950782776,-0.15749312192201614,0.7896997928619385,0.1848984882235527,-0.4836720675230026]    |6      |\n",
      "|[tent, awning]                                                   |[-0.927523672580719,0.3432861268520355,0.09674681350588799,0.2546718716621399,0.6569304168224335,-0.6447822153568268,-0.0623912513256073,-0.3333961218595505,-1.0613409280776978,-0.6307124495506287]       |2      |\n",
      "|[bicycle, service]                                               |[0.12988357990980148,-1.099280059337616,-0.4294019639492035,-0.17111337929964066,0.28696322441101074,-0.580392874777317,0.288817822933197,0.37747879326343536,0.5701646208763123,-0.8856096565723419]       |5      |\n",
      "|[motor, vehicle]                                                 |[0.8532672822475433,-0.4458218067884445,-0.8721750974655151,0.16917283833026886,0.7814875841140747,0.5251866281032562,-0.434440016746521,0.33024051785469055,0.2081524059176445,0.3065705895423889]         |6      |\n",
      "|[motor, vehicle]                                                 |[0.8532672822475433,-0.4458218067884445,-0.8721750974655151,0.16917283833026886,0.7814875841140747,0.5251866281032562,-0.434440016746521,0.33024051785469055,0.2081524059176445,0.3065705895423889]         |6      |\n",
      "|[watch, clock, jewelry, repair]                                  |[-0.39023250341415405,0.4630686528980732,-0.5151775851845741,0.37046969681978226,-0.7117640376091003,-0.22882065176963806,0.6604826338589191,0.554118238389492,0.8869908899068832,-2.028731495141983]       |1      |\n",
      "|[tent, awning]                                                   |[-0.927523672580719,0.3432861268520355,0.09674681350588799,0.2546718716621399,0.6569304168224335,-0.6447822153568268,-0.0623912513256073,-0.3333961218595505,-1.0613409280776978,-0.6307124495506287]       |2      |\n",
      "|[digital, goods, books, movies, music]                           |[-1.108906627446413,0.8375799894332886,-0.6128614723682404,0.39706367850303653,1.7753662824630738,-0.5052574589848519,0.10524049196392299,-0.3824608355760575,0.040279218554496767,-0.35607476234436036]    |0      |\n",
      "|[health, beauty, spas]                                           |[-0.5366502503554026,-0.4304041862487793,0.08369118471940358,-0.4885567526022593,0.205311128248771,-0.7103588978449503,0.053359054028987885,0.8027635018030802,1.791097362836202,1.0479649504025776]        |3      |\n",
      "|[digital, goods, books, movies, music]                           |[-1.108906627446413,0.8375799894332886,-0.6128614723682404,0.39706367850303653,1.7753662824630738,-0.5052574589848519,0.10524049196392299,-0.3824608355760575,0.040279218554496767,-0.35607476234436036]    |0      |\n",
      "|[florists, nursery, stock, flowers]                              |[0.19464358128607273,-0.6394906342029572,-0.5000897943973541,-7.932283915579319E-4,0.5083363503217697,0.5835501328110695,-0.749328151345253,-0.8289249241352081,-1.7280019521713257,0.22475619614124298]    |2      |\n",
      "|[watch, clock, jewelry, repair]                                  |[-0.39023250341415405,0.4630686528980732,-0.5151775851845741,0.37046969681978226,-0.7117640376091003,-0.22882065176963806,0.6604826338589191,0.554118238389492,0.8869908899068832,-2.028731495141983]       |1      |\n",
      "|[books, periodicals, newspapers]                                 |[-1.2036827007929483,0.7124440769354502,-0.5536536475022633,0.7364332924286524,1.5855364799499512,-0.992594023545583,-0.4642007102568944,-0.048878436287244156,0.24249073366324106,0.6343171298503876]      |0      |\n",
      "|[music, musical, instruments, pianos, sheet, music]              |[-1.3276312748591104,0.2646823277076085,0.5080233961343765,0.20576548079649606,1.1580843726793923,-0.5706338038047154,0.6339206645886103,-0.09863441189130147,1.637328028678894,-0.7894686261812845]        |0      |\n",
      "|[furniture, home, furnishings, manufacturers, except, appliances]|[1.4791040221850076,0.567209467291832,0.8502651005983353,0.17823428908983865,-1.1805800894896188,-0.813688263297081,-0.294596587618192,-0.3443022072315216,-0.18596689278880754,0.07320568710565567]        |4      |\n",
      "+-----------------------------------------------------------------+------------------------------------------------------------------------------------------------------------------------------------------------------------------------------------------------------------+-------+\n",
      "only showing top 20 rows\n",
      "\n"
     ]
    }
   ],
   "source": [
    "from pyspark.ml.clustering import KMeans\n",
    "\n",
    "kmeans = KMeans(featuresCol=\"clean_goods_word2vec\", predictionCol=\"cluster\", k=9)  # k is the number of clusters\n",
    "kmeans_model = kmeans.fit(df_word2vec)\n",
    "\n",
    "# Make predictions (assign clusters to the data points)\n",
    "df_clusters = kmeans_model.transform(df_word2vec)\n",
    "\n",
    "# Show the resulting DataFrame with clusters\n",
    "df_clusters.select(\"clean_goods\", \"clean_goods_word2vec\", \"cluster\").show(truncate=False)"
   ]
  },
  {
   "cell_type": "code",
   "execution_count": 12,
   "metadata": {},
   "outputs": [
    {
     "name": "stdout",
     "output_type": "stream",
     "text": [
      "+-------+----------+-----+\n",
      "|cluster|clean_good|count|\n",
      "+-------+----------+-----+\n",
      "|0      |music     |529  |\n",
      "|1      |watch     |261  |\n",
      "|2      |card      |182  |\n",
      "|3      |beauty    |164  |\n",
      "|4      |furniture |316  |\n",
      "|5      |television|175  |\n",
      "|6      |shoe      |185  |\n",
      "|7      |computer  |372  |\n",
      "|8      |craft     |193  |\n",
      "+-------+----------+-----+\n",
      "\n",
      "+-------+--------------+\n",
      "|cluster|merchant_count|\n",
      "+-------+--------------+\n",
      "|1      |261           |\n",
      "|6      |844           |\n",
      "|3      |478           |\n",
      "|5      |345           |\n",
      "|4      |316           |\n",
      "|8      |193           |\n",
      "|7      |372           |\n",
      "|2      |540           |\n",
      "|0      |677           |\n",
      "+-------+--------------+\n",
      "\n"
     ]
    }
   ],
   "source": [
    "from pyspark.sql.functions import explode, col, desc, count\n",
    "from pyspark.sql import Window\n",
    "from pyspark.sql.functions import row_number\n",
    "\n",
    "# Step 1: Explode the 'clean_goods' column to individual clean_good entries\n",
    "df_exploded = df_clusters.withColumn(\"clean_good\", explode(col(\"clean_goods\")))\n",
    "\n",
    "# Step 2: Group by 'cluster' and 'clean_good', then count occurrences of each clean_good\n",
    "df_grouped = df_exploded.groupBy(\"cluster\", \"clean_good\").count()\n",
    "\n",
    "# Step 3: Rank clean_goods within each cluster based on count\n",
    "window = Window.partitionBy(\"cluster\").orderBy(desc(\"count\"))\n",
    "df_ranked = df_grouped.withColumn(\"rank\", row_number().over(window))\n",
    "\n",
    "# Step 4: Filter to keep only the most common clean_good per cluster\n",
    "df_most_common_good = df_ranked.filter(col(\"rank\") == 1).drop(\"rank\")\n",
    "\n",
    "# Step 5: Show the most common clean_good for each cluster\n",
    "df_most_common_good.select(\"cluster\", \"clean_good\", \"count\").show(truncate=False)\n",
    "\n",
    "# Step 6: Count the number of records (merchants) in each cluster\n",
    "df_cluster_count = df_clusters.groupBy(\"cluster\").agg(count(\"*\").alias(\"merchant_count\"))\n",
    "\n",
    "# Step 7: Show the number of records/merchants in each cluster\n",
    "df_cluster_count.show(truncate=False)\n"
   ]
  },
  {
   "cell_type": "code",
   "execution_count": 13,
   "metadata": {},
   "outputs": [
    {
     "data": {
      "text/plain": [
       "9"
      ]
     },
     "execution_count": 13,
     "metadata": {},
     "output_type": "execute_result"
    }
   ],
   "source": [
    "df_most_common_good.count()"
   ]
  },
  {
   "cell_type": "code",
   "execution_count": 14,
   "metadata": {},
   "outputs": [
    {
     "name": "stdout",
     "output_type": "stream",
     "text": [
      "+------------+----------------------------------+----------------------------------------------------------+-------------+---------+------------------+-------------------+------------------+------------------+----------------------------------------------+-----------------------------------------------------------------------------------------------------------------------------------------------------------------------------------------------------------+-------+\n",
      "|merchant_abn|name                              |goods                                                     |revenue_level|take_rate|sum(dollar_value) |count(dollar_value)|log_ratio         |unscaled_earning  |clean_goods                                   |clean_goods_word2vec                                                                                                                                                                                       |cluster|\n",
      "+------------+----------------------------------+----------------------------------------------------------+-------------+---------+------------------+-------------------+------------------+------------------+----------------------------------------------+-----------------------------------------------------------------------------------------------------------------------------------------------------------------------------------------------------------+-------+\n",
      "|73256306726 |Id LLP                            |health and beauty spas                                    |b            |4.81     |1496967.159114219 |5263               |5.6504952400078965|72004.12035339393 |[health, beauty, spas]                        |[-0.5366502503554026,-0.4304041862487793,0.08369118471940358,-0.4885567526022593,0.205311128248771,-0.7103588978449503,0.053359054028987885,0.8027635018030802,1.791097362836202,1.0479649504025776]       |3      |\n",
      "|29216160692 |Class Aptent LLC                  |lawn and garden supply outlets, including nurseries       |a            |5.6      |475888.16781434324|4452               |4.671829451648523 |26649.737397603218|[lawn, garden, outlets, including, nurseries] |[1.5744940042495728,-0.16459674164652827,-1.2181272983551026,-0.26642846688628197,0.026486899703741074,-0.32915446162223816,0.04079443961381912,-0.9390174865722657,0.9723644852638245,0.15654474198818208]|3      |\n",
      "|18303734841 |Sollicitudin Orci Ltd             |health and beauty spas                                    |a            |6.61     |1049286.538395582 |3723               |5.641335930062603 |69357.84018794798 |[health, beauty, spas]                        |[-0.5366502503554026,-0.4304041862487793,0.08369118471940358,-0.4885567526022593,0.205311128248771,-0.7103588978449503,0.053359054028987885,0.8027635018030802,1.791097362836202,1.0479649504025776]       |3      |\n",
      "|18525353549 |Pede Ultrices Corp.               |stationery, office supplies and printing and writing paper|b            |3.79     |614594.0612794312 |906                |6.519677959847939 |23293.114922490444|[stationery, office, printing, writing, paper]|[0.2116851344704628,-0.4482943058013916,-0.19759166985750198,0.8883972048759461,0.02570527233183384,-1.18470618724823,-0.1405852898955345,-0.7142285227775574,1.3475796699523928,1.3161391019821167]       |3      |\n",
      "|71649111610 |At LLP                            |stationery, office supplies and printing and writing paper|b            |4.31     |44243.55567264127 |169                |5.567566290390684 |1906.8972494908387|[stationery, office, printing, writing, paper]|[0.2116851344704628,-0.4482943058013916,-0.19759166985750198,0.8883972048759461,0.02570527233183384,-1.18470618724823,-0.1405852898955345,-0.7142285227775574,1.3475796699523928,1.3161391019821167]       |3      |\n",
      "|81271508783 |Auctor Mauris PC                  |lawn and garden supply outlets, including nurseries       |a            |6.94     |47444.19833645432 |24                 |7.589255697225295 |3292.62736454993  |[lawn, garden, outlets, including, nurseries] |[1.5744940042495728,-0.16459674164652827,-1.2181272983551026,-0.26642846688628197,0.026486899703741074,-0.32915446162223816,0.04079443961381912,-0.9390174865722657,0.9723644852638245,0.15654474198818208]|3      |\n",
      "|98518649381 |Nullam Scelerisque Neque Corp.    |lawn and garden supply outlets, including nurseries       |a            |6.14     |3821722.431654757 |3793               |6.915299235608692 |234653.75730360206|[lawn, garden, outlets, including, nurseries] |[1.5744940042495728,-0.16459674164652827,-1.2181272983551026,-0.26642846688628197,0.026486899703741074,-0.32915446162223816,0.04079443961381912,-0.9390174865722657,0.9723644852638245,0.15654474198818208]|3      |\n",
      "|11076688542 |Amet Diam Industries              |stationery, office supplies and printing and writing paper|c            |2.52     |36096.61288925998 |52                 |6.542710595555359 |909.6346448093515 |[stationery, office, printing, writing, paper]|[0.2116851344704628,-0.4482943058013916,-0.19759166985750198,0.8883972048759461,0.02570527233183384,-1.18470618724823,-0.1405852898955345,-0.7142285227775574,1.3475796699523928,1.3161391019821167]       |3      |\n",
      "|33026294208 |Convallis Est Industries          |lawn and garden supply outlets, including nurseries       |b            |3.39     |45826.53820261609 |182                |5.528611951955177 |1553.5196450686853|[lawn, garden, outlets, including, nurseries] |[1.5744940042495728,-0.16459674164652827,-1.2181272983551026,-0.26642846688628197,0.026486899703741074,-0.32915446162223816,0.04079443961381912,-0.9390174865722657,0.9723644852638245,0.15654474198818208]|3      |\n",
      "|40836710601 |Velit Eu Sem Foundation           |health and beauty spas                                    |c            |2.32     |19726.065686069127|30                 |6.488498789769646 |457.64472391680374|[health, beauty, spas]                        |[-0.5366502503554026,-0.4304041862487793,0.08369118471940358,-0.4885567526022593,0.205311128248771,-0.7103588978449503,0.053359054028987885,0.8027635018030802,1.791097362836202,1.0479649504025776]       |3      |\n",
      "|43127814599 |Nam Ligula Elit Foundation        |lawn and garden supply outlets, including nurseries       |b            |3.58     |5160928.759876949 |3874               |7.194584269518362 |184761.24960359477|[lawn, garden, outlets, including, nurseries] |[1.5744940042495728,-0.16459674164652827,-1.2181272983551026,-0.26642846688628197,0.026486899703741074,-0.32915446162223816,0.04079443961381912,-0.9390174865722657,0.9723644852638245,0.15654474198818208]|3      |\n",
      "|97159474697 |Sodales Limited                   |lawn and garden supply outlets, including nurseries       |a            |5.84     |1459900.2110820713|5429               |5.594368408869274 |85258.17232719297 |[lawn, garden, outlets, including, nurseries] |[1.5744940042495728,-0.16459674164652827,-1.2181272983551026,-0.26642846688628197,0.026486899703741074,-0.32915446162223816,0.04079443961381912,-0.9390174865722657,0.9723644852638245,0.15654474198818208]|3      |\n",
      "|14316652139 |Sed Dolor Inc.                    |stationery, office supplies and printing and writing paper|a            |6.54     |91809.33095452348 |341                |5.595586738544412 |6004.330244425835 |[stationery, office, printing, writing, paper]|[0.2116851344704628,-0.4482943058013916,-0.19759166985750198,0.8883972048759461,0.02570527233183384,-1.18470618724823,-0.1405852898955345,-0.7142285227775574,1.3475796699523928,1.3161391019821167]       |3      |\n",
      "|49439795725 |Ut Molestie LLP                   |lawn and garden supply outlets, including  nurseries      |a            |5.57     |35200.67838844754 |319                |4.703629531014712 |1960.6777862365277|[lawn, garden, outlets, including, nurseries] |[1.5744940042495728,-0.16459674164652827,-1.2181272983551026,-0.26642846688628197,0.026486899703741074,-0.32915446162223816,0.04079443961381912,-0.9390174865722657,0.9723644852638245,0.15654474198818208]|3      |\n",
      "|79825619910 |Dui Quis LLP                      |stationery, office supplies and printing and writing paper|a            |6.64     |35557.42302482702 |83                 |6.06006361083709  |2361.012888848514 |[stationery, office, printing, writing, paper]|[0.2116851344704628,-0.4482943058013916,-0.19759166985750198,0.8883972048759461,0.02570527233183384,-1.18470618724823,-0.1405852898955345,-0.7142285227775574,1.3475796699523928,1.3161391019821167]       |3      |\n",
      "|43321695302 |Ante Limited                      |health and beauty spas                                    |b            |4.51     |1054001.1911132543|5515               |5.25287720648368  |47535.45371920777 |[health, beauty, spas]                        |[-0.5366502503554026,-0.4304041862487793,0.08369118471940358,-0.4885567526022593,0.205311128248771,-0.7103588978449503,0.053359054028987885,0.8027635018030802,1.791097362836202,1.0479649504025776]       |3      |\n",
      "|52529569808 |Aliquam Erat Corp.                |health and beauty spas                                    |c            |2.09     |148242.35585804176|766                |5.265421583280996 |3098.2652374330723|[health, beauty, spas]                        |[-0.5366502503554026,-0.4304041862487793,0.08369118471940358,-0.4885567526022593,0.205311128248771,-0.7103588978449503,0.053359054028987885,0.8027635018030802,1.791097362836202,1.0479649504025776]       |3      |\n",
      "|84056759251 |Non Arcu Industries               |stationery, office supplies and printing and writing paper|d            |1.21     |36992.172545748595|103                |5.883732628198667 |447.605287803558  |[stationery, office, printing, writing, paper]|[0.2116851344704628,-0.4482943058013916,-0.19759166985750198,0.8883972048759461,0.02570527233183384,-1.18470618724823,-0.1405852898955345,-0.7142285227775574,1.3475796699523928,1.3161391019821167]       |3      |\n",
      "|17496459532 |Nonummy Ultricies Ornare Institute|health and beauty spas                                    |b            |3.13     |19859.969371134255|303                |4.182728589849646 |621.6170413165022 |[health, beauty, spas]                        |[-0.5366502503554026,-0.4304041862487793,0.08369118471940358,-0.4885567526022593,0.205311128248771,-0.7103588978449503,0.053359054028987885,0.8027635018030802,1.791097362836202,1.0479649504025776]       |3      |\n",
      "|41489552788 |Nonummy Ultricies LLC             |lawn and garden supply outlets, including nurseries       |a            |6.02     |58233.28466357941 |576                |4.616104710986408 |3505.6437367474805|[lawn, garden, outlets, including, nurseries] |[1.5744940042495728,-0.16459674164652827,-1.2181272983551026,-0.26642846688628197,0.026486899703741074,-0.32915446162223816,0.04079443961381912,-0.9390174865722657,0.9723644852638245,0.15654474198818208]|3      |\n",
      "+------------+----------------------------------+----------------------------------------------------------+-------------+---------+------------------+-------------------+------------------+------------------+----------------------------------------------+-----------------------------------------------------------------------------------------------------------------------------------------------------------------------------------------------------------+-------+\n",
      "only showing top 20 rows\n",
      "\n"
     ]
    }
   ],
   "source": [
    "df_clusters.filter(col('cluster')==3).show(20, truncate=False)"
   ]
  },
  {
   "cell_type": "code",
   "execution_count": 23,
   "metadata": {},
   "outputs": [
    {
     "name": "stdout",
     "output_type": "stream",
     "text": [
      "+-------+-----------------------------------------------------------------+----------------------+\n",
      "|cluster|clean_goods                                                      |segment               |\n",
      "+-------+-----------------------------------------------------------------+----------------------+\n",
      "|1      |[watch, clock, jewelry, repair]                                  |Office & Home Supplies|\n",
      "|6      |[motor, vehicle]                                                 |Miscellaneous         |\n",
      "|5      |[cable, satellite, pay, television, radio]                       |Entertainment & Media |\n",
      "|0      |[opticians, optical, goods, eyeglasses]                          |Entertainment & Media |\n",
      "|1      |[watch, clock, jewelry, repair]                                  |Office & Home Supplies|\n",
      "|6      |[antique, repairs]                                               |Miscellaneous         |\n",
      "|2      |[tent, awning]                                                   |Office & Home Supplies|\n",
      "|5      |[bicycle, service]                                               |Entertainment & Media |\n",
      "|6      |[motor, vehicle]                                                 |Miscellaneous         |\n",
      "|6      |[motor, vehicle]                                                 |Miscellaneous         |\n",
      "|1      |[watch, clock, jewelry, repair]                                  |Office & Home Supplies|\n",
      "|2      |[tent, awning]                                                   |Office & Home Supplies|\n",
      "|0      |[digital, goods, books, movies, music]                           |Entertainment & Media |\n",
      "|3      |[health, beauty, spas]                                           |Miscellaneous         |\n",
      "|0      |[digital, goods, books, movies, music]                           |Entertainment & Media |\n",
      "|2      |[florists, nursery, stock, flowers]                              |Office & Home Supplies|\n",
      "|1      |[watch, clock, jewelry, repair]                                  |Office & Home Supplies|\n",
      "|0      |[books, periodicals, newspapers]                                 |Entertainment & Media |\n",
      "|0      |[music, musical, instruments, pianos, sheet, music]              |Entertainment & Media |\n",
      "|4      |[furniture, home, furnishings, manufacturers, except, appliances]|Fashion               |\n",
      "+-------+-----------------------------------------------------------------+----------------------+\n",
      "only showing top 20 rows\n",
      "\n"
     ]
    }
   ],
   "source": [
    "from pyspark.sql.functions import when, col\n",
    "\n",
    "# Define the mapping of clusters to segments\n",
    "df_segmented = df_clusters.withColumn(\n",
    "    \"segment\",\n",
    "    when(col(\"cluster\") == 0, \"Entertainment & Media\") #music\n",
    "    .when(col(\"cluster\") == 1, \"Office & Home Supplies\") #office\n",
    "    .when(col(\"cluster\") == 2, \"Office & Home Supplies\") #furniture\n",
    "    .when(col(\"cluster\") == 3, \"Miscellaneous\") #novelty\n",
    "    .when(col(\"cluster\") == 4, \"Fashion\") #jewelry\n",
    "    .when(col(\"cluster\") == 5, \"Entertainment & Media\") #television\n",
    "    .when(col(\"cluster\") == 6, \"Miscellaneous\") #shoe\n",
    "    .when(col(\"cluster\") == 7, \"Miscellaneous\") #craft\n",
    "    .when(col(\"cluster\") == 8, \"Technology\") #computer\n",
    ")\n",
    "\n",
    "# Show the DataFrame with the assigned segments\n",
    "df_segmented.select(\"cluster\", \"clean_goods\", \"segment\").show(truncate=False)\n"
   ]
  },
  {
   "cell_type": "code",
   "execution_count": 35,
   "metadata": {},
   "outputs": [],
   "source": [
    "df_segmented.select(\"segment\", \"merchant_abn\", \"goods\").write.mode('overwrite').parquet(\"../data/curated/clean_merchant_segmented.parquet\")"
   ]
  },
  {
   "cell_type": "markdown",
   "metadata": {},
   "source": [
    "## Ranking with respect to each segment"
   ]
  },
  {
   "cell_type": "code",
   "execution_count": 36,
   "metadata": {},
   "outputs": [],
   "source": [
    "initial_ranking = spark.read.parquet(\"../data/curated/merchant_ranking\")\n",
    "merchant_segment = spark.read.parquet(\"../data/curated/clean_merchant_segmented.parquet\")"
   ]
  },
  {
   "cell_type": "code",
   "execution_count": 37,
   "metadata": {},
   "outputs": [],
   "source": [
    "# Join each merchant in initial ranking by segment\n",
    "merchant_segment_ranking = initial_ranking.join(merchant_segment, how='left', on='merchant_abn')"
   ]
  },
  {
   "cell_type": "code",
   "execution_count": 38,
   "metadata": {},
   "outputs": [
    {
     "name": "stdout",
     "output_type": "stream",
     "text": [
      "+------------+-------------------+--------------------+--------------------+\n",
      "|merchant_abn|        final_score|             segment|               goods|\n",
      "+------------+-------------------+--------------------+--------------------+\n",
      "| 10023283211|0.34665547847970696|             Fashion|furniture, home f...|\n",
      "| 10142254217|0.44591396713468606|Entertainment & M...|cable, satellite,...|\n",
      "| 10187291046|0.38122776560117516|Office & Home Sup...|watch, clock, and...|\n",
      "| 10192359162|  0.398765863870318|Entertainment & M...|music shops - mus...|\n",
      "| 10206519221|0.47225008406806857|Office & Home Sup...|gift, card, novel...|\n",
      "| 10255988167| 0.4076161630342327|       Miscellaneous|computers, comput...|\n",
      "| 10264435225| 0.3963824321769272|Office & Home Sup...|watch, clock, and...|\n",
      "| 10279061213| 0.4276492868603308|       Miscellaneous|computer programm...|\n",
      "| 10323485998| 0.4740691202301806|             Fashion|furniture, home f...|\n",
      "| 10342410215|0.40444552007740514|       Miscellaneous|computers, comput...|\n",
      "| 10346855916| 0.4277855125897968|             Fashion|equipment, tool, ...|\n",
      "| 10364012396|  0.429926339117415|Entertainment & M...|music shops - mus...|\n",
      "| 10385011947|0.44311263919122224|          Technology|artist supply and...|\n",
      "| 10385163239| 0.3530623611462167|Office & Home Sup...|florists supplies...|\n",
      "| 10385250025|0.42648269068441824|       Miscellaneous|computers, comput...|\n",
      "| 10430380319|0.42850998937565377|       Miscellaneous|motor vehicle sup...|\n",
      "| 10441711491| 0.4296198230719087|       Miscellaneous|motor vehicle sup...|\n",
      "| 10462560289| 0.4378297380202642|Office & Home Sup...|gift, card, novel...|\n",
      "| 10463252268| 0.4306270621898343|          Technology|artist supply and...|\n",
      "| 10487253336|0.43550986630747734|          Technology|artist supply  an...|\n",
      "+------------+-------------------+--------------------+--------------------+\n",
      "only showing top 20 rows\n",
      "\n"
     ]
    }
   ],
   "source": [
    "merchant_segment_ranking.show()"
   ]
  },
  {
   "cell_type": "code",
   "execution_count": 39,
   "metadata": {},
   "outputs": [
    {
     "name": "stdout",
     "output_type": "stream",
     "text": [
      "Entertainment & Media\n",
      "+------------+------------------+--------------------+--------------------+\n",
      "|merchant_abn|       final_score|             segment|               goods|\n",
      "+------------+------------------+--------------------+--------------------+\n",
      "| 46804135891|0.6777120982876664|Entertainment & M...|opticians, optica...|\n",
      "| 21439773999|0.6700187523090408|Entertainment & M...|cable, satellite,...|\n",
      "| 72472909171|0.6622214852629547|Entertainment & M...|digital goods: bo...|\n",
      "| 64403598239|0.6365628297962749|Entertainment & M...|music shops - mus...|\n",
      "| 49505931725|0.6343411880850518|Entertainment & M...|digital goods: bo...|\n",
      "| 48534649627|0.6314486821874987|Entertainment & M...|opticians, optica...|\n",
      "| 47086412084|0.6124809716947015|Entertainment & M...|digital goods: bo...|\n",
      "| 11566786699|0.5916917142803533|Entertainment & M...|opticians, optica...|\n",
      "| 41251795489|0.5822142200359555|Entertainment & M...|opticians, optica...|\n",
      "| 75034515922| 0.578029584534356|Entertainment & M...|digital goods: bo...|\n",
      "+------------+------------------+--------------------+--------------------+\n",
      "only showing top 10 rows\n",
      "\n",
      "Office & Home Supplies\n",
      "+------------+------------------+--------------------+--------------------+\n",
      "|merchant_abn|       final_score|             segment|               goods|\n",
      "+------------+------------------+--------------------+--------------------+\n",
      "| 64203420245|0.6735086366160532|Office & Home Sup...|tent and awning s...|\n",
      "| 49891706470|0.6734876409303723|Office & Home Sup...|tent and awning s...|\n",
      "| 45629217853|0.6733255685982173|Office & Home Sup...|gift, card, novel...|\n",
      "| 89726005175|0.6732569639090749|Office & Home Sup...|tent and awning s...|\n",
      "| 80324045558|0.6729121388016536|Office & Home Sup...|gift, card, novel...|\n",
      "| 13467303030|0.6649252706700772|Office & Home Sup...|tent and awning s...|\n",
      "| 94493496784|0.6573385083234794|Office & Home Sup...|gift, card, novel...|\n",
      "| 79417999332|0.6566989590735425|Office & Home Sup...|gift, card, novel...|\n",
      "| 60956456424| 0.651398243090242|Office & Home Sup...|gift, card, novel...|\n",
      "| 32361057556|0.6484768972386095|Office & Home Sup...|gift, card, novel...|\n",
      "+------------+------------------+--------------------+--------------------+\n",
      "only showing top 10 rows\n",
      "\n",
      "Miscellaneous\n",
      "+------------+------------------+-------------+--------------------+\n",
      "|merchant_abn|       final_score|      segment|               goods|\n",
      "+------------+------------------+-------------+--------------------+\n",
      "| 68216911708| 0.673419306638833|Miscellaneous|computers, comput...|\n",
      "| 95824231566|0.6706274916780242|Miscellaneous|art dealers and g...|\n",
      "| 98973094975|0.6085352007931438|Miscellaneous|hobby, toy and ga...|\n",
      "| 84703983173|0.5841970877287984|Miscellaneous|computer programm...|\n",
      "| 62694031334|0.5753471432623496|Miscellaneous|computers, comput...|\n",
      "| 47797405944|0.5736721249679044|Miscellaneous|art dealers and g...|\n",
      "| 35909341340|0.5709673206945225|Miscellaneous|computer programm...|\n",
      "| 67400260923|0.5703921221742516|Miscellaneous|computer programm...|\n",
      "| 42355028515|0.5651065692159134|Miscellaneous|lawn and garden s...|\n",
      "| 84895141974|0.5611816738896587|Miscellaneous|hobby, toy and ga...|\n",
      "+------------+------------------+-------------+--------------------+\n",
      "only showing top 10 rows\n",
      "\n",
      "Fashion\n",
      "+------------+------------------+-------+--------------------+\n",
      "|merchant_abn|       final_score|segment|               goods|\n",
      "+------------+------------------+-------+--------------------+\n",
      "| 76767266140|0.5855104410046132|Fashion|furniture, home f...|\n",
      "| 38090089066|0.5658846908843367|Fashion|furniture, home f...|\n",
      "| 98269572896|0.5522184394778381|Fashion|furniture, home f...|\n",
      "| 52959528548|0.5457648659777931|Fashion|furniture, home f...|\n",
      "| 38523766800|0.5277910747805747|Fashion|furniture, home f...|\n",
      "| 90543168331|0.5246500666987673|Fashion|furniture, home f...|\n",
      "| 90578415511|0.5030106616162131|Fashion|furniture, home f...|\n",
      "| 26148653604|0.4922687538371149|Fashion|furniture, home f...|\n",
      "| 38447958250|0.4768662560813411|Fashion|furniture, home f...|\n",
      "| 41705715409|0.4757783059289063|Fashion|furniture, home f...|\n",
      "+------------+------------------+-------+--------------------+\n",
      "only showing top 10 rows\n",
      "\n",
      "Technology\n",
      "+------------+-------------------+----------+--------------------+\n",
      "|merchant_abn|        final_score|   segment|               goods|\n",
      "+------------+-------------------+----------+--------------------+\n",
      "| 63290521567| 0.6749088816613451|Technology|artist supply and...|\n",
      "| 39649557865|  0.519699205105632|Technology|artist supply and...|\n",
      "| 16644129035| 0.5127016876061905|Technology|artist supply and...|\n",
      "| 36196225600| 0.5052300132506697|Technology|artist supply and...|\n",
      "| 89932674734| 0.5030173049776538|Technology|artist supply and...|\n",
      "| 40515428545|0.48556279947515535|Technology|artist supply and...|\n",
      "| 67978471888|0.48298068536355976|Technology|artist supply and...|\n",
      "| 63123845164| 0.4789762065907895|Technology|artist supply and...|\n",
      "| 77679081913| 0.4681793577807105|Technology|artist supply and...|\n",
      "| 47480497674|0.46280807145024044|Technology|artist supply and...|\n",
      "+------------+-------------------+----------+--------------------+\n",
      "only showing top 10 rows\n",
      "\n"
     ]
    }
   ],
   "source": [
    "segments = [\n",
    "    \"Entertainment & Media\",\n",
    "    \"Office & Home Supplies\",\n",
    "    \"Miscellaneous\",\n",
    "    \"Fashion\",\n",
    "    \"Technology\"\n",
    "]\n",
    "\n",
    "for segment in segments:\n",
    "    print(segment)\n",
    "    segment_ranking = merchant_segment_ranking.filter(F.col('segment') == segment)\n",
    "    segment_ranking.orderBy(F.col('final_score').desc()).show(10)"
   ]
  },
  {
   "cell_type": "code",
   "execution_count": null,
   "metadata": {},
   "outputs": [],
   "source": []
  }
 ],
 "metadata": {
  "kernelspec": {
   "display_name": "Python 3",
   "language": "python",
   "name": "python3"
  },
  "language_info": {
   "codemirror_mode": {
    "name": "ipython",
    "version": 3
   },
   "file_extension": ".py",
   "mimetype": "text/x-python",
   "name": "python",
   "nbconvert_exporter": "python",
   "pygments_lexer": "ipython3",
   "version": "3.12.1"
  }
 },
 "nbformat": 4,
 "nbformat_minor": 2
}
