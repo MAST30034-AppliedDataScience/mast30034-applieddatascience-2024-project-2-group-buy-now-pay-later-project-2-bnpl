{
 "cells": [
  {
   "cell_type": "markdown",
   "id": "5fefd909",
   "metadata": {},
   "source": [
    "# Manual segment ranking"
   ]
  },
  {
   "cell_type": "code",
   "execution_count": 1,
   "id": "07f59e00-de1f-419e-885d-0470114eb71a",
   "metadata": {},
   "outputs": [],
   "source": [
    "from pyspark.sql import SparkSession\n",
    "from pyspark.sql import functions as F\n",
    "from pyspark.sql.types import *\n",
    "import pandas as pd\n",
    "import requests"
   ]
  },
  {
   "cell_type": "code",
   "execution_count": null,
   "id": "239aae67-e3f8-4ef2-82f5-7d468a9ec635",
   "metadata": {
    "scrolled": true
   },
   "outputs": [],
   "source": [
    "# Create a spark session\n",
    "spark = (\n",
    "    SparkSession.builder.appName(\"Data Joining\")\n",
    "    .config(\"spark.sql.repl.eagerEval.enabled\", True) \n",
    "    .config(\"spark.sql.parquet.cacheMetadata\", \"true\")\n",
    "    .config(\"spark.driver.memory\", \"9g\") \n",
    "    .config(\"spark.sql.session.timeZone\", \"Etc/UTC\")\n",
    "    .config(\"spark.network.timeout\", \"600s\")\n",
    "    .getOrCreate()\n",
    ")"
   ]
  },
  {
   "cell_type": "code",
   "execution_count": 3,
   "id": "0d458e06-6140-4f39-b603-524fe7c48d71",
   "metadata": {},
   "outputs": [],
   "source": [
    "# Information on merchants\n",
    "merchant = spark.read.parquet(\"../data/curated/part_1/clean_merchant.parquet\")\n",
    "\n",
    "# Information on merchant's fraud probability\n",
    "merchant_fraud_prob = pd.read_csv(\"../data/tables/part_1/merchant_fraud_probability.csv\")"
   ]
  },
  {
   "cell_type": "code",
   "execution_count": 4,
   "id": "0775277d-2485-46f3-a3c9-d03e7fc8c311",
   "metadata": {},
   "outputs": [],
   "source": [
    "merchant_df = merchant.toPandas()"
   ]
  },
  {
   "cell_type": "code",
   "execution_count": null,
   "id": "bde1aeae-778f-4241-915e-38a2a2c954f0",
   "metadata": {
    "scrolled": true
   },
   "outputs": [],
   "source": [
    "merchant_df.goods.value_counts()"
   ]
  },
  {
   "cell_type": "markdown",
   "id": "dbd79ab4-59db-47a2-a9a1-6f0463aaf617",
   "metadata": {},
   "source": [
    "Let's do the preprocessing to the `goods` column again."
   ]
  },
  {
   "cell_type": "code",
   "execution_count": 6,
   "id": "c17e32f9-fbe1-442d-bea3-3717ba684095",
   "metadata": {},
   "outputs": [],
   "source": [
    "import re"
   ]
  },
  {
   "cell_type": "code",
   "execution_count": 7,
   "id": "d9575e19-3e35-4e3b-b754-7d1f7229ce6a",
   "metadata": {},
   "outputs": [],
   "source": [
    "def clean_text(text):\n",
    "    text = text.lower()  \n",
    "    text = re.sub(r'[^\\w\\s]', '', text) \n",
    "    return text\n",
    "\n",
    "merchant_df['str_goods'] = merchant_df['goods'].apply(clean_text)\n",
    "merchant_df['tokens'] = merchant_df['str_goods'].apply(lambda x: x.split())\n",
    "stop_words = set(['is', 'a', 'the', 'for', 'and', 'to', 'of', 'this', 'except']) \n",
    "merchant_df['clean_goods'] = merchant_df['tokens'].apply(lambda x: [word for word in x if word not in stop_words])\n",
    "\n",
    "\n",
    "merchant_df['clean_goods_str'] = merchant_df['clean_goods'].apply(lambda x: ' '.join(x))"
   ]
  },
  {
   "cell_type": "code",
   "execution_count": null,
   "id": "8313ac0d-c173-4e15-95a1-0dc60113655f",
   "metadata": {},
   "outputs": [],
   "source": [
    "merchant_df.clean_goods.value_counts()"
   ]
  },
  {
   "cell_type": "markdown",
   "id": "22d38b4b-a455-420a-93f1-54a20d6e35ff",
   "metadata": {},
   "source": [
    "- This is how we manully categorize all merchant's goods into 5 segments."
   ]
  },
  {
   "cell_type": "code",
   "execution_count": 19,
   "id": "da528f05-a770-4d02-81f2-0dad92aeb086",
   "metadata": {},
   "outputs": [],
   "source": [
    "segments = [\n",
    "    \"Entertainment & Media\", \"Entertainment & Media\", \"Technology\", \"Beauty\", \n",
    "    \"Office & Home Supplies\", \"Miscellaneous\", \"Technology\", \n",
    "    \"Entertainment & Media\", \"Office & Home Supplies\", \"Technology\", \n",
    "    \"Beauty\", \"Miscellaneous\", \"Entertainment & Media\", \n",
    "    \"Entertainment & Media\", \"Beauty\", \"Office & Home Supplies\", \n",
    "    \"Office & Home Supplies\", \"Miscellaneous\", \"Miscellaneous\", \n",
    "    \"Entertainment & Media\", \"Office & Home Supplies\", \n",
    "    \"Office & Home Supplies\", \"Technology\", \"Entertainment & Media\", \"Beauty\"\n",
    "]\n"
   ]
  },
  {
   "cell_type": "code",
   "execution_count": 20,
   "id": "0bedd473-e19d-4af9-af5b-bf2a7374f739",
   "metadata": {},
   "outputs": [],
   "source": [
    "segments_dict = {list(merchant_df.clean_goods_str.value_counts().index)[i]: segments[i] for i in range(len(segments))}"
   ]
  },
  {
   "cell_type": "code",
   "execution_count": null,
   "id": "58fdc46d-5976-4154-9c42-6b0f120168a7",
   "metadata": {},
   "outputs": [],
   "source": [
    "segments_dict"
   ]
  },
  {
   "cell_type": "code",
   "execution_count": 22,
   "id": "b75bae00-f842-4bbe-ad8f-65255812a539",
   "metadata": {},
   "outputs": [],
   "source": [
    "merchant_df['segment']  = merchant_df['clean_goods_str'].map(lambda x: segments_dict[x])"
   ]
  },
  {
   "cell_type": "code",
   "execution_count": null,
   "id": "90c13259-113f-47b9-a7e3-8b45fd66137d",
   "metadata": {},
   "outputs": [],
   "source": [
    "merchant_df.segment.value_counts()"
   ]
  },
  {
   "cell_type": "code",
   "execution_count": 31,
   "id": "3bc72d93-bd4d-4dea-849f-ec9df704fcff",
   "metadata": {},
   "outputs": [],
   "source": [
    "merchant_df[['merchant_abn', 'segment', 'goods']].to_parquet(\"../data/curated/merchant_segment.parquet\")"
   ]
  },
  {
   "cell_type": "markdown",
   "id": "d4c3db2f-4ed8-4577-99d0-05479fd5c021",
   "metadata": {},
   "source": [
    "## Ranking with respect to each segment"
   ]
  },
  {
   "cell_type": "code",
   "execution_count": 32,
   "id": "21d0db64-8034-40ea-a6f6-9729f7148cf1",
   "metadata": {},
   "outputs": [],
   "source": [
    "initial_ranking = spark.read.parquet(\"../data/curated/merchant_ranking\")\n",
    "merchant_segment = spark.read.parquet(\"../data/curated/merchant_segment.parquet\")"
   ]
  },
  {
   "cell_type": "code",
   "execution_count": 33,
   "id": "10a4a0e8-ef94-43ab-8a16-ef71a3b91815",
   "metadata": {},
   "outputs": [],
   "source": [
    "# Join each merchant in initial ranking by segment\n",
    "merchant_segment_ranking = initial_ranking.join(merchant_segment, how='left', on='merchant_abn')"
   ]
  },
  {
   "cell_type": "code",
   "execution_count": null,
   "id": "7e165a20-3e04-4dcc-b226-f088d85a3057",
   "metadata": {},
   "outputs": [],
   "source": [
    "segments = [\n",
    "    \"Entertainment & Media\",\n",
    "    \"Office & Home Supplies\",\n",
    "    \"Miscellaneous\",\n",
    "    \"Beauty\",\n",
    "    \"Technology\"\n",
    "]\n",
    "\n",
    "for segment in segments:\n",
    "    print(segment)\n",
    "    segment_ranking = merchant_segment_ranking.filter(F.col('segment') == segment)\n",
    "    segment_ranking.orderBy(F.col('final_score').desc()).show(10)"
   ]
  },
  {
   "cell_type": "code",
   "execution_count": null,
   "id": "5d3ffd1e",
   "metadata": {},
   "outputs": [],
   "source": []
  }
 ],
 "metadata": {
  "kernelspec": {
   "display_name": "Python 3 (ipykernel)",
   "language": "python",
   "name": "python3"
  },
  "language_info": {
   "codemirror_mode": {
    "name": "ipython",
    "version": 3
   },
   "file_extension": ".py",
   "mimetype": "text/x-python",
   "name": "python",
   "nbconvert_exporter": "python",
   "pygments_lexer": "ipython3",
   "version": "3.12.1"
  }
 },
 "nbformat": 4,
 "nbformat_minor": 5
}
