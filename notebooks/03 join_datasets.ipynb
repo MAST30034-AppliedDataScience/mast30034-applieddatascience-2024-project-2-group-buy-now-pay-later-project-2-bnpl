{
 "cells": [
  {
   "cell_type": "code",
   "execution_count": null,
   "metadata": {},
   "outputs": [],
   "source": [
    "from pyspark.sql import SparkSession\n",
    "from pyspark.sql import functions as F\n",
    "import shapefile as shp\n",
    "import pandas as pd\n",
    "import numpy as np\n",
    "import os\n",
    "import matplotlib.pyplot as plt\n",
    "\n",
    "import sys\n",
    "sys.path.append('../scripts')\n",
    "from preprocess_script import count_outliers"
   ]
  },
  {
   "cell_type": "code",
   "execution_count": null,
   "metadata": {},
   "outputs": [
    {
     "name": "stderr",
     "output_type": "stream",
     "text": [
      "Setting default log level to \"WARN\".\n",
      "To adjust logging level use sc.setLogLevel(newLevel). For SparkR, use setLogLevel(newLevel).\n"
     ]
    },
    {
     "name": "stderr",
     "output_type": "stream",
     "text": [
      "24/09/11 07:41:31 WARN NativeCodeLoader: Unable to load native-hadoop library for your platform... using builtin-java classes where applicable\n"
     ]
    }
   ],
   "source": [
    "# Create a spark session (which will run spark jobs)\n",
    "spark = (\n",
    "    SparkSession.builder.appName(\"Dataset Joining\")\n",
    "    .config(\"spark.sql.repl.eagerEval.enabled\", True) \n",
    "    .config(\"spark.sql.parquet.cacheMetadata\", \"true\")\n",
    "    .config(\"spark.driver.memory\", \"9g\") \n",
    "    .config(\"spark.sql.session.timeZone\", \"Etc/UTC\")\n",
    "    .getOrCreate()\n",
    ")\n",
    "spark.sparkContext.setLogLevel(\"OFF\")"
   ]
  },
  {
   "cell_type": "markdown",
   "metadata": {},
   "source": [
    "# Dataset downloaded from https://data.gov.au/dataset/ds-dga-2c79581f-600e-4560-80a8-98adb1922dfc/details?q=correspondence%20asgs, data dictionary also in the same."
   ]
  },
  {
   "cell_type": "code",
   "execution_count": null,
   "metadata": {},
   "outputs": [],
   "source": [
    "correspondence_df = spark.read.csv('../data/tables/correspondence/CG_POSTCODE_2021_SA2_2021.csv', header=True)\n",
    "correspondence_df.show()"
   ]
  },
  {
   "cell_type": "code",
   "execution_count": null,
   "metadata": {},
   "outputs": [],
   "source": [
    "preferred_SA2 = correspondence_df.groupBy('POSTCODE').agg(F.max('RATIO_FROM_TO'))\n",
    "preferred_SA2.show()"
   ]
  },
  {
   "cell_type": "code",
   "execution_count": null,
   "metadata": {},
   "outputs": [],
   "source": [
    "preferred_SA2 = preferred_SA2.withColumnRenamed(\"max(RATIO_FROM_TO)\", \"RATIO_FROM_TO\")"
   ]
  },
  {
   "cell_type": "code",
   "execution_count": null,
   "metadata": {},
   "outputs": [],
   "source": [
    "preferred_SA2.show()\n",
    "preferred_SA2.count()\n",
    "preferred_SA2.dropna()\n",
    "preferred_SA2.count()"
   ]
  },
  {
   "cell_type": "code",
   "execution_count": null,
   "metadata": {},
   "outputs": [],
   "source": [
    "preferred_SA2 = preferred_SA2.join(correspondence_df, on=[\"POSTCODE\", \"RATIO_FROM_TO\"], how = \"left\")"
   ]
  },
  {
   "cell_type": "code",
   "execution_count": null,
   "metadata": {},
   "outputs": [
    {
     "name": "stderr",
     "output_type": "stream",
     "text": [
      "\r",
      "                                                                                                                                 \r"
     ]
    }
   ],
   "source": [
    "preferred_SA2.show()"
   ]
  },
  {
   "cell_type": "code",
   "execution_count": null,
   "metadata": {},
   "outputs": [],
   "source": [
    "preferred_SA2.select('POSTCODE', 'SA2_CODE_2021')"
   ]
  },
  {
   "cell_type": "code",
   "execution_count": null,
   "metadata": {},
   "outputs": [],
   "source": [
    "# Removing Null values\n",
    "preferred_SA2 = preferred_SA2.na.drop(how = 'any')"
   ]
  },
  {
   "cell_type": "code",
   "execution_count": null,
   "metadata": {},
   "outputs": [],
   "source": [
    "# Information on consumer\n",
    "consumer_user_detail = spark.read.parquet(\"../data/tables/part_1/consumer_user_details.parquet\")\n",
    "consumer = spark.read.option(\"delimiter\" , \"|\").csv(\"../data/tables/part_1/tbl_consumer.csv\", header = \"True\")\n",
    "\n",
    "# Information on consumer's fraud probability\n",
    "consumer_fraud_prob = spark.read.csv(\"../data/tables/part_1/consumer_fraud_probability.csv\", header = \"True\")"
   ]
  },
  {
   "cell_type": "code",
   "execution_count": null,
   "metadata": {},
   "outputs": [],
   "source": [
    "consumer_user_detail.show()"
   ]
  },
  {
   "cell_type": "code",
   "execution_count": null,
   "metadata": {},
   "outputs": [
    {
     "name": "stderr",
     "output_type": "stream",
     "text": [
      "\r",
      "                                                                                                                                 \r"
     ]
    }
   ],
   "source": [
    "consumer.show()"
   ]
  },
  {
   "cell_type": "code",
   "execution_count": null,
   "metadata": {},
   "outputs": [],
   "source": [
    "consumer_fraud_prob.show()"
   ]
  },
  {
   "cell_type": "code",
   "execution_count": null,
   "metadata": {},
   "outputs": [],
   "source": [
    "consumer = consumer.join(consumer_user_detail, on = \"consumer_id\", how=\"left\")"
   ]
  },
  {
   "cell_type": "code",
   "execution_count": null,
   "metadata": {},
   "outputs": [],
   "source": [
    "consumer = consumer.join(consumer_fraud_prob, on=\"user_id\", how=\"left\")"
   ]
  },
  {
   "cell_type": "code",
   "execution_count": null,
   "metadata": {},
   "outputs": [
    {
     "name": "stderr",
     "output_type": "stream",
     "text": [
      "\r",
      "                                                                                                                                 \r"
     ]
    }
   ],
   "source": [
    "consumer.show()"
   ]
  },
  {
   "cell_type": "code",
   "execution_count": null,
   "metadata": {},
   "outputs": [],
   "source": [
    "consumer.schema"
   ]
  },
  {
   "cell_type": "code",
   "execution_count": null,
   "metadata": {},
   "outputs": [],
   "source": [
    "from pyspark.sql.types import DoubleType\n",
    "consumer = consumer.withColumn('fraud_probability', F.col('fraud_probability').cast(DoubleType()))"
   ]
  },
  {
   "cell_type": "code",
   "execution_count": null,
   "metadata": {},
   "outputs": [
    {
     "name": "stderr",
     "output_type": "stream",
     "text": [
      "\r",
      "                                                                                                                                 \r"
     ]
    }
   ],
   "source": [
    "# Filling 0 for fraud probability null.\n",
    "consumer = consumer.fillna(0, subset=['fraud_probability'])"
   ]
  },
  {
   "cell_type": "code",
   "execution_count": null,
   "metadata": {},
   "outputs": [
    {
     "name": "stderr",
     "output_type": "stream",
     "text": [
      "\r",
      "[Stage 687:==========================>                                                                               (1 + 3) / 4]\r"
     ]
    },
    {
     "name": "stderr",
     "output_type": "stream",
     "text": [
      "\r",
      "[Stage 687:=====================================================>                                                    (2 + 2) / 4]\r",
      "\r",
      "[Stage 687:===============================================================================>                          (3 + 1) / 4]\r"
     ]
    },
    {
     "name": "stderr",
     "output_type": "stream",
     "text": [
      "\r",
      "                                                                                                                                 \r"
     ]
    },
    {
     "name": "stderr",
     "output_type": "stream",
     "text": [
      "\r",
      "[Stage 697:>                                                                                                         (0 + 4) / 4]\r",
      "\r",
      "[Stage 697:>                                        (0 + 4) / 4][Stage 698:>                                        (0 + 0) / 1]\r"
     ]
    },
    {
     "name": "stderr",
     "output_type": "stream",
     "text": [
      "\r",
      "                                                                                                                                 \r"
     ]
    }
   ],
   "source": [
    "max_fraud = consumer.groupby('user_id').agg(F.max('fraud_probability'))"
   ]
  },
  {
   "cell_type": "code",
   "execution_count": null,
   "metadata": {},
   "outputs": [
    {
     "name": "stdout",
     "output_type": "stream",
     "text": [
      "+-------+----------------------+\n",
      "|user_id|max(fraud_probability)|\n",
      "+-------+----------------------+\n",
      "|     26|    10.604536233608997|\n",
      "|     29|    15.492409971599415|\n",
      "|    474|     24.74251000337883|\n",
      "|    964|    10.000639641611324|\n",
      "|   1677|     10.69910130025277|\n",
      "|   1697|                   0.0|\n",
      "|   1806|                   0.0|\n",
      "|   1950|    16.924789438758555|\n",
      "|   2040|    19.150047883546396|\n",
      "|   2214|      9.06669796313919|\n",
      "|   2250|      25.5950368734215|\n",
      "|   2453|                   0.0|\n",
      "|   2509|     17.64221987321122|\n",
      "|   2529|     16.84817579923174|\n",
      "|   2927|    14.570508610444977|\n",
      "|   3091|    15.428265394555776|\n",
      "|   3506|    30.199921043599648|\n",
      "|   3764|      9.72214044955335|\n",
      "|   4590|     18.88641597368393|\n",
      "|   4823|                   0.0|\n",
      "+-------+----------------------+\n",
      "only showing top 20 rows\n",
      "\n",
      "+-------+----------------------+\n",
      "|user_id|max(fraud_probability)|\n",
      "+-------+----------------------+\n",
      "|     26|    10.604536233608997|\n",
      "|     29|    15.492409971599415|\n",
      "|    474|     24.74251000337883|\n",
      "|    964|    10.000639641611324|\n",
      "|   1677|     10.69910130025277|\n",
      "|   1697|                   0.0|\n",
      "|   1806|                   0.0|\n",
      "|   1950|    16.924789438758555|\n",
      "|   2040|    19.150047883546396|\n",
      "|   2214|      9.06669796313919|\n",
      "|   2250|      25.5950368734215|\n",
      "|   2453|                   0.0|\n",
      "|   2509|     17.64221987321122|\n",
      "|   2529|     16.84817579923174|\n",
      "|   2927|    14.570508610444977|\n",
      "|   3091|    15.428265394555776|\n",
      "|   3506|    30.199921043599648|\n",
      "|   3764|      9.72214044955335|\n",
      "|   4590|     18.88641597368393|\n",
      "|   4823|                   0.0|\n",
      "+-------+----------------------+\n",
      "only showing top 20 rows\n",
      "\n"
     ]
    },
    {
     "name": "stderr",
     "output_type": "stream",
     "text": [
      "\r",
      "[Stage 710:>                                                                                                         (0 + 0) / 1]\r",
      "\r",
      "                                                                                                                                 \r"
     ]
    },
    {
     "name": "stderr",
     "output_type": "stream",
     "text": [
      "\r",
      "[Stage 730:>                                                                                                         (0 + 4) / 4]\r"
     ]
    },
    {
     "name": "stderr",
     "output_type": "stream",
     "text": [
      "\r",
      "                                                                                                                                 \r"
     ]
    },
    {
     "name": "stderr",
     "output_type": "stream",
     "text": [
      "\r",
      "[Stage 730:=====>              (1 + 3) / 4][Stage 732:>                   (0 + 1) / 1][Stage 733:>                   (0 + 1) / 2]\r",
      "\r",
      "                                                                                                                                 \r"
     ]
    }
   ],
   "source": [
    "max_fraud.show()"
   ]
  },
  {
   "cell_type": "code",
   "execution_count": null,
   "metadata": {},
   "outputs": [
    {
     "name": "stderr",
     "output_type": "stream",
     "text": [
      "\r",
      "[Stage 771:=====================================================>                                                    (2 + 2) / 4]\r"
     ]
    },
    {
     "name": "stderr",
     "output_type": "stream",
     "text": [
      "\r",
      "                                                                                                                                 \r"
     ]
    },
    {
     "name": "stdout",
     "output_type": "stream",
     "text": [
      "+-------+-----------+-----------------+--------------------+-----+--------+-----------+--------------+------------------+----------------------+\n",
      "|user_id|consumer_id|             name|             address|state|postcode|     gender|order_datetime| fraud_probability|max(fraud_probability)|\n",
      "+-------+-----------+-----------------+--------------------+-----+--------+-----------+--------------+------------------+----------------------+\n",
      "|      6|     407340|    Karen Chapman|2706 Stewart Oval...|  NSW|    2033|     Female|    2021-12-12|10.459280127078758|    10.459280127078758|\n",
      "|      7|     511685|     Andrea Jones|   122 Brandon Cliff|  QLD|    4606|     Female|          NULL|               0.0|                   0.0|\n",
      "|      9|     650435|  Stephanie Reyes|5813 Denise Land ...|  NSW|    2482|     Female|    2021-11-17| 8.531261989227714|     10.58055311139687|\n",
      "|      9|     650435|  Stephanie Reyes|5813 Denise Land ...|  NSW|    2482|     Female|    2021-12-13| 10.58055311139687|     10.58055311139687|\n",
      "| 142344|     389526|   James Lawrence|38045 Juarez Fall...|  NSW|    1143|       Male|          NULL|               0.0|                   0.0|\n",
      "| 142348|     553507|     Renee Taylor|52705 Anthony Fie...|  QLD|    4723|Undisclosed|          NULL|               0.0|                   0.0|\n",
      "| 142352|    1220814|   Tiffany Zavala|   23208 Weeks Point|   WA|    6479|     Female|          NULL|               0.0|                   0.0|\n",
      "| 142354|     338380|     Jonathan Cox|16253 Sierra Over...|  VIC|    3138|       Male|          NULL|               0.0|                   0.0|\n",
      "| 142357|     746099|    Jasmine Clark|8829 Smith Street...|  VIC|    3226|     Female|          NULL|               0.0|                   0.0|\n",
      "| 142359|     895156|Cassandra Johnson|64431 Perez Brook...|  VIC|    3173|     Female|          NULL|               0.0|                   0.0|\n",
      "| 284819|     562577|    Justin Reeves|603 Brian Locks S...|  NSW|    2175|       Male|          NULL|               0.0|                   0.0|\n",
      "| 284820|    1429704|    Thomas Murray|      385 Hill Roads|  NSW|    1032|       Male|          NULL|               0.0|                   0.0|\n",
      "| 284828|    1224929| Amanda Henderson|     54335 Fox Locks|  VIC|    3802|     Female|          NULL|               0.0|                   0.0|\n",
      "| 284829|    1353912|      Tina Kramer|0978 Rodriguez Es...|  VIC|    3055|     Female|          NULL|               0.0|                   0.0|\n",
      "| 427187|     806608|       Tina Moses|813 Joyce Haven S...|  VIC|    3152|     Female|          NULL|               0.0|                   0.0|\n",
      "| 427189|    1490079|   Sandra Wheeler|285 Christopher S...|  QLD|    4381|     Female|          NULL|               0.0|                   0.0|\n",
      "| 427191|    1016752|  Timothy Bennett|   47366 Douglas Dam|  NSW|    2584|       Male|          NULL|               0.0|                   0.0|\n",
      "| 427196|      61449|     Anne Burgess|9101 Scott Fall S...|  NSW|    2430|Undisclosed|          NULL|               0.0|                   0.0|\n",
      "| 427197|     126719| Michael Gonzales|      549 Scott Neck|  NSW|    2021|       Male|          NULL|               0.0|                   0.0|\n",
      "| 427198|     782869|    Jeremy Miller|612 Elizabeth Courts|  VIC|    3690|       Male|          NULL|               0.0|                   0.0|\n",
      "+-------+-----------+-----------------+--------------------+-----+--------+-----------+--------------+------------------+----------------------+\n",
      "only showing top 20 rows\n",
      "\n",
      "+-------+-----------+-----------------+--------------------+-----+--------+-----------+--------------+------------------+----------------------+\n",
      "|user_id|consumer_id|             name|             address|state|postcode|     gender|order_datetime| fraud_probability|max(fraud_probability)|\n",
      "+-------+-----------+-----------------+--------------------+-----+--------+-----------+--------------+------------------+----------------------+\n",
      "|      6|     407340|    Karen Chapman|2706 Stewart Oval...|  NSW|    2033|     Female|    2021-12-12|10.459280127078758|    10.459280127078758|\n",
      "|      7|     511685|     Andrea Jones|   122 Brandon Cliff|  QLD|    4606|     Female|          NULL|               0.0|                   0.0|\n",
      "|      9|     650435|  Stephanie Reyes|5813 Denise Land ...|  NSW|    2482|     Female|    2021-11-17| 8.531261989227714|     10.58055311139687|\n",
      "|      9|     650435|  Stephanie Reyes|5813 Denise Land ...|  NSW|    2482|     Female|    2021-12-13| 10.58055311139687|     10.58055311139687|\n",
      "| 142344|     389526|   James Lawrence|38045 Juarez Fall...|  NSW|    1143|       Male|          NULL|               0.0|                   0.0|\n",
      "| 142348|     553507|     Renee Taylor|52705 Anthony Fie...|  QLD|    4723|Undisclosed|          NULL|               0.0|                   0.0|\n",
      "| 142352|    1220814|   Tiffany Zavala|   23208 Weeks Point|   WA|    6479|     Female|          NULL|               0.0|                   0.0|\n",
      "| 142354|     338380|     Jonathan Cox|16253 Sierra Over...|  VIC|    3138|       Male|          NULL|               0.0|                   0.0|\n",
      "| 142357|     746099|    Jasmine Clark|8829 Smith Street...|  VIC|    3226|     Female|          NULL|               0.0|                   0.0|\n",
      "| 142359|     895156|Cassandra Johnson|64431 Perez Brook...|  VIC|    3173|     Female|          NULL|               0.0|                   0.0|\n",
      "| 284819|     562577|    Justin Reeves|603 Brian Locks S...|  NSW|    2175|       Male|          NULL|               0.0|                   0.0|\n",
      "| 284820|    1429704|    Thomas Murray|      385 Hill Roads|  NSW|    1032|       Male|          NULL|               0.0|                   0.0|\n",
      "| 284828|    1224929| Amanda Henderson|     54335 Fox Locks|  VIC|    3802|     Female|          NULL|               0.0|                   0.0|\n",
      "| 284829|    1353912|      Tina Kramer|0978 Rodriguez Es...|  VIC|    3055|     Female|          NULL|               0.0|                   0.0|\n",
      "| 427187|     806608|       Tina Moses|813 Joyce Haven S...|  VIC|    3152|     Female|          NULL|               0.0|                   0.0|\n",
      "| 427189|    1490079|   Sandra Wheeler|285 Christopher S...|  QLD|    4381|     Female|          NULL|               0.0|                   0.0|\n",
      "| 427191|    1016752|  Timothy Bennett|   47366 Douglas Dam|  NSW|    2584|       Male|          NULL|               0.0|                   0.0|\n",
      "| 427196|      61449|     Anne Burgess|9101 Scott Fall S...|  NSW|    2430|Undisclosed|          NULL|               0.0|                   0.0|\n",
      "| 427197|     126719| Michael Gonzales|      549 Scott Neck|  NSW|    2021|       Male|          NULL|               0.0|                   0.0|\n",
      "| 427198|     782869|    Jeremy Miller|612 Elizabeth Courts|  VIC|    3690|       Male|          NULL|               0.0|                   0.0|\n",
      "+-------+-----------+-----------------+--------------------+-----+--------+-----------+--------------+------------------+----------------------+\n",
      "only showing top 20 rows\n",
      "\n"
     ]
    },
    {
     "name": "stderr",
     "output_type": "stream",
     "text": [
      "\r",
      "[Stage 786:>                                                                                                         (0 + 4) / 4]\r"
     ]
    },
    {
     "name": "stderr",
     "output_type": "stream",
     "text": [
      "\r",
      "[Stage 786:==========================>                                                                               (1 + 3) / 4]\r"
     ]
    },
    {
     "name": "stderr",
     "output_type": "stream",
     "text": [
      "\r",
      "                                                                                                                                 \r"
     ]
    },
    {
     "name": "stderr",
     "output_type": "stream",
     "text": [
      "\r",
      "[Stage 793:>                                                                                                         (0 + 4) / 4]\r"
     ]
    },
    {
     "name": "stderr",
     "output_type": "stream",
     "text": [
      "\r",
      "[Stage 793:==========================>                                                                               (1 + 3) / 4]\r"
     ]
    },
    {
     "name": "stderr",
     "output_type": "stream",
     "text": [
      "\r",
      "                                                                                                                                 \r"
     ]
    }
   ],
   "source": [
    "consumer = consumer.join(max_fraud, on='user_id', how='left')\n",
    "consumer.show()"
   ]
  },
  {
   "cell_type": "code",
   "execution_count": null,
   "metadata": {},
   "outputs": [
    {
     "name": "stderr",
     "output_type": "stream",
     "text": [
      "\r",
      "                                                                                                                                 \r"
     ]
    },
    {
     "name": "stderr",
     "output_type": "stream",
     "text": [
      "\r",
      "[Stage 872:>                                                                                                         (0 + 4) / 4]\r"
     ]
    },
    {
     "name": "stderr",
     "output_type": "stream",
     "text": [
      "\r",
      "[Stage 872:>                   (0 + 4) / 4][Stage 873:>                   (0 + 0) / 2][Stage 874:>                   (0 + 0) / 2]\r"
     ]
    },
    {
     "name": "stderr",
     "output_type": "stream",
     "text": [
      "\r",
      "[Stage 872:=====>              (1 + 3) / 4][Stage 873:>                   (0 + 1) / 2][Stage 874:>                   (0 + 0) / 2]\r",
      "\r",
      "[Stage 872:=====>              (1 + 3) / 4][Stage 873:>                   (0 + 2) / 2][Stage 874:>                   (0 + 0) / 2]\r",
      "\r",
      "                                                                                                                                 \r"
     ]
    },
    {
     "name": "stderr",
     "output_type": "stream",
     "text": [
      "\r",
      "[Stage 876:>                                                                                                         (0 + 1) / 1]\r",
      "\r",
      "                                                                                                                                 \r"
     ]
    },
    {
     "name": "stderr",
     "output_type": "stream",
     "text": [
      "\r",
      "[Stage 880:>                                        (0 + 1) / 1][Stage 881:>                                        (0 + 3) / 4]\r"
     ]
    },
    {
     "name": "stderr",
     "output_type": "stream",
     "text": [
      "\r",
      "                                                                                                                                 \r"
     ]
    },
    {
     "name": "stdout",
     "output_type": "stream",
     "text": [
      "+-------+-----------+--------+-----+-----------+----------------------+\n",
      "|user_id|consumer_id|postcode|state|     gender|max(fraud_probability)|\n",
      "+-------+-----------+--------+-----+-----------+----------------------+\n",
      "|      6|     407340|    2033|  NSW|     Female|    10.459280127078758|\n",
      "|      7|     511685|    4606|  QLD|     Female|                   0.0|\n",
      "|      9|     650435|    2482|  NSW|     Female|     10.58055311139687|\n",
      "|      9|     650435|    2482|  NSW|     Female|     10.58055311139687|\n",
      "| 142344|     389526|    1143|  NSW|       Male|                   0.0|\n",
      "| 142348|     553507|    4723|  QLD|Undisclosed|                   0.0|\n",
      "| 142352|    1220814|    6479|   WA|     Female|                   0.0|\n",
      "| 142354|     338380|    3138|  VIC|       Male|                   0.0|\n",
      "| 142357|     746099|    3226|  VIC|     Female|                   0.0|\n",
      "| 142359|     895156|    3173|  VIC|     Female|                   0.0|\n",
      "| 284819|     562577|    2175|  NSW|       Male|                   0.0|\n",
      "| 284820|    1429704|    1032|  NSW|       Male|                   0.0|\n",
      "| 284828|    1224929|    3802|  VIC|     Female|                   0.0|\n",
      "| 284829|    1353912|    3055|  VIC|     Female|                   0.0|\n",
      "| 427187|     806608|    3152|  VIC|     Female|                   0.0|\n",
      "| 427189|    1490079|    4381|  QLD|     Female|                   0.0|\n",
      "| 427191|    1016752|    2584|  NSW|       Male|                   0.0|\n",
      "| 427196|      61449|    2430|  NSW|Undisclosed|                   0.0|\n",
      "| 427197|     126719|    2021|  NSW|       Male|                   0.0|\n",
      "| 427198|     782869|    3690|  VIC|       Male|                   0.0|\n",
      "+-------+-----------+--------+-----+-----------+----------------------+\n",
      "only showing top 20 rows\n",
      "\n",
      "+-------+-----------+--------+-----+-----------+----------------------+\n",
      "|user_id|consumer_id|postcode|state|     gender|max(fraud_probability)|\n",
      "+-------+-----------+--------+-----+-----------+----------------------+\n",
      "|      6|     407340|    2033|  NSW|     Female|    10.459280127078758|\n",
      "|      7|     511685|    4606|  QLD|     Female|                   0.0|\n",
      "|      9|     650435|    2482|  NSW|     Female|     10.58055311139687|\n",
      "|      9|     650435|    2482|  NSW|     Female|     10.58055311139687|\n",
      "| 142344|     389526|    1143|  NSW|       Male|                   0.0|\n",
      "| 142348|     553507|    4723|  QLD|Undisclosed|                   0.0|\n",
      "| 142352|    1220814|    6479|   WA|     Female|                   0.0|\n",
      "| 142354|     338380|    3138|  VIC|       Male|                   0.0|\n",
      "| 142357|     746099|    3226|  VIC|     Female|                   0.0|\n",
      "| 142359|     895156|    3173|  VIC|     Female|                   0.0|\n",
      "| 284819|     562577|    2175|  NSW|       Male|                   0.0|\n",
      "| 284820|    1429704|    1032|  NSW|       Male|                   0.0|\n",
      "| 284828|    1224929|    3802|  VIC|     Female|                   0.0|\n",
      "| 284829|    1353912|    3055|  VIC|     Female|                   0.0|\n",
      "| 427187|     806608|    3152|  VIC|     Female|                   0.0|\n",
      "| 427189|    1490079|    4381|  QLD|     Female|                   0.0|\n",
      "| 427191|    1016752|    2584|  NSW|       Male|                   0.0|\n",
      "| 427196|      61449|    2430|  NSW|Undisclosed|                   0.0|\n",
      "| 427197|     126719|    2021|  NSW|       Male|                   0.0|\n",
      "| 427198|     782869|    3690|  VIC|       Male|                   0.0|\n",
      "+-------+-----------+--------+-----+-----------+----------------------+\n",
      "only showing top 20 rows\n",
      "\n"
     ]
    },
    {
     "name": "stderr",
     "output_type": "stream",
     "text": [
      "\r",
      "[Stage 881:>                                        (0 + 4) / 4][Stage 882:>                                        (0 + 0) / 4]\r"
     ]
    },
    {
     "name": "stderr",
     "output_type": "stream",
     "text": [
      "\r",
      "[Stage 881:>                   (0 + 4) / 4][Stage 882:>                   (0 + 0) / 4][Stage 883:>                   (0 + 0) / 1]\r"
     ]
    },
    {
     "name": "stderr",
     "output_type": "stream",
     "text": [
      "\r",
      "[Stage 881:=====>              (1 + 3) / 4][Stage 882:=====>              (1 + 1) / 4][Stage 883:>                   (0 + 0) / 1]\r",
      "\r",
      "                                                                                                                                 \r"
     ]
    },
    {
     "name": "stderr",
     "output_type": "stream",
     "text": [
      "\r",
      "[Stage 892:=====================================================>                                                    (1 + 1) / 2]\r",
      "\r",
      "                                                                                                                                 \r"
     ]
    },
    {
     "name": "stderr",
     "output_type": "stream",
     "text": [
      "\r",
      "[Stage 900:>                                                                                                         (0 + 4) / 4]\r"
     ]
    },
    {
     "name": "stderr",
     "output_type": "stream",
     "text": [
      "\r",
      "[Stage 900:==========================>                                                                               (1 + 3) / 4]\r"
     ]
    },
    {
     "name": "stderr",
     "output_type": "stream",
     "text": [
      "\r",
      "[Stage 900:==========>                              (1 + 3) / 4][Stage 902:>                                        (0 + 1) / 4]\r"
     ]
    },
    {
     "name": "stderr",
     "output_type": "stream",
     "text": [
      "\r",
      "[Stage 900:=====>              (1 + 3) / 4][Stage 902:===============>    (3 + 1) / 4][Stage 903:>                   (0 + 0) / 4]\r",
      "\r",
      "[Stage 900:==============================>          (3 + 1) / 4][Stage 903:>                                        (0 + 3) / 4]\r"
     ]
    },
    {
     "name": "stderr",
     "output_type": "stream",
     "text": [
      "\r",
      "[Stage 903:>                                                                                                         (0 + 4) / 4]\r"
     ]
    },
    {
     "name": "stderr",
     "output_type": "stream",
     "text": [
      "\r",
      "[Stage 903:>                                        (0 + 4) / 4][Stage 906:>                                        (0 + 0) / 1]\r"
     ]
    },
    {
     "name": "stderr",
     "output_type": "stream",
     "text": [
      "\r",
      "[Stage 903:==========>                              (1 + 3) / 4][Stage 906:>                                        (0 + 1) / 1]\r"
     ]
    },
    {
     "name": "stderr",
     "output_type": "stream",
     "text": [
      "\r",
      "                                                                                                                                 \r"
     ]
    },
    {
     "name": "stderr",
     "output_type": "stream",
     "text": [
      "\r",
      "[Stage 903:==========================>                                                                               (1 + 3) / 4]\r"
     ]
    },
    {
     "name": "stderr",
     "output_type": "stream",
     "text": [
      "\r",
      "                                                                                                                                 \r"
     ]
    },
    {
     "name": "stderr",
     "output_type": "stream",
     "text": [
      "\r",
      "[Stage 918:>                                                                                                         (0 + 4) / 4]\r"
     ]
    },
    {
     "name": "stderr",
     "output_type": "stream",
     "text": [
      "\r",
      "[Stage 918:==========================>                                                                               (1 + 3) / 4]\r"
     ]
    },
    {
     "name": "stderr",
     "output_type": "stream",
     "text": [
      "\r",
      "[Stage 918:==========>                              (1 + 3) / 4][Stage 919:>                                        (0 + 1) / 4]\r"
     ]
    },
    {
     "name": "stderr",
     "output_type": "stream",
     "text": [
      "\r",
      "[Stage 918:====================>                    (2 + 2) / 4][Stage 919:>                                        (0 + 2) / 4]\r",
      "\r",
      "[Stage 919:>                                                                                                         (0 + 4) / 4]\r"
     ]
    },
    {
     "name": "stderr",
     "output_type": "stream",
     "text": [
      "\r",
      "[Stage 919:>                                        (0 + 4) / 4][Stage 922:>                                        (0 + 0) / 1]\r"
     ]
    },
    {
     "name": "stderr",
     "output_type": "stream",
     "text": [
      "\r",
      "[Stage 919:==========>                              (1 + 3) / 4][Stage 922:>                                        (0 + 1) / 1]\r",
      "\r",
      "                                                                                                                                 \r"
     ]
    }
   ],
   "source": [
    "consumer = consumer.select('user_id', 'consumer_id', 'postcode', 'state', 'gender', 'max(fraud_probability)')\n",
    "consumer.show()"
   ]
  },
  {
   "cell_type": "code",
   "execution_count": null,
   "metadata": {},
   "outputs": [
    {
     "name": "stderr",
     "output_type": "stream",
     "text": [
      "\r",
      "[Stage 967:==========================>                                                                               (1 + 3) / 4]\r"
     ]
    },
    {
     "name": "stderr",
     "output_type": "stream",
     "text": [
      "\r",
      "[Stage 967:===============================================================================>                          (3 + 1) / 4]\r",
      "\r",
      "                                                                                                                                 \r"
     ]
    },
    {
     "name": "stderr",
     "output_type": "stream",
     "text": [
      "\r",
      "[Stage 985:>                                                                                                         (0 + 4) / 4]\r",
      "\r",
      "[Stage 985:>                                        (0 + 4) / 4][Stage 986:>                                        (0 + 0) / 4]\r"
     ]
    },
    {
     "name": "stderr",
     "output_type": "stream",
     "text": [
      "\r",
      "[Stage 985:=====>              (1 + 3) / 4][Stage 986:>                   (0 + 1) / 4][Stage 987:>                   (0 + 0) / 4]\r"
     ]
    },
    {
     "name": "stderr",
     "output_type": "stream",
     "text": [
      "\r",
      "[Stage 985:===============>    (3 + 1) / 4][Stage 986:>                   (0 + 3) / 4][Stage 987:>                   (0 + 0) / 4]\r"
     ]
    },
    {
     "name": "stderr",
     "output_type": "stream",
     "text": [
      "\r",
      "[Stage 986:>                   (0 + 4) / 4][Stage 987:>                   (0 + 0) / 4][Stage 988:>                   (0 + 0) / 4]\r"
     ]
    },
    {
     "name": "stderr",
     "output_type": "stream",
     "text": [
      "\r",
      "[Stage 986:==========>         (2 + 2) / 4][Stage 987:>                   (0 + 2) / 4][Stage 988:>                   (0 + 0) / 4]\r"
     ]
    },
    {
     "name": "stderr",
     "output_type": "stream",
     "text": [
      "\r",
      "[Stage 986:===============>    (3 + 1) / 4][Stage 987:>                   (0 + 3) / 4][Stage 988:>                   (0 + 0) / 4]\r"
     ]
    },
    {
     "name": "stderr",
     "output_type": "stream",
     "text": [
      "\r",
      "[Stage 987:>                                        (0 + 4) / 4][Stage 988:>                                        (0 + 0) / 4]\r"
     ]
    },
    {
     "name": "stderr",
     "output_type": "stream",
     "text": [
      "\r",
      "[Stage 987:>                   (0 + 4) / 4][Stage 988:>                   (0 + 0) / 4][Stage 991:>                   (0 + 0) / 4]\r"
     ]
    },
    {
     "name": "stderr",
     "output_type": "stream",
     "text": [
      "\r",
      "[Stage 987:==========>         (2 + 2) / 4][Stage 988:>                   (0 + 2) / 4][Stage 991:>                   (0 + 0) / 4]\r"
     ]
    },
    {
     "name": "stderr",
     "output_type": "stream",
     "text": [
      "\r",
      "[Stage 987:===============>    (3 + 1) / 4][Stage 988:===============>    (3 + 1) / 4][Stage 991:>                   (0 + 2) / 4]\r"
     ]
    },
    {
     "name": "stderr",
     "output_type": "stream",
     "text": [
      "\r",
      "[Stage 987:==============================>          (3 + 1) / 4][Stage 991:>                                        (0 + 3) / 4]\r"
     ]
    },
    {
     "name": "stderr",
     "output_type": "stream",
     "text": [
      "\r",
      "[Stage 991:>                                                                                                         (0 + 4) / 4]\r",
      "\r",
      "                                                                                                                                 \r"
     ]
    },
    {
     "name": "stderr",
     "output_type": "stream",
     "text": [
      "\r",
      "[Stage 998:>                                                                                                         (0 + 4) / 4]\r"
     ]
    },
    {
     "name": "stderr",
     "output_type": "stream",
     "text": [
      "\r",
      "[Stage 998:==========================>                                                                               (1 + 3) / 4]\r"
     ]
    },
    {
     "name": "stderr",
     "output_type": "stream",
     "text": [
      "\r",
      "                                                                                                                                 \r"
     ]
    }
   ],
   "source": [
    "consumer = consumer.sort('user_id')"
   ]
  },
  {
   "cell_type": "code",
   "execution_count": null,
   "metadata": {},
   "outputs": [
    {
     "name": "stderr",
     "output_type": "stream",
     "text": [
      "\r",
      "[Stage 1005:==============>    (3 + 1) / 4][Stage 1006:>                  (0 + 3) / 4][Stage 1007:>                  (0 + 0) / 1]\r"
     ]
    },
    {
     "name": "stderr",
     "output_type": "stream",
     "text": [
      "\r",
      "[Stage 1006:>                  (0 + 4) / 4][Stage 1007:>                  (0 + 0) / 1][Stage 1008:>                  (0 + 0) / 1]\r"
     ]
    },
    {
     "name": "stderr",
     "output_type": "stream",
     "text": [
      "\r",
      "[Stage 1006:====>              (1 + 3) / 4][Stage 1007:>                  (0 + 1) / 1][Stage 1008:>                  (0 + 0) / 1]\r"
     ]
    },
    {
     "name": "stderr",
     "output_type": "stream",
     "text": [
      "\r",
      "[Stage 1006:=========>         (2 + 2) / 4][Stage 1007:>                  (0 + 1) / 1][Stage 1008:>                  (0 + 1) / 1]\r",
      "\r",
      "                                                                                                                                 \r"
     ]
    },
    {
     "name": "stderr",
     "output_type": "stream",
     "text": [
      "\r",
      "[Stage 1013:>                                                                                                        (0 + 4) / 4]\r"
     ]
    },
    {
     "name": "stderr",
     "output_type": "stream",
     "text": [
      "\r",
      "                                                                                                                                 \r"
     ]
    },
    {
     "name": "stderr",
     "output_type": "stream",
     "text": [
      "\r",
      "[Stage 1014:>                                                                                                        (0 + 4) / 4]\r"
     ]
    },
    {
     "name": "stderr",
     "output_type": "stream",
     "text": [
      "\r",
      "[Stage 1014:>                  (0 + 4) / 4][Stage 1015:>                  (0 + 0) / 4][Stage 1016:>                  (0 + 0) / 1]\r"
     ]
    },
    {
     "name": "stderr",
     "output_type": "stream",
     "text": [
      "\r",
      "[Stage 1014:====>              (1 + 3) / 4][Stage 1015:>                  (0 + 1) / 4][Stage 1016:>                  (0 + 0) / 1]\r"
     ]
    },
    {
     "name": "stderr",
     "output_type": "stream",
     "text": [
      "\r",
      "[Stage 1014:==============>    (3 + 1) / 4][Stage 1015:>                  (0 + 3) / 4][Stage 1016:>                  (0 + 0) / 1]\r"
     ]
    },
    {
     "name": "stderr",
     "output_type": "stream",
     "text": [
      "\r",
      "[Stage 1015:>                  (0 + 4) / 4][Stage 1016:>                  (0 + 0) / 1][Stage 1017:>                  (0 + 0) / 1]\r"
     ]
    },
    {
     "name": "stderr",
     "output_type": "stream",
     "text": [
      "\r",
      "[Stage 1015:====>              (1 + 3) / 4][Stage 1016:>                  (0 + 1) / 1][Stage 1017:>                  (0 + 0) / 1]\r",
      "\r",
      "                                                                                                                                 \r"
     ]
    },
    {
     "name": "stderr",
     "output_type": "stream",
     "text": [
      "\r",
      "[Stage 1022:>                                                                                                        (0 + 4) / 4]\r",
      "\r",
      "                                                                                                                                 \r"
     ]
    },
    {
     "name": "stdout",
     "output_type": "stream",
     "text": [
      "+-------+-----------+--------+-----+-----------+----------------------+\n",
      "|user_id|consumer_id|postcode|state|     gender|max(fraud_probability)|\n",
      "+-------+-----------+--------+-----+-----------+----------------------+\n",
      "|      1|    1195503|    6935|   WA|     Female|     9.805431136520959|\n",
      "|      2|     179208|    2782|  NSW|     Female|    10.069850934775245|\n",
      "|      2|     179208|    2782|  NSW|     Female|    10.069850934775245|\n",
      "|      3|    1194530|     862|   NT|     Female|     8.300636455314633|\n",
      "|      4|     154128|    2780|  NSW|     Female|     9.633302411090419|\n",
      "|      5|     712975|    6355|   WA|     Female|    27.496186536467164|\n",
      "|      5|     712975|    6355|   WA|     Female|    27.496186536467164|\n",
      "|      5|     712975|    6355|   WA|     Female|    27.496186536467164|\n",
      "|      6|     407340|    2033|  NSW|     Female|    10.459280127078758|\n",
      "|      7|     511685|    4606|  QLD|     Female|                   0.0|\n",
      "|      8|     448088|    6056|   WA|       Male|                   0.0|\n",
      "|      9|     650435|    2482|  NSW|     Female|     10.58055311139687|\n",
      "|      9|     650435|    2482|  NSW|     Female|     10.58055311139687|\n",
      "|     10|    1058499|    3220|  VIC|     Female|                   0.0|\n",
      "|     11|     428325|    3063|  VIC|Undisclosed|                   0.0|\n",
      "|     12|    1494640|    6743|   WA|     Female|                   0.0|\n",
      "|     13|    1146717|    4673|  QLD|     Female|     9.213002123639797|\n",
      "|     13|    1146717|    4673|  QLD|     Female|     9.213002123639797|\n",
      "|     14|    1343547|    3332|  VIC|       Male|    17.698747546724444|\n",
      "|     14|    1343547|    3332|  VIC|       Male|    17.698747546724444|\n",
      "+-------+-----------+--------+-----+-----------+----------------------+\n",
      "only showing top 20 rows\n",
      "\n",
      "+-------+-----------+--------+-----+-----------+----------------------+\n",
      "|user_id|consumer_id|postcode|state|     gender|max(fraud_probability)|\n",
      "+-------+-----------+--------+-----+-----------+----------------------+\n",
      "|      1|    1195503|    6935|   WA|     Female|     9.805431136520959|\n",
      "|      2|     179208|    2782|  NSW|     Female|    10.069850934775245|\n",
      "|      2|     179208|    2782|  NSW|     Female|    10.069850934775245|\n",
      "|      3|    1194530|     862|   NT|     Female|     8.300636455314633|\n",
      "|      4|     154128|    2780|  NSW|     Female|     9.633302411090419|\n",
      "|      5|     712975|    6355|   WA|     Female|    27.496186536467164|\n",
      "|      5|     712975|    6355|   WA|     Female|    27.496186536467164|\n",
      "|      5|     712975|    6355|   WA|     Female|    27.496186536467164|\n",
      "|      6|     407340|    2033|  NSW|     Female|    10.459280127078758|\n",
      "|      7|     511685|    4606|  QLD|     Female|                   0.0|\n",
      "|      8|     448088|    6056|   WA|       Male|                   0.0|\n",
      "|      9|     650435|    2482|  NSW|     Female|     10.58055311139687|\n",
      "|      9|     650435|    2482|  NSW|     Female|     10.58055311139687|\n",
      "|     10|    1058499|    3220|  VIC|     Female|                   0.0|\n",
      "|     11|     428325|    3063|  VIC|Undisclosed|                   0.0|\n",
      "|     12|    1494640|    6743|   WA|     Female|                   0.0|\n",
      "|     13|    1146717|    4673|  QLD|     Female|     9.213002123639797|\n",
      "|     13|    1146717|    4673|  QLD|     Female|     9.213002123639797|\n",
      "|     14|    1343547|    3332|  VIC|       Male|    17.698747546724444|\n",
      "|     14|    1343547|    3332|  VIC|       Male|    17.698747546724444|\n",
      "+-------+-----------+--------+-----+-----------+----------------------+\n",
      "only showing top 20 rows\n",
      "\n"
     ]
    },
    {
     "name": "stderr",
     "output_type": "stream",
     "text": [
      "\r",
      "[Stage 1023:>                                       (0 + 4) / 4][Stage 1024:>                                       (0 + 0) / 4]\r"
     ]
    },
    {
     "name": "stderr",
     "output_type": "stream",
     "text": [
      "\r",
      "[Stage 1023:>                  (0 + 4) / 4][Stage 1024:>                  (0 + 0) / 4][Stage 1025:>                  (0 + 0) / 1]\r"
     ]
    },
    {
     "name": "stderr",
     "output_type": "stream",
     "text": [
      "\r",
      "[Stage 1023:====>              (1 + 3) / 4][Stage 1024:>                  (0 + 1) / 4][Stage 1025:>                  (0 + 0) / 1]\r"
     ]
    },
    {
     "name": "stderr",
     "output_type": "stream",
     "text": [
      "\r",
      "[Stage 1024:>                                       (0 + 4) / 4][Stage 1025:>                                       (0 + 0) / 1]\r"
     ]
    },
    {
     "name": "stderr",
     "output_type": "stream",
     "text": [
      "\r",
      "                                                                                                                                 \r"
     ]
    },
    {
     "name": "stderr",
     "output_type": "stream",
     "text": [
      "\r",
      "[Stage 1024:==========>                             (1 + 3) / 4][Stage 1027:>                                       (0 + 1) / 1]\r",
      "\r",
      "                                                                                                                                 \r"
     ]
    },
    {
     "name": "stderr",
     "output_type": "stream",
     "text": [
      "\r",
      "[Stage 1038:>                                                                                                        (0 + 4) / 4]\r"
     ]
    },
    {
     "name": "stderr",
     "output_type": "stream",
     "text": [
      "\r",
      "[Stage 1038:>                  (0 + 4) / 4][Stage 1039:>                  (0 + 0) / 2][Stage 1040:>                  (0 + 0) / 1]\r"
     ]
    },
    {
     "name": "stderr",
     "output_type": "stream",
     "text": [
      "\r",
      "[Stage 1038:====>              (1 + 3) / 4][Stage 1039:>                  (0 + 1) / 2][Stage 1040:>                  (0 + 0) / 1]\r",
      "\r",
      "                                                                                                                                 \r"
     ]
    },
    {
     "name": "stderr",
     "output_type": "stream",
     "text": [
      "\r",
      "[Stage 1042:>                  (0 + 4) / 4][Stage 1043:>                  (0 + 0) / 2][Stage 1044:>                  (0 + 0) / 4]\r"
     ]
    },
    {
     "name": "stderr",
     "output_type": "stream",
     "text": [
      "\r",
      "[Stage 1042:====>              (1 + 3) / 4][Stage 1043:>                  (0 + 1) / 2][Stage 1044:>                  (0 + 0) / 4]\r"
     ]
    },
    {
     "name": "stderr",
     "output_type": "stream",
     "text": [
      "\r",
      "                                                                                                                                 \r"
     ]
    },
    {
     "name": "stderr",
     "output_type": "stream",
     "text": [
      "\r",
      "[Stage 1044:>                                                                                                        (0 + 4) / 4]\r",
      "\r",
      "[Stage 1044:>                                       (0 + 4) / 4][Stage 1047:>                                       (0 + 0) / 4]\r"
     ]
    },
    {
     "name": "stderr",
     "output_type": "stream",
     "text": [
      "\r",
      "[Stage 1044:>                  (0 + 4) / 4][Stage 1047:>                  (0 + 0) / 4][Stage 1048:>                  (0 + 0) / 4]\r",
      "\r",
      "[Stage 1044:====>              (1 + 3) / 4][Stage 1047:>                  (0 + 1) / 4][Stage 1048:>                  (0 + 0) / 4]\r"
     ]
    },
    {
     "name": "stderr",
     "output_type": "stream",
     "text": [
      "\r",
      "[Stage 1047:==========>                             (1 + 3) / 4][Stage 1048:>                                       (0 + 1) / 4]\r"
     ]
    },
    {
     "name": "stderr",
     "output_type": "stream",
     "text": [
      "\r",
      "[Stage 1047:==============================>         (3 + 1) / 4][Stage 1048:>                                       (0 + 3) / 4]\r",
      "\r",
      "                                                                                                                                 \r"
     ]
    },
    {
     "name": "stderr",
     "output_type": "stream",
     "text": [
      "\r",
      "[Stage 1048:>                                                                                                        (0 + 4) / 4]\r"
     ]
    },
    {
     "name": "stderr",
     "output_type": "stream",
     "text": [
      "\r",
      "[Stage 1048:>                                       (0 + 4) / 4][Stage 1049:>                                       (0 + 0) / 1]\r"
     ]
    },
    {
     "name": "stderr",
     "output_type": "stream",
     "text": [
      "\r",
      "                                                                                                                                 \r"
     ]
    },
    {
     "name": "stderr",
     "output_type": "stream",
     "text": [
      "\r",
      "[Stage 1048:==========================>                                                                              (1 + 3) / 4]\r",
      "\r",
      "                                                                                                                                 \r"
     ]
    },
    {
     "name": "stderr",
     "output_type": "stream",
     "text": [
      "\r",
      "[Stage 1052:>                                                                                                        (0 + 4) / 4]\r"
     ]
    },
    {
     "name": "stderr",
     "output_type": "stream",
     "text": [
      "\r",
      "[Stage 1052:>                                       (0 + 4) / 4][Stage 1055:>                                       (0 + 0) / 4]\r",
      "\r",
      "[Stage 1052:==========>                             (1 + 3) / 4][Stage 1055:>                                       (0 + 1) / 4]\r"
     ]
    },
    {
     "name": "stderr",
     "output_type": "stream",
     "text": [
      "\r",
      "[Stage 1052:==========>                             (1 + 3) / 4][Stage 1055:==========>                             (1 + 1) / 4]\r"
     ]
    },
    {
     "name": "stderr",
     "output_type": "stream",
     "text": [
      "\r",
      "[Stage 1052:====================>                   (2 + 2) / 4][Stage 1055:==========>                             (1 + 2) / 4]\r",
      "\r",
      "[Stage 1055:==========================>                                                                              (1 + 3) / 4]\r"
     ]
    },
    {
     "name": "stderr",
     "output_type": "stream",
     "text": [
      "\r",
      "[Stage 1055:==============================================================================>                          (3 + 1) / 4]\r",
      "\r",
      "                                                                                                                                 \r"
     ]
    }
   ],
   "source": [
    "consumer.show()"
   ]
  },
  {
   "cell_type": "code",
   "execution_count": null,
   "metadata": {},
   "outputs": [
    {
     "name": "stderr",
     "output_type": "stream",
     "text": [
      "\r",
      "[Stage 1090:====================================================>                                                    (2 + 2) / 4]\r",
      "\r",
      "                                                                                                                                 \r"
     ]
    },
    {
     "name": "stderr",
     "output_type": "stream",
     "text": [
      "\r",
      "[Stage 1098:>                                       (0 + 4) / 4][Stage 1099:>                                       (0 + 0) / 4]\r"
     ]
    },
    {
     "name": "stderr",
     "output_type": "stream",
     "text": [
      "\r",
      "[Stage 1098:==========>                             (1 + 3) / 4][Stage 1099:>                                       (0 + 1) / 4]\r"
     ]
    },
    {
     "name": "stderr",
     "output_type": "stream",
     "text": [
      "\r",
      "[Stage 1099:>                                                                                                        (0 + 4) / 4]\r"
     ]
    },
    {
     "name": "stderr",
     "output_type": "stream",
     "text": [
      "\r",
      "[Stage 1099:==========================>                                                                              (1 + 3) / 4]\r"
     ]
    },
    {
     "name": "stderr",
     "output_type": "stream",
     "text": [
      "\r",
      "[Stage 1099:====================================================>                                                    (2 + 2) / 4]\r"
     ]
    },
    {
     "name": "stderr",
     "output_type": "stream",
     "text": [
      "\r",
      "[Stage 1102:>                                                                                                        (0 + 4) / 4]\r"
     ]
    },
    {
     "name": "stderr",
     "output_type": "stream",
     "text": [
      "\r",
      "[Stage 1102:====================================================>                                                    (2 + 2) / 4]\r",
      "\r",
      "                                                                                                                                 \r"
     ]
    },
    {
     "name": "stderr",
     "output_type": "stream",
     "text": [
      "\r",
      "[Stage 1105:>                                                                                                        (0 + 4) / 4]\r"
     ]
    },
    {
     "name": "stderr",
     "output_type": "stream",
     "text": [
      "\r",
      "[Stage 1109:>                                                                                                        (0 + 4) / 4]\r"
     ]
    },
    {
     "name": "stderr",
     "output_type": "stream",
     "text": [
      "\r",
      "[Stage 1109:==============================================================================>                          (3 + 1) / 4]\r"
     ]
    },
    {
     "name": "stderr",
     "output_type": "stream",
     "text": [
      "\r",
      "                                                                                                                                 \r"
     ]
    },
    {
     "name": "stderr",
     "output_type": "stream",
     "text": [
      "\r",
      "[Stage 1120:>                                       (0 + 4) / 4][Stage 1121:>                                       (0 + 0) / 4]\r"
     ]
    },
    {
     "name": "stderr",
     "output_type": "stream",
     "text": [
      "\r",
      "[Stage 1120:==========>                             (1 + 3) / 4][Stage 1121:>                                       (0 + 1) / 4]\r"
     ]
    },
    {
     "name": "stderr",
     "output_type": "stream",
     "text": [
      "\r",
      "[Stage 1120:==============================>         (3 + 1) / 4][Stage 1121:>                                       (0 + 3) / 4]\r"
     ]
    },
    {
     "name": "stderr",
     "output_type": "stream",
     "text": [
      "\r",
      "[Stage 1121:>                                                                                                        (0 + 4) / 4]\r"
     ]
    },
    {
     "name": "stderr",
     "output_type": "stream",
     "text": [
      "\r",
      "[Stage 1121:==========================>                                                                              (1 + 3) / 4]\r"
     ]
    },
    {
     "name": "stderr",
     "output_type": "stream",
     "text": [
      "\r",
      "[Stage 1121:====================================================>                                                    (2 + 2) / 4]\r"
     ]
    },
    {
     "name": "stderr",
     "output_type": "stream",
     "text": [
      "\r",
      "                                                                                                                                 \r"
     ]
    },
    {
     "name": "stderr",
     "output_type": "stream",
     "text": [
      "\r",
      "[Stage 1128:>                                                                                                        (0 + 4) / 4]\r"
     ]
    },
    {
     "name": "stderr",
     "output_type": "stream",
     "text": [
      "\r",
      "[Stage 1128:==========================>                                                                              (1 + 3) / 4]\r"
     ]
    },
    {
     "name": "stderr",
     "output_type": "stream",
     "text": [
      "\r",
      "[Stage 1128:==============================================================================>                          (3 + 1) / 4]\r"
     ]
    },
    {
     "name": "stderr",
     "output_type": "stream",
     "text": [
      "\r",
      "                                                                                                                                 \r"
     ]
    }
   ],
   "source": [
    "consumer.write.mode('overwrite').parquet('../data/curated/customer/')"
   ]
  }
 ],
 "metadata": {
  "kernelspec": {
   "display_name": "Python 3 (ipykernel)",
   "language": "python",
   "name": "python3"
  },
  "language_info": {
   "codemirror_mode": {
    "name": "ipython",
    "version": 3
   },
   "file_extension": ".py",
   "mimetype": "text/x-python",
   "name": "python",
   "nbconvert_exporter": "python",
   "pygments_lexer": "ipython3",
   "version": "3.10.12"
  }
 },
 "nbformat": 4,
 "nbformat_minor": 4
}
