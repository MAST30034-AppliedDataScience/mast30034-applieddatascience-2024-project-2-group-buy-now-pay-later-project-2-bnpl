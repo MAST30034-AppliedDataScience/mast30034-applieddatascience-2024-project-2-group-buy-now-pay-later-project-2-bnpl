{
 "cells": [
  {
   "cell_type": "code",
   "execution_count": 1,
   "id": "07f59e00-de1f-419e-885d-0470114eb71a",
   "metadata": {},
   "outputs": [],
   "source": [
    "from pyspark.sql import SparkSession\n",
    "from pyspark.sql import functions as F\n",
    "from pyspark.sql.types import *\n",
    "import pandas as pd\n",
    "import requests"
   ]
  },
  {
   "cell_type": "code",
   "execution_count": 2,
   "id": "239aae67-e3f8-4ef2-82f5-7d468a9ec635",
   "metadata": {
    "scrolled": true
   },
   "outputs": [
    {
     "name": "stderr",
     "output_type": "stream",
     "text": [
      "24/09/29 21:15:32 WARN Utils: Your hostname, LAPTOP-406UJ3L3 resolves to a loopback address: 127.0.1.1; using 172.21.136.1 instead (on interface eth0)\n",
      "24/09/29 21:15:32 WARN Utils: Set SPARK_LOCAL_IP if you need to bind to another address\n",
      "Setting default log level to \"WARN\".\n",
      "To adjust logging level use sc.setLogLevel(newLevel). For SparkR, use setLogLevel(newLevel).\n",
      "24/09/29 21:15:33 WARN NativeCodeLoader: Unable to load native-hadoop library for your platform... using builtin-java classes where applicable\n",
      "24/09/29 21:15:34 WARN Utils: Service 'SparkUI' could not bind on port 4040. Attempting port 4041.\n",
      "24/09/29 21:15:34 WARN Utils: Service 'SparkUI' could not bind on port 4041. Attempting port 4042.\n",
      "24/09/29 21:15:34 WARN Utils: Service 'SparkUI' could not bind on port 4042. Attempting port 4043.\n"
     ]
    }
   ],
   "source": [
    "# Create a spark session\n",
    "spark = (\n",
    "    SparkSession.builder.appName(\"Data Joining\")\n",
    "    .config(\"spark.sql.repl.eagerEval.enabled\", True) \n",
    "    .config(\"spark.sql.parquet.cacheMetadata\", \"true\")\n",
    "    .config(\"spark.driver.memory\", \"9g\") \n",
    "    .config(\"spark.sql.session.timeZone\", \"Etc/UTC\")\n",
    "    .config(\"spark.network.timeout\", \"600s\")\n",
    "    .getOrCreate()\n",
    ")"
   ]
  },
  {
   "cell_type": "code",
   "execution_count": 3,
   "id": "0d458e06-6140-4f39-b603-524fe7c48d71",
   "metadata": {},
   "outputs": [
    {
     "name": "stderr",
     "output_type": "stream",
     "text": [
      "                                                                                \r"
     ]
    }
   ],
   "source": [
    "# Information on merchants\n",
    "merchant = spark.read.parquet(\"../data/curated/part_1/clean_merchant.parquet\")\n",
    "\n",
    "# Information on merchant's fraud probability\n",
    "merchant_fraud_prob = pd.read_csv(\"../data/tables/part_1/merchant_fraud_probability.csv\")"
   ]
  },
  {
   "cell_type": "code",
   "execution_count": 4,
   "id": "0775277d-2485-46f3-a3c9-d03e7fc8c311",
   "metadata": {},
   "outputs": [],
   "source": [
    "merchant_df = merchant.toPandas()"
   ]
  },
  {
   "cell_type": "code",
   "execution_count": 5,
   "id": "bde1aeae-778f-4241-915e-38a2a2c954f0",
   "metadata": {
    "scrolled": true
   },
   "outputs": [
    {
     "data": {
      "text/plain": [
       "goods\n",
       "digital goods: books, movies, music                                                190\n",
       "artist supply and craft shops                                                      187\n",
       "computer programming , data processing, and integrated systems design services     182\n",
       "shoe shops                                                                         182\n",
       "gift, card, novelty, and souvenir shops                                            178\n",
       "                                                                                  ... \n",
       "digital goods: books,  movies, music                                                 1\n",
       "computer programming , data processing,  and integrated systems design services      1\n",
       "motor vehicle  supplies and new parts                                                1\n",
       "computers, computer peripheral equipment, and  software                              1\n",
       "lawn and garden supply outlets,  including nurseries                                 1\n",
       "Name: count, Length: 126, dtype: int64"
      ]
     },
     "execution_count": 5,
     "metadata": {},
     "output_type": "execute_result"
    }
   ],
   "source": [
    "merchant_df.goods.value_counts()"
   ]
  },
  {
   "cell_type": "markdown",
   "id": "dbd79ab4-59db-47a2-a9a1-6f0463aaf617",
   "metadata": {},
   "source": [
    "Let's do the preprocessing to the `goods` column again."
   ]
  },
  {
   "cell_type": "code",
   "execution_count": 6,
   "id": "c17e32f9-fbe1-442d-bea3-3717ba684095",
   "metadata": {},
   "outputs": [],
   "source": [
    "import re"
   ]
  },
  {
   "cell_type": "code",
   "execution_count": 7,
   "id": "d9575e19-3e35-4e3b-b754-7d1f7229ce6a",
   "metadata": {},
   "outputs": [],
   "source": [
    "def clean_text(text):\n",
    "    text = text.lower()  \n",
    "    text = re.sub(r'[^\\w\\s]', '', text) \n",
    "    return text\n",
    "\n",
    "merchant_df['str_goods'] = merchant_df['goods'].apply(clean_text)\n",
    "merchant_df['tokens'] = merchant_df['str_goods'].apply(lambda x: x.split())\n",
    "stop_words = set(['is', 'a', 'the', 'for', 'and', 'to', 'of', 'this', 'except']) \n",
    "merchant_df['clean_goods'] = merchant_df['tokens'].apply(lambda x: [word for word in x if word not in stop_words])\n",
    "\n",
    "\n",
    "merchant_df['clean_goods_str'] = merchant_df['clean_goods'].apply(lambda x: ' '.join(x))"
   ]
  },
  {
   "cell_type": "code",
   "execution_count": 8,
   "id": "8313ac0d-c173-4e15-95a1-0dc60113655f",
   "metadata": {},
   "outputs": [
    {
     "data": {
      "text/plain": [
       "clean_goods\n",
       "[digital, goods, books, movies, music]                                              195\n",
       "[artist, supply, craft, shops]                                                      193\n",
       "[computer, programming, data, processing, integrated, systems, design, services]    191\n",
       "[shoe, shops]                                                                       185\n",
       "[furniture, home, furnishings, equipment, shops, manufacturers, appliances]         182\n",
       "[gift, card, novelty, souvenir, shops]                                              182\n",
       "[computers, computer, peripheral, equipment, software]                              181\n",
       "[florists, supplies, nursery, stock, flowers]                                       180\n",
       "[tent, awning, shops]                                                               178\n",
       "[cable, satellite, other, pay, television, radio, services]                         175\n",
       "[watch, clock, jewelry, repair, shops]                                              170\n",
       "[bicycle, shops, sales, service]                                                    170\n",
       "[music, shops, musical, instruments, pianos, sheet, music]                          167\n",
       "[books, periodicals, newspapers]                                                    164\n",
       "[health, beauty, spas]                                                              164\n",
       "[stationery, office, supplies, printing, writing, paper]                            161\n",
       "[lawn, garden, supply, outlets, including, nurseries]                               153\n",
       "[motor, vehicle, supplies, new, parts]                                              151\n",
       "[opticians, optical, goods, eyeglasses]                                             151\n",
       "[hobby, toy, game, shops]                                                           142\n",
       "[equipment, tool, furniture, appliance, rent, al, leasing]                          134\n",
       "[antique, shops, sales, repairs, restoration, services]                             129\n",
       "[telecom]                                                                           125\n",
       "[art, dealers, galleries]                                                           112\n",
       "[jewelry, watch, clock, silverware, shops]                                           91\n",
       "Name: count, dtype: int64"
      ]
     },
     "execution_count": 8,
     "metadata": {},
     "output_type": "execute_result"
    }
   ],
   "source": [
    "merchant_df.clean_goods.value_counts()"
   ]
  },
  {
   "cell_type": "markdown",
   "id": "22d38b4b-a455-420a-93f1-54a20d6e35ff",
   "metadata": {},
   "source": [
    "- This is how we manully categorize all merchant's goods into 5 segments: hobby, technology, beauty, furniture, others."
   ]
  },
  {
   "cell_type": "code",
   "execution_count": 9,
   "id": "da528f05-a770-4d02-81f2-0dad92aeb086",
   "metadata": {},
   "outputs": [],
   "source": [
    "segments = [\"hobby\", \"hobby\", \"technology\", \"beauty\", \"furniture\", \"others\", \"technology\", \"hobby\", \"furniture\", \"technology\", \"beauty\", \"others\", \"hobby\", \"hobby\", \"beauty\", \"others\", \"furniture\", \"others\", \"others\", \"hobby\", \"furniture\", \"furniture\", \"technology\", \"hobby\", \"beauty\"]\n"
   ]
  },
  {
   "cell_type": "code",
   "execution_count": 10,
   "id": "0bedd473-e19d-4af9-af5b-bf2a7374f739",
   "metadata": {},
   "outputs": [],
   "source": [
    "res = {list(merchant_df.clean_goods_str.value_counts().index)[i]: segments[i] for i in range(len(segments))}"
   ]
  },
  {
   "cell_type": "code",
   "execution_count": 11,
   "id": "58fdc46d-5976-4154-9c42-6b0f120168a7",
   "metadata": {},
   "outputs": [
    {
     "data": {
      "text/plain": [
       "{'digital goods books movies music': 'hobby',\n",
       " 'artist supply craft shops': 'hobby',\n",
       " 'computer programming data processing integrated systems design services': 'technology',\n",
       " 'shoe shops': 'beauty',\n",
       " 'furniture home furnishings equipment shops manufacturers appliances': 'furniture',\n",
       " 'gift card novelty souvenir shops': 'others',\n",
       " 'computers computer peripheral equipment software': 'technology',\n",
       " 'florists supplies nursery stock flowers': 'hobby',\n",
       " 'tent awning shops': 'furniture',\n",
       " 'cable satellite other pay television radio services': 'technology',\n",
       " 'watch clock jewelry repair shops': 'beauty',\n",
       " 'bicycle shops sales service': 'others',\n",
       " 'music shops musical instruments pianos sheet music': 'hobby',\n",
       " 'books periodicals newspapers': 'hobby',\n",
       " 'health beauty spas': 'beauty',\n",
       " 'stationery office supplies printing writing paper': 'others',\n",
       " 'lawn garden supply outlets including nurseries': 'furniture',\n",
       " 'motor vehicle supplies new parts': 'others',\n",
       " 'opticians optical goods eyeglasses': 'others',\n",
       " 'hobby toy game shops': 'hobby',\n",
       " 'equipment tool furniture appliance rent al leasing': 'furniture',\n",
       " 'antique shops sales repairs restoration services': 'furniture',\n",
       " 'telecom': 'technology',\n",
       " 'art dealers galleries': 'hobby',\n",
       " 'jewelry watch clock silverware shops': 'beauty'}"
      ]
     },
     "execution_count": 11,
     "metadata": {},
     "output_type": "execute_result"
    }
   ],
   "source": [
    "res"
   ]
  },
  {
   "cell_type": "code",
   "execution_count": 14,
   "id": "b75bae00-f842-4bbe-ad8f-65255812a539",
   "metadata": {},
   "outputs": [],
   "source": [
    "merchant_df['segment']  = merchant_df['clean_goods_str'].map(lambda x: res[x])"
   ]
  },
  {
   "cell_type": "code",
   "execution_count": 16,
   "id": "90c13259-113f-47b9-a7e3-8b45fd66137d",
   "metadata": {},
   "outputs": [
    {
     "data": {
      "text/plain": [
       "segment\n",
       "hobby         1153\n",
       "others         815\n",
       "furniture      776\n",
       "technology     672\n",
       "beauty         610\n",
       "Name: count, dtype: int64"
      ]
     },
     "execution_count": 16,
     "metadata": {},
     "output_type": "execute_result"
    }
   ],
   "source": [
    "merchant_df.segment.value_counts()"
   ]
  },
  {
   "cell_type": "code",
   "execution_count": 25,
   "id": "3bc72d93-bd4d-4dea-849f-ec9df704fcff",
   "metadata": {},
   "outputs": [],
   "source": [
    "merchant_df[['merchant_abn', 'segment']].to_parquet(\"../data/curated/merchant_segment.parquet\")"
   ]
  },
  {
   "cell_type": "markdown",
   "id": "d4c3db2f-4ed8-4577-99d0-05479fd5c021",
   "metadata": {},
   "source": [
    "## Ranking with respect to each segment"
   ]
  },
  {
   "cell_type": "code",
   "execution_count": 26,
   "id": "21d0db64-8034-40ea-a6f6-9729f7148cf1",
   "metadata": {},
   "outputs": [],
   "source": [
    "initial_ranking = spark.read.parquet(\"../data/curated/merchant_ranking\")\n",
    "merchant_segment = spark.read.parquet(\"../data/curated/merchant_segment.parquet\")"
   ]
  },
  {
   "cell_type": "code",
   "execution_count": 30,
   "id": "10a4a0e8-ef94-43ab-8a16-ef71a3b91815",
   "metadata": {},
   "outputs": [],
   "source": [
    "# Join each merchant in initial ranking by segment\n",
    "merchant_segment_ranking = initial_ranking.join(merchant_segment, how='left', on='merchant_abn')"
   ]
  },
  {
   "cell_type": "markdown",
   "id": "487d0269-84c6-4a25-b3c7-bb10856b6daf",
   "metadata": {},
   "source": [
    "### Furniture ranking"
   ]
  },
  {
   "cell_type": "code",
   "execution_count": 42,
   "id": "45ee735e-663b-416f-959f-09c4b0526d0f",
   "metadata": {},
   "outputs": [
    {
     "data": {
      "text/html": [
       "<table border='1'>\n",
       "<tr><th>merchant_abn</th><th>final_score</th><th>segment</th></tr>\n",
       "<tr><td>13467303030</td><td>0.3281230182131976</td><td>furniture</td></tr>\n",
       "<tr><td>64203420245</td><td>0.32640961651514905</td><td>furniture</td></tr>\n",
       "<tr><td>49891706470</td><td>0.32638903770982564</td><td>furniture</td></tr>\n",
       "<tr><td>89726005175</td><td>0.32616863525872786</td><td>furniture</td></tr>\n",
       "<tr><td>91923722701</td><td>0.29372476093017275</td><td>furniture</td></tr>\n",
       "<tr><td>38090089066</td><td>0.29167276641996875</td><td>furniture</td></tr>\n",
       "<tr><td>96152467973</td><td>0.28276742468018057</td><td>furniture</td></tr>\n",
       "<tr><td>19933438190</td><td>0.28191373130562547</td><td>furniture</td></tr>\n",
       "<tr><td>98269572896</td><td>0.28068397752478663</td><td>furniture</td></tr>\n",
       "<tr><td>57900494384</td><td>0.2805736754622056</td><td>furniture</td></tr>\n",
       "</table>\n"
      ],
      "text/plain": [
       "+------------+-------------------+---------+\n",
       "|merchant_abn|        final_score|  segment|\n",
       "+------------+-------------------+---------+\n",
       "| 13467303030| 0.3281230182131976|furniture|\n",
       "| 64203420245|0.32640961651514905|furniture|\n",
       "| 49891706470|0.32638903770982564|furniture|\n",
       "| 89726005175|0.32616863525872786|furniture|\n",
       "| 91923722701|0.29372476093017275|furniture|\n",
       "| 38090089066|0.29167276641996875|furniture|\n",
       "| 96152467973|0.28276742468018057|furniture|\n",
       "| 19933438190|0.28191373130562547|furniture|\n",
       "| 98269572896|0.28068397752478663|furniture|\n",
       "| 57900494384| 0.2805736754622056|furniture|\n",
       "+------------+-------------------+---------+"
      ]
     },
     "execution_count": 42,
     "metadata": {},
     "output_type": "execute_result"
    }
   ],
   "source": [
    "furniture_ranking = merchant_segment_ranking.filter(F.col('segment') == 'furniture')\n",
    "furniture_ranking.orderBy(F.col('final_score').desc()).limit(10)"
   ]
  },
  {
   "cell_type": "markdown",
   "id": "1e90a3d1-48fe-49c6-9c96-aaed50aac11b",
   "metadata": {},
   "source": [
    "## Hobby ranking"
   ]
  },
  {
   "cell_type": "code",
   "execution_count": 43,
   "id": "5ac679b8-13d0-4782-a9b2-9c7e081d11fb",
   "metadata": {},
   "outputs": [
    {
     "data": {
      "text/html": [
       "<table border='1'>\n",
       "<tr><th>merchant_abn</th><th>final_score</th><th>segment</th></tr>\n",
       "<tr><td>24852446429</td><td>0.4110443467625267</td><td>hobby</td></tr>\n",
       "<tr><td>43186523025</td><td>0.41060413239761684</td><td>hobby</td></tr>\n",
       "<tr><td>64403598239</td><td>0.34209270495966176</td><td>hobby</td></tr>\n",
       "<tr><td>95824231566</td><td>0.32937250832197584</td><td>hobby</td></tr>\n",
       "<tr><td>63290521567</td><td>0.3230966721419867</td><td>hobby</td></tr>\n",
       "<tr><td>72472909171</td><td>0.3066058849859542</td><td>hobby</td></tr>\n",
       "<tr><td>49212265466</td><td>0.3032468438815935</td><td>hobby</td></tr>\n",
       "<tr><td>21772962346</td><td>0.29844265155060334</td><td>hobby</td></tr>\n",
       "<tr><td>76314317957</td><td>0.29660103023589346</td><td>hobby</td></tr>\n",
       "<tr><td>47797405944</td><td>0.28432353745381844</td><td>hobby</td></tr>\n",
       "</table>\n"
      ],
      "text/plain": [
       "+------------+-------------------+-------+\n",
       "|merchant_abn|        final_score|segment|\n",
       "+------------+-------------------+-------+\n",
       "| 24852446429| 0.4110443467625267|  hobby|\n",
       "| 43186523025|0.41060413239761684|  hobby|\n",
       "| 64403598239|0.34209270495966176|  hobby|\n",
       "| 95824231566|0.32937250832197584|  hobby|\n",
       "| 63290521567| 0.3230966721419867|  hobby|\n",
       "| 72472909171| 0.3066058849859542|  hobby|\n",
       "| 49212265466| 0.3032468438815935|  hobby|\n",
       "| 21772962346|0.29844265155060334|  hobby|\n",
       "| 76314317957|0.29660103023589346|  hobby|\n",
       "| 47797405944|0.28432353745381844|  hobby|\n",
       "+------------+-------------------+-------+"
      ]
     },
     "execution_count": 43,
     "metadata": {},
     "output_type": "execute_result"
    }
   ],
   "source": [
    "hobby_ranking = merchant_segment_ranking.filter(F.col('segment') == 'hobby')\n",
    "hobby_ranking.orderBy(F.col('final_score').desc()).limit(10)"
   ]
  },
  {
   "cell_type": "markdown",
   "id": "4da5e494-cad6-45ee-a5d0-d579a7ed0a9d",
   "metadata": {},
   "source": [
    "### Technology ranking"
   ]
  },
  {
   "cell_type": "code",
   "execution_count": 44,
   "id": "079e0061-a971-497f-86fb-dc360f841a73",
   "metadata": {},
   "outputs": [
    {
     "data": {
      "text/html": [
       "<table border='1'>\n",
       "<tr><th>merchant_abn</th><th>final_score</th><th>segment</th></tr>\n",
       "<tr><td>68216911708</td><td>0.3247475833723059</td><td>technology</td></tr>\n",
       "<tr><td>21439773999</td><td>0.31372624978093633</td><td>technology</td></tr>\n",
       "<tr><td>62694031334</td><td>0.26935800105450164</td><td>technology</td></tr>\n",
       "<tr><td>84703983173</td><td>0.2370334038443454</td><td>technology</td></tr>\n",
       "<tr><td>94690988633</td><td>0.22732464614687742</td><td>technology</td></tr>\n",
       "<tr><td>35909341340</td><td>0.22204387710399975</td><td>technology</td></tr>\n",
       "<tr><td>67400260923</td><td>0.22069148793483245</td><td>technology</td></tr>\n",
       "<tr><td>56946407125</td><td>0.2096748271795812</td><td>technology</td></tr>\n",
       "<tr><td>17488304283</td><td>0.20756702349985545</td><td>technology</td></tr>\n",
       "<tr><td>29521780474</td><td>0.2068175880456991</td><td>technology</td></tr>\n",
       "</table>\n"
      ],
      "text/plain": [
       "+------------+-------------------+----------+\n",
       "|merchant_abn|        final_score|   segment|\n",
       "+------------+-------------------+----------+\n",
       "| 68216911708| 0.3247475833723059|technology|\n",
       "| 21439773999|0.31372624978093633|technology|\n",
       "| 62694031334|0.26935800105450164|technology|\n",
       "| 84703983173| 0.2370334038443454|technology|\n",
       "| 94690988633|0.22732464614687742|technology|\n",
       "| 35909341340|0.22204387710399975|technology|\n",
       "| 67400260923|0.22069148793483245|technology|\n",
       "| 56946407125| 0.2096748271795812|technology|\n",
       "| 17488304283|0.20756702349985545|technology|\n",
       "| 29521780474| 0.2068175880456991|technology|\n",
       "+------------+-------------------+----------+"
      ]
     },
     "execution_count": 44,
     "metadata": {},
     "output_type": "execute_result"
    }
   ],
   "source": [
    "tech_ranking = merchant_segment_ranking.filter(F.col('segment') == 'technology')\n",
    "tech_ranking.orderBy(F.col('final_score').desc()).limit(10)"
   ]
  },
  {
   "cell_type": "markdown",
   "id": "56161c0a-c4cd-4669-b370-20f8c0e31a4a",
   "metadata": {},
   "source": [
    "### Beauty"
   ]
  },
  {
   "cell_type": "code",
   "execution_count": 45,
   "id": "ef4d3056-0015-45c3-95ae-a62efa3fc396",
   "metadata": {},
   "outputs": [
    {
     "data": {
      "text/html": [
       "<table border='1'>\n",
       "<tr><th>merchant_abn</th><th>final_score</th><th>segment</th></tr>\n",
       "<tr><td>86578477987</td><td>0.376599777618594</td><td>beauty</td></tr>\n",
       "<tr><td>49322182190</td><td>0.3071275062334952</td><td>beauty</td></tr>\n",
       "<tr><td>71528203369</td><td>0.2858212325465878</td><td>beauty</td></tr>\n",
       "<tr><td>23338656015</td><td>0.2777591471090938</td><td>beauty</td></tr>\n",
       "<tr><td>80779820715</td><td>0.27018321895176484</td><td>beauty</td></tr>\n",
       "<tr><td>81761494572</td><td>0.26840677632939014</td><td>beauty</td></tr>\n",
       "<tr><td>29616684420</td><td>0.2631044164983196</td><td>beauty</td></tr>\n",
       "<tr><td>91720867026</td><td>0.24376288006455143</td><td>beauty</td></tr>\n",
       "<tr><td>34920839316</td><td>0.2319530570909032</td><td>beauty</td></tr>\n",
       "<tr><td>35733444320</td><td>0.23042429344923904</td><td>beauty</td></tr>\n",
       "</table>\n"
      ],
      "text/plain": [
       "+------------+-------------------+-------+\n",
       "|merchant_abn|        final_score|segment|\n",
       "+------------+-------------------+-------+\n",
       "| 86578477987|  0.376599777618594| beauty|\n",
       "| 49322182190| 0.3071275062334952| beauty|\n",
       "| 71528203369| 0.2858212325465878| beauty|\n",
       "| 23338656015| 0.2777591471090938| beauty|\n",
       "| 80779820715|0.27018321895176484| beauty|\n",
       "| 81761494572|0.26840677632939014| beauty|\n",
       "| 29616684420| 0.2631044164983196| beauty|\n",
       "| 91720867026|0.24376288006455143| beauty|\n",
       "| 34920839316| 0.2319530570909032| beauty|\n",
       "| 35733444320|0.23042429344923904| beauty|\n",
       "+------------+-------------------+-------+"
      ]
     },
     "execution_count": 45,
     "metadata": {},
     "output_type": "execute_result"
    }
   ],
   "source": [
    "beauty_ranking = merchant_segment_ranking.filter(F.col('segment') == 'beauty')\n",
    "beauty_ranking.orderBy(F.col('final_score').desc()).limit(10)"
   ]
  },
  {
   "cell_type": "markdown",
   "id": "db0b60d6-4ebc-4aad-ab3a-911571b50d34",
   "metadata": {},
   "source": [
    "### Others"
   ]
  },
  {
   "cell_type": "code",
   "execution_count": 46,
   "id": "2bcf0616-0f70-42ef-8ded-4c963eedcdf9",
   "metadata": {},
   "outputs": [
    {
     "data": {
      "text/html": [
       "<table border='1'>\n",
       "<tr><th>merchant_abn</th><th>final_score</th><th>segment</th></tr>\n",
       "<tr><td>45629217853</td><td>0.3262225286311107</td><td>others</td></tr>\n",
       "<tr><td>80324045558</td><td>0.3257948358836089</td><td>others</td></tr>\n",
       "<tr><td>46804135891</td><td>0.32204950134888666</td><td>others</td></tr>\n",
       "<tr><td>94493496784</td><td>0.3103409695966315</td><td>others</td></tr>\n",
       "<tr><td>79417999332</td><td>0.3096272770478116</td><td>others</td></tr>\n",
       "<tr><td>60956456424</td><td>0.30432590871999204</td><td>others</td></tr>\n",
       "<tr><td>32361057556</td><td>0.3013897190374569</td><td>others</td></tr>\n",
       "<tr><td>48534649627</td><td>0.2758585621963855</td><td>others</td></tr>\n",
       "<tr><td>81219314324</td><td>0.2535747278549654</td><td>others</td></tr>\n",
       "<tr><td>11566786699</td><td>0.23606012614729155</td><td>others</td></tr>\n",
       "</table>\n"
      ],
      "text/plain": [
       "+------------+-------------------+-------+\n",
       "|merchant_abn|        final_score|segment|\n",
       "+------------+-------------------+-------+\n",
       "| 45629217853| 0.3262225286311107| others|\n",
       "| 80324045558| 0.3257948358836089| others|\n",
       "| 46804135891|0.32204950134888666| others|\n",
       "| 94493496784| 0.3103409695966315| others|\n",
       "| 79417999332| 0.3096272770478116| others|\n",
       "| 60956456424|0.30432590871999204| others|\n",
       "| 32361057556| 0.3013897190374569| others|\n",
       "| 48534649627| 0.2758585621963855| others|\n",
       "| 81219314324| 0.2535747278549654| others|\n",
       "| 11566786699|0.23606012614729155| others|\n",
       "+------------+-------------------+-------+"
      ]
     },
     "execution_count": 46,
     "metadata": {},
     "output_type": "execute_result"
    }
   ],
   "source": [
    "other_ranking = merchant_segment_ranking.filter(F.col('segment') == 'others')\n",
    "other_ranking.orderBy(F.col('final_score').desc()).limit(10)"
   ]
  },
  {
   "cell_type": "code",
   "execution_count": null,
   "id": "7e165a20-3e04-4dcc-b226-f088d85a3057",
   "metadata": {},
   "outputs": [],
   "source": []
  }
 ],
 "metadata": {
  "kernelspec": {
   "display_name": "Python 3 (ipykernel)",
   "language": "python",
   "name": "python3"
  },
  "language_info": {
   "codemirror_mode": {
    "name": "ipython",
    "version": 3
   },
   "file_extension": ".py",
   "mimetype": "text/x-python",
   "name": "python",
   "nbconvert_exporter": "python",
   "pygments_lexer": "ipython3",
   "version": "3.10.12"
  }
 },
 "nbformat": 4,
 "nbformat_minor": 5
}
