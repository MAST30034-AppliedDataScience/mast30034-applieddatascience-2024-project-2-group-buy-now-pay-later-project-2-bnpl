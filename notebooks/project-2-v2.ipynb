{
 "cells": [
  {
   "cell_type": "markdown",
   "metadata": {},
   "source": [
    "# Project 2 - Group 13"
   ]
  },
  {
   "cell_type": "markdown",
   "metadata": {},
   "source": [
    "## 0 - Begin Spark"
   ]
  },
  {
   "cell_type": "code",
   "execution_count": 1,
   "metadata": {},
   "outputs": [
    {
     "name": "stderr",
     "output_type": "stream",
     "text": [
      "24/09/03 00:39:49 WARN Utils: Your hostname, MacBook.local resolves to a loopback address: 127.0.0.1; using 192.168.0.12 instead (on interface en0)\n",
      "24/09/03 00:39:49 WARN Utils: Set SPARK_LOCAL_IP if you need to bind to another address\n",
      "Setting default log level to \"WARN\".\n",
      "To adjust logging level use sc.setLogLevel(newLevel). For SparkR, use setLogLevel(newLevel).\n",
      "24/09/03 00:39:50 WARN NativeCodeLoader: Unable to load native-hadoop library for your platform... using builtin-java classes where applicable\n"
     ]
    }
   ],
   "source": [
    "from pyspark.sql import SparkSession\n",
    "\n",
    "# Create a spark session (which will run spark jobs)\n",
    "spark = (\n",
    "    SparkSession.builder.appName(\"MAST30034 Project 2\")\n",
    "    .config(\"spark.sql.repl.eagerEval.enabled\", True) \n",
    "    .config(\"spark.sql.parquet.cacheMetadata\", \"true\")\n",
    "    .config(\"spark.sql.session.timeZone\", \"Etc/UTC\")\n",
    "    #.config(\"spark.executor.memory\", \"2g\")\n",
    "    #.config(\"spark.driver.memory\", \"2g\")\n",
    "    .getOrCreate()\n",
    ")"
   ]
  },
  {
   "cell_type": "markdown",
   "metadata": {},
   "source": [
    "## 1 - Data cleaning"
   ]
  },
  {
   "cell_type": "markdown",
   "metadata": {},
   "source": [
    "### 1.1 - Consumer fraud probability"
   ]
  },
  {
   "cell_type": "code",
   "execution_count": 2,
   "metadata": {},
   "outputs": [
    {
     "name": "stderr",
     "output_type": "stream",
     "text": [
      "                                                                                \r"
     ]
    },
    {
     "name": "stdout",
     "output_type": "stream",
     "text": [
      "Number of entires = 34864\n"
     ]
    },
    {
     "name": "stderr",
     "output_type": "stream",
     "text": [
      "24/09/03 00:40:06 WARN GarbageCollectionMetrics: To enable non-built-in garbage collector(s) List(G1 Concurrent GC), users should configure it(them) to spark.eventLog.gcMetrics.youngGenerationGarbageCollectors or spark.eventLog.gcMetrics.oldGenerationGarbageCollectors\n"
     ]
    },
    {
     "data": {
      "text/html": [
       "<table border='1'>\n",
       "<tr><th>user_id</th><th>consumer_fraud_order_datetime</th><th>consumer_fraud_probability</th></tr>\n",
       "<tr><td>6228</td><td>2021-12-19</td><td>97.6298077657765</td></tr>\n",
       "<tr><td>21419</td><td>2021-12-10</td><td>99.24738020302328</td></tr>\n",
       "<tr><td>5606</td><td>2021-10-17</td><td>84.05825045251777</td></tr>\n",
       "<tr><td>3101</td><td>2021-04-17</td><td>91.42192091901347</td></tr>\n",
       "<tr><td>22239</td><td>2021-10-19</td><td>94.70342477508035</td></tr>\n",
       "</table>\n"
      ],
      "text/plain": [
       "+-------+-----------------------------+--------------------------+\n",
       "|user_id|consumer_fraud_order_datetime|consumer_fraud_probability|\n",
       "+-------+-----------------------------+--------------------------+\n",
       "|   6228|                   2021-12-19|          97.6298077657765|\n",
       "|  21419|                   2021-12-10|         99.24738020302328|\n",
       "|   5606|                   2021-10-17|         84.05825045251777|\n",
       "|   3101|                   2021-04-17|         91.42192091901347|\n",
       "|  22239|                   2021-10-19|         94.70342477508035|\n",
       "+-------+-----------------------------+--------------------------+"
      ]
     },
     "execution_count": 2,
     "metadata": {},
     "output_type": "execute_result"
    }
   ],
   "source": [
    "consumer_fraud_probability_df = spark.read.csv('../data/tables/tables/consumer_fraud_probability.csv', header = True, inferSchema = True)\n",
    "consumer_fraud_probability_df = consumer_fraud_probability_df.withColumnRenamed('order_datetime', 'consumer_fraud_order_datetime')\n",
    "consumer_fraud_probability_df = consumer_fraud_probability_df.withColumnRenamed('fraud_probability', 'consumer_fraud_probability')\n",
    "print(f'Number of entires = {consumer_fraud_probability_df.count()}')\n",
    "consumer_fraud_probability_df.limit(5)"
   ]
  },
  {
   "cell_type": "code",
   "execution_count": 3,
   "metadata": {},
   "outputs": [
    {
     "name": "stdout",
     "output_type": "stream",
     "text": [
      "root\n",
      " |-- user_id: integer (nullable = true)\n",
      " |-- consumer_fraud_order_datetime: date (nullable = true)\n",
      " |-- consumer_fraud_probability: double (nullable = true)\n",
      "\n"
     ]
    }
   ],
   "source": [
    "consumer_fraud_probability_df.printSchema()"
   ]
  },
  {
   "cell_type": "markdown",
   "metadata": {},
   "source": [
    "### 1.2 - Consumer user details"
   ]
  },
  {
   "cell_type": "code",
   "execution_count": 4,
   "metadata": {},
   "outputs": [
    {
     "name": "stderr",
     "output_type": "stream",
     "text": [
      "                                                                                \r"
     ]
    },
    {
     "name": "stdout",
     "output_type": "stream",
     "text": [
      "Number of entires = 499999\n"
     ]
    },
    {
     "data": {
      "text/html": [
       "<table border='1'>\n",
       "<tr><th>user_id</th><th>consumer_id</th></tr>\n",
       "<tr><td>1</td><td>1195503</td></tr>\n",
       "<tr><td>2</td><td>179208</td></tr>\n",
       "<tr><td>3</td><td>1194530</td></tr>\n",
       "<tr><td>4</td><td>154128</td></tr>\n",
       "<tr><td>5</td><td>712975</td></tr>\n",
       "</table>\n"
      ],
      "text/plain": [
       "+-------+-----------+\n",
       "|user_id|consumer_id|\n",
       "+-------+-----------+\n",
       "|      1|    1195503|\n",
       "|      2|     179208|\n",
       "|      3|    1194530|\n",
       "|      4|     154128|\n",
       "|      5|     712975|\n",
       "+-------+-----------+"
      ]
     },
     "execution_count": 4,
     "metadata": {},
     "output_type": "execute_result"
    }
   ],
   "source": [
    "consumer_user_details_df = spark.read.parquet('../data/tables/tables/consumer_user_details.parquet', inferSchema = True)\n",
    "print(f'Number of entires = {consumer_user_details_df.count()}')\n",
    "consumer_user_details_df.limit(5)"
   ]
  },
  {
   "cell_type": "code",
   "execution_count": 5,
   "metadata": {},
   "outputs": [
    {
     "name": "stdout",
     "output_type": "stream",
     "text": [
      "root\n",
      " |-- user_id: long (nullable = true)\n",
      " |-- consumer_id: long (nullable = true)\n",
      "\n"
     ]
    }
   ],
   "source": [
    "consumer_user_details_df.printSchema()"
   ]
  },
  {
   "cell_type": "markdown",
   "metadata": {},
   "source": [
    "### 1.3 - Merchant fraud probability"
   ]
  },
  {
   "cell_type": "code",
   "execution_count": 6,
   "metadata": {},
   "outputs": [
    {
     "name": "stdout",
     "output_type": "stream",
     "text": [
      "Number of entires = 114\n"
     ]
    },
    {
     "data": {
      "text/html": [
       "<table border='1'>\n",
       "<tr><th>merchant_abn</th><th>merchant_fraud_order_datetime</th><th>merchant_fraud_probability</th></tr>\n",
       "<tr><td>19492220327</td><td>2021-11-28</td><td>44.403658647495355</td></tr>\n",
       "<tr><td>31334588839</td><td>2021-10-02</td><td>42.75530083865367</td></tr>\n",
       "<tr><td>19492220327</td><td>2021-12-22</td><td>38.867790051131095</td></tr>\n",
       "<tr><td>82999039227</td><td>2021-12-19</td><td>94.1347004808891</td></tr>\n",
       "<tr><td>90918180829</td><td>2021-09-02</td><td>43.32551731714902</td></tr>\n",
       "</table>\n"
      ],
      "text/plain": [
       "+------------+-----------------------------+--------------------------+\n",
       "|merchant_abn|merchant_fraud_order_datetime|merchant_fraud_probability|\n",
       "+------------+-----------------------------+--------------------------+\n",
       "| 19492220327|                   2021-11-28|        44.403658647495355|\n",
       "| 31334588839|                   2021-10-02|         42.75530083865367|\n",
       "| 19492220327|                   2021-12-22|        38.867790051131095|\n",
       "| 82999039227|                   2021-12-19|          94.1347004808891|\n",
       "| 90918180829|                   2021-09-02|         43.32551731714902|\n",
       "+------------+-----------------------------+--------------------------+"
      ]
     },
     "execution_count": 6,
     "metadata": {},
     "output_type": "execute_result"
    }
   ],
   "source": [
    "merchant_fraud_probability_df = spark.read.csv('../data/tables/tables/merchant_fraud_probability.csv', header = True, inferSchema = True)\n",
    "merchant_fraud_probability_df = merchant_fraud_probability_df.withColumnRenamed('order_datetime', 'merchant_fraud_order_datetime')\n",
    "merchant_fraud_probability_df = merchant_fraud_probability_df.withColumnRenamed('fraud_probability', 'merchant_fraud_probability')\n",
    "print(f'Number of entires = {merchant_fraud_probability_df.count()}')\n",
    "merchant_fraud_probability_df.limit(5)"
   ]
  },
  {
   "cell_type": "code",
   "execution_count": 7,
   "metadata": {},
   "outputs": [
    {
     "name": "stdout",
     "output_type": "stream",
     "text": [
      "root\n",
      " |-- merchant_abn: long (nullable = true)\n",
      " |-- merchant_fraud_order_datetime: date (nullable = true)\n",
      " |-- merchant_fraud_probability: double (nullable = true)\n",
      "\n"
     ]
    }
   ],
   "source": [
    "merchant_fraud_probability_df.printSchema()"
   ]
  },
  {
   "cell_type": "markdown",
   "metadata": {},
   "source": [
    "### 1.4 - TBL Consumer"
   ]
  },
  {
   "cell_type": "code",
   "execution_count": 8,
   "metadata": {},
   "outputs": [
    {
     "name": "stderr",
     "output_type": "stream",
     "text": [
      "                                                                                \r"
     ]
    },
    {
     "name": "stdout",
     "output_type": "stream",
     "text": [
      "Number of entires = 499999\n"
     ]
    },
    {
     "data": {
      "text/html": [
       "<table border='1'>\n",
       "<tr><th>name</th><th>address</th><th>state</th><th>postcode</th><th>gender</th><th>consumer_id</th></tr>\n",
       "<tr><td>Yolanda Williams</td><td>413 Haney Gardens...</td><td>WA</td><td>6935</td><td>Female</td><td>1195503</td></tr>\n",
       "<tr><td>Mary Smith</td><td>3764 Amber Oval</td><td>NSW</td><td>2782</td><td>Female</td><td>179208</td></tr>\n",
       "<tr><td>Jill Jones MD</td><td>40693 Henry Greens</td><td>NT</td><td>862</td><td>Female</td><td>1194530</td></tr>\n",
       "<tr><td>Lindsay Jimenez</td><td>00653 Davenport C...</td><td>NSW</td><td>2780</td><td>Female</td><td>154128</td></tr>\n",
       "<tr><td>Rebecca Blanchard</td><td>9271 Michael Mano...</td><td>WA</td><td>6355</td><td>Female</td><td>712975</td></tr>\n",
       "</table>\n"
      ],
      "text/plain": [
       "+-----------------+--------------------+-----+--------+------+-----------+\n",
       "|             name|             address|state|postcode|gender|consumer_id|\n",
       "+-----------------+--------------------+-----+--------+------+-----------+\n",
       "| Yolanda Williams|413 Haney Gardens...|   WA|    6935|Female|    1195503|\n",
       "|       Mary Smith|     3764 Amber Oval|  NSW|    2782|Female|     179208|\n",
       "|    Jill Jones MD|  40693 Henry Greens|   NT|     862|Female|    1194530|\n",
       "|  Lindsay Jimenez|00653 Davenport C...|  NSW|    2780|Female|     154128|\n",
       "|Rebecca Blanchard|9271 Michael Mano...|   WA|    6355|Female|     712975|\n",
       "+-----------------+--------------------+-----+--------+------+-----------+"
      ]
     },
     "execution_count": 8,
     "metadata": {},
     "output_type": "execute_result"
    }
   ],
   "source": [
    "tbl_consumer_df = spark.read.option(\"delimiter\", '|').csv('../data/tables/tables/tbl_consumer.csv', header = True, inferSchema = True)\n",
    "print(f'Number of entires = {tbl_consumer_df.count()}')\n",
    "tbl_consumer_df.limit(5)"
   ]
  },
  {
   "cell_type": "code",
   "execution_count": 9,
   "metadata": {},
   "outputs": [
    {
     "name": "stdout",
     "output_type": "stream",
     "text": [
      "root\n",
      " |-- name: string (nullable = true)\n",
      " |-- address: string (nullable = true)\n",
      " |-- state: string (nullable = true)\n",
      " |-- postcode: integer (nullable = true)\n",
      " |-- gender: string (nullable = true)\n",
      " |-- consumer_id: integer (nullable = true)\n",
      "\n"
     ]
    }
   ],
   "source": [
    "tbl_consumer_df.printSchema()"
   ]
  },
  {
   "cell_type": "markdown",
   "metadata": {},
   "source": [
    "### 1.5 - TBL merchants"
   ]
  },
  {
   "cell_type": "code",
   "execution_count": 10,
   "metadata": {},
   "outputs": [
    {
     "name": "stdout",
     "output_type": "stream",
     "text": [
      "Number of entires = 4026\n"
     ]
    },
    {
     "data": {
      "text/html": [
       "<table border='1'>\n",
       "<tr><th>merchant_name</th><th>tags</th><th>merchant_abn</th></tr>\n",
       "<tr><td>Felis Limited</td><td>((furniture, home...</td><td>10023283211</td></tr>\n",
       "<tr><td>Arcu Ac Orci Corp...</td><td>([cable, satellit...</td><td>10142254217</td></tr>\n",
       "<tr><td>Nunc Sed Company</td><td>([jewelry, watch,...</td><td>10165489824</td></tr>\n",
       "<tr><td>Ultricies Digniss...</td><td>([wAtch, clock, a...</td><td>10187291046</td></tr>\n",
       "<tr><td>Enim Condimentum PC</td><td>([music shops - m...</td><td>10192359162</td></tr>\n",
       "</table>\n"
      ],
      "text/plain": [
       "+--------------------+--------------------+------------+\n",
       "|       merchant_name|                tags|merchant_abn|\n",
       "+--------------------+--------------------+------------+\n",
       "|       Felis Limited|((furniture, home...| 10023283211|\n",
       "|Arcu Ac Orci Corp...|([cable, satellit...| 10142254217|\n",
       "|    Nunc Sed Company|([jewelry, watch,...| 10165489824|\n",
       "|Ultricies Digniss...|([wAtch, clock, a...| 10187291046|\n",
       "| Enim Condimentum PC|([music shops - m...| 10192359162|\n",
       "+--------------------+--------------------+------------+"
      ]
     },
     "execution_count": 10,
     "metadata": {},
     "output_type": "execute_result"
    }
   ],
   "source": [
    "tbl_merchants_df = spark.read.parquet('../data/tables/tables/tbl_merchants.parquet', inferSchema = True)\n",
    "tbl_merchants_df = tbl_merchants_df.withColumnRenamed('name', 'merchant_name')\n",
    "print(f'Number of entires = {tbl_merchants_df.count()}')\n",
    "tbl_merchants_df.limit(5)"
   ]
  },
  {
   "cell_type": "code",
   "execution_count": 11,
   "metadata": {},
   "outputs": [
    {
     "name": "stdout",
     "output_type": "stream",
     "text": [
      "root\n",
      " |-- merchant_name: string (nullable = true)\n",
      " |-- tags: string (nullable = true)\n",
      " |-- merchant_abn: long (nullable = true)\n",
      "\n"
     ]
    }
   ],
   "source": [
    "tbl_merchants_df.printSchema()"
   ]
  },
  {
   "cell_type": "markdown",
   "metadata": {},
   "source": [
    "### 1.6 - Transactions"
   ]
  },
  {
   "cell_type": "markdown",
   "metadata": {},
   "source": [
    "#### 1.6.1 - Tables 2"
   ]
  },
  {
   "cell_type": "code",
   "execution_count": 12,
   "metadata": {},
   "outputs": [
    {
     "name": "stderr",
     "output_type": "stream",
     "text": [
      "                                                                                \r"
     ]
    },
    {
     "name": "stdout",
     "output_type": "stream",
     "text": [
      "Number of entires = 3643266\n"
     ]
    },
    {
     "data": {
      "text/html": [
       "<table border='1'>\n",
       "<tr><th>user_id</th><th>merchant_abn</th><th>dollar_value</th><th>order_id</th><th>order_datetime</th></tr>\n",
       "<tr><td>18478</td><td>62191208634</td><td>63.255848959735246</td><td>949a63c8-29f7-4ab...</td><td>2021-08-20</td></tr>\n",
       "<tr><td>2</td><td>15549624934</td><td>130.3505283105634</td><td>6a84c3cf-612a-457...</td><td>2021-08-20</td></tr>\n",
       "<tr><td>18479</td><td>64403598239</td><td>120.15860593212783</td><td>b10dcc33-e53f-425...</td><td>2021-08-20</td></tr>\n",
       "<tr><td>3</td><td>60956456424</td><td>136.6785200286976</td><td>0f09c5a5-784e-447...</td><td>2021-08-20</td></tr>\n",
       "<tr><td>18479</td><td>94493496784</td><td>72.96316578355305</td><td>f6c78c1a-4600-4c5...</td><td>2021-08-20</td></tr>\n",
       "</table>\n"
      ],
      "text/plain": [
       "+-------+------------+------------------+--------------------+--------------+\n",
       "|user_id|merchant_abn|      dollar_value|            order_id|order_datetime|\n",
       "+-------+------------+------------------+--------------------+--------------+\n",
       "|  18478| 62191208634|63.255848959735246|949a63c8-29f7-4ab...|    2021-08-20|\n",
       "|      2| 15549624934| 130.3505283105634|6a84c3cf-612a-457...|    2021-08-20|\n",
       "|  18479| 64403598239|120.15860593212783|b10dcc33-e53f-425...|    2021-08-20|\n",
       "|      3| 60956456424| 136.6785200286976|0f09c5a5-784e-447...|    2021-08-20|\n",
       "|  18479| 94493496784| 72.96316578355305|f6c78c1a-4600-4c5...|    2021-08-20|\n",
       "+-------+------------+------------------+--------------------+--------------+"
      ]
     },
     "execution_count": 12,
     "metadata": {},
     "output_type": "execute_result"
    }
   ],
   "source": [
    "tables_2_df = spark.read.parquet('../data/tables/tables 2/transactions_20210228_20210827_snapshot', inferSchema = True)\n",
    "print(f'Number of entires = {tables_2_df.count()}')\n",
    "tables_2_df.limit(5)"
   ]
  },
  {
   "cell_type": "code",
   "execution_count": 13,
   "metadata": {},
   "outputs": [
    {
     "name": "stderr",
     "output_type": "stream",
     "text": [
      "                                                                                \r"
     ]
    },
    {
     "name": "stdout",
     "output_type": "stream",
     "text": [
      "Number of entires = 6044133\n"
     ]
    },
    {
     "data": {
      "text/html": [
       "<table border='1'>\n",
       "<tr><th>user_id</th><th>merchant_abn</th><th>dollar_value</th><th>order_id</th><th>order_datetime</th></tr>\n",
       "<tr><td>11139</td><td>96152467973</td><td>16.213590228273233</td><td>785b0080-9e4b-471...</td><td>2022-08-20</td></tr>\n",
       "<tr><td>1</td><td>98973094975</td><td>86.97955945703498</td><td>2560f7b0-ee5d-4b3...</td><td>2022-08-20</td></tr>\n",
       "<tr><td>11139</td><td>56762458844</td><td>31.513502323509194</td><td>0311717b-8b5b-410...</td><td>2022-08-20</td></tr>\n",
       "<tr><td>1</td><td>89502033586</td><td>124.18468694868491</td><td>f8891626-f098-45b...</td><td>2022-08-20</td></tr>\n",
       "<tr><td>11139</td><td>96161808980</td><td>61.620445567668966</td><td>d90a421f-f1da-4bf...</td><td>2022-08-20</td></tr>\n",
       "</table>\n"
      ],
      "text/plain": [
       "+-------+------------+------------------+--------------------+--------------+\n",
       "|user_id|merchant_abn|      dollar_value|            order_id|order_datetime|\n",
       "+-------+------------+------------------+--------------------+--------------+\n",
       "|  11139| 96152467973|16.213590228273233|785b0080-9e4b-471...|    2022-08-20|\n",
       "|      1| 98973094975| 86.97955945703498|2560f7b0-ee5d-4b3...|    2022-08-20|\n",
       "|  11139| 56762458844|31.513502323509194|0311717b-8b5b-410...|    2022-08-20|\n",
       "|      1| 89502033586|124.18468694868491|f8891626-f098-45b...|    2022-08-20|\n",
       "|  11139| 96161808980|61.620445567668966|d90a421f-f1da-4bf...|    2022-08-20|\n",
       "+-------+------------+------------------+--------------------+--------------+"
      ]
     },
     "execution_count": 13,
     "metadata": {},
     "output_type": "execute_result"
    }
   ],
   "source": [
    "tables_3_df = spark.read.parquet('../data/tables/tables 2/transactions_20220228_20220828_snapshot', inferSchema = True)\n",
    "print(f'Number of entires = {tables_3_df.count()}')\n",
    "tables_3_df.limit(5)"
   ]
  },
  {
   "cell_type": "code",
   "execution_count": 14,
   "metadata": {},
   "outputs": [
    {
     "name": "stderr",
     "output_type": "stream",
     "text": [
      "                                                                                \r"
     ]
    },
    {
     "name": "stdout",
     "output_type": "stream",
     "text": [
      "Number of entires = 4508106\n"
     ]
    },
    {
     "data": {
      "text/html": [
       "<table border='1'>\n",
       "<tr><th>user_id</th><th>merchant_abn</th><th>dollar_value</th><th>order_id</th><th>order_datetime</th></tr>\n",
       "<tr><td>14935</td><td>79417999332</td><td>136.06570809815838</td><td>23acbb7b-cf98-458...</td><td>2021-11-26</td></tr>\n",
       "<tr><td>1</td><td>46451548968</td><td>72.61581642788431</td><td>76bab304-fa2d-400...</td><td>2021-11-26</td></tr>\n",
       "<tr><td>14936</td><td>89518629617</td><td>3.0783487174439297</td><td>a2ae446a-2959-41c...</td><td>2021-11-26</td></tr>\n",
       "<tr><td>1</td><td>49167531725</td><td>51.58228625503599</td><td>7080c274-17f7-4cc...</td><td>2021-11-26</td></tr>\n",
       "<tr><td>14936</td><td>31101120643</td><td>25.228114942417797</td><td>8e301c0f-06ab-45c...</td><td>2021-11-26</td></tr>\n",
       "</table>\n"
      ],
      "text/plain": [
       "+-------+------------+------------------+--------------------+--------------+\n",
       "|user_id|merchant_abn|      dollar_value|            order_id|order_datetime|\n",
       "+-------+------------+------------------+--------------------+--------------+\n",
       "|  14935| 79417999332|136.06570809815838|23acbb7b-cf98-458...|    2021-11-26|\n",
       "|      1| 46451548968| 72.61581642788431|76bab304-fa2d-400...|    2021-11-26|\n",
       "|  14936| 89518629617|3.0783487174439297|a2ae446a-2959-41c...|    2021-11-26|\n",
       "|      1| 49167531725| 51.58228625503599|7080c274-17f7-4cc...|    2021-11-26|\n",
       "|  14936| 31101120643|25.228114942417797|8e301c0f-06ab-45c...|    2021-11-26|\n",
       "+-------+------------+------------------+--------------------+--------------+"
      ]
     },
     "execution_count": 14,
     "metadata": {},
     "output_type": "execute_result"
    }
   ],
   "source": [
    "tables_4_df = spark.read.parquet('../data/tables/tables 2/transactions_20210828_20220227_snapshot', inferSchema = True)\n",
    "print(f'Number of entires = {tables_4_df.count()}')\n",
    "tables_4_df.limit(5)"
   ]
  },
  {
   "cell_type": "code",
   "execution_count": 47,
   "metadata": {},
   "outputs": [
    {
     "name": "stderr",
     "output_type": "stream",
     "text": [
      "                                                                                \r"
     ]
    },
    {
     "name": "stdout",
     "output_type": "stream",
     "text": [
      "Number of entires = 14195505\n"
     ]
    },
    {
     "data": {
      "text/html": [
       "<table border='1'>\n",
       "<tr><th>user_id</th><th>merchant_abn</th><th>dollar_value</th><th>order_id</th><th>order_datetime</th></tr>\n",
       "<tr><td>18478</td><td>62191208634</td><td>63.255848959735246</td><td>949a63c8-29f7-4ab...</td><td>2021-08-20</td></tr>\n",
       "<tr><td>2</td><td>15549624934</td><td>130.3505283105634</td><td>6a84c3cf-612a-457...</td><td>2021-08-20</td></tr>\n",
       "<tr><td>18479</td><td>64403598239</td><td>120.15860593212783</td><td>b10dcc33-e53f-425...</td><td>2021-08-20</td></tr>\n",
       "<tr><td>3</td><td>60956456424</td><td>136.6785200286976</td><td>0f09c5a5-784e-447...</td><td>2021-08-20</td></tr>\n",
       "<tr><td>18479</td><td>94493496784</td><td>72.96316578355305</td><td>f6c78c1a-4600-4c5...</td><td>2021-08-20</td></tr>\n",
       "<tr><td>3</td><td>76819856970</td><td>448.529684285612</td><td>5ace6a24-cdf0-4aa...</td><td>2021-08-20</td></tr>\n",
       "<tr><td>18479</td><td>67609108741</td><td>86.4040605836911</td><td>d0e180f0-cb06-42a...</td><td>2021-08-20</td></tr>\n",
       "<tr><td>3</td><td>34096466752</td><td>301.5793450525113</td><td>6fb1ff48-24bb-4f9...</td><td>2021-08-20</td></tr>\n",
       "<tr><td>18482</td><td>70501974849</td><td>68.75486276223054</td><td>8505fb33-b69a-412...</td><td>2021-08-20</td></tr>\n",
       "<tr><td>4</td><td>49891706470</td><td>48.89796461900801</td><td>ed11e477-b09f-4ae...</td><td>2021-08-20</td></tr>\n",
       "<tr><td>18482</td><td>46804135891</td><td>6.6168976971833615</td><td>05b5edb5-b925-414...</td><td>2021-08-20</td></tr>\n",
       "<tr><td>7</td><td>33064796871</td><td>373.0873675184212</td><td>fe188788-b89f-4dd...</td><td>2021-08-20</td></tr>\n",
       "<tr><td>18483</td><td>44160392990</td><td>83.98473054761176</td><td>7c44302d-98b3-48b...</td><td>2021-08-20</td></tr>\n",
       "<tr><td>7</td><td>68435002949</td><td>232.5364986739752</td><td>b4a89891-a113-45e...</td><td>2021-08-20</td></tr>\n",
       "<tr><td>18484</td><td>70033549200</td><td>871.7678061729196</td><td>4b1d941a-21a1-43e...</td><td>2021-08-20</td></tr>\n",
       "<tr><td>7</td><td>41944909975</td><td>30.910755230234322</td><td>302ae628-8eba-4a5...</td><td>2021-08-20</td></tr>\n",
       "<tr><td>18485</td><td>41705715409</td><td>309.5417224575787</td><td>67f4f98e-3149-4e8...</td><td>2021-08-20</td></tr>\n",
       "<tr><td>8</td><td>29566626791</td><td>74.15732460440282</td><td>71a81652-cc91-4bf...</td><td>2021-08-20</td></tr>\n",
       "<tr><td>18487</td><td>32361057556</td><td>119.19055863068847</td><td>15577921-1104-470...</td><td>2021-08-20</td></tr>\n",
       "<tr><td>9</td><td>47663262928</td><td>36.69873283148887</td><td>c4fcb49a-ce87-4e1...</td><td>2021-08-20</td></tr>\n",
       "</table>\n"
      ],
      "text/plain": [
       "+-------+------------+------------------+--------------------+--------------+\n",
       "|user_id|merchant_abn|      dollar_value|            order_id|order_datetime|\n",
       "+-------+------------+------------------+--------------------+--------------+\n",
       "|  18478| 62191208634|63.255848959735246|949a63c8-29f7-4ab...|    2021-08-20|\n",
       "|      2| 15549624934| 130.3505283105634|6a84c3cf-612a-457...|    2021-08-20|\n",
       "|  18479| 64403598239|120.15860593212783|b10dcc33-e53f-425...|    2021-08-20|\n",
       "|      3| 60956456424| 136.6785200286976|0f09c5a5-784e-447...|    2021-08-20|\n",
       "|  18479| 94493496784| 72.96316578355305|f6c78c1a-4600-4c5...|    2021-08-20|\n",
       "|      3| 76819856970|  448.529684285612|5ace6a24-cdf0-4aa...|    2021-08-20|\n",
       "|  18479| 67609108741|  86.4040605836911|d0e180f0-cb06-42a...|    2021-08-20|\n",
       "|      3| 34096466752| 301.5793450525113|6fb1ff48-24bb-4f9...|    2021-08-20|\n",
       "|  18482| 70501974849| 68.75486276223054|8505fb33-b69a-412...|    2021-08-20|\n",
       "|      4| 49891706470| 48.89796461900801|ed11e477-b09f-4ae...|    2021-08-20|\n",
       "|  18482| 46804135891|6.6168976971833615|05b5edb5-b925-414...|    2021-08-20|\n",
       "|      7| 33064796871| 373.0873675184212|fe188788-b89f-4dd...|    2021-08-20|\n",
       "|  18483| 44160392990| 83.98473054761176|7c44302d-98b3-48b...|    2021-08-20|\n",
       "|      7| 68435002949| 232.5364986739752|b4a89891-a113-45e...|    2021-08-20|\n",
       "|  18484| 70033549200| 871.7678061729196|4b1d941a-21a1-43e...|    2021-08-20|\n",
       "|      7| 41944909975|30.910755230234322|302ae628-8eba-4a5...|    2021-08-20|\n",
       "|  18485| 41705715409| 309.5417224575787|67f4f98e-3149-4e8...|    2021-08-20|\n",
       "|      8| 29566626791| 74.15732460440282|71a81652-cc91-4bf...|    2021-08-20|\n",
       "|  18487| 32361057556|119.19055863068847|15577921-1104-470...|    2021-08-20|\n",
       "|      9| 47663262928| 36.69873283148887|c4fcb49a-ce87-4e1...|    2021-08-20|\n",
       "+-------+------------+------------------+--------------------+--------------+"
      ]
     },
     "execution_count": 47,
     "metadata": {},
     "output_type": "execute_result"
    }
   ],
   "source": [
    "transactions_df = tables_2_df.union(tables_3_df).union(tables_4_df)\n",
    "print(f'Number of entires = {transactions_df.count()}')\n",
    "transactions_df.limit(20)"
   ]
  },
  {
   "cell_type": "code",
   "execution_count": 16,
   "metadata": {},
   "outputs": [
    {
     "name": "stdout",
     "output_type": "stream",
     "text": [
      "root\n",
      " |-- user_id: long (nullable = true)\n",
      " |-- merchant_abn: long (nullable = true)\n",
      " |-- dollar_value: double (nullable = true)\n",
      " |-- order_id: string (nullable = true)\n",
      " |-- order_datetime: date (nullable = true)\n",
      "\n"
     ]
    }
   ],
   "source": [
    "transactions_df.printSchema()"
   ]
  },
  {
   "cell_type": "markdown",
   "metadata": {},
   "source": [
    "### 1.7 - Joining Datasets"
   ]
  },
  {
   "cell_type": "code",
   "execution_count": 23,
   "metadata": {},
   "outputs": [
    {
     "name": "stderr",
     "output_type": "stream",
     "text": [
      "                                                                                \r"
     ]
    },
    {
     "name": "stdout",
     "output_type": "stream",
     "text": [
      "Number of entires = 271038\n"
     ]
    },
    {
     "name": "stderr",
     "output_type": "stream",
     "text": [
      "                                                                                \r"
     ]
    },
    {
     "data": {
      "text/html": [
       "<table border='1'>\n",
       "<tr><th>user_id</th><th>merchant_abn</th><th>dollar_value</th><th>order_id</th><th>order_datetime</th><th>merchant_name</th><th>tags</th><th>merchant_fraud_order_datetime</th><th>merchant_fraud_probability</th><th>consumer_fraud_order_datetime</th><th>consumer_fraud_probability</th><th>consumer_id</th><th>name</th><th>address</th><th>state</th><th>postcode</th><th>gender</th></tr>\n",
       "<tr><td>1</td><td>90568944804</td><td>811.416129781905</td><td>a43c190e-2cce-431...</td><td>2022-02-24</td><td>Diam Eu Dolor LLC</td><td>[(tent and awNing...</td><td>2021-11-29</td><td>33.172494688960434</td><td>2022-02-20</td><td>9.805431136520959</td><td>1195503</td><td>Yolanda Williams</td><td>413 Haney Gardens...</td><td>WA</td><td>6935</td><td>Female</td></tr>\n",
       "<tr><td>1</td><td>94493496784</td><td>99.74630947804766</td><td>bd6a0f3b-3eb7-494...</td><td>2022-05-09</td><td>Dictum Phasellus ...</td><td>[(gift, card, nov...</td><td>2021-11-26</td><td>30.57903215900633</td><td>2022-02-20</td><td>9.805431136520959</td><td>1195503</td><td>Yolanda Williams</td><td>413 Haney Gardens...</td><td>WA</td><td>6935</td><td>Female</td></tr>\n",
       "<tr><td>1</td><td>21439773999</td><td>16.037987400475743</td><td>2bd9d9c7-8628-45e...</td><td>2022-07-12</td><td>Mauris Non Institute</td><td>([cable, satellit...</td><td>2021-11-26</td><td>28.504479048104585</td><td>2022-02-20</td><td>9.805431136520959</td><td>1195503</td><td>Yolanda Williams</td><td>413 Haney Gardens...</td><td>WA</td><td>6935</td><td>Female</td></tr>\n",
       "<tr><td>1</td><td>94493496784</td><td>173.32599490591667</td><td>1d0805b4-d4ca-451...</td><td>2022-10-15</td><td>Dictum Phasellus ...</td><td>[(gift, card, nov...</td><td>2021-11-26</td><td>30.57903215900633</td><td>2022-02-20</td><td>9.805431136520959</td><td>1195503</td><td>Yolanda Williams</td><td>413 Haney Gardens...</td><td>WA</td><td>6935</td><td>Female</td></tr>\n",
       "<tr><td>3</td><td>27093785141</td><td>162.0698770696245</td><td>8db1d586-8111-4b5...</td><td>2022-05-21</td><td>Placerat Orci Ins...</td><td>[[stationery, off...</td><td>2021-11-29</td><td>29.520113582407653</td><td>2021-11-03</td><td>8.300636455314633</td><td>1194530</td><td>Jill Jones MD</td><td>40693 Henry Greens</td><td>NT</td><td>862</td><td>Female</td></tr>\n",
       "</table>\n"
      ],
      "text/plain": [
       "+-------+------------+------------------+--------------------+--------------+--------------------+--------------------+-----------------------------+--------------------------+-----------------------------+--------------------------+-----------+----------------+--------------------+-----+--------+------+\n",
       "|user_id|merchant_abn|      dollar_value|            order_id|order_datetime|       merchant_name|                tags|merchant_fraud_order_datetime|merchant_fraud_probability|consumer_fraud_order_datetime|consumer_fraud_probability|consumer_id|            name|             address|state|postcode|gender|\n",
       "+-------+------------+------------------+--------------------+--------------+--------------------+--------------------+-----------------------------+--------------------------+-----------------------------+--------------------------+-----------+----------------+--------------------+-----+--------+------+\n",
       "|      1| 90568944804|  811.416129781905|a43c190e-2cce-431...|    2022-02-24|   Diam Eu Dolor LLC|[(tent and awNing...|                   2021-11-29|        33.172494688960434|                   2022-02-20|         9.805431136520959|    1195503|Yolanda Williams|413 Haney Gardens...|   WA|    6935|Female|\n",
       "|      1| 94493496784| 99.74630947804766|bd6a0f3b-3eb7-494...|    2022-05-09|Dictum Phasellus ...|[(gift, card, nov...|                   2021-11-26|         30.57903215900633|                   2022-02-20|         9.805431136520959|    1195503|Yolanda Williams|413 Haney Gardens...|   WA|    6935|Female|\n",
       "|      1| 21439773999|16.037987400475743|2bd9d9c7-8628-45e...|    2022-07-12|Mauris Non Institute|([cable, satellit...|                   2021-11-26|        28.504479048104585|                   2022-02-20|         9.805431136520959|    1195503|Yolanda Williams|413 Haney Gardens...|   WA|    6935|Female|\n",
       "|      1| 94493496784|173.32599490591667|1d0805b4-d4ca-451...|    2022-10-15|Dictum Phasellus ...|[(gift, card, nov...|                   2021-11-26|         30.57903215900633|                   2022-02-20|         9.805431136520959|    1195503|Yolanda Williams|413 Haney Gardens...|   WA|    6935|Female|\n",
       "|      3| 27093785141| 162.0698770696245|8db1d586-8111-4b5...|    2022-05-21|Placerat Orci Ins...|[[stationery, off...|                   2021-11-29|        29.520113582407653|                   2021-11-03|         8.300636455314633|    1194530|   Jill Jones MD|  40693 Henry Greens|   NT|     862|Female|\n",
       "+-------+------------+------------------+--------------------+--------------+--------------------+--------------------+-----------------------------+--------------------------+-----------------------------+--------------------------+-----------+----------------+--------------------+-----+--------+------+"
      ]
     },
     "execution_count": 23,
     "metadata": {},
     "output_type": "execute_result"
    }
   ],
   "source": [
    "from pyspark.sql import functions as F\n",
    "from pyspark.sql.window import Window\n",
    "\n",
    "# Join tbl_merchant based on ABN\n",
    "transactions_df = transactions_df.join(F.broadcast(tbl_merchants_df),\n",
    "                                       transactions_df.merchant_abn == tbl_merchants_df.merchant_abn).drop(tbl_merchants_df.merchant_abn)\n",
    "\n",
    "# Join fraud probability based on ABN and date time to ensure correct fraud probability\n",
    "joined_df = transactions_df.join(F.broadcast(\n",
    "    merchant_fraud_probability_df),\n",
    "    (transactions_df['merchant_abn'] == merchant_fraud_probability_df['merchant_abn']) &\n",
    "    (transactions_df['order_datetime'] >= merchant_fraud_probability_df['merchant_fraud_order_datetime']),\n",
    "    how='inner'\n",
    ").drop(merchant_fraud_probability_df.merchant_abn)\n",
    "\n",
    "# Use Window function to rank based on merchant_date, keeping the most recent one per order\n",
    "window_spec = Window.partitionBy(\"user_id\", \"order_datetime\", \"merchant_abn\").orderBy(F.col(\"merchant_fraud_order_datetime\").desc())\n",
    "\n",
    "ranked_df = joined_df.withColumn(\"rank\", F.row_number().over(window_spec))\n",
    "\n",
    "# Filter to keep only the most recent valid merchant_date\n",
    "transactions_df = ranked_df.filter(F.col(\"rank\") == 1).drop(\"rank\")\n",
    "\n",
    "# Join fraud probability based on user id and datetime\n",
    "joined_df = transactions_df.join(F.broadcast(\n",
    "    consumer_fraud_probability_df),\n",
    "    (transactions_df['user_id'] == consumer_fraud_probability_df['user_id']) &\n",
    "    (transactions_df['order_datetime'] >= consumer_fraud_probability_df['consumer_fraud_order_datetime']),\n",
    "    how='inner'\n",
    ").drop(consumer_fraud_probability_df.user_id)\n",
    "\n",
    "# Use Window function to rank based on merchant_date, keeping the most recent one per order\n",
    "window_spec = Window.partitionBy(\"user_id\", \"order_datetime\").orderBy(F.col(\"consumer_fraud_order_datetime\").desc())\n",
    "\n",
    "ranked_df = joined_df.withColumn(\"rank\", F.row_number().over(window_spec))\n",
    "\n",
    "# Filter to keep only the most recent valid merchant_date\n",
    "transactions_df = ranked_df.filter(F.col(\"rank\") == 1).drop(\"rank\")\n",
    "\n",
    "# Join Consumer Details based on user id\n",
    "transactions_df = transactions_df.join(F.broadcast(consumer_user_details_df),\n",
    "                                       transactions_df.user_id == consumer_user_details_df.user_id).drop(consumer_user_details_df.user_id)\n",
    "\n",
    "# Join Consumer Details based on user id\n",
    "transactions_df = transactions_df.join(F.broadcast(tbl_consumer_df),\n",
    "                                       transactions_df.consumer_id == tbl_consumer_df.consumer_id).drop(tbl_consumer_df.consumer_id)\n",
    "\n",
    "print(f'Number of entires = {transactions_df.count()}')\n",
    "transactions_df.limit(5)"
   ]
  },
  {
   "cell_type": "markdown",
   "metadata": {},
   "source": [
    "### 1.7 - (RETRY) Joining Datasets"
   ]
  },
  {
   "cell_type": "code",
   "execution_count": 42,
   "metadata": {},
   "outputs": [],
   "source": [
    "from pyspark.sql import functions as F\n",
    "from pyspark.sql.window import Window"
   ]
  },
  {
   "cell_type": "markdown",
   "metadata": {},
   "source": [
    "```\n",
    "DATASET JOINING:\n",
    "Define datasets as:\n",
    "    1. consumer_fraud_probability_df\n",
    "       [user_id, consumer_fraud_order_datetime, consumer_fraud_probability]\n",
    "    2. consumer_user_details_df\n",
    "       [user_id, consumer_id]\n",
    "    3. merchant_fraud_probability_df\n",
    "       [merchant_abn, merchant_fraud_order_datetime, merchant_fraud_probability]\n",
    "    4. tbl_consumer_df\n",
    "       [name, address, state, postcode, gender, consumer_id]\n",
    "    5. tbl_merchant\n",
    "       [merchant_name, tags, merchant_abn]\n",
    "    6. transactions_df\n",
    "       [user_id, merchant_abn, dollar_value, order_id, order_datetime]\n",
    "\n",
    "Joining steps:\n",
    "2 + 4 ON consumer_id -> [A]\n",
    "6 + 5 ON merchant_abn -> [B]\n",
    "[A] + [B] ON user_id -> [C]\n",
    "\n",
    "For fraud dfs:\n",
    "IF: consumer OR merchant has fraud on same day, tag on dataset 1 or 2\n",
    "ELSE: leave fields merchant_fraud_datetime, merchant_fraud_probability, consumer… as NULL\n",
    "\n",
    "NOTES:\n",
    "Customers' and Merchants' (although doesn't appear to occur for merchants) fraud orders, will only be counted for orders on the same day.\n",
    "Therefore, customers and merchants may only be 'flagged' as fraud ONCE from the merged transactions.\n",
    "(Good or bad depending on how we decide our metric)\n",
    "```"
   ]
  },
  {
   "cell_type": "markdown",
   "metadata": {},
   "source": [
    "#### 1.7.1 - Consumer User Details + TBL Consumer"
   ]
  },
  {
   "cell_type": "code",
   "execution_count": 44,
   "metadata": {},
   "outputs": [
    {
     "name": "stderr",
     "output_type": "stream",
     "text": [
      "                                                                                \r"
     ]
    },
    {
     "name": "stdout",
     "output_type": "stream",
     "text": [
      "Number of entires = 499999\n"
     ]
    },
    {
     "name": "stderr",
     "output_type": "stream",
     "text": [
      "                                                                                \r"
     ]
    },
    {
     "data": {
      "text/html": [
       "<table border='1'>\n",
       "<tr><th>user_id</th><th>consumer_id</th><th>name</th><th>address</th><th>state</th><th>postcode</th><th>gender</th></tr>\n",
       "<tr><td>1</td><td>1195503</td><td>Yolanda Williams</td><td>413 Haney Gardens...</td><td>WA</td><td>6935</td><td>Female</td></tr>\n",
       "<tr><td>2</td><td>179208</td><td>Mary Smith</td><td>3764 Amber Oval</td><td>NSW</td><td>2782</td><td>Female</td></tr>\n",
       "<tr><td>3</td><td>1194530</td><td>Jill Jones MD</td><td>40693 Henry Greens</td><td>NT</td><td>862</td><td>Female</td></tr>\n",
       "<tr><td>4</td><td>154128</td><td>Lindsay Jimenez</td><td>00653 Davenport C...</td><td>NSW</td><td>2780</td><td>Female</td></tr>\n",
       "<tr><td>5</td><td>712975</td><td>Rebecca Blanchard</td><td>9271 Michael Mano...</td><td>WA</td><td>6355</td><td>Female</td></tr>\n",
       "</table>\n"
      ],
      "text/plain": [
       "+-------+-----------+-----------------+--------------------+-----+--------+------+\n",
       "|user_id|consumer_id|             name|             address|state|postcode|gender|\n",
       "+-------+-----------+-----------------+--------------------+-----+--------+------+\n",
       "|      1|    1195503| Yolanda Williams|413 Haney Gardens...|   WA|    6935|Female|\n",
       "|      2|     179208|       Mary Smith|     3764 Amber Oval|  NSW|    2782|Female|\n",
       "|      3|    1194530|    Jill Jones MD|  40693 Henry Greens|   NT|     862|Female|\n",
       "|      4|     154128|  Lindsay Jimenez|00653 Davenport C...|  NSW|    2780|Female|\n",
       "|      5|     712975|Rebecca Blanchard|9271 Michael Mano...|   WA|    6355|Female|\n",
       "+-------+-----------+-----------------+--------------------+-----+--------+------+"
      ]
     },
     "execution_count": 44,
     "metadata": {},
     "output_type": "execute_result"
    }
   ],
   "source": [
    "# merge consumer_user_details and tbl_consumer ON consumer_id\n",
    "merge_df_A = consumer_user_details_df.join(F.broadcast(tbl_consumer_df),\n",
    "                                           consumer_user_details_df.consumer_id == tbl_consumer_df.consumer_id,\n",
    "                                           how = 'inner'\n",
    "                                           ).drop(tbl_consumer_df.consumer_id)\n",
    "\n",
    "print(f'Number of entires = {merge_df_A.count()}')\n",
    "merge_df_A.limit(5)"
   ]
  },
  {
   "cell_type": "markdown",
   "metadata": {},
   "source": [
    "#### 1.7.2 - Transactions + TBL Merchants"
   ]
  },
  {
   "cell_type": "markdown",
   "metadata": {},
   "source": [
    "MAY need to consider LEFT JOIN for orders unassociated with a merchant_abn we know."
   ]
  },
  {
   "cell_type": "code",
   "execution_count": 48,
   "metadata": {},
   "outputs": [
    {
     "name": "stderr",
     "output_type": "stream",
     "text": [
      "                                                                                \r"
     ]
    },
    {
     "name": "stdout",
     "output_type": "stream",
     "text": [
      "Number of entires = 13614675\n"
     ]
    },
    {
     "data": {
      "text/html": [
       "<table border='1'>\n",
       "<tr><th>user_id</th><th>merchant_abn</th><th>dollar_value</th><th>order_id</th><th>order_datetime</th><th>merchant_name</th><th>tags</th></tr>\n",
       "<tr><td>18478</td><td>62191208634</td><td>63.255848959735246</td><td>949a63c8-29f7-4ab...</td><td>2021-08-20</td><td>Cursus Non Egesta...</td><td>[(furniture, home...</td></tr>\n",
       "<tr><td>2</td><td>15549624934</td><td>130.3505283105634</td><td>6a84c3cf-612a-457...</td><td>2021-08-20</td><td>Commodo Associates</td><td>[(opticians, optI...</td></tr>\n",
       "<tr><td>18479</td><td>64403598239</td><td>120.15860593212783</td><td>b10dcc33-e53f-425...</td><td>2021-08-20</td><td>Lobortis Ultrices...</td><td>((music shops - m...</td></tr>\n",
       "<tr><td>3</td><td>60956456424</td><td>136.6785200286976</td><td>0f09c5a5-784e-447...</td><td>2021-08-20</td><td>Ultricies Digniss...</td><td>([gift, card, Nov...</td></tr>\n",
       "<tr><td>18479</td><td>94493496784</td><td>72.96316578355305</td><td>f6c78c1a-4600-4c5...</td><td>2021-08-20</td><td>Dictum Phasellus ...</td><td>[(gift, card, nov...</td></tr>\n",
       "</table>\n"
      ],
      "text/plain": [
       "+-------+------------+------------------+--------------------+--------------+--------------------+--------------------+\n",
       "|user_id|merchant_abn|      dollar_value|            order_id|order_datetime|       merchant_name|                tags|\n",
       "+-------+------------+------------------+--------------------+--------------+--------------------+--------------------+\n",
       "|  18478| 62191208634|63.255848959735246|949a63c8-29f7-4ab...|    2021-08-20|Cursus Non Egesta...|[(furniture, home...|\n",
       "|      2| 15549624934| 130.3505283105634|6a84c3cf-612a-457...|    2021-08-20|  Commodo Associates|[(opticians, optI...|\n",
       "|  18479| 64403598239|120.15860593212783|b10dcc33-e53f-425...|    2021-08-20|Lobortis Ultrices...|((music shops - m...|\n",
       "|      3| 60956456424| 136.6785200286976|0f09c5a5-784e-447...|    2021-08-20|Ultricies Digniss...|([gift, card, Nov...|\n",
       "|  18479| 94493496784| 72.96316578355305|f6c78c1a-4600-4c5...|    2021-08-20|Dictum Phasellus ...|[(gift, card, nov...|\n",
       "+-------+------------+------------------+--------------------+--------------+--------------------+--------------------+"
      ]
     },
     "execution_count": 48,
     "metadata": {},
     "output_type": "execute_result"
    }
   ],
   "source": [
    "# merge transactions and tbl_merchants ON merchant_abn\n",
    "merge_df_B = transactions_df.join(F.broadcast(tbl_merchants_df),\n",
    "                                  transactions_df.merchant_abn == tbl_merchants_df.merchant_abn,\n",
    "                                  how = 'inner'\n",
    "                                  ).drop(tbl_merchants_df.merchant_abn)\n",
    "\n",
    "print(f'Number of entires = {merge_df_B.count()}')\n",
    "merge_df_B.limit(5)"
   ]
  },
  {
   "cell_type": "markdown",
   "metadata": {},
   "source": [
    "#### 1.7.3 - mergeA + mergeB"
   ]
  },
  {
   "cell_type": "code",
   "execution_count": 50,
   "metadata": {},
   "outputs": [
    {
     "name": "stderr",
     "output_type": "stream",
     "text": [
      "                                                                                \r"
     ]
    },
    {
     "name": "stdout",
     "output_type": "stream",
     "text": [
      "Number of entires = 13614675\n"
     ]
    },
    {
     "name": "stderr",
     "output_type": "stream",
     "text": [
      "                                                                                \r"
     ]
    },
    {
     "data": {
      "text/html": [
       "<table border='1'>\n",
       "<tr><th>user_id</th><th>merchant_abn</th><th>dollar_value</th><th>order_id</th><th>order_datetime</th><th>merchant_name</th><th>tags</th><th>consumer_id</th><th>name</th><th>address</th><th>state</th><th>postcode</th><th>gender</th></tr>\n",
       "<tr><td>18478</td><td>62191208634</td><td>63.255848959735246</td><td>949a63c8-29f7-4ab...</td><td>2021-08-20</td><td>Cursus Non Egesta...</td><td>[(furniture, home...</td><td>651338</td><td>James Smith</td><td>27393 Wiley Lane ...</td><td>TAS</td><td>7001</td><td>Male</td></tr>\n",
       "<tr><td>2</td><td>15549624934</td><td>130.3505283105634</td><td>6a84c3cf-612a-457...</td><td>2021-08-20</td><td>Commodo Associates</td><td>[(opticians, optI...</td><td>179208</td><td>Mary Smith</td><td>3764 Amber Oval</td><td>NSW</td><td>2782</td><td>Female</td></tr>\n",
       "<tr><td>18479</td><td>64403598239</td><td>120.15860593212783</td><td>b10dcc33-e53f-425...</td><td>2021-08-20</td><td>Lobortis Ultrices...</td><td>((music shops - m...</td><td>467663</td><td>Sandra Schultz</td><td>86171 Coleman Sta...</td><td>TAS</td><td>7010</td><td>Female</td></tr>\n",
       "<tr><td>3</td><td>60956456424</td><td>136.6785200286976</td><td>0f09c5a5-784e-447...</td><td>2021-08-20</td><td>Ultricies Digniss...</td><td>([gift, card, Nov...</td><td>1194530</td><td>Jill Jones MD</td><td>40693 Henry Greens</td><td>NT</td><td>862</td><td>Female</td></tr>\n",
       "<tr><td>18479</td><td>94493496784</td><td>72.96316578355305</td><td>f6c78c1a-4600-4c5...</td><td>2021-08-20</td><td>Dictum Phasellus ...</td><td>[(gift, card, nov...</td><td>467663</td><td>Sandra Schultz</td><td>86171 Coleman Sta...</td><td>TAS</td><td>7010</td><td>Female</td></tr>\n",
       "</table>\n"
      ],
      "text/plain": [
       "+-------+------------+------------------+--------------------+--------------+--------------------+--------------------+-----------+--------------+--------------------+-----+--------+------+\n",
       "|user_id|merchant_abn|      dollar_value|            order_id|order_datetime|       merchant_name|                tags|consumer_id|          name|             address|state|postcode|gender|\n",
       "+-------+------------+------------------+--------------------+--------------+--------------------+--------------------+-----------+--------------+--------------------+-----+--------+------+\n",
       "|  18478| 62191208634|63.255848959735246|949a63c8-29f7-4ab...|    2021-08-20|Cursus Non Egesta...|[(furniture, home...|     651338|   James Smith|27393 Wiley Lane ...|  TAS|    7001|  Male|\n",
       "|      2| 15549624934| 130.3505283105634|6a84c3cf-612a-457...|    2021-08-20|  Commodo Associates|[(opticians, optI...|     179208|    Mary Smith|     3764 Amber Oval|  NSW|    2782|Female|\n",
       "|  18479| 64403598239|120.15860593212783|b10dcc33-e53f-425...|    2021-08-20|Lobortis Ultrices...|((music shops - m...|     467663|Sandra Schultz|86171 Coleman Sta...|  TAS|    7010|Female|\n",
       "|      3| 60956456424| 136.6785200286976|0f09c5a5-784e-447...|    2021-08-20|Ultricies Digniss...|([gift, card, Nov...|    1194530| Jill Jones MD|  40693 Henry Greens|   NT|     862|Female|\n",
       "|  18479| 94493496784| 72.96316578355305|f6c78c1a-4600-4c5...|    2021-08-20|Dictum Phasellus ...|[(gift, card, nov...|     467663|Sandra Schultz|86171 Coleman Sta...|  TAS|    7010|Female|\n",
       "+-------+------------+------------------+--------------------+--------------+--------------------+--------------------+-----------+--------------+--------------------+-----+--------+------+"
      ]
     },
     "execution_count": 50,
     "metadata": {},
     "output_type": "execute_result"
    }
   ],
   "source": [
    "# merge mergeA and mergeB ON user_id\n",
    "merge_df_C = merge_df_B.join(F.broadcast(merge_df_A),\n",
    "                             merge_df_B.user_id == merge_df_A.user_id,\n",
    "                             how = 'inner'\n",
    "                             ).drop(merge_df_A.user_id)\n",
    "\n",
    "print(f'Number of entires = {merge_df_C.count()}')\n",
    "merge_df_C.limit(5)"
   ]
  },
  {
   "cell_type": "markdown",
   "metadata": {},
   "source": [
    "#### 1.7.4 - mergeC + Fraud"
   ]
  },
  {
   "cell_type": "markdown",
   "metadata": {},
   "source": [
    "Includes frauds on the same day -> larger number of entries than mergeC."
   ]
  },
  {
   "cell_type": "code",
   "execution_count": 55,
   "metadata": {},
   "outputs": [
    {
     "name": "stderr",
     "output_type": "stream",
     "text": [
      "                                                                                \r"
     ]
    },
    {
     "name": "stdout",
     "output_type": "stream",
     "text": [
      "Number of entires = 13614854\n"
     ]
    },
    {
     "name": "stderr",
     "output_type": "stream",
     "text": [
      "                                                                                \r"
     ]
    },
    {
     "data": {
      "text/html": [
       "<table border='1'>\n",
       "<tr><th>user_id</th><th>merchant_abn</th><th>dollar_value</th><th>order_id</th><th>order_datetime</th><th>merchant_name</th><th>tags</th><th>consumer_id</th><th>name</th><th>address</th><th>state</th><th>postcode</th><th>gender</th><th>consumer_fraud_order_datetime</th><th>consumer_fraud_probability</th></tr>\n",
       "<tr><td>18478</td><td>62191208634</td><td>63.255848959735246</td><td>949a63c8-29f7-4ab...</td><td>2021-08-20</td><td>Cursus Non Egesta...</td><td>[(furniture, home...</td><td>651338</td><td>James Smith</td><td>27393 Wiley Lane ...</td><td>TAS</td><td>7001</td><td>Male</td><td>NULL</td><td>NULL</td></tr>\n",
       "<tr><td>2</td><td>15549624934</td><td>130.3505283105634</td><td>6a84c3cf-612a-457...</td><td>2021-08-20</td><td>Commodo Associates</td><td>[(opticians, optI...</td><td>179208</td><td>Mary Smith</td><td>3764 Amber Oval</td><td>NSW</td><td>2782</td><td>Female</td><td>NULL</td><td>NULL</td></tr>\n",
       "<tr><td>18479</td><td>64403598239</td><td>120.15860593212783</td><td>b10dcc33-e53f-425...</td><td>2021-08-20</td><td>Lobortis Ultrices...</td><td>((music shops - m...</td><td>467663</td><td>Sandra Schultz</td><td>86171 Coleman Sta...</td><td>TAS</td><td>7010</td><td>Female</td><td>NULL</td><td>NULL</td></tr>\n",
       "<tr><td>3</td><td>60956456424</td><td>136.6785200286976</td><td>0f09c5a5-784e-447...</td><td>2021-08-20</td><td>Ultricies Digniss...</td><td>([gift, card, Nov...</td><td>1194530</td><td>Jill Jones MD</td><td>40693 Henry Greens</td><td>NT</td><td>862</td><td>Female</td><td>NULL</td><td>NULL</td></tr>\n",
       "<tr><td>18479</td><td>94493496784</td><td>72.96316578355305</td><td>f6c78c1a-4600-4c5...</td><td>2021-08-20</td><td>Dictum Phasellus ...</td><td>[(gift, card, nov...</td><td>467663</td><td>Sandra Schultz</td><td>86171 Coleman Sta...</td><td>TAS</td><td>7010</td><td>Female</td><td>NULL</td><td>NULL</td></tr>\n",
       "</table>\n"
      ],
      "text/plain": [
       "+-------+------------+------------------+--------------------+--------------+--------------------+--------------------+-----------+--------------+--------------------+-----+--------+------+-----------------------------+--------------------------+\n",
       "|user_id|merchant_abn|      dollar_value|            order_id|order_datetime|       merchant_name|                tags|consumer_id|          name|             address|state|postcode|gender|consumer_fraud_order_datetime|consumer_fraud_probability|\n",
       "+-------+------------+------------------+--------------------+--------------+--------------------+--------------------+-----------+--------------+--------------------+-----+--------+------+-----------------------------+--------------------------+\n",
       "|  18478| 62191208634|63.255848959735246|949a63c8-29f7-4ab...|    2021-08-20|Cursus Non Egesta...|[(furniture, home...|     651338|   James Smith|27393 Wiley Lane ...|  TAS|    7001|  Male|                         NULL|                      NULL|\n",
       "|      2| 15549624934| 130.3505283105634|6a84c3cf-612a-457...|    2021-08-20|  Commodo Associates|[(opticians, optI...|     179208|    Mary Smith|     3764 Amber Oval|  NSW|    2782|Female|                         NULL|                      NULL|\n",
       "|  18479| 64403598239|120.15860593212783|b10dcc33-e53f-425...|    2021-08-20|Lobortis Ultrices...|((music shops - m...|     467663|Sandra Schultz|86171 Coleman Sta...|  TAS|    7010|Female|                         NULL|                      NULL|\n",
       "|      3| 60956456424| 136.6785200286976|0f09c5a5-784e-447...|    2021-08-20|Ultricies Digniss...|([gift, card, Nov...|    1194530| Jill Jones MD|  40693 Henry Greens|   NT|     862|Female|                         NULL|                      NULL|\n",
       "|  18479| 94493496784| 72.96316578355305|f6c78c1a-4600-4c5...|    2021-08-20|Dictum Phasellus ...|[(gift, card, nov...|     467663|Sandra Schultz|86171 Coleman Sta...|  TAS|    7010|Female|                         NULL|                      NULL|\n",
       "+-------+------------+------------------+--------------------+--------------+--------------------+--------------------+-----------+--------------+--------------------+-----+--------+------+-----------------------------+--------------------------+"
      ]
     },
     "execution_count": 55,
     "metadata": {},
     "output_type": "execute_result"
    }
   ],
   "source": [
    "# merge mergeC and consumer_fraud ON user_id and datetime\n",
    "merge_df_D = merge_df_C.join(F.broadcast(consumer_fraud_probability_df),\n",
    "                             (merge_df_C.user_id == consumer_fraud_probability_df.user_id) &\n",
    "                             (merge_df_C.order_datetime == consumer_fraud_probability_df.consumer_fraud_order_datetime),\n",
    "                             how = 'left'\n",
    "                             ).drop(consumer_fraud_probability_df.user_id)\n",
    "\n",
    "print(f'Number of entires = {merge_df_D.count()}')\n",
    "merge_df_D.limit(5)"
   ]
  },
  {
   "cell_type": "code",
   "execution_count": 56,
   "metadata": {},
   "outputs": [
    {
     "name": "stderr",
     "output_type": "stream",
     "text": [
      "                                                                                \r"
     ]
    },
    {
     "name": "stdout",
     "output_type": "stream",
     "text": [
      "Number of entires = 13614854\n"
     ]
    },
    {
     "name": "stderr",
     "output_type": "stream",
     "text": [
      "                                                                                \r"
     ]
    },
    {
     "data": {
      "text/html": [
       "<table border='1'>\n",
       "<tr><th>user_id</th><th>merchant_abn</th><th>dollar_value</th><th>order_id</th><th>order_datetime</th><th>merchant_name</th><th>tags</th><th>consumer_id</th><th>name</th><th>address</th><th>state</th><th>postcode</th><th>gender</th><th>consumer_fraud_order_datetime</th><th>consumer_fraud_probability</th><th>merchant_fraud_order_datetime</th><th>merchant_fraud_probability</th></tr>\n",
       "<tr><td>18478</td><td>62191208634</td><td>63.255848959735246</td><td>949a63c8-29f7-4ab...</td><td>2021-08-20</td><td>Cursus Non Egesta...</td><td>[(furniture, home...</td><td>651338</td><td>James Smith</td><td>27393 Wiley Lane ...</td><td>TAS</td><td>7001</td><td>Male</td><td>NULL</td><td>NULL</td><td>NULL</td><td>NULL</td></tr>\n",
       "<tr><td>2</td><td>15549624934</td><td>130.3505283105634</td><td>6a84c3cf-612a-457...</td><td>2021-08-20</td><td>Commodo Associates</td><td>[(opticians, optI...</td><td>179208</td><td>Mary Smith</td><td>3764 Amber Oval</td><td>NSW</td><td>2782</td><td>Female</td><td>NULL</td><td>NULL</td><td>NULL</td><td>NULL</td></tr>\n",
       "<tr><td>18479</td><td>64403598239</td><td>120.15860593212783</td><td>b10dcc33-e53f-425...</td><td>2021-08-20</td><td>Lobortis Ultrices...</td><td>((music shops - m...</td><td>467663</td><td>Sandra Schultz</td><td>86171 Coleman Sta...</td><td>TAS</td><td>7010</td><td>Female</td><td>NULL</td><td>NULL</td><td>NULL</td><td>NULL</td></tr>\n",
       "<tr><td>3</td><td>60956456424</td><td>136.6785200286976</td><td>0f09c5a5-784e-447...</td><td>2021-08-20</td><td>Ultricies Digniss...</td><td>([gift, card, Nov...</td><td>1194530</td><td>Jill Jones MD</td><td>40693 Henry Greens</td><td>NT</td><td>862</td><td>Female</td><td>NULL</td><td>NULL</td><td>NULL</td><td>NULL</td></tr>\n",
       "<tr><td>18479</td><td>94493496784</td><td>72.96316578355305</td><td>f6c78c1a-4600-4c5...</td><td>2021-08-20</td><td>Dictum Phasellus ...</td><td>[(gift, card, nov...</td><td>467663</td><td>Sandra Schultz</td><td>86171 Coleman Sta...</td><td>TAS</td><td>7010</td><td>Female</td><td>NULL</td><td>NULL</td><td>NULL</td><td>NULL</td></tr>\n",
       "</table>\n"
      ],
      "text/plain": [
       "+-------+------------+------------------+--------------------+--------------+--------------------+--------------------+-----------+--------------+--------------------+-----+--------+------+-----------------------------+--------------------------+-----------------------------+--------------------------+\n",
       "|user_id|merchant_abn|      dollar_value|            order_id|order_datetime|       merchant_name|                tags|consumer_id|          name|             address|state|postcode|gender|consumer_fraud_order_datetime|consumer_fraud_probability|merchant_fraud_order_datetime|merchant_fraud_probability|\n",
       "+-------+------------+------------------+--------------------+--------------+--------------------+--------------------+-----------+--------------+--------------------+-----+--------+------+-----------------------------+--------------------------+-----------------------------+--------------------------+\n",
       "|  18478| 62191208634|63.255848959735246|949a63c8-29f7-4ab...|    2021-08-20|Cursus Non Egesta...|[(furniture, home...|     651338|   James Smith|27393 Wiley Lane ...|  TAS|    7001|  Male|                         NULL|                      NULL|                         NULL|                      NULL|\n",
       "|      2| 15549624934| 130.3505283105634|6a84c3cf-612a-457...|    2021-08-20|  Commodo Associates|[(opticians, optI...|     179208|    Mary Smith|     3764 Amber Oval|  NSW|    2782|Female|                         NULL|                      NULL|                         NULL|                      NULL|\n",
       "|  18479| 64403598239|120.15860593212783|b10dcc33-e53f-425...|    2021-08-20|Lobortis Ultrices...|((music shops - m...|     467663|Sandra Schultz|86171 Coleman Sta...|  TAS|    7010|Female|                         NULL|                      NULL|                         NULL|                      NULL|\n",
       "|      3| 60956456424| 136.6785200286976|0f09c5a5-784e-447...|    2021-08-20|Ultricies Digniss...|([gift, card, Nov...|    1194530| Jill Jones MD|  40693 Henry Greens|   NT|     862|Female|                         NULL|                      NULL|                         NULL|                      NULL|\n",
       "|  18479| 94493496784| 72.96316578355305|f6c78c1a-4600-4c5...|    2021-08-20|Dictum Phasellus ...|[(gift, card, nov...|     467663|Sandra Schultz|86171 Coleman Sta...|  TAS|    7010|Female|                         NULL|                      NULL|                         NULL|                      NULL|\n",
       "+-------+------------+------------------+--------------------+--------------+--------------------+--------------------+-----------+--------------+--------------------+-----+--------+------+-----------------------------+--------------------------+-----------------------------+--------------------------+"
      ]
     },
     "execution_count": 56,
     "metadata": {},
     "output_type": "execute_result"
    }
   ],
   "source": [
    "# merge mergeD and merchant_fraud ON merchant_abn and datetime\n",
    "merge_df_E = merge_df_D.join(F.broadcast(merchant_fraud_probability_df),\n",
    "                             (merge_df_D.merchant_abn == merchant_fraud_probability_df.merchant_abn) &\n",
    "                             (merge_df_D.order_datetime == merchant_fraud_probability_df.merchant_fraud_order_datetime),\n",
    "                             how = 'left'\n",
    "                             ).drop(merchant_fraud_probability_df.merchant_abn)\n",
    "\n",
    "print(f'Number of entires = {merge_df_E.count()}')\n",
    "merge_df_E.limit(5)"
   ]
  },
  {
   "cell_type": "markdown",
   "metadata": {},
   "source": [
    "#### 1.7.5 - Saving MERGE"
   ]
  },
  {
   "cell_type": "code",
   "execution_count": 57,
   "metadata": {},
   "outputs": [
    {
     "name": "stderr",
     "output_type": "stream",
     "text": [
      "                                                                                \r"
     ]
    }
   ],
   "source": [
    "merge_df_E.write.mode(\"overwrite\").parquet(\"../data/merge_df_E.parquet\")"
   ]
  }
 ],
 "metadata": {
  "kernelspec": {
   "display_name": ".venv",
   "language": "python",
   "name": "python3"
  },
  "language_info": {
   "codemirror_mode": {
    "name": "ipython",
    "version": 3
   },
   "file_extension": ".py",
   "mimetype": "text/x-python",
   "name": "python",
   "nbconvert_exporter": "python",
   "pygments_lexer": "ipython3",
   "version": "3.8.0"
  }
 },
 "nbformat": 4,
 "nbformat_minor": 2
}
