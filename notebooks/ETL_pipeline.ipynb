{
 "cells": [
  {
   "cell_type": "code",
   "execution_count": 51,
   "metadata": {},
   "outputs": [],
   "source": [
    "# Loading library\n",
    "from functools import reduce\n",
    "from pyspark.sql import SparkSession, DataFrame\n",
    "import zipfile\n",
    "import os\n",
    "\n",
    "# Create a Spark Session\n",
    "spark = (\n",
    "    SparkSession.builder.appName(\"ETL Pipeline\")\n",
    "    .config(\"spark.sql.repl.eagerEval.enabled\", True)\n",
    "    .config(\"spark.sql.parquet.cacheMetadata\", \"true\")\n",
    "    .config(\"spark.sql.session.timeZone\", \"Etc/UTC\")\n",
    "    .config(\"spark.driver.memory\", \"4g\")\n",
    "    .config(\"spark.execturo.memory\", \"2g\")\n",
    "    .getOrCreate()\n",
    ")"
   ]
  },
  {
   "cell_type": "markdown",
   "metadata": {},
   "source": [
    "# Extract"
   ]
  },
  {
   "cell_type": "markdown",
   "metadata": {},
   "source": [
    "As we can't use `urlretrive` to get the data from Canvas, please download it to your local machine and move it `data/tables`. Then run the code below to unzip the files"
   ]
  },
  {
   "cell_type": "code",
   "execution_count": 22,
   "metadata": {},
   "outputs": [
    {
     "name": "stdout",
     "output_type": "stream",
     "text": [
      "project-2-bnpl-tables-part1.zip\n",
      "project-2-bnpl-tables-part2.zip\n",
      "project-2-bnpl-tables-part3.zip\n",
      "project-2-bnpl-tables-part4.zip\n"
     ]
    }
   ],
   "source": [
    "# Assign data path\n",
    "raw_path = \"../data\"\n",
    "\n",
    "for file in os.listdir(f\"{raw_path}/tables\"):\n",
    "    if file == \".gitkeep\":\n",
    "        continue\n",
    "    with zipfile.ZipFile(f\"{raw_path}/tables/{file}\", \"r\") as zip_ref:\n",
    "        zip_ref.extractall(f\"{raw_path}/\")\n",
    "    os.remove(f\"{raw_path}/tables/{file}\")"
   ]
  },
  {
   "cell_type": "markdown",
   "metadata": {},
   "source": [
    "# Transform\n",
    "\n",
    "The system use `user_id` as a key for identifying customer in transactions record and fraud probability tables. However, they also have a key-value map of `user_id` and `consumer_id`. We will use `consumer_id` as the only ID for customer. Thus, we will map `user_id` from each table to `consumer_id` and drop the former."
   ]
  },
  {
   "cell_type": "code",
   "execution_count": 33,
   "metadata": {},
   "outputs": [],
   "source": [
    "def replace_id(map_df, target_df):\n",
    "    mapped_df = target_df.join(map_df, on=\"user_id\", how=\"inner\")\n",
    "    mapped_df = mapped_df.drop('user_id')\n",
    "    \n",
    "    return mapped_df"
   ]
  },
  {
   "cell_type": "code",
   "execution_count": 27,
   "metadata": {},
   "outputs": [
    {
     "data": {
      "text/html": [
       "<table border='1'>\n",
       "<tr><th>user_id</th><th>consumer_id</th></tr>\n",
       "<tr><td>1</td><td>1195503</td></tr>\n",
       "<tr><td>2</td><td>179208</td></tr>\n",
       "<tr><td>3</td><td>1194530</td></tr>\n",
       "<tr><td>4</td><td>154128</td></tr>\n",
       "<tr><td>5</td><td>712975</td></tr>\n",
       "</table>\n"
      ],
      "text/plain": [
       "+-------+-----------+\n",
       "|user_id|consumer_id|\n",
       "+-------+-----------+\n",
       "|      1|    1195503|\n",
       "|      2|     179208|\n",
       "|      3|    1194530|\n",
       "|      4|     154128|\n",
       "|      5|     712975|\n",
       "+-------+-----------+"
      ]
     },
     "execution_count": 27,
     "metadata": {},
     "output_type": "execute_result"
    }
   ],
   "source": [
    "# Load consumer info - a key : value map for user_id to consumer_id\n",
    "consumer_info = spark.read.parquet(f\"{raw_path}/tables/consumer_user_details.parquet\")"
   ]
  },
  {
   "cell_type": "code",
   "execution_count": 50,
   "metadata": {},
   "outputs": [],
   "source": [
    "# Load all files that need to replace user_id\n",
    "consumer_fraud = spark.read.csv(f\"{raw_path}/tables/consumer_fraud_probability.csv\", header=True, inferSchema=True)\n",
    "consumer_fraud = replace_id(consumer_info, consumer_fraud)"
   ]
  },
  {
   "cell_type": "code",
   "execution_count": 55,
   "metadata": {},
   "outputs": [
    {
     "data": {
      "text/html": [
       "<table border='1'>\n",
       "<tr><th>merchant_abn</th><th>dollar_value</th><th>order_id</th><th>order_datetime</th><th>consumer_id</th></tr>\n",
       "<tr><td>62191208634</td><td>63.255848959735246</td><td>949a63c8-29f7-4ab...</td><td>2021-08-20</td><td>651338</td></tr>\n",
       "<tr><td>15549624934</td><td>130.3505283105634</td><td>6a84c3cf-612a-457...</td><td>2021-08-20</td><td>179208</td></tr>\n",
       "<tr><td>64403598239</td><td>120.15860593212783</td><td>b10dcc33-e53f-425...</td><td>2021-08-20</td><td>467663</td></tr>\n",
       "<tr><td>60956456424</td><td>136.6785200286976</td><td>0f09c5a5-784e-447...</td><td>2021-08-20</td><td>1194530</td></tr>\n",
       "<tr><td>94493496784</td><td>72.96316578355305</td><td>f6c78c1a-4600-4c5...</td><td>2021-08-20</td><td>467663</td></tr>\n",
       "<tr><td>76819856970</td><td>448.529684285612</td><td>5ace6a24-cdf0-4aa...</td><td>2021-08-20</td><td>1194530</td></tr>\n",
       "<tr><td>67609108741</td><td>86.4040605836911</td><td>d0e180f0-cb06-42a...</td><td>2021-08-20</td><td>467663</td></tr>\n",
       "<tr><td>34096466752</td><td>301.5793450525113</td><td>6fb1ff48-24bb-4f9...</td><td>2021-08-20</td><td>1194530</td></tr>\n",
       "<tr><td>70501974849</td><td>68.75486276223054</td><td>8505fb33-b69a-412...</td><td>2021-08-20</td><td>918448</td></tr>\n",
       "<tr><td>49891706470</td><td>48.89796461900801</td><td>ed11e477-b09f-4ae...</td><td>2021-08-20</td><td>154128</td></tr>\n",
       "<tr><td>46804135891</td><td>6.6168976971833615</td><td>05b5edb5-b925-414...</td><td>2021-08-20</td><td>918448</td></tr>\n",
       "<tr><td>33064796871</td><td>373.0873675184212</td><td>fe188788-b89f-4dd...</td><td>2021-08-20</td><td>511685</td></tr>\n",
       "<tr><td>44160392990</td><td>83.98473054761176</td><td>7c44302d-98b3-48b...</td><td>2021-08-20</td><td>191119</td></tr>\n",
       "<tr><td>68435002949</td><td>232.5364986739752</td><td>b4a89891-a113-45e...</td><td>2021-08-20</td><td>511685</td></tr>\n",
       "<tr><td>70033549200</td><td>871.7678061729196</td><td>4b1d941a-21a1-43e...</td><td>2021-08-20</td><td>596919</td></tr>\n",
       "<tr><td>41944909975</td><td>30.910755230234322</td><td>302ae628-8eba-4a5...</td><td>2021-08-20</td><td>511685</td></tr>\n",
       "<tr><td>41705715409</td><td>309.5417224575787</td><td>67f4f98e-3149-4e8...</td><td>2021-08-20</td><td>1212819</td></tr>\n",
       "<tr><td>29566626791</td><td>74.15732460440282</td><td>71a81652-cc91-4bf...</td><td>2021-08-20</td><td>448088</td></tr>\n",
       "<tr><td>32361057556</td><td>119.19055863068847</td><td>15577921-1104-470...</td><td>2021-08-20</td><td>1165699</td></tr>\n",
       "<tr><td>47663262928</td><td>36.69873283148887</td><td>c4fcb49a-ce87-4e1...</td><td>2021-08-20</td><td>650435</td></tr>\n",
       "</table>\n",
       "only showing top 20 rows\n"
      ],
      "text/plain": [
       "+------------+------------------+--------------------+--------------+-----------+\n",
       "|merchant_abn|      dollar_value|            order_id|order_datetime|consumer_id|\n",
       "+------------+------------------+--------------------+--------------+-----------+\n",
       "| 62191208634|63.255848959735246|949a63c8-29f7-4ab...|    2021-08-20|     651338|\n",
       "| 15549624934| 130.3505283105634|6a84c3cf-612a-457...|    2021-08-20|     179208|\n",
       "| 64403598239|120.15860593212783|b10dcc33-e53f-425...|    2021-08-20|     467663|\n",
       "| 60956456424| 136.6785200286976|0f09c5a5-784e-447...|    2021-08-20|    1194530|\n",
       "| 94493496784| 72.96316578355305|f6c78c1a-4600-4c5...|    2021-08-20|     467663|\n",
       "| 76819856970|  448.529684285612|5ace6a24-cdf0-4aa...|    2021-08-20|    1194530|\n",
       "| 67609108741|  86.4040605836911|d0e180f0-cb06-42a...|    2021-08-20|     467663|\n",
       "| 34096466752| 301.5793450525113|6fb1ff48-24bb-4f9...|    2021-08-20|    1194530|\n",
       "| 70501974849| 68.75486276223054|8505fb33-b69a-412...|    2021-08-20|     918448|\n",
       "| 49891706470| 48.89796461900801|ed11e477-b09f-4ae...|    2021-08-20|     154128|\n",
       "| 46804135891|6.6168976971833615|05b5edb5-b925-414...|    2021-08-20|     918448|\n",
       "| 33064796871| 373.0873675184212|fe188788-b89f-4dd...|    2021-08-20|     511685|\n",
       "| 44160392990| 83.98473054761176|7c44302d-98b3-48b...|    2021-08-20|     191119|\n",
       "| 68435002949| 232.5364986739752|b4a89891-a113-45e...|    2021-08-20|     511685|\n",
       "| 70033549200| 871.7678061729196|4b1d941a-21a1-43e...|    2021-08-20|     596919|\n",
       "| 41944909975|30.910755230234322|302ae628-8eba-4a5...|    2021-08-20|     511685|\n",
       "| 41705715409| 309.5417224575787|67f4f98e-3149-4e8...|    2021-08-20|    1212819|\n",
       "| 29566626791| 74.15732460440282|71a81652-cc91-4bf...|    2021-08-20|     448088|\n",
       "| 32361057556|119.19055863068847|15577921-1104-470...|    2021-08-20|    1165699|\n",
       "| 47663262928| 36.69873283148887|c4fcb49a-ce87-4e1...|    2021-08-20|     650435|\n",
       "+------------+------------------+--------------------+--------------+-----------+\n",
       "only showing top 20 rows"
      ]
     },
     "execution_count": 55,
     "metadata": {},
     "output_type": "execute_result"
    }
   ],
   "source": [
    "# Load transaction data\n",
    "transaction_p1 = spark.read.parquet(f\"{raw_path}/tables/transactions_20210228_20210827_snapshot\")\n",
    "transaction_p1 = replace_id(consumer_info, transaction_p1)\n",
    "\n",
    "transaction_p2 = spark.read.parquet(f\"{raw_path}/tables/transactions_20210828_20220227_snapshot\")\n",
    "transaction_p2 = replace_id(consumer_info, transaction_p2)\n",
    "\n",
    "transaction_p3 = spark.read.parquet(f\"{raw_path}/tables/transactions_20220228_20220828_snapshot\")\n",
    "transaction_p3 = replace_id(consumer_info, transaction_p3)\n",
    "\n",
    "transaction_records = reduce(DataFrame.unionAll, [transaction_p1, transaction_p2, transaction_p3])\n",
    "transaction_records"
   ]
  },
  {
   "cell_type": "code",
   "execution_count": 54,
   "metadata": {},
   "outputs": [
    {
     "data": {
      "text/html": [
       "<table border='1'>\n",
       "<tr><th>user_id</th><th>merchant_abn</th><th>dollar_value</th><th>order_id</th><th>order_datetime</th></tr>\n",
       "<tr><td>14935</td><td>79417999332</td><td>136.06570809815838</td><td>23acbb7b-cf98-458...</td><td>2021-11-26</td></tr>\n",
       "<tr><td>1</td><td>46451548968</td><td>72.61581642788431</td><td>76bab304-fa2d-400...</td><td>2021-11-26</td></tr>\n",
       "<tr><td>14936</td><td>89518629617</td><td>3.0783487174439297</td><td>a2ae446a-2959-41c...</td><td>2021-11-26</td></tr>\n",
       "<tr><td>1</td><td>49167531725</td><td>51.58228625503599</td><td>7080c274-17f7-4cc...</td><td>2021-11-26</td></tr>\n",
       "<tr><td>14936</td><td>31101120643</td><td>25.228114942417797</td><td>8e301c0f-06ab-45c...</td><td>2021-11-26</td></tr>\n",
       "<tr><td>2</td><td>67978471888</td><td>691.5028234458998</td><td>0380e9ad-b0e8-420...</td><td>2021-11-26</td></tr>\n",
       "<tr><td>14936</td><td>60956456424</td><td>102.13952056640888</td><td>5ac3da9c-5147-452...</td><td>2021-11-26</td></tr>\n",
       "<tr><td>2</td><td>47644196714</td><td>644.5220654863093</td><td>4e368e44-86f8-4de...</td><td>2021-11-26</td></tr>\n",
       "<tr><td>14938</td><td>39649557865</td><td>209.12780951421405</td><td>4d78cd01-4bab-494...</td><td>2021-11-26</td></tr>\n",
       "<tr><td>3</td><td>88402174457</td><td>141.0387993699113</td><td>c50c957d-ecfc-430...</td><td>2021-11-26</td></tr>\n",
       "<tr><td>14938</td><td>32234779638</td><td>102.04090324888061</td><td>e94ff357-b036-493...</td><td>2021-11-26</td></tr>\n",
       "<tr><td>4</td><td>24015173965</td><td>157.0</td><td>5b867ac9-d1e0-430...</td><td>2021-11-26</td></tr>\n",
       "<tr><td>14939</td><td>79830510987</td><td>246.13590152514766</td><td>666909ed-79c2-45b...</td><td>2021-11-26</td></tr>\n",
       "<tr><td>5</td><td>76646764782</td><td>35.463129852951695</td><td>0c855413-67fa-467...</td><td>2021-11-26</td></tr>\n",
       "<tr><td>14939</td><td>17324645993</td><td>24.108258533478818</td><td>40fd2f7f-a274-420...</td><td>2021-11-26</td></tr>\n",
       "<tr><td>5</td><td>71041015148</td><td>89.76800577775657</td><td>93255de9-c8fe-426...</td><td>2021-11-26</td></tr>\n",
       "<tr><td>14939</td><td>75089928159</td><td>14.806519329659501</td><td>2c5ba1f3-1c5a-4e5...</td><td>2021-11-26</td></tr>\n",
       "<tr><td>5</td><td>80324045558</td><td>62.79195913018835</td><td>564f81c8-c3c1-4f4...</td><td>2021-11-26</td></tr>\n",
       "<tr><td>14939</td><td>50315283629</td><td>575.3321071340728</td><td>026c6d3d-4f7c-4f4...</td><td>2021-11-26</td></tr>\n",
       "<tr><td>6</td><td>11566786699</td><td>15.856637357709419</td><td>0230e104-aef0-48f...</td><td>2021-11-26</td></tr>\n",
       "</table>\n",
       "only showing top 20 rows\n"
      ],
      "text/plain": [
       "+-------+------------+------------------+--------------------+--------------+\n",
       "|user_id|merchant_abn|      dollar_value|            order_id|order_datetime|\n",
       "+-------+------------+------------------+--------------------+--------------+\n",
       "|  14935| 79417999332|136.06570809815838|23acbb7b-cf98-458...|    2021-11-26|\n",
       "|      1| 46451548968| 72.61581642788431|76bab304-fa2d-400...|    2021-11-26|\n",
       "|  14936| 89518629617|3.0783487174439297|a2ae446a-2959-41c...|    2021-11-26|\n",
       "|      1| 49167531725| 51.58228625503599|7080c274-17f7-4cc...|    2021-11-26|\n",
       "|  14936| 31101120643|25.228114942417797|8e301c0f-06ab-45c...|    2021-11-26|\n",
       "|      2| 67978471888| 691.5028234458998|0380e9ad-b0e8-420...|    2021-11-26|\n",
       "|  14936| 60956456424|102.13952056640888|5ac3da9c-5147-452...|    2021-11-26|\n",
       "|      2| 47644196714| 644.5220654863093|4e368e44-86f8-4de...|    2021-11-26|\n",
       "|  14938| 39649557865|209.12780951421405|4d78cd01-4bab-494...|    2021-11-26|\n",
       "|      3| 88402174457| 141.0387993699113|c50c957d-ecfc-430...|    2021-11-26|\n",
       "|  14938| 32234779638|102.04090324888061|e94ff357-b036-493...|    2021-11-26|\n",
       "|      4| 24015173965|             157.0|5b867ac9-d1e0-430...|    2021-11-26|\n",
       "|  14939| 79830510987|246.13590152514766|666909ed-79c2-45b...|    2021-11-26|\n",
       "|      5| 76646764782|35.463129852951695|0c855413-67fa-467...|    2021-11-26|\n",
       "|  14939| 17324645993|24.108258533478818|40fd2f7f-a274-420...|    2021-11-26|\n",
       "|      5| 71041015148| 89.76800577775657|93255de9-c8fe-426...|    2021-11-26|\n",
       "|  14939| 75089928159|14.806519329659501|2c5ba1f3-1c5a-4e5...|    2021-11-26|\n",
       "|      5| 80324045558| 62.79195913018835|564f81c8-c3c1-4f4...|    2021-11-26|\n",
       "|  14939| 50315283629| 575.3321071340728|026c6d3d-4f7c-4f4...|    2021-11-26|\n",
       "|      6| 11566786699|15.856637357709419|0230e104-aef0-48f...|    2021-11-26|\n",
       "+-------+------------+------------------+--------------------+--------------+\n",
       "only showing top 20 rows"
      ]
     },
     "execution_count": 54,
     "metadata": {},
     "output_type": "execute_result"
    }
   ],
   "source": [
    "transaction_p2"
   ]
  }
 ],
 "metadata": {
  "kernelspec": {
   "display_name": "Python 3",
   "language": "python",
   "name": "python3"
  },
  "language_info": {
   "codemirror_mode": {
    "name": "ipython",
    "version": 3
   },
   "file_extension": ".py",
   "mimetype": "text/x-python",
   "name": "python",
   "nbconvert_exporter": "python",
   "pygments_lexer": "ipython3",
   "version": "3.8.10"
  }
 },
 "nbformat": 4,
 "nbformat_minor": 2
}
