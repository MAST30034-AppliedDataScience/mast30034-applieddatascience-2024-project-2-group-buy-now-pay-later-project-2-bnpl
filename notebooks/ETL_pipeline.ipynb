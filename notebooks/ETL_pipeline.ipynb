{
  "cells": [
    {
      "cell_type": "code",
      "execution_count": 3,
      "metadata": {},
      "outputs": [],
      "source": [
        "# Loading library\n",
        "import os\n",
        "os.sys.path.append(\"../\")\n",
        "from scripts.etl_pipeline import *"
      ]
    },
    {
      "cell_type": "code",
      "execution_count": 4,
      "metadata": {},
      "outputs": [
        {
          "name": "stderr",
          "output_type": "stream",
          "text": [
            "24/09/10 06:35:47 WARN Utils: Your hostname, Alistairs-MacBook-Air.local resolves to a loopback address: 127.0.0.1; using 172.20.10.4 instead (on interface en0)\n",
            "24/09/10 06:35:47 WARN Utils: Set SPARK_LOCAL_IP if you need to bind to another address\n",
            "Setting default log level to \"WARN\".\n",
            "To adjust logging level use sc.setLogLevel(newLevel). For SparkR, use setLogLevel(newLevel).\n",
            "24/09/10 06:35:48 WARN NativeCodeLoader: Unable to load native-hadoop library for your platform... using builtin-java classes where applicable\n",
            "24/09/10 06:35:49 WARN Utils: Service 'SparkUI' could not bind on port 4040. Attempting port 4041.\n"
          ]
        }
      ],
      "source": [
        "# Create a Spark Session\n",
        "spark = (\n",
        "    SparkSession.builder.appName(\"ETL Pipeline\")\n",
        "    .config(\"spark.sql.repl.eagerEval.enabled\", True)\n",
        "    .config(\"spark.sql.parquet.cacheMetadata\", \"true\")\n",
        "    .config(\"spark.sql.session.timeZone\", \"Etc/UTC\")\n",
        "    .config(\"spark.driver.memory\", \"4g\")\n",
        "    .config(\"spark.executor.memory\", \"2g\")\n",
        "    .getOrCreate()\n",
        ")"
      ]
    },
    {
      "cell_type": "markdown",
      "metadata": {},
      "source": [
        "# Extract"
      ]
    },
    {
      "cell_type": "markdown",
      "metadata": {},
      "source": [
        "As we can't use `urlretrieve` to get the data from Canvas, please download it to your local machine and move it `data/tables`. Then run the code below to unzip the files"
      ]
    },
    {
      "cell_type": "code",
      "execution_count": 5,
      "metadata": {},
      "outputs": [
        {
          "data": {
            "text/plain": [
              "'\\nfor file in os.listdir(f\"{raw_path}/tables\"):\\n    if file == \".gitkeep\":\\n        continue\\n    with zipfile.ZipFile(f\"{raw_path}/tables/{file}\", \"r\") as zip_ref:\\n        zip_ref.extractall(f\"{raw_path}/\")\\n    os.remove(f\"{raw_path}/tables/{file}\")\\n'"
            ]
          },
          "execution_count": 5,
          "metadata": {},
          "output_type": "execute_result"
        }
      ],
      "source": [
        "# Assign data path\n",
        "raw_path = \"../data\"\n",
        "\n",
        "# Unzip files (Only run once)\n",
        "\"\"\"\n",
        "for file in os.listdir(f\"{raw_path}/tables\"):\n",
        "    if file == \".gitkeep\":\n",
        "        continue\n",
        "    with zipfile.ZipFile(f\"{raw_path}/tables/{file}\", \"r\") as zip_ref:\n",
        "        zip_ref.extractall(f\"{raw_path}/\")\n",
        "    os.remove(f\"{raw_path}/tables/{file}\")\n",
        "\"\"\""
      ]
    },
    {
      "cell_type": "markdown",
      "metadata": {},
      "source": [
        "# Transform\n",
        "\n",
        "The system use `user_id` as a key for identifying customer in transactions record and fraud probability tables. However, they also have a key-value map of `user_id` and `consumer_id`. We will use `consumer_id` as the only ID for customer. Thus, we will map `user_id` from each table to `consumer_id` and drop the former.\n"
      ]
    },
    {
      "cell_type": "code",
      "execution_count": 6,
      "metadata": {},
      "outputs": [
        {
          "name": "stderr",
          "output_type": "stream",
          "text": [
            "                                                                                \r"
          ]
        },
        {
          "data": {
            "text/html": [
              "<table border='1'>\n",
              "<tr><th>user_id</th><th>consumer_id</th></tr>\n",
              "<tr><td>1</td><td>1195503</td></tr>\n",
              "<tr><td>2</td><td>179208</td></tr>\n",
              "<tr><td>3</td><td>1194530</td></tr>\n",
              "<tr><td>4</td><td>154128</td></tr>\n",
              "<tr><td>5</td><td>712975</td></tr>\n",
              "</table>\n"
            ],
            "text/plain": [
              "+-------+-----------+\n",
              "|user_id|consumer_id|\n",
              "+-------+-----------+\n",
              "|      1|    1195503|\n",
              "|      2|     179208|\n",
              "|      3|    1194530|\n",
              "|      4|     154128|\n",
              "|      5|     712975|\n",
              "+-------+-----------+"
            ]
          },
          "execution_count": 6,
          "metadata": {},
          "output_type": "execute_result"
        }
      ],
      "source": [
        "# Load consumer user details -> a key:value map for user_id to consumer_id\n",
        "consumer_user_map = spark.read.parquet(f\"{raw_path}/tables/consumer_user_details.parquet\")\n",
        "consumer_user_map.limit(5) # Preview"
      ]
    },
    {
      "cell_type": "code",
      "execution_count": 7,
      "metadata": {},
      "outputs": [
        {
          "name": "stderr",
          "output_type": "stream",
          "text": [
            "                                                                                \r"
          ]
        },
        {
          "name": "stdout",
          "output_type": "stream",
          "text": [
            "+-------+--------------+-----------------+\n",
            "|user_id|order_datetime|fraud_probability|\n",
            "+-------+--------------+-----------------+\n",
            "|   6228|    2021-12-19| 97.6298077657765|\n",
            "|  21419|    2021-12-10|99.24738020302328|\n",
            "|   5606|    2021-10-17|84.05825045251777|\n",
            "|   3101|    2021-04-17|91.42192091901347|\n",
            "|  22239|    2021-10-19|94.70342477508035|\n",
            "+-------+--------------+-----------------+\n",
            "only showing top 5 rows\n",
            "\n",
            "The dataset count is  34864\n",
            "+--------------+------------------+-----------+\n",
            "|order_datetime| fraud_probability|consumer_id|\n",
            "+--------------+------------------+-----------+\n",
            "|    2022-02-20| 9.805431136520959|    1195503|\n",
            "|    2021-08-30| 9.599513915425788|     179208|\n",
            "|    2021-09-25|10.069850934775245|     179208|\n",
            "|    2021-11-03| 8.300636455314633|    1194530|\n",
            "|    2021-10-09| 9.633302411090419|     154128|\n",
            "+--------------+------------------+-----------+\n",
            "only showing top 5 rows\n",
            "\n",
            "The dataset count is  34864\n"
          ]
        }
      ],
      "source": [
        "# Load consumer fraud rate dataset\n",
        "consumer_fraud_rate = spark.read.csv(f\"{raw_path}/tables/consumer_fraud_probability.csv\", header=True, inferSchema=True)\n",
        "consumer_fraud_rate.show(5)\n",
        "get_dataset_count(consumer_fraud_rate)\n",
        "\n",
        "# Replace all user_id with unique consumer_id\n",
        "consumer_fraud_rate = replace_id(consumer_user_map, consumer_fraud_rate)\n",
        "consumer_fraud_rate.show(5)\n",
        "\n",
        "# Check to make sure no rows were lost on the inner join\n",
        "get_dataset_count(consumer_fraud_rate)"
      ]
    },
    {
      "cell_type": "code",
      "execution_count": 8,
      "metadata": {},
      "outputs": [
        {
          "name": "stderr",
          "output_type": "stream",
          "text": [
            "                                                                                \r"
          ]
        },
        {
          "name": "stdout",
          "output_type": "stream",
          "text": [
            "The dataset count is  14195505\n",
            "+------------+------------------+--------------------+--------------+-----------+\n",
            "|merchant_abn|      dollar_value|            order_id|order_datetime|consumer_id|\n",
            "+------------+------------------+--------------------+--------------+-----------+\n",
            "| 62191208634|63.255848959735246|949a63c8-29f7-4ab...|    2021-08-20|     651338|\n",
            "| 15549624934| 130.3505283105634|6a84c3cf-612a-457...|    2021-08-20|     179208|\n",
            "| 64403598239|120.15860593212783|b10dcc33-e53f-425...|    2021-08-20|     467663|\n",
            "| 60956456424| 136.6785200286976|0f09c5a5-784e-447...|    2021-08-20|    1194530|\n",
            "| 94493496784| 72.96316578355305|f6c78c1a-4600-4c5...|    2021-08-20|     467663|\n",
            "+------------+------------------+--------------------+--------------+-----------+\n",
            "only showing top 5 rows\n",
            "\n"
          ]
        },
        {
          "name": "stderr",
          "output_type": "stream",
          "text": [
            "[Stage 27:======================================>                 (18 + 8) / 26]\r"
          ]
        },
        {
          "name": "stdout",
          "output_type": "stream",
          "text": [
            "The dataset count is  14195505\n"
          ]
        },
        {
          "name": "stderr",
          "output_type": "stream",
          "text": [
            "                                                                                \r"
          ]
        }
      ],
      "source": [
        "# Load all the transaction data \n",
        "transaction_p1 = spark.read.parquet(f\"{raw_path}/tables/transactions_20210228_20210827_snapshot\")\n",
        "transaction_p2 = spark.read.parquet(f\"{raw_path}/tables/transactions_20210828_20220227_snapshot\")\n",
        "transaction_p3 = spark.read.parquet(f\"{raw_path}/tables/transactions_20220228_20220828_snapshot\")\n",
        "\n",
        "# Combine the datasets\n",
        "transaction_records = reduce(DataFrame.unionAll, [transaction_p1, transaction_p2, transaction_p3])\n",
        "# transaction_records.show(5)\n",
        "get_dataset_count(transaction_records)\n",
        "\n",
        "# Replace user_id with consumer_id after combining\n",
        "transaction_records = replace_id(consumer_user_map, transaction_records)\n",
        "transaction_records.show(5)\n",
        "\n",
        "# Check to make sure no rows were lost on the inner join\n",
        "get_dataset_count(transaction_records)"
      ]
    },
    {
      "cell_type": "markdown",
      "metadata": {},
      "source": [
        "## Cleaning"
      ]
    },
    {
      "cell_type": "markdown",
      "metadata": {},
      "source": [
        "Now that replacing `user_id` to `consumer_id` is done, load all other data and clean them. First, let's have a look at the merchant data on fraud probability."
      ]
    },
    {
      "cell_type": "code",
      "execution_count": 9,
      "metadata": {},
      "outputs": [
        {
          "name": "stdout",
          "output_type": "stream",
          "text": [
            "+------------+--------------+------------------+\n",
            "|merchant_abn|order_datetime| fraud_probability|\n",
            "+------------+--------------+------------------+\n",
            "| 19492220327|    2021-11-28|44.403658647495355|\n",
            "| 31334588839|    2021-10-02| 42.75530083865367|\n",
            "| 19492220327|    2021-12-22|38.867790051131095|\n",
            "| 82999039227|    2021-12-19|  94.1347004808891|\n",
            "| 90918180829|    2021-09-02| 43.32551731714902|\n",
            "+------------+--------------+------------------+\n",
            "only showing top 5 rows\n",
            "\n",
            "The dataset count is  114\n"
          ]
        }
      ],
      "source": [
        "# Load merchant fraud rate dataset\n",
        "merchant_fraud_rate = spark.read.csv(f\"{raw_path}/tables/merchant_fraud_probability.csv\", header=True, inferSchema=True)\n",
        "merchant_fraud_rate.show(5)\n",
        "get_dataset_count(merchant_fraud_rate)"
      ]
    },
    {
      "cell_type": "markdown",
      "metadata": {},
      "source": [
        "Cleaning `tbl_merchants.parquet`. The feature `tags` is a string that represents either a tuple or a list, containing 3 elements:\n",
        "* Items that are being sold\n",
        "* Revenue levels\n",
        "* Commission rate\n",
        "\n",
        "Each elements either a list, a tuple, or a combination of both (e.g starts with `[` and ends with `)` and vice versa). These inconsistencies are mostly due to human errors. Thus, we need to take into account these consistent when splitting the values of the feature `tags` into separate columns"
      ]
    },
    {
      "cell_type": "code",
      "execution_count": 10,
      "metadata": {},
      "outputs": [
        {
          "name": "stdout",
          "output_type": "stream",
          "text": [
            "+------------------------------------+-----------------------------------------------------------------------------------------------------------------+------------+\n",
            "|name                                |tags                                                                                                             |merchant_abn|\n",
            "+------------------------------------+-----------------------------------------------------------------------------------------------------------------+------------+\n",
            "|Felis Limited                       |((furniture, home furnishings and equipment shops, and manufacturers, except appliances), (e), (take rate: 0.18))|10023283211 |\n",
            "|Arcu Ac Orci Corporation            |([cable, satellite, and otHer pay television and radio services], [b], [take rate: 4.22])                        |10142254217 |\n",
            "|Nunc Sed Company                    |([jewelry, watch, clock, and silverware shops], [b], [take rate: 4.40])                                          |10165489824 |\n",
            "|Ultricies Dignissim Lacus Foundation|([wAtch, clock, and jewelry repair shops], [b], [take rate: 3.29])                                               |10187291046 |\n",
            "|Enim Condimentum PC                 |([music shops - musical instruments, pianos, and sheet music], [a], [take rate: 6.33])                           |10192359162 |\n",
            "+------------------------------------+-----------------------------------------------------------------------------------------------------------------+------------+\n",
            "only showing top 5 rows\n",
            "\n",
            "Before: \n",
            "The dataset count is  4026\n",
            "After: \n",
            "The dataset count is  4026\n",
            "+------------------------------------+------------+-------------------------------------------------------------------------------------+-------------+---------+\n",
            "|name                                |merchant_abn|category                                                                             |revenue_level|take_rate|\n",
            "+------------------------------------+------------+-------------------------------------------------------------------------------------+-------------+---------+\n",
            "|Felis Limited                       |10023283211 |furniture, home furnishings and equipment shops, and manufacturers, except appliances|e            |0.18     |\n",
            "|Arcu Ac Orci Corporation            |10142254217 |cable, satellite, and other pay television and radio services                        |b            |4.22     |\n",
            "|Nunc Sed Company                    |10165489824 |jewelry, watch, clock, and silverware shops                                          |b            |4.4      |\n",
            "|Ultricies Dignissim Lacus Foundation|10187291046 |watch, clock, and jewelry repair shops                                               |b            |3.29     |\n",
            "|Enim Condimentum PC                 |10192359162 |music shops - musical instruments, pianos, and sheet music                           |a            |6.33     |\n",
            "+------------------------------------+------------+-------------------------------------------------------------------------------------+-------------+---------+\n",
            "only showing top 5 rows\n",
            "\n"
          ]
        }
      ],
      "source": [
        "# Load merchant's info\n",
        "merchant_info = spark.read.parquet(f\"{raw_path}/tables/tbl_merchants.parquet\")\n",
        "merchant_info.show(5, truncate=False)\n",
        "\n",
        "# Clean the data\n",
        "merchant_info = clean_merchant_details(merchant_info)\n",
        "merchant_info.show(5, truncate=False)"
      ]
    },
    {
      "cell_type": "markdown",
      "metadata": {},
      "source": [
        "The data on consumer's basic information is a single column that contains the consumer's name, address, state, postcode, gender, and their unqiue consumer ID, each separated by \"`|`\". Thus, we will need to split these into individual columns. Based on the `README.md` for the data, we will only keep the consumer's name, state, postcode, gender, and consumer ID as the addresses are fake."
      ]
    },
    {
      "cell_type": "code",
      "execution_count": 11,
      "metadata": {},
      "outputs": [
        {
          "name": "stderr",
          "output_type": "stream",
          "text": [
            "                                                                                \r"
          ]
        },
        {
          "name": "stdout",
          "output_type": "stream",
          "text": [
            "+---------------------------------------------------------------------+\n",
            "|name|address|state|postcode|gender|consumer_id                       |\n",
            "+---------------------------------------------------------------------+\n",
            "|Yolanda Williams|413 Haney Gardens Apt. 742|WA|6935|Female|1195503   |\n",
            "|Mary Smith|3764 Amber Oval|NSW|2782|Female|179208                    |\n",
            "|Jill Jones MD|40693 Henry Greens|NT|862|Female|1194530               |\n",
            "|Lindsay Jimenez|00653 Davenport Crossroad|NSW|2780|Female|154128     |\n",
            "|Rebecca Blanchard|9271 Michael Manors Suite 651|WA|6355|Female|712975|\n",
            "+---------------------------------------------------------------------+\n",
            "only showing top 5 rows\n",
            "\n",
            "Before: \n",
            "The dataset count is  499999\n",
            "After: \n",
            "The dataset count is  499999\n"
          ]
        },
        {
          "data": {
            "text/html": [
              "<table border='1'>\n",
              "<tr><th>name</th><th>consumer_id</th><th>gender</th><th>state</th><th>postcode</th></tr>\n",
              "<tr><td>Yolanda Williams</td><td>1195503</td><td>Female</td><td>WA</td><td>6935</td></tr>\n",
              "<tr><td>Mary Smith</td><td>179208</td><td>Female</td><td>NSW</td><td>2782</td></tr>\n",
              "<tr><td>Jill Jones MD</td><td>1194530</td><td>Female</td><td>NT</td><td>862</td></tr>\n",
              "<tr><td>Lindsay Jimenez</td><td>154128</td><td>Female</td><td>NSW</td><td>2780</td></tr>\n",
              "<tr><td>Rebecca Blanchard</td><td>712975</td><td>Female</td><td>WA</td><td>6355</td></tr>\n",
              "</table>\n"
            ],
            "text/plain": [
              "+-----------------+-----------+------+-----+--------+\n",
              "|             name|consumer_id|gender|state|postcode|\n",
              "+-----------------+-----------+------+-----+--------+\n",
              "| Yolanda Williams|    1195503|Female|   WA|    6935|\n",
              "|       Mary Smith|     179208|Female|  NSW|    2782|\n",
              "|    Jill Jones MD|    1194530|Female|   NT|     862|\n",
              "|  Lindsay Jimenez|     154128|Female|  NSW|    2780|\n",
              "|Rebecca Blanchard|     712975|Female|   WA|    6355|\n",
              "+-----------------+-----------+------+-----+--------+"
            ]
          },
          "execution_count": 11,
          "metadata": {},
          "output_type": "execute_result"
        }
      ],
      "source": [
        "# Load consumer info's\n",
        "consumer_info = spark.read.csv(f\"{raw_path}/tables/tbl_consumer.csv\", header=True, inferSchema=True)\n",
        "consumer_info.show(5, truncate=False)\n",
        "\n",
        "# Clean the data\n",
        "consumer_info = clean_consumer_details(consumer_info)\n",
        "consumer_info.limit(5)"
      ]
    },
    {
      "cell_type": "markdown",
      "metadata": {},
      "source": [
        "We will also need to ensure that the datetime of all dataset with such column is within the specified range (labeled on the name of the intial downloaded file)"
      ]
    },
    {
      "cell_type": "code",
      "execution_count": 12,
      "metadata": {},
      "outputs": [
        {
          "name": "stderr",
          "output_type": "stream",
          "text": [
            "[Stage 61:=====================================================>  (23 + 1) / 24]\r"
          ]
        },
        {
          "name": "stdout",
          "output_type": "stream",
          "text": [
            "Starting entries: 14195505 \n",
            "Final entries: 12561377\n",
            "Net change (%): 11.51 \n"
          ]
        },
        {
          "name": "stderr",
          "output_type": "stream",
          "text": [
            "                                                                                \r"
          ]
        }
      ],
      "source": [
        "transaction_records = ensure_datetime_range(transaction_records, \"2021-02-28\", \"2022-08-28\")"
      ]
    },
    {
      "cell_type": "code",
      "execution_count": 13,
      "metadata": {},
      "outputs": [
        {
          "name": "stdout",
          "output_type": "stream",
          "text": [
            "Starting entries: 114 \n",
            "Final entries: 114\n",
            "Net change (%): 0.0 \n"
          ]
        }
      ],
      "source": [
        "merchant_fraud_rate = ensure_datetime_range(merchant_fraud_rate, \"2021-02-08\", \"2022-08-28\")"
      ]
    },
    {
      "cell_type": "code",
      "execution_count": 14,
      "metadata": {},
      "outputs": [
        {
          "name": "stdout",
          "output_type": "stream",
          "text": [
            "Starting entries: 34864 \n",
            "Final entries: 34864\n",
            "Net change (%): 0.0 \n"
          ]
        }
      ],
      "source": [
        "consumer_fraud_rate = ensure_datetime_range(consumer_fraud_rate, \"2021-02-08\", \"2022-08-28\")"
      ]
    },
    {
      "cell_type": "markdown",
      "metadata": {},
      "source": [
        "Next,  we check for any existing null values across all dataset."
      ]
    },
    {
      "cell_type": "code",
      "execution_count": 15,
      "metadata": {},
      "outputs": [
        {
          "name": "stdout",
          "output_type": "stream",
          "text": [
            "+----------------------------+-------------------------------+-------------------------+\n",
            "|order_datetime_missing_count|fraud_probability_missing_count|consumer_id_missing_count|\n",
            "+----------------------------+-------------------------------+-------------------------+\n",
            "|                           0|                              0|                        0|\n",
            "+----------------------------+-------------------------------+-------------------------+\n",
            "\n",
            "+--------------------------+----------------------------+-------------------------------+\n",
            "|merchant_abn_missing_count|order_datetime_missing_count|fraud_probability_missing_count|\n",
            "+--------------------------+----------------------------+-------------------------------+\n",
            "|                         0|                           0|                              0|\n",
            "+--------------------------+----------------------------+-------------------------------+\n",
            "\n"
          ]
        },
        {
          "name": "stderr",
          "output_type": "stream",
          "text": [
            "                                                                                \r"
          ]
        },
        {
          "name": "stdout",
          "output_type": "stream",
          "text": [
            "+------------------+-------------------------+--------------------+-------------------+----------------------+\n",
            "|name_missing_count|consumer_id_missing_count|gender_missing_count|state_missing_count|postcode_missing_count|\n",
            "+------------------+-------------------------+--------------------+-------------------+----------------------+\n",
            "|                 0|                        0|                   0|                  0|                     0|\n",
            "+------------------+-------------------------+--------------------+-------------------+----------------------+\n",
            "\n",
            "+------------------+--------------------------+----------------------+---------------------------+-----------------------+\n",
            "|name_missing_count|merchant_abn_missing_count|category_missing_count|revenue_level_missing_count|take_rate_missing_count|\n",
            "+------------------+--------------------------+----------------------+---------------------------+-----------------------+\n",
            "|                 0|                         0|                     0|                          0|                      0|\n",
            "+------------------+--------------------------+----------------------+---------------------------+-----------------------+\n",
            "\n"
          ]
        },
        {
          "name": "stderr",
          "output_type": "stream",
          "text": [
            "[Stage 92:=====================================>                  (16 + 8) / 24]\r"
          ]
        },
        {
          "name": "stdout",
          "output_type": "stream",
          "text": [
            "+--------------------------+--------------------------+----------------------+----------------------------+-------------------------+\n",
            "|merchant_abn_missing_count|dollar_value_missing_count|order_id_missing_count|order_datetime_missing_count|consumer_id_missing_count|\n",
            "+--------------------------+--------------------------+----------------------+----------------------------+-------------------------+\n",
            "|                         0|                         0|                     0|                           0|                        0|\n",
            "+--------------------------+--------------------------+----------------------+----------------------------+-------------------------+\n",
            "\n"
          ]
        },
        {
          "name": "stderr",
          "output_type": "stream",
          "text": [
            "                                                                                \r"
          ]
        }
      ],
      "source": [
        "# Check for Missing values\n",
        "calculate_missing_values(consumer_fraud_rate)\n",
        "calculate_missing_values(merchant_fraud_rate)\n",
        "calculate_missing_values(consumer_info)\n",
        "calculate_missing_values(merchant_info)\n",
        "calculate_missing_values(transaction_records)"
      ]
    },
    {
      "cell_type": "markdown",
      "metadata": {},
      "source": [
        "# Load\n",
        "\n",
        "We now export the curated into the `data/curated` directory for analysis and modelling."
      ]
    },
    {
      "cell_type": "code",
      "execution_count": 16,
      "metadata": {},
      "outputs": [],
      "source": [
        "landing_directory = \"../data/curated\""
      ]
    },
    {
      "cell_type": "code",
      "execution_count": 17,
      "metadata": {},
      "outputs": [
        {
          "ename": "AnalysisException",
          "evalue": "[PATH_ALREADY_EXISTS] Path file:/Users/alistaircheahwernhao/Documents/GitHub/MAST30034_Python/project-2-group-buy-now-pay-later-industry-project-9/data/curated/consumer_fraud_prob.parquet already exists. Set mode as \"overwrite\" to overwrite the existing path.",
          "output_type": "error",
          "traceback": [
            "\u001b[0;31m---------------------------------------------------------------------------\u001b[0m",
            "\u001b[0;31mAnalysisException\u001b[0m                         Traceback (most recent call last)",
            "Cell \u001b[0;32mIn[17], line 1\u001b[0m\n\u001b[0;32m----> 1\u001b[0m consumer_fraud_rate\u001b[38;5;241m.\u001b[39mwrite\u001b[38;5;241m.\u001b[39mparquet(\u001b[38;5;124mf\u001b[39m\u001b[38;5;124m\"\u001b[39m\u001b[38;5;132;01m{\u001b[39;00mlanding_directory\u001b[38;5;132;01m}\u001b[39;00m\u001b[38;5;124m/consumer_fraud_prob.parquet\u001b[39m\u001b[38;5;124m\"\u001b[39m)\n\u001b[1;32m      2\u001b[0m merchant_fraud_rate\u001b[38;5;241m.\u001b[39mwrite\u001b[38;5;241m.\u001b[39mparquet(\u001b[38;5;124mf\u001b[39m\u001b[38;5;124m\"\u001b[39m\u001b[38;5;132;01m{\u001b[39;00mlanding_directory\u001b[38;5;132;01m}\u001b[39;00m\u001b[38;5;124m/merchant_fraud_prob\u001b[39m\u001b[38;5;124m\"\u001b[39m)\n\u001b[1;32m      3\u001b[0m transaction_records\u001b[38;5;241m.\u001b[39mwrite\u001b[38;5;241m.\u001b[39mparquet(\u001b[38;5;124mf\u001b[39m\u001b[38;5;124m\"\u001b[39m\u001b[38;5;132;01m{\u001b[39;00mlanding_directory\u001b[38;5;132;01m}\u001b[39;00m\u001b[38;5;124m/transactions.parquet\u001b[39m\u001b[38;5;124m\"\u001b[39m)\n",
            "File \u001b[0;32m/opt/anaconda3/lib/python3.11/site-packages/pyspark/sql/readwriter.py:1721\u001b[0m, in \u001b[0;36mDataFrameWriter.parquet\u001b[0;34m(self, path, mode, partitionBy, compression)\u001b[0m\n\u001b[1;32m   1719\u001b[0m     \u001b[38;5;28mself\u001b[39m\u001b[38;5;241m.\u001b[39mpartitionBy(partitionBy)\n\u001b[1;32m   1720\u001b[0m \u001b[38;5;28mself\u001b[39m\u001b[38;5;241m.\u001b[39m_set_opts(compression\u001b[38;5;241m=\u001b[39mcompression)\n\u001b[0;32m-> 1721\u001b[0m \u001b[38;5;28mself\u001b[39m\u001b[38;5;241m.\u001b[39m_jwrite\u001b[38;5;241m.\u001b[39mparquet(path)\n",
            "File \u001b[0;32m/opt/anaconda3/lib/python3.11/site-packages/py4j/java_gateway.py:1322\u001b[0m, in \u001b[0;36mJavaMember.__call__\u001b[0;34m(self, *args)\u001b[0m\n\u001b[1;32m   1316\u001b[0m command \u001b[38;5;241m=\u001b[39m proto\u001b[38;5;241m.\u001b[39mCALL_COMMAND_NAME \u001b[38;5;241m+\u001b[39m\\\n\u001b[1;32m   1317\u001b[0m     \u001b[38;5;28mself\u001b[39m\u001b[38;5;241m.\u001b[39mcommand_header \u001b[38;5;241m+\u001b[39m\\\n\u001b[1;32m   1318\u001b[0m     args_command \u001b[38;5;241m+\u001b[39m\\\n\u001b[1;32m   1319\u001b[0m     proto\u001b[38;5;241m.\u001b[39mEND_COMMAND_PART\n\u001b[1;32m   1321\u001b[0m answer \u001b[38;5;241m=\u001b[39m \u001b[38;5;28mself\u001b[39m\u001b[38;5;241m.\u001b[39mgateway_client\u001b[38;5;241m.\u001b[39msend_command(command)\n\u001b[0;32m-> 1322\u001b[0m return_value \u001b[38;5;241m=\u001b[39m get_return_value(\n\u001b[1;32m   1323\u001b[0m     answer, \u001b[38;5;28mself\u001b[39m\u001b[38;5;241m.\u001b[39mgateway_client, \u001b[38;5;28mself\u001b[39m\u001b[38;5;241m.\u001b[39mtarget_id, \u001b[38;5;28mself\u001b[39m\u001b[38;5;241m.\u001b[39mname)\n\u001b[1;32m   1325\u001b[0m \u001b[38;5;28;01mfor\u001b[39;00m temp_arg \u001b[38;5;129;01min\u001b[39;00m temp_args:\n\u001b[1;32m   1326\u001b[0m     \u001b[38;5;28;01mif\u001b[39;00m \u001b[38;5;28mhasattr\u001b[39m(temp_arg, \u001b[38;5;124m\"\u001b[39m\u001b[38;5;124m_detach\u001b[39m\u001b[38;5;124m\"\u001b[39m):\n",
            "File \u001b[0;32m/opt/anaconda3/lib/python3.11/site-packages/pyspark/errors/exceptions/captured.py:185\u001b[0m, in \u001b[0;36mcapture_sql_exception.<locals>.deco\u001b[0;34m(*a, **kw)\u001b[0m\n\u001b[1;32m    181\u001b[0m converted \u001b[38;5;241m=\u001b[39m convert_exception(e\u001b[38;5;241m.\u001b[39mjava_exception)\n\u001b[1;32m    182\u001b[0m \u001b[38;5;28;01mif\u001b[39;00m \u001b[38;5;129;01mnot\u001b[39;00m \u001b[38;5;28misinstance\u001b[39m(converted, UnknownException):\n\u001b[1;32m    183\u001b[0m     \u001b[38;5;66;03m# Hide where the exception came from that shows a non-Pythonic\u001b[39;00m\n\u001b[1;32m    184\u001b[0m     \u001b[38;5;66;03m# JVM exception message.\u001b[39;00m\n\u001b[0;32m--> 185\u001b[0m     \u001b[38;5;28;01mraise\u001b[39;00m converted \u001b[38;5;28;01mfrom\u001b[39;00m \u001b[38;5;28;01mNone\u001b[39;00m\n\u001b[1;32m    186\u001b[0m \u001b[38;5;28;01melse\u001b[39;00m:\n\u001b[1;32m    187\u001b[0m     \u001b[38;5;28;01mraise\u001b[39;00m\n",
            "\u001b[0;31mAnalysisException\u001b[0m: [PATH_ALREADY_EXISTS] Path file:/Users/alistaircheahwernhao/Documents/GitHub/MAST30034_Python/project-2-group-buy-now-pay-later-industry-project-9/data/curated/consumer_fraud_prob.parquet already exists. Set mode as \"overwrite\" to overwrite the existing path."
          ]
        }
      ],
      "source": [
        "consumer_fraud_rate.write.parquet(f\"{landing_directory}/consumer_fraud_prob.parquet\")\n",
        "merchant_fraud_rate.write.parquet(f\"{landing_directory}/merchant_fraud_prob\")\n",
        "transaction_records.write.parquet(f\"{landing_directory}/transactions.parquet\")\n",
        "merchant_info.write.parquet(f\"{landing_directory}/merchant_info.parquet\")\n",
        "consumer_info.write.parquet(f\"{landing_directory}/consumer_info.parquet\")"
      ]
    },
    {
      "cell_type": "code",
      "execution_count": null,
      "metadata": {},
      "outputs": [
        {
          "name": "stdout",
          "output_type": "stream",
          "text": [
            "Summary statistic for consumer's fraud probability\n"
          ]
        },
        {
          "name": "stderr",
          "output_type": "stream",
          "text": [
            "                                                                                \r"
          ]
        },
        {
          "name": "stdout",
          "output_type": "stream",
          "text": [
            "+-------+-----------------+\n",
            "|summary|fraud_probability|\n",
            "+-------+-----------------+\n",
            "|  count|            34864|\n",
            "|   mean|15.12009064415455|\n",
            "| stddev| 9.94608484957805|\n",
            "|    min|8.287143531552802|\n",
            "|    max|99.24738020302328|\n",
            "+-------+-----------------+\n",
            "\n",
            "Summary statistics for merchant's fraud probability\n",
            "+-------+------------------+\n",
            "|summary| fraud_probability|\n",
            "+-------+------------------+\n",
            "|  count|               114|\n",
            "|   mean|40.419334695018094|\n",
            "| stddev|17.187744795432526|\n",
            "|    min| 18.21089142894488|\n",
            "|    max|  94.1347004808891|\n",
            "+-------+------------------+\n",
            "\n",
            "Summary statistics for dollar value of transaction records\n"
          ]
        },
        {
          "name": "stderr",
          "output_type": "stream",
          "text": [
            "[Stage 217:======================================>                (17 + 7) / 24]\r"
          ]
        },
        {
          "name": "stdout",
          "output_type": "stream",
          "text": [
            "+-------+--------------------+\n",
            "|summary|        dollar_value|\n",
            "+-------+--------------------+\n",
            "|  count|            12561377|\n",
            "|   mean|    166.339820365545|\n",
            "| stddev|   520.3624254515679|\n",
            "|    min|9.756658099412162E-8|\n",
            "|    max|  105193.88578925544|\n",
            "+-------+--------------------+\n",
            "\n"
          ]
        },
        {
          "name": "stderr",
          "output_type": "stream",
          "text": [
            "                                                                                \r"
          ]
        }
      ],
      "source": [
        "# Summary Statistics - This block should be move to preliminary analysis notebook\n",
        "print(f\"Summary statistic for consumer's fraud probability\")\n",
        "consumer_fraud_rate.select(F.col(\"fraud_probability\")).describe().show()\n",
        "\n",
        "print(f\"Summary statistics for merchant's fraud probability\")\n",
        "merchant_fraud_rate.select(F.col(\"fraud_probability\")).describe().show()\n",
        "\n",
        "print(f\"Summary statistics for dollar value of transaction records\")\n",
        "transaction_records.select(F.col(\"dollar_value\")).describe().show()"
      ]
    },
    {
      "cell_type": "markdown",
      "metadata": {},
      "source": [
        "In this section, we begin exploratory data analysis to gain a better understanding of the data and our variables"
      ]
    },
    {
      "cell_type": "code",
      "execution_count": null,
      "metadata": {},
      "outputs": [
        {
          "name": "stderr",
          "output_type": "stream",
          "text": [
            "                                                                                \r"
          ]
        },
        {
          "name": "stdout",
          "output_type": "stream",
          "text": [
            "+------------+-----------------+-------------------+------------+\n",
            "|merchant_abn|    total_revenue|average_order_value|total_orders|\n",
            "+------------+-----------------+-------------------+------------+\n",
            "| 39649557865|8712769.051186668|  449.1581117221707|       19398|\n",
            "| 27093785141|8695204.207713189| 377.16683472339673|       23054|\n",
            "| 96680767841|8679874.166938104| 315.16191013173466|       27541|\n",
            "| 79827781481|8657277.096810076| 2036.5271928511117|        4251|\n",
            "| 31334588839|8635672.313515192|  6368.489906722118|        1356|\n",
            "| 32709545238|8600526.478637582|  751.2689097342402|       11448|\n",
            "| 82368304209|8559519.374213614| 1865.6319473002645|        4588|\n",
            "| 50315283629|8513551.597928654| 322.37311514743664|       26409|\n",
            "| 90568944804|8510417.447779246|  898.9561051842448|        9467|\n",
            "| 38700038932|8482176.655705513| 1337.6717640286254|        6341|\n",
            "+------------+-----------------+-------------------+------------+\n",
            "only showing top 10 rows\n",
            "\n"
          ]
        },
        {
          "name": "stderr",
          "output_type": "stream",
          "text": [
            "                                                                                \r"
          ]
        },
        {
          "name": "stdout",
          "output_type": "stream",
          "text": [
            "The dataset count is  4422\n"
          ]
        },
        {
          "name": "stderr",
          "output_type": "stream",
          "text": [
            "[Stage 217:====================================>                  (16 + 8) / 24]\r"
          ]
        },
        {
          "name": "stdout",
          "output_type": "stream",
          "text": [
            "+--------------------------+---------------------------+---------------------------------+--------------------------+\n",
            "|merchant_abn_missing_count|total_revenue_missing_count|average_order_value_missing_count|total_orders_missing_count|\n",
            "+--------------------------+---------------------------+---------------------------------+--------------------------+\n",
            "|                         0|                          0|                                0|                         0|\n",
            "+--------------------------+---------------------------+---------------------------------+--------------------------+\n",
            "\n"
          ]
        },
        {
          "name": "stderr",
          "output_type": "stream",
          "text": [
            "                                                                                \r"
          ]
        }
      ],
      "source": [
        "from pyspark.sql import functions as F\n",
        "\n",
        "# Revenue analysis\n",
        "# Explore for each ABN, their total revenue, average order value and total number of orders\n",
        "merchant_performance = transaction_records.groupBy(\"merchant_abn\").agg(\n",
        "    F.sum(\"dollar_value\").alias(\"total_revenue\"),\n",
        "    F.avg(\"dollar_value\").alias(\"average_order_value\"),\n",
        "    F.count(\"dollar_value\").alias(\"total_orders\")\n",
        ")\n",
        "\n",
        "# Rank merchants by total revenue in descending order\n",
        "merchant_performance = merchant_performance.orderBy(F.col(\"total_revenue\").desc())\n",
        "merchant_performance.show(10)\n",
        "\n",
        "get_dataset_count(merchant_performance)\n",
        "calculate_missing_values(merchant_performance)"
      ]
    },
    {
      "cell_type": "code",
      "execution_count": null,
      "metadata": {},
      "outputs": [
        {
          "name": "stdout",
          "output_type": "stream",
          "text": [
            "+------------+-----------------------+\n",
            "|merchant_abn|merchant_avg_fraud_prob|\n",
            "+------------+-----------------------+\n",
            "| 99989036621|      18.21089142894488|\n",
            "| 90568944804|      30.72298492113958|\n",
            "| 29674997261|      44.43787807900268|\n",
            "| 27093785141|      28.88064813052203|\n",
            "| 19492220327|     31.958306675667547|\n",
            "| 76968105359|      68.27843632543912|\n",
            "| 97884414539|      89.79919971536573|\n",
            "| 82999039227|       94.1347004808891|\n",
            "| 83199298021|      31.93490297074105|\n",
            "| 93292821052|      66.58725735032715|\n",
            "| 43083074133|      48.66890735193894|\n",
            "| 15157368385|       64.2774131928303|\n",
            "| 76767266140|     29.539733207182703|\n",
            "| 96680767841|     29.555244690425017|\n",
            "| 35909341340|      29.13305311007307|\n",
            "| 72058040180|      33.71875978884334|\n",
            "| 19010030815|     51.033927919712056|\n",
            "| 39649557865|     28.690204286050616|\n",
            "| 48534649627|      28.56793296472796|\n",
            "| 85482742429|      70.88131110541714|\n",
            "+------------+-----------------------+\n",
            "only showing top 20 rows\n",
            "\n",
            "+--------------------------+-------------------------------------+\n",
            "|merchant_abn_missing_count|merchant_avg_fraud_prob_missing_count|\n",
            "+--------------------------+-------------------------------------+\n",
            "|                         0|                                    0|\n",
            "+--------------------------+-------------------------------------+\n",
            "\n"
          ]
        }
      ],
      "source": [
        "from pyspark.sql.functions import avg\n",
        "\n",
        "merchant_avg_fraud_prob = merchant_fraud_rate.groupBy(\"merchant_abn\").agg(avg(\"fraud_probability\").alias(\"merchant_avg_fraud_prob\"))\n",
        "\n",
        "merchant_avg_fraud_prob.show()\n",
        "\n",
        "calculate_missing_values(merchant_avg_fraud_prob)"
      ]
    },
    {
      "cell_type": "code",
      "execution_count": null,
      "metadata": {},
      "outputs": [
        {
          "name": "stderr",
          "output_type": "stream",
          "text": [
            "                                                                                \r"
          ]
        },
        {
          "name": "stdout",
          "output_type": "stream",
          "text": [
            "+------------+------------------+-------------------+------------+-----------------------+\n",
            "|merchant_abn|     total_revenue|average_order_value|total_orders|merchant_avg_fraud_prob|\n",
            "+------------+------------------+-------------------+------------+-----------------------+\n",
            "| 82999039227|1265863.7468289626| 16439.788919856655|          77|       94.1347004808891|\n",
            "| 35575706403|   756768.16345307| 11295.047215717463|          67|      91.09606847149965|\n",
            "| 97884414539|  623707.133355778| 11137.627381353177|          56|      89.79919971536573|\n",
            "| 14530561097| 1819182.993382527| 11025.351475045618|         165|      80.80054474543395|\n",
            "| 23686790459| 673775.4359598871|  17730.93252526019|          38|       79.4543441508535|\n",
            "| 18737319630| 39719.82955985059|  201.6235003038101|         197|      72.73069736562613|\n",
            "| 85482742429|34194.427896739355|  71.53646003501957|         478|      70.88131110541714|\n",
            "| 78080443264| 19336.11299420864| 20.247238737391246|         955|       69.0953172336121|\n",
            "| 76968105359|191633.82993886332|  293.9169170841462|         652|      68.27843632543912|\n",
            "| 80089686333| 82881.52553626813|    87.151972172732|         951|       67.5058112247036|\n",
            "+------------+------------------+-------------------+------------+-----------------------+\n",
            "only showing top 10 rows\n",
            "\n"
          ]
        },
        {
          "name": "stderr",
          "output_type": "stream",
          "text": [
            "                                                                                \r"
          ]
        },
        {
          "name": "stdout",
          "output_type": "stream",
          "text": [
            "The dataset count is  4422\n"
          ]
        },
        {
          "name": "stderr",
          "output_type": "stream",
          "text": [
            "[Stage 161:======================================>                (17 + 7) / 24]\r"
          ]
        },
        {
          "name": "stdout",
          "output_type": "stream",
          "text": [
            "+--------------------------+---------------------------+---------------------------------+--------------------------+-------------------------------------+\n",
            "|merchant_abn_missing_count|total_revenue_missing_count|average_order_value_missing_count|total_orders_missing_count|merchant_avg_fraud_prob_missing_count|\n",
            "+--------------------------+---------------------------+---------------------------------+--------------------------+-------------------------------------+\n",
            "|                         0|                          0|                                0|                         0|                                 4361|\n",
            "+--------------------------+---------------------------+---------------------------------+--------------------------+-------------------------------------+\n",
            "\n"
          ]
        },
        {
          "name": "stderr",
          "output_type": "stream",
          "text": [
            "                                                                                \r"
          ]
        }
      ],
      "source": [
        "# Risk Analysis\n",
        "# Combine revenue analysis with fraud probabilities\n",
        "merchant_performance_risk = merchant_performance.join(merchant_avg_fraud_prob, on=\"merchant_abn\", how=\"left\")\n",
        "\n",
        "# Rank merchants by fraud probability in descending order\n",
        "merchant_performance_risk = merchant_performance_risk.orderBy(F.col(\"merchant_avg_fraud_prob\").desc())\n",
        "merchant_performance_risk.show(10)\n",
        "\n",
        "get_dataset_count(merchant_performance_risk)\n",
        "calculate_missing_values(merchant_performance_risk)"
      ]
    },
    {
      "cell_type": "code",
      "execution_count": null,
      "metadata": {},
      "outputs": [
        {
          "name": "stderr",
          "output_type": "stream",
          "text": [
            "                                                                                \r"
          ]
        },
        {
          "name": "stdout",
          "output_type": "stream",
          "text": [
            "+------------+-----------------+-------------------+------------+-----------------------+--------------------+--------------------+-------------+---------+------------------+\n",
            "|merchant_abn|    total_revenue|average_order_value|total_orders|merchant_avg_fraud_prob|                name|            category|revenue_level|take_rate|       net_revenue|\n",
            "+------------+-----------------+-------------------+------------+-----------------------+--------------------+--------------------+-------------+---------+------------------+\n",
            "| 79827781481|8657277.096810076| 2036.5271928511117|        4251|        29.735159306496|     Amet Risus Inc.|furniture, home f...|            a|     6.82| 590426.2980024472|\n",
            "| 48534649627|8316735.671846781| 141.71825290699124|       58685|      28.56793296472796|Dignissim Maecena...|opticians, optica...|            a|     6.64| 552231.2486106262|\n",
            "| 32361057556|8339994.520798449| 109.94943536575283|       75853|                   NULL|Orci In Consequat...|gift, card, novel...|            a|     6.61| 551273.6378247775|\n",
            "| 86578477987| 8443178.69673172|  34.98516050954569|      241336|                   NULL|   Leo In Consulting|watch, clock, and...|            a|     6.43| 542896.3901998496|\n",
            "| 38700038932|8482176.655705513| 1337.6717640286254|        6341|                   NULL|Etiam Bibendum In...|tent and awning s...|            a|     6.31| 535225.3469750178|\n",
            "| 45629217853|7436925.452881992|  36.84747288748943|      201830|                   NULL|    Lacus Consulting|gift, card, novel...|            a|     6.98| 519097.3966111631|\n",
            "| 96680767841|8679874.166938104| 315.16191013173466|       27541|     29.555244690425017|      Ornare Limited|motor vehicle sup...|            a|     5.91| 512980.5632660419|\n",
            "| 21439773999| 8337853.95527149|  78.12538843438674|      106724|     28.504479048104585|Mauris Non Institute|cable, satellite,...|            a|      6.1| 508609.0912715609|\n",
            "| 63123845164|7570160.924957568|  751.3807369684931|       10075|                   NULL|Odio Phasellus In...|artist supply and...|            a|     6.59|498873.60495470365|\n",
            "| 64403598239|7842635.605858918|  78.11856889713447|      100394|                   NULL|Lobortis Ultrices...|music shops - mus...|            a|     6.31|494870.30672969774|\n",
            "+------------+-----------------+-------------------+------------+-----------------------+--------------------+--------------------+-------------+---------+------------------+\n",
            "only showing top 10 rows\n",
            "\n"
          ]
        },
        {
          "name": "stderr",
          "output_type": "stream",
          "text": [
            "                                                                                \r"
          ]
        },
        {
          "name": "stdout",
          "output_type": "stream",
          "text": [
            "+------------+------------------+-------------------+------------+-----------------------+--------------------+--------------------+-------------+---------+------------------+\n",
            "|merchant_abn|     total_revenue|average_order_value|total_orders|merchant_avg_fraud_prob|                name|            category|revenue_level|take_rate|       net_revenue|\n",
            "+------------+------------------+-------------------+------------+-----------------------+--------------------+--------------------+-------------+---------+------------------+\n",
            "| 55622580330| 9882.349660396516| 380.09037155371215|          26|                   NULL|           Lacus LLP|books, periodical...|            e|      0.1| 9.882349660396518|\n",
            "| 25019506172| 21967.78175906219|  708.6381212600706|          31|                   NULL|      Proin Vel Inc.|stationery, offic...|            e|     0.16|35.148450814499505|\n",
            "| 57079678065| 20034.94391058681|  33.95753205184205|         590|                   NULL|Hendrerit Donec L...|digital goods: bo...|            e|     0.18| 36.06289903905626|\n",
            "| 64196096120|16159.062319142533| 103.58373281501623|         156|                   NULL| Turpis Incorporated|gift, card, novel...|            e|     0.23| 37.16584333402783|\n",
            "| 46391946761|13442.350338334347|  896.1566892222897|          15|                   NULL|Libero Nec Ligula...|stationery, offic...|            e|     0.37| 49.73669625183708|\n",
            "| 78080443264| 19336.11299420864| 20.247238737391246|         955|       69.0953172336121|Nullam Enim Sed I...|tent and awning s...|            e|     0.27| 52.20750508436334|\n",
            "| 19995295153|23892.172485781237|  51.71465906013255|         462|                   NULL|Risus Nulla Insti...|bicycle shops - s...|            e|     0.22|52.562779468718716|\n",
            "| 46537010521|2429.9124041125897| 2429.9124041125897|           1|                   NULL|Tempor Augue Ac C...|jewelry, watch, c...|            c|     2.18|52.972090409654456|\n",
            "| 59358011432|22627.427117300405|  83.49604102324872|         271|                   NULL|Lacinia Orci Asso...|digital goods: bo...|            e|     0.24| 54.30582508152097|\n",
            "| 79008028287| 18710.78070084977|  26.61561977361276|         703|                   NULL|Feugiat Nec Diam LLC|computers, comput...|            e|      0.3| 56.13234210254931|\n",
            "+------------+------------------+-------------------+------------+-----------------------+--------------------+--------------------+-------------+---------+------------------+\n",
            "only showing top 10 rows\n",
            "\n"
          ]
        },
        {
          "name": "stderr",
          "output_type": "stream",
          "text": [
            "                                                                                \r"
          ]
        },
        {
          "name": "stdout",
          "output_type": "stream",
          "text": [
            "The dataset count is  4026\n"
          ]
        },
        {
          "name": "stderr",
          "output_type": "stream",
          "text": [
            "[Stage 199:====================================>                  (16 + 8) / 24]\r"
          ]
        },
        {
          "name": "stdout",
          "output_type": "stream",
          "text": [
            "+--------------------------+---------------------------+---------------------------------+--------------------------+-------------------------------------+------------------+----------------------+---------------------------+-----------------------+-------------------------+\n",
            "|merchant_abn_missing_count|total_revenue_missing_count|average_order_value_missing_count|total_orders_missing_count|merchant_avg_fraud_prob_missing_count|name_missing_count|category_missing_count|revenue_level_missing_count|take_rate_missing_count|net_revenue_missing_count|\n",
            "+--------------------------+---------------------------+---------------------------------+--------------------------+-------------------------------------+------------------+----------------------+---------------------------+-----------------------+-------------------------+\n",
            "|                         0|                          0|                                0|                         0|                                 3978|                 0|                     0|                          0|                      0|                        0|\n",
            "+--------------------------+---------------------------+---------------------------------+--------------------------+-------------------------------------+------------------+----------------------+---------------------------+-----------------------+-------------------------+\n",
            "\n"
          ]
        },
        {
          "name": "stderr",
          "output_type": "stream",
          "text": [
            "                                                                                \r"
          ]
        }
      ],
      "source": [
        "# Profitability analysis\n",
        "# Combine previous merchant_performance_risk with merchants_info to get take_rate and revenue_level\n",
        "merchant_profitability = merchant_performance_risk.join(merchant_info, on=\"merchant_abn\", how=\"inner\")\n",
        "\n",
        "# Calculate net revenue\n",
        "merchant_profitability = merchant_profitability.withColumn(\n",
        "    \"net_revenue\", F.col(\"total_revenue\") * F.col(\"take_rate\")/100\n",
        ")\n",
        "\n",
        "# Rank merchants by profitability in descending order\n",
        "merchant_profitability.orderBy(F.col(\"net_revenue\").desc()).show(10)\n",
        "\n",
        "\n",
        "# Rank merchants by profitability in ascending order\n",
        "merchant_profitability.orderBy(F.col(\"net_revenue\").asc()).show(10)\n",
        "\n",
        "get_dataset_count(merchant_profitability)\n",
        "calculate_missing_values(merchant_profitability)"
      ]
    },
    {
      "cell_type": "code",
      "execution_count": 18,
      "metadata": {},
      "outputs": [
        {
          "name": "stderr",
          "output_type": "stream",
          "text": [
            "                                                                                \r"
          ]
        },
        {
          "name": "stdout",
          "output_type": "stream",
          "text": [
            "The dataset count is  12561589\n"
          ]
        },
        {
          "name": "stderr",
          "output_type": "stream",
          "text": [
            "                                                                                \r"
          ]
        },
        {
          "name": "stdout",
          "output_type": "stream",
          "text": [
            "+-------------------------+----------------------------+--------------------------+--------------------------+----------------------+----------------------------------------+\n",
            "|consumer_id_missing_count|order_datetime_missing_count|merchant_abn_missing_count|dollar_value_missing_count|order_id_missing_count|consumer_fraud_probability_missing_count|\n",
            "+-------------------------+----------------------------+--------------------------+--------------------------+----------------------+----------------------------------------+\n",
            "|                        0|                           0|                         0|                         0|                     0|                                12481029|\n",
            "+-------------------------+----------------------------+--------------------------+--------------------------+----------------------+----------------------------------------+\n",
            "\n"
          ]
        },
        {
          "name": "stderr",
          "output_type": "stream",
          "text": [
            "                                                                                \r"
          ]
        },
        {
          "name": "stdout",
          "output_type": "stream",
          "text": [
            "The dataset count is  12561589\n"
          ]
        },
        {
          "name": "stderr",
          "output_type": "stream",
          "text": [
            "                                                                                \r"
          ]
        },
        {
          "name": "stdout",
          "output_type": "stream",
          "text": [
            "+--------------------------+----------------------------+-------------------------+--------------------------+----------------------+----------------------------------------+----------------------------------------+\n",
            "|merchant_abn_missing_count|order_datetime_missing_count|consumer_id_missing_count|dollar_value_missing_count|order_id_missing_count|consumer_fraud_probability_missing_count|merchant_fraud_probability_missing_count|\n",
            "+--------------------------+----------------------------+-------------------------+--------------------------+----------------------+----------------------------------------+----------------------------------------+\n",
            "|                         0|                           0|                        0|                         0|                     0|                                12481029|                                12557495|\n",
            "+--------------------------+----------------------------+-------------------------+--------------------------+----------------------+----------------------------------------+----------------------------------------+\n",
            "\n"
          ]
        },
        {
          "name": "stderr",
          "output_type": "stream",
          "text": [
            "                                                                                \r"
          ]
        },
        {
          "name": "stdout",
          "output_type": "stream",
          "text": [
            "The dataset count is  12047496\n"
          ]
        },
        {
          "name": "stderr",
          "output_type": "stream",
          "text": [
            "                                                                                \r"
          ]
        },
        {
          "name": "stdout",
          "output_type": "stream",
          "text": [
            "+--------------------------+----------------------------+-------------------------+--------------------------+----------------------+----------------------------------------+----------------------------------------+------------------+----------------------+---------------------------+-----------------------+\n",
            "|merchant_abn_missing_count|order_datetime_missing_count|consumer_id_missing_count|dollar_value_missing_count|order_id_missing_count|consumer_fraud_probability_missing_count|merchant_fraud_probability_missing_count|name_missing_count|category_missing_count|revenue_level_missing_count|take_rate_missing_count|\n",
            "+--------------------------+----------------------------+-------------------------+--------------------------+----------------------+----------------------------------------+----------------------------------------+------------------+----------------------+---------------------------+-----------------------+\n",
            "|                         0|                           0|                        0|                         0|                     0|                                11975680|                                12043468|                 0|                     0|                          0|                      0|\n",
            "+--------------------------+----------------------------+-------------------------+--------------------------+----------------------+----------------------------------------+----------------------------------------+------------------+----------------------+---------------------------+-----------------------+\n",
            "\n"
          ]
        },
        {
          "name": "stderr",
          "output_type": "stream",
          "text": [
            "                                                                                \r"
          ]
        },
        {
          "name": "stdout",
          "output_type": "stream",
          "text": [
            "+------------+-----------------+-------------------+------------+\n",
            "|merchant_abn|    total_revenue|average_order_value|total_orders|\n",
            "+------------+-----------------+-------------------+------------+\n",
            "| 39649557865|8713454.729181942|  449.1471509887599|       19400|\n",
            "| 31334588839|  8710106.7140746|  6413.922469863476|        1358|\n",
            "| 27093785141|8695204.207713189| 377.16683472339673|       23054|\n",
            "| 96680767841|8679874.166938104| 315.16191013173466|       27541|\n",
            "| 79827781481|8657277.096810076| 2036.5271928511117|        4251|\n",
            "| 32709545238|8600648.766611943|  751.2139721034101|       11449|\n",
            "| 82368304209|8559519.374213614| 1865.6319473002645|        4588|\n",
            "| 50315283629|8513752.395678472|   322.368511763668|       26410|\n",
            "| 90568944804|8510417.447779246|  898.9561051842448|        9467|\n",
            "| 38700038932|8482176.655705513| 1337.6717640286254|        6341|\n",
            "+------------+-----------------+-------------------+------------+\n",
            "only showing top 10 rows\n",
            "\n"
          ]
        },
        {
          "name": "stderr",
          "output_type": "stream",
          "text": [
            "                                                                                \r"
          ]
        },
        {
          "name": "stdout",
          "output_type": "stream",
          "text": [
            "+------------+-----------------------+-----------------------+------------------+-------------------+------------+\n",
            "|merchant_abn|merchant_avg_fraud_prob|consumer_avg_fraud_prob|     total_revenue|average_order_value|total_orders|\n",
            "+------------+-----------------------+-----------------------+------------------+-------------------+------------+\n",
            "| 35575706403|      91.09606847149965|      34.77680586570184| 806977.6688917433| 11867.318660172696|          68|\n",
            "| 97884414539|      89.79919971536573|      32.40204688123495| 668322.1558769114| 11724.950103103709|          57|\n",
            "| 14530561097|      80.80054474543395|      31.83820084048247| 1900373.358533844| 11379.481188825412|         167|\n",
            "| 18737319630|      72.73069736562613|      9.716308521768319| 39719.82955985059|  201.6235003038101|         197|\n",
            "| 85482742429|      70.88131110541714|     13.662992056430278|34194.427896739355|  71.53646003501957|         478|\n",
            "| 78080443264|      69.09531723361212|     12.295498809402012| 19336.11299420864| 20.247238737391246|         955|\n",
            "| 76968105359|       68.2784363254391|     12.350550336188098|191633.82993886332|  293.9169170841462|         652|\n",
            "| 80089686333|       67.5058112247036|      18.21383768928501| 82881.52553626813|    87.151972172732|         951|\n",
            "| 79100970961|       67.1177397510102|       35.0480085608117|1105901.4104871452| 16505.991201300676|          67|\n",
            "| 93292821052|      66.58725735032715|                   NULL|114082.48981705838| 262.25859728059396|         435|\n",
            "+------------+-----------------------+-----------------------+------------------+-------------------+------------+\n",
            "only showing top 10 rows\n",
            "\n"
          ]
        },
        {
          "name": "stderr",
          "output_type": "stream",
          "text": [
            "[Stage 192:=============================================>         (20 + 4) / 24]\r"
          ]
        },
        {
          "name": "stdout",
          "output_type": "stream",
          "text": [
            "+------------+------------------+-----------------+-------------------+------------+-----------------------+-----------------------+\n",
            "|merchant_abn| total_net_revenue|    total_revenue|average_order_value|total_orders|merchant_avg_fraud_prob|consumer_avg_fraud_prob|\n",
            "+------------+------------------+-----------------+-------------------+------------+-----------------------+-----------------------+\n",
            "| 79827781481| 590426.2980024472|8657277.096810076| 2036.5271928511117|        4251|     29.694380203418124|     12.773830702266268|\n",
            "| 48534649627| 552231.2486106264|8316735.671846781| 141.71825290699124|       58685|     28.576898179225296|     14.902087132634945|\n",
            "| 32361057556| 551286.8853157675|8340194.936698451| 109.94917852084174|       75855|                   NULL|     15.816853351282546|\n",
            "| 86578477987| 542906.0687302679| 8443329.21820013|  34.98505938982655|      241341|                   NULL|     15.121133124846919|\n",
            "| 38700038932| 535225.3469750176|8482176.655705513| 1337.6717640286254|        6341|                   NULL|     11.164228026866114|\n",
            "| 45629217853| 519102.3703204009|7436996.709461333| 36.847095679921786|      201834|                   NULL|     15.429039789934956|\n",
            "| 96680767841| 512980.5632660417|8679874.166938104| 315.16191013173466|       27541|     29.555244690424946|     14.681584730926254|\n",
            "| 21439773999|508624.77821376844|8338111.118258495|  78.12560194007604|      106727|     28.504479048104358|     15.102006498508809|\n",
            "| 63123845164| 498873.6049547036|7570160.924957568|  751.3807369684931|       10075|                   NULL|     11.570886106200383|\n",
            "| 64403598239| 494880.5164593875|7842797.408231176|   78.1186243299651|      100396|                   NULL|      14.90158274285245|\n",
            "+------------+------------------+-----------------+-------------------+------------+-----------------------+-----------------------+\n",
            "only showing top 10 rows\n",
            "\n"
          ]
        },
        {
          "name": "stderr",
          "output_type": "stream",
          "text": [
            "                                                                                \r"
          ]
        }
      ],
      "source": [
        "# Rename fraud_probability in the merchant fraud dataset to 'merchant_fraud_probability'\n",
        "merchant_fraud_rate = merchant_fraud_rate.withColumnRenamed(\"fraud_probability\", \"merchant_fraud_probability\")\n",
        "\n",
        "# Rename fraud_probability in the consumer fraud dataset to 'consumer_fraud_probability'\n",
        "consumer_fraud_rate = consumer_fraud_rate.withColumnRenamed(\"fraud_probability\", \"consumer_fraud_probability\")\n",
        "\n",
        "# Join transaction_records with consumer fraud data\n",
        "transaction_records_with_consumer_fraud = transaction_records.join(\n",
        "    consumer_fraud_rate, \n",
        "    on=[\"consumer_id\", \"order_datetime\"], \n",
        "    how=\"left\"\n",
        ")\n",
        "\n",
        "get_dataset_count(transaction_records_with_consumer_fraud)\n",
        "calculate_missing_values(transaction_records_with_consumer_fraud)\n",
        "\n",
        "# Join transaction records with merchant fraud data\n",
        "transaction_records_with_fraud = transaction_records_with_consumer_fraud.join(\n",
        "    merchant_fraud_rate, \n",
        "    on=[\"merchant_abn\", \"order_datetime\"], \n",
        "    how=\"left\"\n",
        ")\n",
        "\n",
        "get_dataset_count(transaction_records_with_fraud)\n",
        "calculate_missing_values(transaction_records_with_fraud)\n",
        "\n",
        "# Join transaction records with merchant info\n",
        "transaction_records_final = transaction_records_with_fraud.join(\n",
        "    merchant_info, \n",
        "    on=\"merchant_abn\", \n",
        "    how=\"inner\"\n",
        ")\n",
        "\n",
        "get_dataset_count(transaction_records_final)\n",
        "calculate_missing_values(transaction_records_final)\n",
        "\n",
        "# Revenue analysis\n",
        "merchant_performance = transaction_records_final.groupBy(\"merchant_abn\").agg(\n",
        "    F.sum(\"dollar_value\").alias(\"total_revenue\"),\n",
        "    F.avg(\"dollar_value\").alias(\"average_order_value\"),\n",
        "    F.count(\"dollar_value\").alias(\"total_orders\")\n",
        ")\n",
        "\n",
        "# Rank merchants by total revenue in descending order\n",
        "merchant_performance = merchant_performance.orderBy(F.col(\"total_revenue\").desc())\n",
        "merchant_performance.show(10)\n",
        "\n",
        "# Risk analysis\n",
        "merchant_performance_risk = transaction_records_final.groupBy(\"merchant_abn\").agg(\n",
        "    F.avg(\"merchant_fraud_probability\").alias(\"merchant_avg_fraud_prob\"),\n",
        "    F.avg(\"consumer_fraud_probability\").alias(\"consumer_avg_fraud_prob\"),\n",
        "    F.sum(\"dollar_value\").alias(\"total_revenue\"),\n",
        "    F.avg(\"dollar_value\").alias(\"average_order_value\"),\n",
        "    F.count(\"dollar_value\").alias(\"total_orders\")\n",
        ")\n",
        "\n",
        "# Rank merchants by fraud probability in descending order\n",
        "merchant_performance_risk = merchant_performance_risk.orderBy(F.col(\"merchant_avg_fraud_prob\").desc())\n",
        "merchant_performance_risk.show(10)\n",
        "\n",
        "# Profitability analysis\n",
        "# Calculate net revenue at the transaction level before aggregation\n",
        "transaction_records_final = transaction_records_final.withColumn(\n",
        "    \"net_revenue\", F.col(\"dollar_value\") * F.col(\"take_rate\")/100\n",
        ")\n",
        "\n",
        "# Aggregate net_revenue at the merchant level\n",
        "merchant_profitability = transaction_records_final.groupBy(\"merchant_abn\").agg(\n",
        "    F.sum(\"net_revenue\").alias(\"total_net_revenue\"),\n",
        "    F.sum(\"dollar_value\").alias(\"total_revenue\"),\n",
        "    F.avg(\"dollar_value\").alias(\"average_order_value\"),\n",
        "    F.count(\"dollar_value\").alias(\"total_orders\"),\n",
        "    F.avg(\"merchant_fraud_probability\").alias(\"merchant_avg_fraud_prob\"),\n",
        "    F.avg(\"consumer_fraud_probability\").alias(\"consumer_avg_fraud_prob\")\n",
        ")\n",
        "\n",
        "# Rank merchants by profitability in descending order\n",
        "merchant_profitability.orderBy(F.col(\"total_net_revenue\").desc()).show(10)\n",
        "\n"
      ]
    },
    {
      "cell_type": "code",
      "execution_count": 19,
      "metadata": {},
      "outputs": [
        {
          "name": "stderr",
          "output_type": "stream",
          "text": [
            "                                                                                \r"
          ]
        },
        {
          "data": {
            "image/png": "[encoded data removed]",
            "text/plain": [
              "<Figure size 1000x600 with 1 Axes>"
            ]
          },
          "metadata": {},
          "output_type": "display_data"
        },
        {
          "data": {
            "image/png": "[encoded data removed]",
            "text/plain": [
              "<Figure size 1000x600 with 1 Axes>"
            ]
          },
          "metadata": {},
          "output_type": "display_data"
        },
        {
          "data": {
            "image/png": "[encoded data removed]",
            "text/plain": [
              "<Figure size 1000x600 with 1 Axes>"
            ]
          },
          "metadata": {},
          "output_type": "display_data"
        }
      ],
      "source": [
        "import matplotlib.pyplot as plt\n",
        "\n",
        "# Convert columns to Pandas for plotting\n",
        "df_pandas = transaction_records_final.select(\"dollar_value\", \"merchant_fraud_probability\", \"consumer_fraud_probability\").toPandas()\n",
        "\n",
        "# Plot the distribution for dollar_value\n",
        "plt.figure(figsize=(10, 6))\n",
        "plt.hist(df_pandas['dollar_value'], bins=50, color='blue', alpha=0.7)\n",
        "plt.title(\"Dollar Value Distribution (Before Removing Outliers)\")\n",
        "plt.xlabel(\"Dollar Value\")\n",
        "plt.ylabel(\"Frequency\")\n",
        "plt.show()\n",
        "\n",
        "# Plot the distribution for fraud_probability (merchant)\n",
        "plt.figure(figsize=(10, 6))\n",
        "plt.hist(df_pandas['merchant_fraud_probability'], bins=50, color='green', alpha=0.7)\n",
        "plt.title(\"Merchant Fraud Probability Distribution (Before Removing Outliers)\")\n",
        "plt.xlabel(\"Merchant Fraud Probability\")\n",
        "plt.ylabel(\"Frequency\")\n",
        "plt.show()\n",
        "\n",
        "# Plot the distribution for fraud_probability (consumer)\n",
        "plt.figure(figsize=(10, 6))\n",
        "plt.hist(df_pandas['consumer_fraud_probability'], bins=50, color='red', alpha=0.7)\n",
        "plt.title(\"Consumer Fraud Probability Distribution (Before Removing Outliers)\")\n",
        "plt.xlabel(\"Consumer Fraud Probability\")\n",
        "plt.ylabel(\"Frequency\")\n",
        "plt.show()\n"
      ]
    },
    {
      "cell_type": "markdown",
      "metadata": {},
      "source": [
        "Make analysis on what's the average take rate for each revenue level -> how much money is the BNPL firm make from each revenue level (for example using the total revenue * average take rate) ----> Incorrect description?"
      ]
    },
    {
      "cell_type": "code",
      "execution_count": null,
      "metadata": {},
      "outputs": [
        {
          "data": {
            "text/html": [
              "<table border='1'>\n",
              "<tr><th>revenue_level</th><th>avg(take_rate)</th></tr>\n",
              "<tr><td>e</td><td>0.3147169811320755</td></tr>\n",
              "<tr><td>d</td><td>0.9912244897959185</td></tr>\n",
              "<tr><td>c</td><td>2.2512039045553167</td></tr>\n",
              "<tr><td>b</td><td>4.094056254626199</td></tr>\n",
              "<tr><td>a</td><td>6.232297128589269</td></tr>\n",
              "</table>\n"
            ],
            "text/plain": [
              "+-------------+------------------+\n",
              "|revenue_level|    avg(take_rate)|\n",
              "+-------------+------------------+\n",
              "|            e|0.3147169811320755|\n",
              "|            d|0.9912244897959185|\n",
              "|            c|2.2512039045553167|\n",
              "|            b| 4.094056254626199|\n",
              "|            a| 6.232297128589269|\n",
              "+-------------+------------------+"
            ]
          },
          "execution_count": 39,
          "metadata": {},
          "output_type": "execute_result"
        }
      ],
      "source": [
        "merchant_info.groupBy(F.col(\"revenue_level\")).agg(F.avg(F.col(\"take_rate\"))) # average commission rate of each revenue level"
      ]
    },
    {
      "cell_type": "code",
      "execution_count": null,
      "metadata": {},
      "outputs": [
        {
          "name": "stderr",
          "output_type": "stream",
          "text": [
            "                                                                                \r"
          ]
        },
        {
          "data": {
            "text/html": [
              "<table border='1'>\n",
              "<tr><th>revenue_level</th><th>sum(net_revenue)</th></tr>\n",
              "<tr><td>e</td><td>70477.14753451252</td></tr>\n",
              "<tr><td>d</td><td>371231.6335187635</td></tr>\n",
              "<tr><td>c</td><td>1.0148181653801005E7</td></tr>\n",
              "<tr><td>b</td><td>3.167370164609193E7</td></tr>\n",
              "<tr><td>a</td><td>5.409203241463862E7</td></tr>\n",
              "</table>\n"
            ],
            "text/plain": [
              "+-------------+--------------------+\n",
              "|revenue_level|    sum(net_revenue)|\n",
              "+-------------+--------------------+\n",
              "|            e|   70477.14753451252|\n",
              "|            d|   371231.6335187635|\n",
              "|            c|1.0148181653801005E7|\n",
              "|            b| 3.167370164609193E7|\n",
              "|            a| 5.409203241463862E7|\n",
              "+-------------+--------------------+"
            ]
          },
          "execution_count": 19,
          "metadata": {},
          "output_type": "execute_result"
        }
      ],
      "source": [
        "net_revenue_level = merchant_profitability.groupBy('revenue_level').sum('net_revenue') #sum up the net_revenue of BNPL firm for each level\n",
        "net_revenue_level\n",
        "#Data shows that make the most net_revenue from small "
      ]
    },
    {
      "cell_type": "code",
      "execution_count": null,
      "metadata": {},
      "outputs": [
        {
          "name": "stderr",
          "output_type": "stream",
          "text": [
            "                                                                                \r"
          ]
        },
        {
          "data": {
            "text/html": [
              "<table border='1'>\n",
              "<tr><th>revenue_level</th><th>count</th></tr>\n",
              "<tr><td>e</td><td>53</td></tr>\n",
              "<tr><td>d</td><td>98</td></tr>\n",
              "<tr><td>c</td><td>922</td></tr>\n",
              "<tr><td>b</td><td>1351</td></tr>\n",
              "<tr><td>a</td><td>1602</td></tr>\n",
              "</table>\n"
            ],
            "text/plain": [
              "+-------------+-----+\n",
              "|revenue_level|count|\n",
              "+-------------+-----+\n",
              "|            e|   53|\n",
              "|            d|   98|\n",
              "|            c|  922|\n",
              "|            b| 1351|\n",
              "|            a| 1602|\n",
              "+-------------+-----+"
            ]
          },
          "execution_count": 20,
          "metadata": {},
          "output_type": "execute_result"
        }
      ],
      "source": [
        "# Count the occurrences of each revenue level\n",
        "merchant_profitability.groupBy('revenue_level').count()"
      ]
    },
    {
      "cell_type": "code",
      "execution_count": null,
      "metadata": {},
      "outputs": [
        {
          "name": "stderr",
          "output_type": "stream",
          "text": [
            "                                                                                \r"
          ]
        },
        {
          "data": {
            "text/plain": [
              "48"
            ]
          },
          "execution_count": 41,
          "metadata": {},
          "output_type": "execute_result"
        }
      ],
      "source": [
        "# Count the number of merchants with a fraud probability\n",
        "fraudulent_merchants_count = merchant_profitability.filter(col(\"merchant_avg_fraud_prob\").isNotNull()).select(\"merchant_abn\").distinct().count()\n",
        "\n",
        "fraudulent_merchants_count"
      ]
    },
    {
      "cell_type": "code",
      "execution_count": null,
      "metadata": {},
      "outputs": [
        {
          "name": "stderr",
          "output_type": "stream",
          "text": [
            "[Stage 271:======================================>                (17 + 7) / 24]\r"
          ]
        },
        {
          "name": "stdout",
          "output_type": "stream",
          "text": [
            "+-------------+-----------------------+\n",
            "|revenue_level|merchant_avg_fraud_prob|\n",
            "+-------------+-----------------------+\n",
            "|            e|       69.0953172336121|\n",
            "|            d|      63.37734364737917|\n",
            "|            c|     47.598333195887776|\n",
            "|            b|      43.88868549450772|\n",
            "|            a|       44.5865773709124|\n",
            "+-------------+-----------------------+\n",
            "\n"
          ]
        },
        {
          "name": "stderr",
          "output_type": "stream",
          "text": [
            "                                                                                \r"
          ]
        }
      ],
      "source": [
        "# # Compute the average fraud probability for each revenue level\n",
        "average_fraud_by_revenue_level = merchant_profitability.groupBy(F.col(\"revenue_level\")).agg(F.avg(F.col(\"merchant_avg_fraud_prob\")).alias(\"merchant_avg_fraud_prob\"))\n",
        "\n",
        "# Show the results\n",
        "average_fraud_by_revenue_level.show()"
      ]
    },
    {
      "cell_type": "code",
      "execution_count": null,
      "metadata": {},
      "outputs": [
        {
          "name": "stderr",
          "output_type": "stream",
          "text": [
            "                                                                                \r"
          ]
        },
        {
          "name": "stdout",
          "output_type": "stream",
          "text": [
            "+-------------+------------+\n",
            "|revenue_level|total_orders|\n",
            "+-------------+------------+\n",
            "|            e|      120108|\n",
            "|            d|      136838|\n",
            "|            c|     3324800|\n",
            "|            b|     3921368|\n",
            "|            a|     6111561|\n",
            "+-------------+------------+\n",
            "\n"
          ]
        },
        {
          "name": "stderr",
          "output_type": "stream",
          "text": [
            "                                                                                \r"
          ]
        },
        {
          "data": {
            "text/html": [
              "<table border='1'>\n",
              "<tr><th>revenue_level</th><th>sum(net_revenue)</th><th>total_orders</th><th>avg_order_value</th></tr>\n",
              "<tr><td>e</td><td>70477.14753451252</td><td>120108.0</td><td>0.5867814594740777</td></tr>\n",
              "<tr><td>d</td><td>371231.6335187635</td><td>136838.0</td><td>2.7129279404753324</td></tr>\n",
              "<tr><td>c</td><td>1.0148181653801005E7</td><td>3324800.0</td><td>3.052268302995971</td></tr>\n",
              "<tr><td>b</td><td>3.167370164609193E7</td><td>3921368.0</td><td>8.077207149671219</td></tr>\n",
              "<tr><td>a</td><td>5.409203241463862E7</td><td>6111561.0</td><td>8.850771908296199</td></tr>\n",
              "</table>\n"
            ],
            "text/plain": [
              "+-------------+--------------------+------------+------------------+\n",
              "|revenue_level|    sum(net_revenue)|total_orders|   avg_order_value|\n",
              "+-------------+--------------------+------------+------------------+\n",
              "|            e|   70477.14753451252|    120108.0|0.5867814594740777|\n",
              "|            d|   371231.6335187635|    136838.0|2.7129279404753324|\n",
              "|            c|1.0148181653801005E7|   3324800.0| 3.052268302995971|\n",
              "|            b| 3.167370164609193E7|   3921368.0| 8.077207149671219|\n",
              "|            a| 5.409203241463862E7|   6111561.0| 8.850771908296199|\n",
              "+-------------+--------------------+------------+------------------+"
            ]
          },
          "execution_count": 23,
          "metadata": {},
          "output_type": "execute_result"
        }
      ],
      "source": [
        "# Compute the total number of orders for each revenue level\n",
        "total_orders_by_revenue_level = merchant_profitability.groupBy(F.col(\"revenue_level\")) \\\n",
        "    .agg(F.sum(F.col(\"total_orders\")).alias(\"total_orders\"))\n",
        "\n",
        "# Show the results\n",
        "total_orders_by_revenue_level.show()\n",
        "\n",
        "joined_df = net_revenue_level.join(\n",
        "    total_orders_by_revenue_level,\n",
        "    on=\"revenue_level\",\n",
        "    how=\"inner\"\n",
        ")\n",
        "joined_df = joined_df.withColumn(\"total_orders\", F.col(\"total_orders\").cast(DoubleType()))\n",
        "\n",
        "# Compute the average order value\n",
        "average_order_value = joined_df.withColumn(\n",
        "    \"avg_order_value\",\n",
        "    F.col(\"sum(net_revenue)\")/ F.col(\"total_orders\")\n",
        ")\n",
        "\n",
        "average_order_value\n"
      ]
    }
  ],
  "metadata": {
    "kernelspec": {
      "display_name": "Python 3",
      "language": "python",
      "name": "python3"
    },
    "language_info": {
      "codemirror_mode": {
        "name": "ipython",
        "version": 3
      },
      "file_extension": ".py",
      "mimetype": "text/x-python",
      "name": "python",
      "nbconvert_exporter": "python",
      "pygments_lexer": "ipython3",
      "version": "3.11.7"
    }
  },
  "nbformat": 4,
  "nbformat_minor": 2
}
